{
 "cells": [
  {
   "cell_type": "markdown",
   "metadata": {},
   "source": [
    "# 資料預處理"
   ]
  },
  {
   "cell_type": "code",
   "execution_count": 1,
   "metadata": {
    "collapsed": true
   },
   "outputs": [],
   "source": [
    "import os\n",
    "os.chdir(\"C:\\\\Users\\\\zxpay\\\\Desktop\\\\BME_Senior\\\\EEG_CLF\\\\Emotion\\\\Code\")\n",
    "import sys\n",
    "sys.path.append(\"C:\\\\Users\\\\zxpay\\\\Desktop\\\\BME_Senior\\\\EEG_CLF\\\\Emotion\\\\Code\")\n",
    "\n",
    "from Get_file import Get_file   # return dirpath, dirnames, filenames\n",
    "from FFT import FFT, PlotDataOnTimeDomain\n",
    "from BandPassFilter import BandPassFilter, PlotDataOnFreqDomain, BandPassListFilter\n",
    "import pyedflib\n",
    "import numpy as np\n",
    "import datetime\n",
    "\n",
    "import matplotlib.pyplot as plt\n",
    "from sklearn.decomposition import FastICA, PCA\n",
    "\n",
    "%matplotlib inline\n",
    "\n",
    "data_path = \"C:\\\\Users\\\\zxpay\\\\Desktop\\\\BME_Senior\\\\EEG_CLF\\\\Emotion\\\\database\"  # EEG Data direction\n",
    "BandPassICAFigureSavingDirection = \"C:\\\\Users\\\\zxpay\\\\Desktop\\\\BME_Senior\\\\EEG_CLF\\\\Emotion\\\\Code\\\\Fig\"\n",
    "SaveFFTAllDataDirection = \"C:\\\\Users\\\\zxpay\\\\Desktop\\\\BME_Senior\\\\EEG_CLF\\\\Emotion\\\\Code\\\\Fig\\\\FFTFig_AllData\"\n",
    "\n",
    "# Setting parameters\n",
    "SampleFrequency = 128\n",
    "DEBUG = True\n",
    "LabelSize = 40\n",
    "LowerFreqCut = 8\n",
    "HigherFreqCut = 30\n",
    "BandPassOrder = 3\n",
    "channel_we_use = [2,3,4,5,6,7,8,9,10,11,12,13,14,15]   # 0~39 共40, 14 channels we use\n",
    "SAVE_FIG = False\n",
    "\n",
    "# fix random seed for reproducibility\n",
    "np.random.seed(7)"
   ]
  },
  {
   "cell_type": "markdown",
   "metadata": {},
   "source": [
    "### 讀取檔案"
   ]
  },
  {
   "cell_type": "code",
   "execution_count": 2,
   "metadata": {
    "scrolled": true
   },
   "outputs": [
    {
     "name": "stdout",
     "output_type": "stream",
     "text": [
      "Get data from database ...\n",
      "(40, 38400)\n",
      "(40, 105344)\n",
      "(40, 38400)\n",
      "(40, 105344)\n",
      "(40, 179328)\n",
      "(40, 309760)\n",
      "(40, 38400)\n",
      "(40, 105728)\n",
      "(40, 158976)\n",
      "(40, 58112)\n",
      "(40, 50944)\n",
      "(40, 33152)\n",
      "(40, 3968)\n",
      "(40, 38400)\n",
      "(40, 105344)\n",
      "(40, 178944)\n",
      "(40, 308992)\n",
      "(40, 38400)\n",
      "(40, 105728)\n",
      "(40, 179840)\n",
      "(40, 237312)\n",
      "(40, 38400)\n",
      "(40, 105600)\n",
      "(40, 179584)\n",
      "(40, 38400)\n",
      "(40, 178944)\n",
      "(40, 308864)\n",
      "(40, 38400)\n",
      "(40, 105344)\n",
      "(40, 179072)\n",
      "(40, 83328)\n",
      "(40, 117632)\n",
      "(40, 107392)\n",
      "(40, 38400)\n",
      "(40, 308992)\n",
      "(40, 38400)\n",
      "(40, 179072)\n",
      "(40, 105344)\n",
      "(40, 308736)\n",
      "(40, 38400)\n",
      "(40, 313472)\n",
      "(40, 38400)\n",
      "(40, 105344)\n",
      "(40, 38400)\n",
      "(40, 105344)\n",
      "(40, 38528)\n",
      "(40, 179200)\n",
      "(40, 308736)\n",
      "(40, 38400)\n",
      "(40, 179328)\n",
      "(40, 38400)\n",
      "(40, 105344)\n",
      "Okay\n",
      "normal signal length :  16\n",
      "scare signal length :  11\n",
      "touch signal length :  9\n",
      "laugh signal length :  16\n"
     ]
    }
   ],
   "source": [
    "#Four Lables\n",
    "normal_label = []   # 0\n",
    "scare_label = []    # 1\n",
    "touch_label = []    # 2\n",
    "laugh_label = []    # 3\n",
    "\n",
    "#Four Signal\n",
    "normal_signal = []\n",
    "scare_signal = []\n",
    "touch_signal = []\n",
    "laugh_signal = []\n",
    "\n",
    "signal = []\n",
    "labels = []\n",
    "\n",
    "_,data_files,_ = Get_file(data_path)\n",
    "if data_files == []:\n",
    "    raise(\"Not found any files ! check your data_path\")\n",
    "else:\n",
    "    print('Get data from database ...')\n",
    "    for data in data_files:\n",
    "        _,_,file_names = Get_file(data_path+'\\\\'+data)\n",
    "        for fn in file_names:\n",
    "            if fn.split('.')[1] == 'edf':\n",
    "                fedf = pyedflib.EdfReader(data_path+'\\\\'+data+'\\\\'+fn)\n",
    "                n = fedf.signals_in_file\n",
    "                signal_labels = np.asarray(fedf.getSignalLabels())\n",
    "                sigbufs = np.zeros((n, fedf.getNSamples()[0]))\n",
    "                for i in np.arange(n):\n",
    "                    sigbufs[i, :] = fedf.readSignal(i)\n",
    "\n",
    "                if 'normal' in fn:\n",
    "                    normal_label.append(0)\n",
    "                    normal_signal.append(sigbufs)\n",
    "                elif 'scare' in fn:\n",
    "                    scare_label.append(1)\n",
    "                    scare_signal.append(sigbufs)\n",
    "                elif 'touch' in fn:\n",
    "                    touch_label.append(2)\n",
    "                    touch_signal.append(sigbufs)\n",
    "                elif 'laugh' in fn:\n",
    "                    laugh_label.append(3)\n",
    "                    laugh_signal.append(sigbufs)\n",
    "                    \n",
    "                if DEBUG:\n",
    "                    print(sigbufs.shape)\n",
    "\n",
    "''' Labels --> 40 channels\n",
    "['COUNTER' 'INTERPOLATED' 'AF3' 'F7' 'F3' 'FC5' 'T7' 'P7' 'O1' 'O2' 'P8'\n",
    " 'T8' 'FC6' 'F4' 'F8' 'AF4' 'RAW_CQ' 'GYROX' 'GYROY' 'MARKER'\n",
    " 'MARKER_HARDWARE' 'SYNC' 'TIME_STAMP_s' 'TIME_STAMP_ms' 'CQ_AF3' 'CQ_F7'\n",
    " 'CQ_F3' 'CQ_FC5' 'CQ_T7' 'CQ_P7' 'CQ_O1' 'CQ_O2' 'CQ_P8' 'CQ_T8' 'CQ_FC6'\n",
    " 'CQ_F4' 'CQ_F8' 'CQ_AF4' 'CQ_CMS' 'CQ_DRL']\n",
    "'''\n",
    "\n",
    "print('Okay')\n",
    "if DEBUG:\n",
    "    print('normal signal length : ', len(normal_signal))\n",
    "    print('scare signal length : ', len(scare_signal))\n",
    "    print('touch signal length : ', len(touch_signal))\n",
    "    print('laugh signal length : ', len(laugh_signal))\n"
   ]
  },
  {
   "cell_type": "code",
   "execution_count": 3,
   "metadata": {
    "collapsed": true
   },
   "outputs": [],
   "source": [
    "def GrabEmotion(Signal, TimeSecondsi, TimeSecondsf):\n",
    "    pass"
   ]
  },
  {
   "cell_type": "code",
   "execution_count": 4,
   "metadata": {
    "collapsed": true
   },
   "outputs": [],
   "source": [
    "def CheckListTheSameSize(ListData):\n",
    "    di = 0\n",
    "    dsum = 0\n",
    "    for i in range(len(ListData)):\n",
    "        if i == 0:\n",
    "            pass\n",
    "        else:\n",
    "            dsum += (ListData[i].shape == ListData[i-1].shape)\n",
    "            \n",
    "    if np.sum(dsum) != (len(ListData)-1):\n",
    "        return False\n",
    "    else:\n",
    "        return True\n",
    "    \n",
    "def CalculateZeros(NumpyArray):\n",
    "    LogicWithZeros = (NumpyArray == 0)\n",
    "    return np.sum(LogicWithZeros)\n",
    "\n",
    "def PlotFreqencyFigure(FreqList, FFTData, FreqL, FreqH, YlimL=None, YlimH=None, title=None, FigSize=(12,8)):\n",
    "    plt.figure(figsize=FigSize)\n",
    "    plt.plot(FreqList, FFTData, '*-')\n",
    "    plt.xlabel('Freq(Hz)')\n",
    "    plt.ylabel('micro volt (mv)')\n",
    "    plt.xlim(FreqL, FreqH)\n",
    "    if YlimL is None and YlimH is None:\n",
    "        pass\n",
    "    else:\n",
    "        plt.ylim(YlimL, YlimH)\n",
    "    if title is not None:\n",
    "        plt.title(title)\n",
    "        \n",
    "    else:\n",
    "        plt.title('FreqencyFigure')\n",
    "    plt.grid(True)\n",
    "    plt.show()"
   ]
  },
  {
   "cell_type": "markdown",
   "metadata": {},
   "source": [
    "### Analyze steps : Filters ==> FFT ==> Build Model"
   ]
  },
  {
   "cell_type": "code",
   "execution_count": 5,
   "metadata": {
    "collapsed": true
   },
   "outputs": [],
   "source": [
    "# Filter, Each Data 128*5 second to as a period\n",
    "# Return Data Shape : [(TimestepsData, Features)]  --> List, each list data is one channel's data Split numbers\n",
    "def BandPassSPlitOneChannelData(SignalListData, LowerFreqCut, HigherFreq, channel, fs, order=5, PlotFlag=False):\n",
    "    channel_we_use = [2,3,4,5,6,7,8,9,10,11,12,13,14,15]   # 0~39 共40, 14 channels we use\n",
    "    SamplesPerSecond = fs\n",
    "    DataLength = SignalListData[0].shape[1]\n",
    "    SignalFreqX = 0\n",
    "    ReturnSignalList = []\n",
    "    for i in range(len(SignalListData)):\n",
    "        LabelNum = SignalListData[i].shape[0]\n",
    "        FeaturesNum = SignalListData[i].shape[1]\n",
    "        TimesToSplit = int(FeaturesNum/SamplesPerSecond)\n",
    "        print('Features Numbers : ', FeaturesNum)\n",
    "        print('Times to Split Numbers :', TimesToSplit)\n",
    "        CHCNT = 0\n",
    "        for ch in range(LabelNum):\n",
    "            if ch == channel_we_use[channel]:   # Run one time\n",
    "                SignalData = np.zeros([5, 23], dtype=np.float32)\n",
    "                Times = 0\n",
    "                FiveTimesToSplitBuff = np.zeros([5, 64], dtype=np.float32)   # Five Seconds Data Buffer\n",
    "                FiveSecondCNT = 0\n",
    "                TimestepCNT = 0\n",
    "                for t in range(TimesToSplit):\n",
    "                    ChannelData = BandPassFilter(SignalListData[i][ch][Times:Times+SamplesPerSecond],\n",
    "                                                         LowerFreqCut, HigherFreqCut, fs, order=order)\n",
    "                    SignalFreqX, FFTChannelData = FFT(ChannelData, SampleFrequency, data_length=128)\n",
    "                    Times += SamplesPerSecond\n",
    "                    FiveTimesToSplitBuff[FiveSecondCNT, :] = FFTChannelData\n",
    "                    FiveSecondCNT += 1\n",
    "                    if FiveSecondCNT > 4:\n",
    "                        SignalData = FiveTimesToSplitBuff\n",
    "                        FiveTimesToSplitBuff = np.zeros([5, 64], dtype=np.float32)   # Five Seconds Data Buffer\n",
    "                        FiveSecondCNT = 0\n",
    "                        if CalculateZeros(SignalData) != 0:\n",
    "                            print(\"Warning: Have Zero Values in the Numpy array !!!\")\n",
    "                        ReturnSignalList.append(SignalData)\n",
    "                        \n",
    "                    if PlotFlag:\n",
    "                        if t % 10 == 0:\n",
    "                            PlotFreqencyFigure(SignalFreqX, FFTChannelData, 8, 30)\n",
    "\n",
    "                TimestepCNT = 0\n",
    "                CHCNT += 1\n",
    "\n",
    "\n",
    "    return SignalFreqX, ReturnSignalList"
   ]
  },
  {
   "cell_type": "code",
   "execution_count": 21,
   "metadata": {
    "scrolled": true
   },
   "outputs": [
    {
     "name": "stdout",
     "output_type": "stream",
     "text": [
      "Features Numbers :  38400\n",
      "Times to Split Numbers : 300\n",
      "Features Numbers :  38400\n",
      "Times to Split Numbers : 300\n",
      "Features Numbers :  38400\n",
      "Times to Split Numbers : 300\n",
      "Features Numbers :  38400\n",
      "Times to Split Numbers : 300\n",
      "Features Numbers :  38400\n",
      "Times to Split Numbers : 300\n",
      "Features Numbers :  38400\n",
      "Times to Split Numbers : 300\n",
      "Features Numbers :  38400\n",
      "Times to Split Numbers : 300\n",
      "Features Numbers :  38400\n",
      "Times to Split Numbers : 300\n",
      "Features Numbers :  38400\n",
      "Times to Split Numbers : 300\n",
      "Features Numbers :  38400\n",
      "Times to Split Numbers : 300\n",
      "Features Numbers :  38400\n",
      "Times to Split Numbers : 300\n",
      "Features Numbers :  38400\n",
      "Times to Split Numbers : 300\n",
      "Features Numbers :  38400\n",
      "Times to Split Numbers : 300\n",
      "Features Numbers :  38528\n",
      "Times to Split Numbers : 301\n",
      "Features Numbers :  38400\n",
      "Times to Split Numbers : 300\n",
      "Features Numbers :  38400\n",
      "Times to Split Numbers : 300\n",
      "Features Numbers :  105344\n",
      "Times to Split Numbers : 823\n",
      "Features Numbers :  105344\n",
      "Times to Split Numbers : 823\n",
      "Features Numbers :  105728\n",
      "Times to Split Numbers : 826\n",
      "Features Numbers :  105344\n",
      "Times to Split Numbers : 823\n",
      "Features Numbers :  105728\n",
      "Times to Split Numbers : 826\n",
      "Features Numbers :  105600\n",
      "Times to Split Numbers : 825\n",
      "Features Numbers :  105344\n",
      "Times to Split Numbers : 823\n",
      "Features Numbers :  105344\n",
      "Times to Split Numbers : 823\n",
      "Features Numbers :  105344\n",
      "Times to Split Numbers : 823\n",
      "Features Numbers :  105344\n",
      "Times to Split Numbers : 823\n",
      "Features Numbers :  105344\n",
      "Times to Split Numbers : 823\n",
      "Features Numbers :  179328\n",
      "Times to Split Numbers : 1401\n",
      "Features Numbers :  178944\n",
      "Times to Split Numbers : 1398\n",
      "Features Numbers :  179840\n",
      "Times to Split Numbers : 1405\n",
      "Features Numbers :  179584\n",
      "Times to Split Numbers : 1403\n",
      "Features Numbers :  178944\n",
      "Times to Split Numbers : 1398\n",
      "Features Numbers :  179072\n",
      "Times to Split Numbers : 1399\n",
      "Features Numbers :  179072\n",
      "Times to Split Numbers : 1399\n",
      "Features Numbers :  179200\n",
      "Times to Split Numbers : 1400\n",
      "Features Numbers :  179328\n",
      "Times to Split Numbers : 1401\n",
      "Features Numbers :  309760\n",
      "Times to Split Numbers : 2420\n",
      "Features Numbers :  158976\n",
      "Times to Split Numbers : 1242\n",
      "Features Numbers :  58112\n",
      "Times to Split Numbers : 454\n",
      "Features Numbers :  50944\n",
      "Times to Split Numbers : 398\n",
      "Features Numbers :  33152\n",
      "Times to Split Numbers : 259\n",
      "Features Numbers :  3968\n",
      "Times to Split Numbers : 31\n",
      "Features Numbers :  308992\n",
      "Times to Split Numbers : 2414\n",
      "Features Numbers :  237312\n",
      "Times to Split Numbers : 1854\n",
      "Features Numbers :  308864\n",
      "Times to Split Numbers : 2413\n",
      "Features Numbers :  83328\n",
      "Times to Split Numbers : 651\n",
      "Features Numbers :  117632\n",
      "Times to Split Numbers : 919\n",
      "Features Numbers :  107392\n",
      "Times to Split Numbers : 839\n",
      "Features Numbers :  308992\n",
      "Times to Split Numbers : 2414\n",
      "Features Numbers :  308736\n",
      "Times to Split Numbers : 2412\n",
      "Features Numbers :  313472\n",
      "Times to Split Numbers : 2449\n",
      "Features Numbers :  308736\n",
      "Times to Split Numbers : 2412\n",
      "Normal Data length: 960\n",
      "Scare Data lentgh: 1807\n",
      "Touch Data length: 2517\n",
      "Laugh Data length: 4707\n"
     ]
    }
   ],
   "source": [
    "# Return data is a list type\n",
    "# Each list data is a array type which shape is (Channels, TimesSplit, Features)\n",
    "# Warning TimeSpilt maybe not the same, so I use list to save the data\n",
    "SignalFreqX, NormalSignalList = BandPassSPlitOneChannelData(normal_signal, LowerFreqCut, HigherFreqCut, 8, SampleFrequency, order=BandPassOrder, PlotFlag=False)\n",
    "SignalFreqX, ScareSignalList = BandPassSPlitOneChannelData(scare_signal, LowerFreqCut, HigherFreqCut, 8, SampleFrequency, order=BandPassOrder, PlotFlag=False)\n",
    "SignalFreqX, TouchSignalList = BandPassSPlitOneChannelData(touch_signal, LowerFreqCut, HigherFreqCut, 8, SampleFrequency, order=BandPassOrder, PlotFlag=False)\n",
    "SignalFreqX, LaughSignalList = BandPassSPlitOneChannelData(laugh_signal, LowerFreqCut, HigherFreqCut, 8, SampleFrequency, order=BandPassOrder, PlotFlag=False)\n",
    "\n",
    "if DEBUG:\n",
    "    # Signal Data Numbers\n",
    "    print('Normal Data length:', len(NormalSignalList))\n",
    "    print('Scare Data lentgh:', len(ScareSignalList))\n",
    "    print('Touch Data length:', len(TouchSignalList))\n",
    "    print('Laugh Data length:', len(LaughSignalList))\n",
    "    "
   ]
  },
  {
   "cell_type": "code",
   "execution_count": 22,
   "metadata": {
    "collapsed": true
   },
   "outputs": [],
   "source": [
    "def ListToArray(SignalListData):\n",
    "    ListLength = len(SignalListData)\n",
    "    TimeSteps = 5\n",
    "    FeaturesNum = 64\n",
    "    SignalArray = np.zeros([ListLength, TimeSteps, FeaturesNum], dtype=np.float32)\n",
    "    for i in range(ListLength):\n",
    "        SignalArray[i,:,:] = SignalListData[i]\n",
    "    if CalculateZeros(SignalArray) != 0:\n",
    "        print(\"Warning: Have Zero Values in the Numpy array !!!\")\n",
    "    return SignalArray"
   ]
  },
  {
   "cell_type": "code",
   "execution_count": 23,
   "metadata": {},
   "outputs": [
    {
     "name": "stdout",
     "output_type": "stream",
     "text": [
      "Normal Array length: (960, 5, 64)\n",
      "Scare Array lentgh: (1807, 5, 64)\n",
      "Touch Array length: (2517, 5, 64)\n",
      "Laugh Array length: (4707, 5, 64)\n"
     ]
    }
   ],
   "source": [
    "NormalSignalArray = ListToArray(NormalSignalList)\n",
    "ScareSignalArray = ListToArray(ScareSignalList)\n",
    "TouchSignalArray = ListToArray(TouchSignalList)\n",
    "LaughSignalArray = ListToArray(LaughSignalList)\n",
    "\n",
    "if DEBUG:\n",
    "    # Signal Data Numbers\n",
    "    print('Normal Array length:', NormalSignalArray.shape)\n",
    "    print('Scare Array lentgh:', ScareSignalArray.shape)\n",
    "    print('Touch Array length:', TouchSignalArray.shape)\n",
    "    print('Laugh Array length:', LaughSignalArray.shape)"
   ]
  },
  {
   "cell_type": "markdown",
   "metadata": {},
   "source": [
    "### Build the Training Data"
   ]
  },
  {
   "cell_type": "code",
   "execution_count": 24,
   "metadata": {},
   "outputs": [
    {
     "name": "stdout",
     "output_type": "stream",
     "text": [
      "X Shape :  (9991, 5, 64)\n",
      "y Shape :  (9991,)\n"
     ]
    }
   ],
   "source": [
    "X = np.vstack((NormalSignalArray,\\\n",
    "               ScareSignalArray,\\\n",
    "               TouchSignalArray,\\\n",
    "               LaughSignalArray))\n",
    "Normaly = np.ones([NormalSignalArray.shape[0]], dtype=np.float32) * 1\n",
    "Scarey = np.ones([ScareSignalArray.shape[0]], dtype=np.float32) * 2\n",
    "Touchy = np.ones([TouchSignalArray.shape[0]], dtype=np.float32) * 3\n",
    "Laughy = np.ones([LaughSignalArray.shape[0]], dtype=np.float32) * 4\n",
    "y = np.hstack((Normaly,\\\n",
    "              Scarey,\\\n",
    "              Touchy,\\\n",
    "              Laughy))\n",
    "print('X Shape : ', X.shape)\n",
    "print('y Shape : ', y.shape)"
   ]
  },
  {
   "cell_type": "code",
   "execution_count": 25,
   "metadata": {
    "collapsed": true
   },
   "outputs": [],
   "source": [
    "# Hyper parameter Setup\n",
    "TEST_SIZE = 0.3\n",
    "BATCH_SIZE = 128        # betch training per 128 as a batch\n",
    "TIME_STEP = 5   # per five seconds\n",
    "INPUT_SIZE = 64    # 64 Features\n",
    "LEARNING_RATE = 0.01\n"
   ]
  },
  {
   "cell_type": "code",
   "execution_count": 26,
   "metadata": {},
   "outputs": [
    {
     "name": "stdout",
     "output_type": "stream",
     "text": [
      "Train X Shape :  (6993, 5, 64)\n",
      "Train y shape :  (6993, 4)\n",
      "Test X Shape :  (2998, 5, 64)\n",
      "Test y shape :  (2998, 4)\n"
     ]
    }
   ],
   "source": [
    "# Normalize and to Split the training data, testing data\n",
    "from sklearn.preprocessing import StandardScaler, OneHotEncoder\n",
    "from sklearn.model_selection import train_test_split\n",
    "\n",
    "OneHot = OneHotEncoder()\n",
    "OneHot_y = OneHot.fit_transform(y.reshape(-1,1)).toarray()\n",
    "\n",
    "def Split_data(raw_X, raw_y, test_size, Standard=True):\n",
    "    train_X, test_X, train_y, test_y = train_test_split(raw_X, raw_y, test_size=test_size, shuffle=True)\n",
    "    if Standard:\n",
    "        sc = StandardScaler()\n",
    "        sc.fit(train_X)\n",
    "        train_X = sc.transform(train_X)\n",
    "        test_X = sc.transform(test_X)\n",
    "    self.X = train_X\n",
    "    self.y = train_y\n",
    "    return train_X, test_X, train_y, test_y\n",
    "\n",
    "train_X, test_X, train_y, test_y = train_test_split(X, OneHot_y , test_size=TEST_SIZE)\n",
    "std = StandardScaler()\n",
    "\n",
    "\n",
    "\n",
    "if DEBUG:\n",
    "    print('Train X Shape : ', train_X.shape)\n",
    "    print('Train y shape : ', train_y.shape)\n",
    "    print('Test X Shape : ', test_X.shape)\n",
    "    print('Test y shape : ', test_y.shape)"
   ]
  },
  {
   "cell_type": "markdown",
   "metadata": {
    "collapsed": true
   },
   "source": [
    "# Build LSTM RNN Model"
   ]
  },
  {
   "cell_type": "code",
   "execution_count": 27,
   "metadata": {},
   "outputs": [],
   "source": [
    "# import LSTM Package using keras\n",
    "from keras.models import Sequential\n",
    "from keras.layers import Dense, Dropout, Activation\n",
    "from keras.layers.recurrent import SimpleRNN, LSTM\n",
    "import keras.backend as K\n",
    "from keras import metrics"
   ]
  },
  {
   "cell_type": "code",
   "execution_count": 28,
   "metadata": {
    "collapsed": true
   },
   "outputs": [],
   "source": [
    "# RNN/LSTM: input format (batch_size, timesteps, input_dim)\n",
    "model = Sequential()\n",
    "model.add(LSTM(units=20, input_shape=(TIME_STEP, INPUT_SIZE)))\n",
    "model.add(Dense(500, activation='relu'))\n",
    "model.add(Dense(100, activation='relu'))\n",
    "model.add(Dense(4, activation='softmax'))\n",
    "\n",
    "model.compile(loss='categorical_crossentropy', optimizer='adam', metrics=[metrics.categorical_accuracy])"
   ]
  },
  {
   "cell_type": "code",
   "execution_count": 29,
   "metadata": {},
   "outputs": [
    {
     "name": "stdout",
     "output_type": "stream",
     "text": [
      "_________________________________________________________________\n",
      "Layer (type)                 Output Shape              Param #   \n",
      "=================================================================\n",
      "lstm_2 (LSTM)                (None, 20)                6800      \n",
      "_________________________________________________________________\n",
      "dense_4 (Dense)              (None, 500)               10500     \n",
      "_________________________________________________________________\n",
      "dense_5 (Dense)              (None, 100)               50100     \n",
      "_________________________________________________________________\n",
      "dense_6 (Dense)              (None, 4)                 404       \n",
      "=================================================================\n",
      "Total params: 67,804\n",
      "Trainable params: 67,804\n",
      "Non-trainable params: 0\n",
      "_________________________________________________________________\n"
     ]
    }
   ],
   "source": [
    "# See the NN Configure\n",
    "model.summary()"
   ]
  },
  {
   "cell_type": "code",
   "execution_count": 30,
   "metadata": {
    "scrolled": true
   },
   "outputs": [
    {
     "name": "stdout",
     "output_type": "stream",
     "text": [
      "Epoch 1/20\n",
      " - 2s - loss: 1.2507 - categorical_accuracy: 0.4665\n",
      "Epoch 2/20\n",
      " - 1s - loss: 1.2430 - categorical_accuracy: 0.4692\n",
      "Epoch 3/20\n",
      " - 1s - loss: 1.2423 - categorical_accuracy: 0.4692\n",
      "Epoch 4/20\n",
      " - 1s - loss: 1.2412 - categorical_accuracy: 0.4692\n",
      "Epoch 5/20\n",
      " - 1s - loss: 1.2413 - categorical_accuracy: 0.4692\n",
      "Epoch 6/20\n",
      " - 1s - loss: 1.2421 - categorical_accuracy: 0.4692\n",
      "Epoch 7/20\n",
      " - 1s - loss: 1.2414 - categorical_accuracy: 0.4692\n",
      "Epoch 8/20\n",
      " - 1s - loss: 1.2406 - categorical_accuracy: 0.4693\n",
      "Epoch 9/20\n",
      " - 1s - loss: 1.2403 - categorical_accuracy: 0.4693\n",
      "Epoch 10/20\n",
      " - 1s - loss: 1.2409 - categorical_accuracy: 0.4693\n",
      "Epoch 11/20\n",
      " - 1s - loss: 1.2405 - categorical_accuracy: 0.4692\n",
      "Epoch 12/20\n",
      " - 1s - loss: 1.2412 - categorical_accuracy: 0.4692\n",
      "Epoch 13/20\n",
      " - 1s - loss: 1.2401 - categorical_accuracy: 0.4693\n",
      "Epoch 14/20\n",
      " - 1s - loss: 1.2414 - categorical_accuracy: 0.4693\n",
      "Epoch 15/20\n",
      " - 1s - loss: 1.2405 - categorical_accuracy: 0.4693\n",
      "Epoch 16/20\n",
      " - 1s - loss: 1.2405 - categorical_accuracy: 0.4693\n",
      "Epoch 17/20\n",
      " - 1s - loss: 1.2405 - categorical_accuracy: 0.4693\n",
      "Epoch 18/20\n",
      " - 1s - loss: 1.2410 - categorical_accuracy: 0.4693\n",
      "Epoch 19/20\n",
      " - 1s - loss: 1.2406 - categorical_accuracy: 0.4693\n",
      "Epoch 20/20\n",
      " - 1s - loss: 1.2406 - categorical_accuracy: 0.4693\n"
     ]
    },
    {
     "data": {
      "text/plain": [
       "<keras.callbacks.History at 0x1d001c7eef0>"
      ]
     },
     "execution_count": 30,
     "metadata": {},
     "output_type": "execute_result"
    }
   ],
   "source": [
    "# Training Data now\n",
    "model.fit(train_X, train_y, epochs=20, batch_size=BATCH_SIZE, verbose=2)"
   ]
  },
  {
   "cell_type": "code",
   "execution_count": 31,
   "metadata": {},
   "outputs": [
    {
     "name": "stdout",
     "output_type": "stream",
     "text": [
      "6993/6993 [==============================] - 0s 51us/step\n",
      "2998/2998 [==============================] - 0s 41us/step\n",
      "Training data accuracy :  46.9326469364825\n",
      "Testing data accuracy :  47.5650433880874\n"
     ]
    }
   ],
   "source": [
    "# Calculate the accuracy\n",
    "TrainScore = model.evaluate(train_X, train_y, batch_size=BATCH_SIZE)[1]\n",
    "TestScore = model.evaluate(test_X, test_y, batch_size=BATCH_SIZE)[1]\n",
    "print('Training data accuracy : ', TrainScore*100)\n",
    "print('Testing data accuracy : ', TestScore*100)"
   ]
  },
  {
   "cell_type": "code",
   "execution_count": 32,
   "metadata": {},
   "outputs": [
    {
     "name": "stdout",
     "output_type": "stream",
     "text": [
      "[[0.08967625 0.17329045 0.24616702 0.49086627]\n",
      " [0.08967625 0.17329045 0.24616702 0.49086627]\n",
      " [0.08967625 0.17329045 0.24616702 0.49086627]\n",
      " ...\n",
      " [0.08967625 0.17329045 0.24616702 0.49086627]\n",
      " [0.08967625 0.17329045 0.24616702 0.49086627]\n",
      " [0.08967625 0.17329045 0.24616702 0.49086627]]\n"
     ]
    }
   ],
   "source": [
    "# Predict Train data\n",
    "TrainPredict = model.predict(train_X)\n",
    "print(TrainPredict)"
   ]
  },
  {
   "cell_type": "code",
   "execution_count": 33,
   "metadata": {},
   "outputs": [
    {
     "name": "stdout",
     "output_type": "stream",
     "text": [
      "[[0.08967625 0.17329045 0.24616702 0.49086627]\n",
      " [0.08967625 0.17329045 0.24616702 0.49086627]\n",
      " [0.08967625 0.17329045 0.24616702 0.49086627]\n",
      " ...\n",
      " [0.08967625 0.17329045 0.24616702 0.49086627]\n",
      " [0.08967625 0.17329045 0.24616702 0.49086627]\n",
      " [0.08967625 0.17329045 0.24616702 0.49086627]]\n"
     ]
    }
   ],
   "source": [
    "TestPredict = model.predict(test_X)\n",
    "print(TestPredict)"
   ]
  },
  {
   "cell_type": "code",
   "execution_count": 34,
   "metadata": {},
   "outputs": [
    {
     "data": {
      "text/plain": [
       "(6993, 5, 64)"
      ]
     },
     "execution_count": 34,
     "metadata": {},
     "output_type": "execute_result"
    }
   ],
   "source": [
    "train_X.shape"
   ]
  },
  {
   "cell_type": "code",
   "execution_count": 35,
   "metadata": {},
   "outputs": [
    {
     "data": {
      "image/png": "[encoded data removed]",
      "text/plain": [
       "<matplotlib.figure.Figure at 0x1d001baa518>"
      ]
     },
     "metadata": {},
     "output_type": "display_data"
    }
   ],
   "source": [
    "a = train_X[3,:,:].reshape(5*64)\n",
    "b = np.linspace(8,30,a.shape[0])\n",
    "plt.figure(figsize=(20,8))\n",
    "plt.plot(b,a,'*-')\n",
    "plt.grid(True)\n",
    "plt.show()"
   ]
  },
  {
   "cell_type": "code",
   "execution_count": null,
   "metadata": {
    "collapsed": true
   },
   "outputs": [],
   "source": []
  },
  {
   "cell_type": "code",
   "execution_count": null,
   "metadata": {
    "collapsed": true
   },
   "outputs": [],
   "source": []
  }
 ],
 "metadata": {
  "kernelspec": {
   "display_name": "Python 3",
   "language": "python",
   "name": "python3"
  },
  "language_info": {
   "codemirror_mode": {
    "name": "ipython",
    "version": 3
   },
   "file_extension": ".py",
   "mimetype": "text/x-python",
   "name": "python",
   "nbconvert_exporter": "python",
   "pygments_lexer": "ipython3",
   "version": "3.6.1"
  }
 },
 "nbformat": 4,
 "nbformat_minor": 2
}
