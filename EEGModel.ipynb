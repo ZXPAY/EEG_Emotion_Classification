{
 "cells": [
  {
   "cell_type": "markdown",
   "metadata": {},
   "source": [
    "# 資料預處理"
   ]
  },
  {
   "cell_type": "code",
   "execution_count": 1,
   "metadata": {},
   "outputs": [],
   "source": [
    "import os\n",
    "os.chdir(\"C:\\\\Users\\\\zxpay\\\\Desktop\\\\BME_Senior\\\\EEG_CLF\\\\Emotion\\\\Code\")\n",
    "import sys\n",
    "sys.path.append(\"C:\\\\Users\\\\zxpay\\\\Desktop\\\\BME_Senior\\\\EEG_CLF\\\\Emotion\\\\Code\")\n",
    "\n",
    "from Get_file import Get_file   # return dirpath, dirnames, filenames\n",
    "from FFT import FFT, PlotDataOnTimeDomain\n",
    "from BandPassFilter import BandPassFilter, PlotDataOnFreqDomain, BandPassListFilter\n",
    "import pyedflib\n",
    "import numpy as np\n",
    "import datetime\n",
    "\n",
    "import matplotlib.pyplot as plt\n",
    "from sklearn.decomposition import FastICA, PCA\n",
    "\n",
    "%matplotlib inline\n",
    "\n",
    "data_path = \"C:\\\\Users\\\\zxpay\\\\Desktop\\\\BME_Senior\\\\EEG_CLF\\\\Emotion\\\\database\"  # EEG Data direction\n",
    "BandPassICAFigureSavingDirection = \"C:\\\\Users\\\\zxpay\\\\Desktop\\\\BME_Senior\\\\EEG_CLF\\\\Emotion\\\\Code\\\\Fig\"\n",
    "SaveFFTAllDataDirection = \"C:\\\\Users\\\\zxpay\\\\Desktop\\\\BME_Senior\\\\EEG_CLF\\\\Emotion\\\\Code\\\\Fig\\\\FFTFig_AllData\"\n",
    "\n",
    "# Setting parameters\n",
    "SampleFrequency = 128\n",
    "DEBUG = True\n",
    "LabelSize = 40\n",
    "LowerFreqCut = 1\n",
    "HigherFreqCut = 50\n",
    "BandPassOrder = 5\n",
    "channel_we_use = [2,3,4,5,6,7,8,9,10,11,12,13,14,15]   # 0~39 共40, 14 channels we use\n",
    "SAVE_FIG = False\n"
   ]
  },
  {
   "cell_type": "markdown",
   "metadata": {},
   "source": [
    "### 讀取檔案"
   ]
  },
  {
   "cell_type": "code",
   "execution_count": 2,
   "metadata": {
    "scrolled": true
   },
   "outputs": [
    {
     "name": "stdout",
     "output_type": "stream",
     "text": [
      "Get data from database ...\n",
      "(40, 38400)\n",
      "(40, 105344)\n",
      "(40, 38400)\n",
      "(40, 105344)\n",
      "(40, 179328)\n",
      "(40, 309760)\n",
      "(40, 38400)\n",
      "(40, 105728)\n",
      "(40, 158976)\n",
      "(40, 58112)\n",
      "(40, 50944)\n",
      "(40, 33152)\n",
      "(40, 3968)\n",
      "(40, 38400)\n",
      "(40, 105344)\n",
      "(40, 178944)\n",
      "(40, 308992)\n",
      "(40, 38400)\n",
      "(40, 105728)\n",
      "(40, 179840)\n",
      "(40, 237312)\n",
      "(40, 38400)\n",
      "(40, 105600)\n",
      "(40, 179584)\n",
      "(40, 38400)\n",
      "(40, 178944)\n",
      "(40, 308864)\n",
      "(40, 38400)\n",
      "(40, 105344)\n",
      "(40, 179072)\n",
      "(40, 83328)\n",
      "(40, 117632)\n",
      "(40, 107392)\n",
      "(40, 38400)\n",
      "(40, 308992)\n",
      "(40, 38400)\n",
      "(40, 179072)\n",
      "(40, 105344)\n",
      "(40, 308736)\n",
      "(40, 38400)\n",
      "(40, 313472)\n",
      "(40, 38400)\n",
      "(40, 105344)\n",
      "(40, 38400)\n",
      "(40, 105344)\n",
      "(40, 38528)\n",
      "(40, 179200)\n",
      "(40, 308736)\n",
      "(40, 38400)\n",
      "(40, 179328)\n",
      "(40, 38400)\n",
      "(40, 105344)\n",
      "Okay\n",
      "normal signal length :  16\n",
      "scare signal length :  11\n",
      "touch signal length :  9\n",
      "laugh signal length :  16\n"
     ]
    }
   ],
   "source": [
    "#Four Lables\n",
    "normal_label = []   # 0\n",
    "scare_label = []    # 1\n",
    "touch_label = []    # 2\n",
    "laugh_label = []    # 3\n",
    "\n",
    "#Four Signal\n",
    "normal_signal = []\n",
    "scare_signal = []\n",
    "touch_signal = []\n",
    "laugh_signal = []\n",
    "\n",
    "signal = []\n",
    "labels = []\n",
    "\n",
    "_,data_files,_ = Get_file(data_path)\n",
    "if data_files == []:\n",
    "    raise(\"Not found any files ! check your data_path\")\n",
    "else:\n",
    "    print('Get data from database ...')\n",
    "    for data in data_files:\n",
    "        _,_,file_names = Get_file(data_path+'\\\\'+data)\n",
    "        for fn in file_names:\n",
    "            if fn.split('.')[1] == 'edf':\n",
    "                fedf = pyedflib.EdfReader(data_path+'\\\\'+data+'\\\\'+fn)\n",
    "                n = fedf.signals_in_file\n",
    "                signal_labels = np.asarray(fedf.getSignalLabels())\n",
    "                sigbufs = np.zeros((n, fedf.getNSamples()[0]))\n",
    "                for i in np.arange(n):\n",
    "                    sigbufs[i, :] = fedf.readSignal(i)\n",
    "\n",
    "                if 'normal' in fn:\n",
    "                    normal_label.append(0)\n",
    "                    normal_signal.append(sigbufs)\n",
    "                elif 'scare' in fn:\n",
    "                    scare_label.append(1)\n",
    "                    scare_signal.append(sigbufs)\n",
    "                elif 'touch' in fn:\n",
    "                    touch_label.append(2)\n",
    "                    touch_signal.append(sigbufs)\n",
    "                elif 'laugh' in fn:\n",
    "                    laugh_label.append(3)\n",
    "                    laugh_signal.append(sigbufs)\n",
    "                    \n",
    "                if DEBUG:\n",
    "                    print(sigbufs.shape)\n",
    "\n",
    "''' Labels --> 40 channels\n",
    "['COUNTER' 'INTERPOLATED' 'AF3' 'F7' 'F3' 'FC5' 'T7' 'P7' 'O1' 'O2' 'P8'\n",
    " 'T8' 'FC6' 'F4' 'F8' 'AF4' 'RAW_CQ' 'GYROX' 'GYROY' 'MARKER'\n",
    " 'MARKER_HARDWARE' 'SYNC' 'TIME_STAMP_s' 'TIME_STAMP_ms' 'CQ_AF3' 'CQ_F7'\n",
    " 'CQ_F3' 'CQ_FC5' 'CQ_T7' 'CQ_P7' 'CQ_O1' 'CQ_O2' 'CQ_P8' 'CQ_T8' 'CQ_FC6'\n",
    " 'CQ_F4' 'CQ_F8' 'CQ_AF4' 'CQ_CMS' 'CQ_DRL']\n",
    "'''\n",
    "\n",
    "print('Okay')\n",
    "if DEBUG:\n",
    "    print('normal signal length : ', len(normal_signal))\n",
    "    print('scare signal length : ', len(scare_signal))\n",
    "    print('touch signal length : ', len(touch_signal))\n",
    "    print('laugh signal length : ', len(laugh_signal))\n"
   ]
  },
  {
   "cell_type": "code",
   "execution_count": 3,
   "metadata": {
    "collapsed": true
   },
   "outputs": [],
   "source": [
    "def GrabEmotion(Signal, TimeSecondsi, TimeSecondsf):\n",
    "    pass"
   ]
  },
  {
   "cell_type": "code",
   "execution_count": 4,
   "metadata": {
    "collapsed": true
   },
   "outputs": [],
   "source": [
    "def CheckListTheSameSize(ListData):\n",
    "    di = 0\n",
    "    dsum = 0\n",
    "    for i in range(len(ListData)):\n",
    "        if i == 0:\n",
    "            pass\n",
    "        else:\n",
    "            dsum += (ListData[i].shape == ListData[i-1].shape)\n",
    "            \n",
    "    if np.sum(dsum) != (len(ListData)-1):\n",
    "        return False\n",
    "    else:\n",
    "        return True\n",
    "    \n",
    "def CalculateZeros(NumpyArray):\n",
    "    LogicWithZeros = (NumpyArray == 0)\n",
    "    return np.sum(LogicWithZeros)\n",
    "\n",
    "def PlotFreqencyFigure(FreqList, FFTData, FreqL, FreqH, YlimL=200, YlimH=250, title=None, FigSize=(12,8)):\n",
    "    plt.figure(figsize=FigSize)\n",
    "    plt.plot(FreqList, FFTData, '*-')\n",
    "    plt.xlabel('Freq(Hz)')\n",
    "    plt.ylabel('micro volt (mv)')\n",
    "    plt.xlim(FreqL, FreqH)\n",
    "    plt.ylim(YlimL, YlimH)\n",
    "    if title is not None:\n",
    "        plt.title(title)\n",
    "        \n",
    "    else:\n",
    "        plt.title('FreqencyFigure')\n",
    "    plt.grid(True)\n",
    "    plt.show()"
   ]
  },
  {
   "cell_type": "markdown",
   "metadata": {},
   "source": [
    "### Analyze steps : Filters ==> ICA ==> FFT ==> Build Model"
   ]
  },
  {
   "cell_type": "code",
   "execution_count": 20,
   "metadata": {
    "collapsed": true
   },
   "outputs": [],
   "source": [
    "# Filter, Each Data 128*5 second to as a period\n",
    "# Return Data Shape : (DataNumbers, Channels, Features)\n",
    "def BandPassSecond(SignalListData, LowerFreqCut, HigherFreq, fs, order=5):\n",
    "    channel_we_use = [2,3,4,5,6,7,8,9,10,11,12,13,14,15]   # 0~39 共40, 14 channels we use\n",
    "    SamplesPerSeconds = fs\n",
    "    SignalData = np.zeros([len(SignalListData), len(channel_we_use), 64], dtype=np.float32)\n",
    "    for i in range(len(SignalListData)):\n",
    "        LabelNum = SignalListData[i].shape[0]\n",
    "        FeaturesNum = SignalListData[i].shape[1]\n",
    "        TimesToSplit = int(FeaturesNum/SamplesPerSeconds)\n",
    "        print('Features Numbers : ', FeaturesNum)\n",
    "        print('Times to Split Numbers :', TimesToSplit)\n",
    "        ChCNT = 0\n",
    "        for ch in range(LabelNum):\n",
    "            if ch in channel_we_use:\n",
    "                if ch in channel_we_use:\n",
    "                    ChannelBuffer = np.zeros([TimesToSplit, SamplesPerSeconds], dtype=np.float32)\n",
    "                    ChannelMean = np.zeros(SamplesPerSeconds, dtype=np.float32)\n",
    "                    Times = 0\n",
    "                    for t in range(TimesToSplit):\n",
    "                        try:\n",
    "                            ChannelBuffer[t][:] = BandPassFilter(SignalListData[i][ch][Times:Times+SamplesPerSeconds],\n",
    "                                                                 LowerFreqCut, HigherFreqCut, fs, order=order)\n",
    "                            Times += SamplesPerSeconds\n",
    "                        except Exception as e:\n",
    "                            pass\n",
    "                    ChannelMean = np.mean(ChannelBuffer, axis=0)\n",
    "                    SignalFreqX, ChannelMean = FFT(ChannelMean.reshape(-1), SampleFrequency, data_length=128)\n",
    "                    SignalData[i][ChCNT][:] = ChannelMean\n",
    "                ChCNT += 1\n",
    "    print()\n",
    "    if CalculateZeros(SignalData) == 0:\n",
    "        return SignalFreqX, SignalData\n",
    "    else:\n",
    "        print(\"Warning: Have Zero Values in the Numpy array !!!\")\n",
    "        return SignalFreqX, SignalData"
   ]
  },
  {
   "cell_type": "code",
   "execution_count": 21,
   "metadata": {
    "collapsed": true
   },
   "outputs": [],
   "source": [
    "# Filter, Each Data 128*5 second to as a period\n",
    "# Return Data Shape : (DataNumbers, Channels, Features)\n",
    "def BandPassAllData(SignalListData, LowerFreqCut, HigherFreq, fs, order=5):\n",
    "    channel_we_use = [2,3,4,5,6,7,8,9,10,11,12,13,14,15]   # 0~39 共40, 14 channels we use\n",
    "    SamplesPerSeconds = fs\n",
    "    SignalData = np.zeros([len(SignalListData), len(channel_we_use), 64], dtype=np.float32)\n",
    "    for i in range(len(SignalListData)):\n",
    "        LabelNum = SignalListData[i].shape[0]\n",
    "        FeaturesNum = SignalListData[i].shape[1]\n",
    "        print('Features Numbers : ', FeaturesNum)\n",
    "        ChCNT = 0\n",
    "        for ch in range(LabelNum):\n",
    "            if ch in channel_we_use:\n",
    "                if ch in channel_we_use:\n",
    "                    SignalBeforeFFT = SignalListData[i][ch][:]\n",
    "                    SignalFreqX, SignalData[i][ChCNT][:] = FFT(SignalBeforeFFT, SampleFrequency, data_length=128)\n",
    "                    ChCNT += 1\n",
    "    print()\n",
    "    if CalculateZeros(SignalData) == 0:\n",
    "        return SignalFreqX, SignalData\n",
    "    else:\n",
    "        print(\"Warning: Have Zero Values in the Numpy array !!!\")\n",
    "        return SignalFreqX, SignalData"
   ]
  },
  {
   "cell_type": "code",
   "execution_count": 22,
   "metadata": {
    "scrolled": true
   },
   "outputs": [
    {
     "name": "stdout",
     "output_type": "stream",
     "text": [
      "Features Numbers :  38400\n",
      "Times to Split Numbers : 300\n",
      "Features Numbers :  38400\n",
      "Times to Split Numbers : 300\n",
      "Features Numbers :  38400\n",
      "Times to Split Numbers : 300\n",
      "Features Numbers :  38400\n",
      "Times to Split Numbers : 300\n",
      "Features Numbers :  38400\n",
      "Times to Split Numbers : 300\n",
      "Features Numbers :  38400\n",
      "Times to Split Numbers : 300\n",
      "Features Numbers :  38400\n",
      "Times to Split Numbers : 300\n",
      "Features Numbers :  38400\n",
      "Times to Split Numbers : 300\n",
      "Features Numbers :  38400\n",
      "Times to Split Numbers : 300\n",
      "Features Numbers :  38400\n",
      "Times to Split Numbers : 300\n",
      "Features Numbers :  38400\n",
      "Times to Split Numbers : 300\n",
      "Features Numbers :  38400\n",
      "Times to Split Numbers : 300\n",
      "Features Numbers :  38400\n",
      "Times to Split Numbers : 300\n",
      "Features Numbers :  38528\n",
      "Times to Split Numbers : 301\n",
      "Features Numbers :  38400\n",
      "Times to Split Numbers : 300\n",
      "Features Numbers :  38400\n",
      "Times to Split Numbers : 300\n",
      "\n",
      "Features Numbers :  105344\n",
      "Times to Split Numbers : 823\n",
      "Features Numbers :  105344\n",
      "Times to Split Numbers : 823\n",
      "Features Numbers :  105728\n",
      "Times to Split Numbers : 826\n",
      "Features Numbers :  105344\n",
      "Times to Split Numbers : 823\n",
      "Features Numbers :  105728\n",
      "Times to Split Numbers : 826\n",
      "Features Numbers :  105600\n",
      "Times to Split Numbers : 825\n",
      "Features Numbers :  105344\n",
      "Times to Split Numbers : 823\n",
      "Features Numbers :  105344\n",
      "Times to Split Numbers : 823\n",
      "Features Numbers :  105344\n",
      "Times to Split Numbers : 823\n",
      "Features Numbers :  105344\n",
      "Times to Split Numbers : 823\n",
      "Features Numbers :  105344\n",
      "Times to Split Numbers : 823\n",
      "\n",
      "Features Numbers :  179328\n",
      "Times to Split Numbers : 1401\n",
      "Features Numbers :  178944\n",
      "Times to Split Numbers : 1398\n",
      "Features Numbers :  179840\n",
      "Times to Split Numbers : 1405\n",
      "Features Numbers :  179584\n",
      "Times to Split Numbers : 1403\n",
      "Features Numbers :  178944\n",
      "Times to Split Numbers : 1398\n",
      "Features Numbers :  179072\n",
      "Times to Split Numbers : 1399\n",
      "Features Numbers :  179072\n",
      "Times to Split Numbers : 1399\n",
      "Features Numbers :  179200\n",
      "Times to Split Numbers : 1400\n",
      "Features Numbers :  179328\n",
      "Times to Split Numbers : 1401\n",
      "\n",
      "Features Numbers :  309760\n",
      "Times to Split Numbers : 2420\n",
      "Features Numbers :  158976\n",
      "Times to Split Numbers : 1242\n",
      "Features Numbers :  58112\n",
      "Times to Split Numbers : 454\n",
      "Features Numbers :  50944\n",
      "Times to Split Numbers : 398\n",
      "Features Numbers :  33152\n",
      "Times to Split Numbers : 259\n",
      "Features Numbers :  3968\n",
      "Times to Split Numbers : 31\n",
      "Features Numbers :  308992\n",
      "Times to Split Numbers : 2414\n",
      "Features Numbers :  237312\n",
      "Times to Split Numbers : 1854\n",
      "Features Numbers :  308864\n",
      "Times to Split Numbers : 2413\n",
      "Features Numbers :  83328\n",
      "Times to Split Numbers : 651\n",
      "Features Numbers :  117632\n",
      "Times to Split Numbers : 919\n",
      "Features Numbers :  107392\n",
      "Times to Split Numbers : 839\n",
      "Features Numbers :  308992\n",
      "Times to Split Numbers : 2414\n",
      "Features Numbers :  308736\n",
      "Times to Split Numbers : 2412\n",
      "Features Numbers :  313472\n",
      "Times to Split Numbers : 2449\n",
      "Features Numbers :  308736\n",
      "Times to Split Numbers : 2412\n",
      "\n",
      "Normal Data shape: (16, 14, 64)\n",
      "Scare Data shape: (11, 14, 64)\n",
      "Touch Data shape: (9, 14, 64)\n",
      "Laugh Data shape: (16, 14, 64)\n"
     ]
    }
   ],
   "source": [
    "\n",
    "\n",
    "SignalFreqX, NormalSignalArray = BandPassSecond(normal_signal, LowerFreqCut, HigherFreqCut, SampleFrequency, order=BandPassOrder)\n",
    "SignalFreqX, ScareSignalArray = BandPassSecond(scare_signal, LowerFreqCut, HigherFreqCut, SampleFrequency, order=BandPassOrder)\n",
    "SignalFreqX, TouchSignalArray = BandPassSecond(touch_signal, LowerFreqCut, HigherFreqCut, SampleFrequency, order=BandPassOrder)\n",
    "SignalFreqX, LaughSignalArray = BandPassSecond(laugh_signal, LowerFreqCut, HigherFreqCut, SampleFrequency, order=BandPassOrder)\n",
    "\n",
    "if DEBUG:\n",
    "    print('Normal Data shape:', NormalSignalArray.shape)\n",
    "    print('Scare Data shape:', ScareSignalArray.shape)\n",
    "    print('Touch Data shape:', TouchSignalArray.shape)\n",
    "    print('Laugh Data shape:', LaughSignalArray.shape)"
   ]
  },
  {
   "cell_type": "code",
   "execution_count": null,
   "metadata": {
    "collapsed": true
   },
   "outputs": [],
   "source": []
  },
  {
   "cell_type": "code",
   "execution_count": 23,
   "metadata": {
    "scrolled": true
   },
   "outputs": [
    {
     "ename": "IndexError",
     "evalue": "too many indices for array",
     "output_type": "error",
     "traceback": [
      "\u001b[1;31m---------------------------------------------------------------------------\u001b[0m",
      "\u001b[1;31mIndexError\u001b[0m                                Traceback (most recent call last)",
      "\u001b[1;32m<ipython-input-23-1fadcd0c0a59>\u001b[0m in \u001b[0;36m<module>\u001b[1;34m()\u001b[0m\n\u001b[0;32m     16\u001b[0m             \u001b[0mFigName\u001b[0m \u001b[1;33m=\u001b[0m \u001b[0mname\u001b[0m \u001b[1;33m+\u001b[0m \u001b[1;34m'_%d'\u001b[0m \u001b[1;33m%\u001b[0m \u001b[1;33m(\u001b[0m\u001b[0mi\u001b[0m\u001b[1;33m+\u001b[0m\u001b[1;36m1\u001b[0m\u001b[1;33m)\u001b[0m \u001b[1;33m+\u001b[0m \u001b[1;34m'_ch%d'\u001b[0m \u001b[1;33m%\u001b[0m \u001b[0mChannel\u001b[0m  \u001b[1;33m+\u001b[0m \u001b[1;34m'.png'\u001b[0m\u001b[1;33m\u001b[0m\u001b[0m\n\u001b[0;32m     17\u001b[0m             \u001b[0mfig\u001b[0m\u001b[1;33m.\u001b[0m\u001b[0msavefig\u001b[0m\u001b[1;33m(\u001b[0m\u001b[0mFigName\u001b[0m\u001b[1;33m)\u001b[0m\u001b[1;33m\u001b[0m\u001b[0m\n\u001b[1;32m---> 18\u001b[1;33m \u001b[0mFFTChannelData\u001b[0m\u001b[1;33m(\u001b[0m\u001b[0mNormalSignalArray\u001b[0m\u001b[1;33m,\u001b[0m \u001b[1;36m0\u001b[0m\u001b[1;33m,\u001b[0m \u001b[0mSAVE_FIG\u001b[0m\u001b[1;33m=\u001b[0m\u001b[1;32mFalse\u001b[0m\u001b[1;33m,\u001b[0m \u001b[0mname\u001b[0m\u001b[1;33m=\u001b[0m\u001b[1;34m'Normal'\u001b[0m\u001b[1;33m)\u001b[0m\u001b[1;33m\u001b[0m\u001b[0m\n\u001b[0m",
      "\u001b[1;32m<ipython-input-23-1fadcd0c0a59>\u001b[0m in \u001b[0;36mFFTChannelData\u001b[1;34m(SignalArray, Channel, SAVE_FIG, name)\u001b[0m\n\u001b[0;32m      9\u001b[0m     \u001b[1;32mfor\u001b[0m \u001b[0mi\u001b[0m \u001b[1;32min\u001b[0m \u001b[0mrange\u001b[0m \u001b[1;33m(\u001b[0m\u001b[0mSignalNums\u001b[0m\u001b[1;33m)\u001b[0m\u001b[1;33m:\u001b[0m\u001b[1;33m\u001b[0m\u001b[0m\n\u001b[0;32m     10\u001b[0m         \u001b[0mb\u001b[0m \u001b[1;33m=\u001b[0m \u001b[0mNormalSignalArray\u001b[0m\u001b[1;33m[\u001b[0m\u001b[0mi\u001b[0m\u001b[1;33m,\u001b[0m\u001b[0mChannel\u001b[0m\u001b[1;33m,\u001b[0m\u001b[1;33m:\u001b[0m\u001b[1;33m]\u001b[0m\u001b[1;33m.\u001b[0m\u001b[0mreshape\u001b[0m\u001b[1;33m(\u001b[0m\u001b[1;33m-\u001b[0m\u001b[1;36m1\u001b[0m\u001b[1;33m)\u001b[0m\u001b[1;33m\u001b[0m\u001b[0m\n\u001b[1;32m---> 11\u001b[1;33m         \u001b[0mSignalChannelData\u001b[0m\u001b[1;33m[\u001b[0m\u001b[0mi\u001b[0m\u001b[1;33m,\u001b[0m\u001b[0mChannel\u001b[0m\u001b[1;33m,\u001b[0m\u001b[1;33m:\u001b[0m\u001b[1;33m]\u001b[0m \u001b[1;33m=\u001b[0m \u001b[0mSignalArray\u001b[0m\u001b[1;33m[\u001b[0m\u001b[0mi\u001b[0m\u001b[1;33m,\u001b[0m\u001b[0mChannel\u001b[0m\u001b[1;33m,\u001b[0m\u001b[1;33m:\u001b[0m\u001b[1;33m]\u001b[0m\u001b[1;33m\u001b[0m\u001b[0m\n\u001b[0m\u001b[0;32m     12\u001b[0m         \u001b[1;32mif\u001b[0m \u001b[0mSAVE_FIG\u001b[0m \u001b[1;33m==\u001b[0m \u001b[1;32mTrue\u001b[0m\u001b[1;33m:\u001b[0m\u001b[1;33m\u001b[0m\u001b[0m\n\u001b[0;32m     13\u001b[0m             \u001b[0mos\u001b[0m\u001b[1;33m.\u001b[0m\u001b[0mchdir\u001b[0m\u001b[1;33m(\u001b[0m\u001b[0mSaveFFTAllDataDirection\u001b[0m\u001b[1;33m)\u001b[0m\u001b[1;33m\u001b[0m\u001b[0m\n",
      "\u001b[1;31mIndexError\u001b[0m: too many indices for array"
     ]
    }
   ],
   "source": [
    "# Channel we choose and get the channel data\n",
    "def FFTChannelData(SignalArray, Channel, SAVE_FIG=False, name='FFTFreqFig'):\n",
    "    SignalNums = SignalArray.shape[0]\n",
    "    SignalChannelNums = SignalArray.shape[1]\n",
    "    SignalFeaturesNums = SignalArray.shape[2]\n",
    "    SignalChannelData = np.zeros([SignalNums, SignalFeaturesNums])\n",
    "    a = 0\n",
    "    b = 0\n",
    "    for i in range (SignalNums):\n",
    "        b = NormalSignalArray[i,Channel,:].reshape(-1)\n",
    "        SignalChannelData[i,Channel,:] = SignalArray[i,Channel,:]\n",
    "        if SAVE_FIG == True:\n",
    "            os.chdir(SaveFFTAllDataDirection)\n",
    "            fig = plt.gcf()   # Get Current Figure, 不加這行，save figire 時會存成白色\n",
    "            PlotFreqencyFigure(SignalFreqX,b,0,63,0,10)\n",
    "            FigName = name + '_%d' % (i+1) + '_ch%d' % Channel  + '.png'\n",
    "            fig.savefig(FigName)\n",
    "FFTChannelData(NormalSignalArray, 0, SAVE_FIG=False, name='Normal')"
   ]
  },
  {
   "cell_type": "markdown",
   "metadata": {},
   "source": [
    "### Collect Channel one data to be the Training Data"
   ]
  },
  {
   "cell_type": "code",
   "execution_count": 30,
   "metadata": {},
   "outputs": [
    {
     "name": "stdout",
     "output_type": "stream",
     "text": [
      "Training Lable Shape :  (728,)\n"
     ]
    }
   ],
   "source": [
    "NormalNum = NormalSignalArray.shape[0]\n",
    "ScareNum = ScareSignalArray.shape[0]\n",
    "TouchNum = TouchSignalArray.shape[0]\n",
    "LaughNum = LaughSignalArray.shape[0]\n",
    "# Create the y label\n",
    "NormalLabel = np.ones(NormalNum, dtype=np.float32) * 1\n",
    "ScareLabel = np.ones(ScareNum, dtype=np.float32) * 2\n",
    "TouchLabel = np.ones(TouchNum, dtype=np.float32) * 3\n",
    "LaughLabel = np.ones(LaughNum, dtype=np.float32) * 4\n",
    "for i in range(len(channel_we_use)):\n",
    "    if i == 0:\n",
    "        TrainingLabel = np.hstack((NormalLabel, ScareLabel, TouchLabel, LaughLabel[:]))\n",
    "    else:\n",
    "        y = np.hstack((NormalLabel, ScareLabel, TouchLabel, LaughLabel[:]))\n",
    "        TrainingLabel = np.hstack((y, TrainingLabel))\n",
    "print('Training Lable Shape : ', TrainingLabel.shape)"
   ]
  },
  {
   "cell_type": "code",
   "execution_count": 31,
   "metadata": {},
   "outputs": [],
   "source": [
    "# Get channel 1 data as Training data\n",
    "# [8:31] is alpha and beta frequency domain\n",
    "# channel = 12\n",
    "# NormalChannel1 = NormalSignalArray[:,channel,8:31]\n",
    "# ScareChannel1 = ScareSignalArray[:,channel,8:31]\n",
    "# TouchChannel1 = TouchSignalArray[:,channel,8:31]\n",
    "# LaughChannel1 = LaughSignalArray[:,channel,8:31]\n",
    "# TrainingData = np.vstack((NormalChannel1, ScareChannel1, TouchChannel1, LaughChannel1))\n",
    "# print('Training Data Shape : ', TrainingData.shape)"
   ]
  },
  {
   "cell_type": "code",
   "execution_count": 32,
   "metadata": {},
   "outputs": [
    {
     "name": "stdout",
     "output_type": "stream",
     "text": [
      "(52, 23)\n",
      "(104, 23)\n",
      "(156, 23)\n",
      "(208, 23)\n",
      "(260, 23)\n",
      "(312, 23)\n",
      "(364, 23)\n",
      "(416, 23)\n",
      "(468, 23)\n",
      "(520, 23)\n",
      "(572, 23)\n",
      "(624, 23)\n",
      "(676, 23)\n",
      "(728, 23)\n",
      "Training Data Shape :  (728, 23)\n"
     ]
    }
   ],
   "source": [
    "'''\n",
    "normal signal length :  16\n",
    "scare signal length :  11\n",
    "touch signal length :  9\n",
    "laugh signal length :  16\n",
    "'''\n",
    "for channel in range(len(channel_we_use)):\n",
    "    if channel == 0:\n",
    "        TrainingData = np.vstack((NormalSignalArray[:,channel,8:31].reshape([16,23]),\n",
    "                                  ScareSignalArray[:,channel,8:31].reshape([11,23]),\n",
    "                                  TouchSignalArray[:,channel,8:31].reshape([9,23]),\n",
    "                                  LaughSignalArray[:,channel,8:31].reshape([16,23])))\n",
    "    else:\n",
    "        X = np.vstack((NormalSignalArray[:,channel,8:31].reshape([16,23]),\n",
    "                                  ScareSignalArray[:,channel,8:31].reshape([11,23]),\n",
    "                                  TouchSignalArray[:,channel,8:31].reshape([9,23]),\n",
    "                                  LaughSignalArray[:,channel,8:31].reshape([16,23])))\n",
    "        TrainingData = np.vstack((TrainingData, X))\n",
    "    print(TrainingData.shape)\n",
    "print('Training Data Shape : ', TrainingData.shape)"
   ]
  },
  {
   "cell_type": "markdown",
   "metadata": {},
   "source": [
    "### Build Training Model"
   ]
  },
  {
   "cell_type": "code",
   "execution_count": 34,
   "metadata": {},
   "outputs": [
    {
     "name": "stderr",
     "output_type": "stream",
     "text": [
      "C:\\Users\\zxpay\\Anaconda3\\lib\\site-packages\\sklearn\\preprocessing\\label.py:151: DeprecationWarning: The truth value of an empty array is ambiguous. Returning False, but in future this will result in an error. Use `array.size > 0` to check that an array is not empty.\n",
      "  if diff:\n"
     ]
    },
    {
     "name": "stdout",
     "output_type": "stream",
     "text": [
      "Report Okay !\n",
      "\n",
      "\n",
      "SVM Score :  0.4977168949771689\n",
      "Tree Score :  0.5388127853881278\n",
      "Bayes Score :  0.3287671232876712\n",
      "KNN Score :  0.6575342465753424\n",
      "XGB Score :  0.7123287671232876\n",
      "Stacking Score :  0.6301369863013698\n",
      "Voting Score :  0.6575342465753424\n",
      "Bagging Score :  0.7031963470319634\n",
      "RF Score :  0.7168949771689498\n",
      "Adaboost Score :  0.4885844748858447\n"
     ]
    },
    {
     "name": "stderr",
     "output_type": "stream",
     "text": [
      "C:\\Users\\zxpay\\Anaconda3\\lib\\site-packages\\sklearn\\preprocessing\\label.py:151: DeprecationWarning: The truth value of an empty array is ambiguous. Returning False, but in future this will result in an error. Use `array.size > 0` to check that an array is not empty.\n",
      "  if diff:\n",
      "C:\\Users\\zxpay\\Anaconda3\\lib\\site-packages\\sklearn\\preprocessing\\label.py:151: DeprecationWarning: The truth value of an empty array is ambiguous. Returning False, but in future this will result in an error. Use `array.size > 0` to check that an array is not empty.\n",
      "  if diff:\n",
      "C:\\Users\\zxpay\\Anaconda3\\lib\\site-packages\\sklearn\\preprocessing\\label.py:151: DeprecationWarning: The truth value of an empty array is ambiguous. Returning False, but in future this will result in an error. Use `array.size > 0` to check that an array is not empty.\n",
      "  if diff:\n",
      "C:\\Users\\zxpay\\Anaconda3\\lib\\site-packages\\sklearn\\preprocessing\\label.py:151: DeprecationWarning: The truth value of an empty array is ambiguous. Returning False, but in future this will result in an error. Use `array.size > 0` to check that an array is not empty.\n",
      "  if diff:\n",
      "C:\\Users\\zxpay\\Anaconda3\\lib\\site-packages\\sklearn\\preprocessing\\label.py:151: DeprecationWarning: The truth value of an empty array is ambiguous. Returning False, but in future this will result in an error. Use `array.size > 0` to check that an array is not empty.\n",
      "  if diff:\n",
      "C:\\Users\\zxpay\\Anaconda3\\lib\\site-packages\\sklearn\\preprocessing\\label.py:151: DeprecationWarning: The truth value of an empty array is ambiguous. Returning False, but in future this will result in an error. Use `array.size > 0` to check that an array is not empty.\n",
      "  if diff:\n"
     ]
    }
   ],
   "source": [
    "from Danny_ML_CLF import Danny_ML_CLF\n",
    "clf = Danny_ML_CLF()\n",
    "train_X, test_X, train_y, test_y = clf.Split_data(TrainingData, TrainingLabel, test_size=0.3, Standard=True)\n",
    "clf.Fit_value(train_X, train_y)\n",
    "clf.Train()\n",
    "clf.Report(test_X, test_y, [1,2,3,4], show_cm=False)\n",
    "clf.Report2txt('EEG_Report2.txt')\n",
    "print('Report Okay !\\n\\n')\n",
    "clf.Score()"
   ]
  },
  {
   "cell_type": "code",
   "execution_count": null,
   "metadata": {},
   "outputs": [],
   "source": []
  },
  {
   "cell_type": "code",
   "execution_count": null,
   "metadata": {
    "collapsed": true
   },
   "outputs": [],
   "source": []
  },
  {
   "cell_type": "code",
   "execution_count": null,
   "metadata": {
    "collapsed": true
   },
   "outputs": [],
   "source": []
  },
  {
   "cell_type": "code",
   "execution_count": null,
   "metadata": {
    "collapsed": true
   },
   "outputs": [],
   "source": []
  }
 ],
 "metadata": {
  "kernelspec": {
   "display_name": "Python 3",
   "language": "python",
   "name": "python3"
  },
  "language_info": {
   "codemirror_mode": {
    "name": "ipython",
    "version": 3
   },
   "file_extension": ".py",
   "mimetype": "text/x-python",
   "name": "python",
   "nbconvert_exporter": "python",
   "pygments_lexer": "ipython3",
   "version": "3.6.1"
  }
 },
 "nbformat": 4,
 "nbformat_minor": 2
}
