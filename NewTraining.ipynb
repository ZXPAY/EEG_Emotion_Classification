{
 "cells": [
  {
   "cell_type": "code",
   "execution_count": 1,
   "metadata": {},
   "outputs": [
    {
     "name": "stderr",
     "output_type": "stream",
     "text": [
      "C:\\Users\\zxpay\\Anaconda3\\lib\\site-packages\\sklearn\\cross_validation.py:41: DeprecationWarning: This module was deprecated in version 0.18 in favor of the model_selection module into which all the refactored classes and functions are moved. Also note that the interface of the new CV iterators are different from that of this module. This module will be removed in 0.20.\n",
      "  \"This module will be removed in 0.20.\", DeprecationWarning)\n"
     ]
    }
   ],
   "source": [
    "import numpy as np\n",
    "import matplotlib.pyplot as plt\n",
    "import pandas as pd\n",
    "from Get_file import Get_file   # return dirpath, dirnames, filenames\n",
    "from FFT import FFT, PlotDataOnTimeDomain\n",
    "from BandPassFilter import BandPassFilter, PlotDataOnFreqDomain, BandPassListFilter\n",
    "from Danny_ML_CLF import Danny_ML_CLF\n",
    "import os\n",
    "\n",
    "%matplotlib inline\n",
    "\n",
    "data_dir = \"C:\\\\Users\\\\zxpay\\\\Desktop\\\\BME_Senior\\\\EEG_CLF\\\\Emotion\\\\database\\\\New_SDK_Data\"\n"
   ]
  },
  {
   "cell_type": "code",
   "execution_count": 2,
   "metadata": {
    "collapsed": true
   },
   "outputs": [],
   "source": [
    "def CalculateZeros(NumpyArray):\n",
    "    LogicWithZeros = (NumpyArray == 0)\n",
    "    return np.sum(LogicWithZeros)"
   ]
  },
  {
   "cell_type": "code",
   "execution_count": 3,
   "metadata": {
    "scrolled": true
   },
   "outputs": [],
   "source": [
    "os.chdir(data_dir)\n",
    "_,data_files,_ = Get_file(data_dir)\n",
    "data_files\n",
    "all_df = pd.DataFrame()\n",
    "for file in data_files:\n",
    "    emotion = 0\n",
    "    # 1->normal, 2->happy, 3->scare, 4->touch, \n",
    "    _,_,file_names = Get_file(data_dir + '\\\\' + file)\n",
    "    for fn in file_names:\n",
    "        \n",
    "        data_name = data_dir + '\\\\' + file + '\\\\' + fn\n",
    "        if 'happy' in fn:\n",
    "            emotion = 2\n",
    "        elif 'scare' in fn:\n",
    "            emotion = 3\n",
    "        elif 'touch' in fn:\n",
    "            emotion = 4\n",
    "        else:\n",
    "            print(fn)\n",
    "            emotion = 1\n",
    "        #print(emotion, fn)\n",
    "        df = pd.read_csv(data_name, engine='python')\n",
    "        df_length = df.shape[0]\n",
    "        \n",
    "        df['label'] = df['label']*emotion\n",
    "            \n",
    "        try:\n",
    "            all_df = pd.concat([all_df,df])\n",
    "        except Exception as e:\n",
    "            print(e)\n",
    "            all_df = df\n",
    "        #print(sorted(df.corr()['label'].tolist()), fn)\n",
    "        #print('***********************************************')\n",
    "        "
   ]
  },
  {
   "cell_type": "code",
   "execution_count": 4,
   "metadata": {},
   "outputs": [],
   "source": [
    "# 移除遺失值\n",
    "all_df = all_df.dropna(axis=1)\n",
    "all_df = all_df.reset_index()"
   ]
  },
  {
   "cell_type": "code",
   "execution_count": 5,
   "metadata": {},
   "outputs": [],
   "source": [
    "Columns = ['alpha', 'channel', 'gamma', 'heig_beta', 'label','low_beta','theta','time']\n",
    "Features = ['alpha', 'heig_beta', 'low_beta','theta']\n",
    "Labels = ['label']"
   ]
  },
  {
   "cell_type": "code",
   "execution_count": 6,
   "metadata": {},
   "outputs": [],
   "source": [
    "channel1 = all_df[all_df['channel'] == 1].index\n",
    "channel2 = all_df[all_df['channel'] == 2].index\n",
    "channel3 = all_df[all_df['channel'] == 3].index\n",
    "channel4 = all_df[all_df['channel'] == 4].index\n",
    "channel5 = all_df[all_df['channel'] == 5].index\n",
    "channel6 = all_df[all_df['channel'] == 6].index\n",
    "channel7 = all_df[all_df['channel'] == 7].index\n",
    "channel8 = all_df[all_df['channel'] == 8].index\n",
    "channel9 = all_df[all_df['channel'] == 9].index\n",
    "channel10 = all_df[all_df['channel'] == 10].index\n",
    "channel11 = all_df[all_df['channel'] == 11].index\n",
    "channel12 = all_df[all_df['channel'] == 12].index\n",
    "channel13 = all_df[all_df['channel'] == 13].index\n",
    "channel14 = all_df[all_df['channel'] == 14].index\n",
    "\n",
    "df_1 = all_df.iloc[channel1]\n",
    "df_2 = all_df.iloc[channel2]\n",
    "df_3 = all_df.iloc[channel3]\n",
    "df_4 = all_df.iloc[channel4]\n",
    "df_5 = all_df.iloc[channel5]\n",
    "df_6 = all_df.iloc[channel6]\n",
    "df_7 = all_df.iloc[channel7]\n",
    "df_8 = all_df.iloc[channel8]\n",
    "df_9 = all_df.iloc[channel9]\n",
    "df_10 = all_df.iloc[channel10]\n",
    "df_11 = all_df.iloc[channel11]\n",
    "df_12 = all_df.iloc[channel12]\n",
    "df_13 = all_df.iloc[channel13]\n",
    "df_14 = all_df.iloc[channel14]\n"
   ]
  },
  {
   "cell_type": "code",
   "execution_count": null,
   "metadata": {
    "scrolled": true
   },
   "outputs": [],
   "source": [
    "my_df = [df_1, df_2, df_3, df_4, df_5, df_6, df_7, df_8, df_9,\n",
    "        df_10, df_11, df_12, df_13, df_14]"
   ]
  },
  {
   "cell_type": "code",
   "execution_count": null,
   "metadata": {},
   "outputs": [],
   "source": []
  },
  {
   "cell_type": "code",
   "execution_count": null,
   "metadata": {},
   "outputs": [
    {
     "name": "stderr",
     "output_type": "stream",
     "text": [
      "C:\\Users\\zxpay\\Anaconda3\\lib\\site-packages\\sklearn\\preprocessing\\label.py:151: DeprecationWarning: The truth value of an empty array is ambiguous. Returning False, but in future this will result in an error. Use `array.size > 0` to check that an array is not empty.\n",
      "  if diff:\n",
      "C:\\Users\\zxpay\\Anaconda3\\lib\\site-packages\\sklearn\\preprocessing\\label.py:151: DeprecationWarning: The truth value of an empty array is ambiguous. Returning False, but in future this will result in an error. Use `array.size > 0` to check that an array is not empty.\n",
      "  if diff:\n",
      "C:\\Users\\zxpay\\Anaconda3\\lib\\site-packages\\sklearn\\preprocessing\\label.py:151: DeprecationWarning: The truth value of an empty array is ambiguous. Returning False, but in future this will result in an error. Use `array.size > 0` to check that an array is not empty.\n",
      "  if diff:\n",
      "C:\\Users\\zxpay\\Anaconda3\\lib\\site-packages\\sklearn\\preprocessing\\label.py:151: DeprecationWarning: The truth value of an empty array is ambiguous. Returning False, but in future this will result in an error. Use `array.size > 0` to check that an array is not empty.\n",
      "  if diff:\n",
      "C:\\Users\\zxpay\\Anaconda3\\lib\\site-packages\\sklearn\\preprocessing\\label.py:151: DeprecationWarning: The truth value of an empty array is ambiguous. Returning False, but in future this will result in an error. Use `array.size > 0` to check that an array is not empty.\n",
      "  if diff:\n",
      "C:\\Users\\zxpay\\Anaconda3\\lib\\site-packages\\sklearn\\preprocessing\\label.py:151: DeprecationWarning: The truth value of an empty array is ambiguous. Returning False, but in future this will result in an error. Use `array.size > 0` to check that an array is not empty.\n",
      "  if diff:\n",
      "C:\\Users\\zxpay\\Anaconda3\\lib\\site-packages\\sklearn\\preprocessing\\label.py:151: DeprecationWarning: The truth value of an empty array is ambiguous. Returning False, but in future this will result in an error. Use `array.size > 0` to check that an array is not empty.\n",
      "  if diff:\n"
     ]
    },
    {
     "name": "stdout",
     "output_type": "stream",
     "text": [
      "SVM Score :  0.5964450296247531\n",
      "Tree Score :  0.662936142198815\n",
      "Bayes Score :  0.46807109940750496\n",
      "KNN Score :  1.0\n",
      "XGB Score :  0.7386438446346281\n",
      "Stacking Score :  0.859776168531929\n",
      "Voting Score :  0.945358788676761\n",
      "Bagging Score :  0.9993416721527321\n",
      "RF Score :  1.0\n",
      "Adaboost Score :  0.6385780118499013\n",
      "None\n",
      "\n"
     ]
    },
    {
     "name": "stderr",
     "output_type": "stream",
     "text": [
      "C:\\Users\\zxpay\\Anaconda3\\lib\\site-packages\\sklearn\\preprocessing\\label.py:151: DeprecationWarning: The truth value of an empty array is ambiguous. Returning False, but in future this will result in an error. Use `array.size > 0` to check that an array is not empty.\n",
      "  if diff:\n",
      "C:\\Users\\zxpay\\Anaconda3\\lib\\site-packages\\sklearn\\preprocessing\\label.py:151: DeprecationWarning: The truth value of an empty array is ambiguous. Returning False, but in future this will result in an error. Use `array.size > 0` to check that an array is not empty.\n",
      "  if diff:\n",
      "C:\\Users\\zxpay\\Anaconda3\\lib\\site-packages\\sklearn\\preprocessing\\label.py:151: DeprecationWarning: The truth value of an empty array is ambiguous. Returning False, but in future this will result in an error. Use `array.size > 0` to check that an array is not empty.\n",
      "  if diff:\n",
      "C:\\Users\\zxpay\\Anaconda3\\lib\\site-packages\\sklearn\\preprocessing\\label.py:151: DeprecationWarning: The truth value of an empty array is ambiguous. Returning False, but in future this will result in an error. Use `array.size > 0` to check that an array is not empty.\n",
      "  if diff:\n",
      "C:\\Users\\zxpay\\Anaconda3\\lib\\site-packages\\sklearn\\preprocessing\\label.py:151: DeprecationWarning: The truth value of an empty array is ambiguous. Returning False, but in future this will result in an error. Use `array.size > 0` to check that an array is not empty.\n",
      "  if diff:\n",
      "C:\\Users\\zxpay\\Anaconda3\\lib\\site-packages\\sklearn\\preprocessing\\label.py:151: DeprecationWarning: The truth value of an empty array is ambiguous. Returning False, but in future this will result in an error. Use `array.size > 0` to check that an array is not empty.\n",
      "  if diff:\n",
      "C:\\Users\\zxpay\\Anaconda3\\lib\\site-packages\\sklearn\\metrics\\classification.py:1135: UndefinedMetricWarning: Precision and F-score are ill-defined and being set to 0.0 in labels with no predicted samples.\n",
      "  'precision', 'predicted', average, warn_for)\n"
     ]
    },
    {
     "name": "stdout",
     "output_type": "stream",
     "text": [
      "SVM Score :  0.6012269938650306\n",
      "Tree Score :  0.6104294478527608\n",
      "Bayes Score :  0.4539877300613497\n",
      "KNN Score :  0.5966257668711656\n",
      "XGB Score :  0.6273006134969326\n",
      "Stacking Score :  0.5828220858895705\n",
      "Voting Score :  0.6196319018404908\n",
      "Bagging Score :  0.6273006134969326\n",
      "RF Score :  0.6319018404907976\n",
      "Adaboost Score :  0.5705521472392638\n",
      "None\n",
      "Report Okay !\n",
      "\n",
      "\n"
     ]
    },
    {
     "name": "stderr",
     "output_type": "stream",
     "text": [
      "C:\\Users\\zxpay\\Anaconda3\\lib\\site-packages\\sklearn\\preprocessing\\label.py:151: DeprecationWarning: The truth value of an empty array is ambiguous. Returning False, but in future this will result in an error. Use `array.size > 0` to check that an array is not empty.\n",
      "  if diff:\n"
     ]
    }
   ],
   "source": [
    "os.chdir('C:\\\\Users\\\\zxpay\\\\Desktop\\\\BME_Senior\\\\EEG_CLF\\\\Emotion\\\\Code')\n",
    "for n in range(len(my_df)):\n",
    "    n=9\n",
    "    Testing_df = my_df[n]\n",
    "    data = np.zeros([Testing_df.shape[0], 4])\n",
    "    for i in range(4):\n",
    "        data[:, i] = np.array(Testing_df[Features[i]], dtype=np.float32)\n",
    "    label = np.array(Testing_df['label'], dtype=np.float32)\n",
    "    if CalculateZeros(data) != 0:\n",
    "        print('Warning !!!')\n",
    "\n",
    "    pos = np.where(label==0)\n",
    "    zero_choose = np.random.randint(500,20000,size=400)\n",
    "    zero_choose = pos[0][zero_choose]\n",
    "    data_normal = data[zero_choose]\n",
    "    label_normal = label[zero_choose]\n",
    "\n",
    "    data_unnormal = np.delete(data, pos, axis=0)\n",
    "    label_unnormal = np.delete(label, pos)\n",
    "\n",
    "    data_all = np.vstack((data_normal, data_unnormal))\n",
    "    label_all = np.hstack((label_normal, label_unnormal))\n",
    "\n",
    "#   print(data_all.shape)\n",
    "#   print(label_all.shape)\n",
    "\n",
    "\n",
    "    clf = Danny_ML_CLF()\n",
    "    train_X, test_X, train_y, test_y = clf.Split_data(data_all, label_all, test_size=0.3, Standard=True)\n",
    "    clf.Fit_value(train_X, train_y)\n",
    "    clf.Train()\n",
    "    clf.Report(train_X, train_y, [0,2,3,4], show_cm=False)\n",
    "    clf.Report2txt('Train' + str(n+1) + '.txt')\n",
    "    print(clf.Score())\n",
    "    print()\n",
    "    clf.Report(test_X, test_y, [0,2,3,4], show_cm=False)\n",
    "    clf.Report2txt('Test' + str(n+1) + '.txt')\n",
    "    print(clf.Score())\n",
    "    print('Report Okay !\\n\\n')"
   ]
  },
  {
   "cell_type": "code",
   "execution_count": null,
   "metadata": {
    "scrolled": true
   },
   "outputs": [],
   "source": [
    "np.sum(clf.RF_prediction(test_X)==test_y)/test_y.shape[0]"
   ]
  },
  {
   "cell_type": "code",
   "execution_count": null,
   "metadata": {},
   "outputs": [],
   "source": [
    "print(np.sum(label_all==0))\n",
    "print(np.sum(label_all==2))\n",
    "print(np.sum(label_all==3))\n",
    "print(np.sum(label_all==4))"
   ]
  },
  {
   "cell_type": "code",
   "execution_count": null,
   "metadata": {},
   "outputs": [],
   "source": [
    "clf.RF_prediction(test_X)"
   ]
  },
  {
   "cell_type": "code",
   "execution_count": null,
   "metadata": {},
   "outputs": [],
   "source": [
    "from sklearn.tree import DecisionTreeClassifier\n",
    "label_name = []\n",
    "for x in train_y:\n",
    "    if x == 0:\n",
    "        label_name.append('normal')\n",
    "    elif x == 2:\n",
    "        label_name.append('happy')\n",
    "    elif x == 3:\n",
    "        label_name.append('scare')\n",
    "    elif x == 4:\n",
    "        label_name.append('touch')\n",
    "    else:\n",
    "        print(x)\n",
    "label_name_test = []\n",
    "for x in test_y:\n",
    "    if x == 0:\n",
    "        label_name_test.append('normal')\n",
    "    elif x == 2:\n",
    "        label_name_test.append('happy')\n",
    "    elif x == 3:\n",
    "        label_name_test.append('scare')\n",
    "    elif x == 4:\n",
    "        label_name_test.append('touch')\n",
    "    else:\n",
    "        print(x)\n",
    "tree = DecisionTreeClassifier(criterion='gini',max_depth=3)\n",
    "tree.fit(train_X, label_name)"
   ]
  },
  {
   "cell_type": "code",
   "execution_count": null,
   "metadata": {
    "scrolled": true
   },
   "outputs": [],
   "source": [
    "from sklearn.tree import export_graphviz\n",
    "export_graphviz(tree, out_file=\"tree.dot\", feature_names=['alpha', 'heig_beta', 'low_beta','theta'],\\\n",
    "                class_names=['normal','happy','scare', 'touch'])\n"
   ]
  },
  {
   "cell_type": "code",
   "execution_count": null,
   "metadata": {},
   "outputs": [],
   "source": [
    "!dot -Tpng tree.dot -o tree.png"
   ]
  },
  {
   "cell_type": "code",
   "execution_count": null,
   "metadata": {},
   "outputs": [],
   "source": [
    "tree.predict(test_X)"
   ]
  },
  {
   "cell_type": "code",
   "execution_count": null,
   "metadata": {},
   "outputs": [],
   "source": [
    "tree.score(test_X, label_name_test)"
   ]
  },
  {
   "cell_type": "code",
   "execution_count": null,
   "metadata": {},
   "outputs": [],
   "source": []
  },
  {
   "cell_type": "code",
   "execution_count": null,
   "metadata": {},
   "outputs": [],
   "source": []
  },
  {
   "cell_type": "code",
   "execution_count": null,
   "metadata": {},
   "outputs": [],
   "source": []
  },
  {
   "cell_type": "code",
   "execution_count": null,
   "metadata": {
    "collapsed": true
   },
   "outputs": [],
   "source": []
  }
 ],
 "metadata": {
  "kernelspec": {
   "display_name": "Python 3",
   "language": "python",
   "name": "python3"
  },
  "language_info": {
   "codemirror_mode": {
    "name": "ipython",
    "version": 3
   },
   "file_extension": ".py",
   "mimetype": "text/x-python",
   "name": "python",
   "nbconvert_exporter": "python",
   "pygments_lexer": "ipython3",
   "version": "3.6.1"
  }
 },
 "nbformat": 4,
 "nbformat_minor": 2
}
