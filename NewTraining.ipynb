{
 "cells": [
  {
   "cell_type": "code",
   "execution_count": 1,
   "metadata": {},
   "outputs": [
    {
     "name": "stderr",
     "output_type": "stream",
     "text": [
      "C:\\Users\\zxpay\\Anaconda3\\lib\\site-packages\\sklearn\\cross_validation.py:41: DeprecationWarning: This module was deprecated in version 0.18 in favor of the model_selection module into which all the refactored classes and functions are moved. Also note that the interface of the new CV iterators are different from that of this module. This module will be removed in 0.20.\n",
      "  \"This module will be removed in 0.20.\", DeprecationWarning)\n"
     ]
    }
   ],
   "source": [
    "import numpy as np\n",
    "import matplotlib.pyplot as plt\n",
    "import pandas as pd\n",
    "from Get_file import Get_file   # return dirpath, dirnames, filenames\n",
    "from FFT import FFT, PlotDataOnTimeDomain\n",
    "from BandPassFilter import BandPassFilter, PlotDataOnFreqDomain, BandPassListFilter\n",
    "from Danny_ML_CLF import Danny_ML_CLF\n",
    "import os\n",
    "\n",
    "%matplotlib inline\n",
    "\n",
    "data_dir = \"C:\\\\Users\\\\zxpay\\\\Desktop\\\\BME_Senior\\\\EEG_CLF\\\\Emotion\\\\database\\\\New_SDK_Data\"\n"
   ]
  },
  {
   "cell_type": "code",
   "execution_count": 2,
   "metadata": {
    "collapsed": true
   },
   "outputs": [],
   "source": [
    "def CalculateZeros(NumpyArray):\n",
    "    LogicWithZeros = (NumpyArray == 0)\n",
    "    return np.sum(LogicWithZeros)"
   ]
  },
  {
   "cell_type": "code",
   "execution_count": 3,
   "metadata": {
    "scrolled": true
   },
   "outputs": [],
   "source": [
    "os.chdir(data_dir)\n",
    "_,data_files,_ = Get_file(data_dir)\n",
    "data_files\n",
    "all_df = pd.DataFrame()\n",
    "for file in data_files:\n",
    "    emotion = 0\n",
    "    # 1->normal, 2->happy, 3->scare, 4->touch, \n",
    "    _,_,file_names = Get_file(data_dir + '\\\\' + file)\n",
    "    for fn in file_names:\n",
    "        \n",
    "        data_name = data_dir + '\\\\' + file + '\\\\' + fn\n",
    "        if 'happy' in fn:\n",
    "            emotion = 2\n",
    "        elif 'scare' in fn:\n",
    "            emotion = 3\n",
    "        elif 'touch' in fn:\n",
    "            emotion = 4\n",
    "        else:\n",
    "            print(fn)\n",
    "            emotion = 1\n",
    "        #print(emotion, fn)\n",
    "        df = pd.read_csv(data_name, engine='python')\n",
    "        df_length = df.shape[0]\n",
    "        \n",
    "        df['label'] = df['label']*emotion\n",
    "            \n",
    "        try:\n",
    "            all_df = pd.concat([all_df,df])\n",
    "        except Exception as e:\n",
    "            print(e)\n",
    "            all_df = df\n",
    "        #print(sorted(df.corr()['label'].tolist()), fn)\n",
    "        #print('***********************************************')\n",
    "        "
   ]
  },
  {
   "cell_type": "code",
   "execution_count": 4,
   "metadata": {
    "collapsed": true
   },
   "outputs": [],
   "source": [
    "# 移除遺失值\n",
    "all_df = all_df.dropna(axis=1)\n",
    "all_df = all_df.reset_index()"
   ]
  },
  {
   "cell_type": "code",
   "execution_count": 5,
   "metadata": {
    "collapsed": true
   },
   "outputs": [],
   "source": [
    "Columns = ['alpha', 'channel', 'gamma', 'heig_beta', 'label','low_beta','theta','time']\n",
    "Features = ['alpha', 'heig_beta', 'low_beta','theta']\n",
    "Labels = ['label']"
   ]
  },
  {
   "cell_type": "code",
   "execution_count": 6,
   "metadata": {
    "collapsed": true
   },
   "outputs": [],
   "source": [
    "channel1 = all_df[all_df['channel'] == 1].index\n",
    "channel2 = all_df[all_df['channel'] == 2].index\n",
    "channel3 = all_df[all_df['channel'] == 3].index\n",
    "channel4 = all_df[all_df['channel'] == 4].index\n",
    "channel5 = all_df[all_df['channel'] == 5].index\n",
    "channel6 = all_df[all_df['channel'] == 6].index\n",
    "channel7 = all_df[all_df['channel'] == 7].index\n",
    "channel8 = all_df[all_df['channel'] == 8].index\n",
    "channel9 = all_df[all_df['channel'] == 9].index\n",
    "channel10 = all_df[all_df['channel'] == 10].index\n",
    "channel11 = all_df[all_df['channel'] == 11].index\n",
    "channel12 = all_df[all_df['channel'] == 12].index\n",
    "channel13 = all_df[all_df['channel'] == 13].index\n",
    "channel14 = all_df[all_df['channel'] == 14].index\n",
    "\n",
    "df_1 = all_df.iloc[channel1]\n",
    "df_2 = all_df.iloc[channel2]\n",
    "df_3 = all_df.iloc[channel3]\n",
    "df_4 = all_df.iloc[channel4]\n",
    "df_5 = all_df.iloc[channel5]\n",
    "df_6 = all_df.iloc[channel6]\n",
    "df_7 = all_df.iloc[channel7]\n",
    "df_8 = all_df.iloc[channel8]\n",
    "df_9 = all_df.iloc[channel9]\n",
    "df_10 = all_df.iloc[channel10]\n",
    "df_11 = all_df.iloc[channel11]\n",
    "df_12 = all_df.iloc[channel12]\n",
    "df_13 = all_df.iloc[channel13]\n",
    "df_14 = all_df.iloc[channel14]\n"
   ]
  },
  {
   "cell_type": "code",
   "execution_count": 7,
   "metadata": {
    "collapsed": true,
    "scrolled": true
   },
   "outputs": [],
   "source": [
    "my_df = [df_1, df_2, df_3, df_4, df_5, df_6, df_7, df_8, df_9,\n",
    "        df_10, df_11, df_12, df_13, df_14]"
   ]
  },
  {
   "cell_type": "code",
   "execution_count": null,
   "metadata": {
    "collapsed": true
   },
   "outputs": [],
   "source": []
  },
  {
   "cell_type": "code",
   "execution_count": 8,
   "metadata": {},
   "outputs": [
    {
     "name": "stdout",
     "output_type": "stream",
     "text": [
      "(1531, 4)\n",
      "(1531,)\n"
     ]
    },
    {
     "name": "stderr",
     "output_type": "stream",
     "text": [
      "C:\\Users\\zxpay\\Anaconda3\\lib\\site-packages\\sklearn\\preprocessing\\label.py:151: DeprecationWarning: The truth value of an empty array is ambiguous. Returning False, but in future this will result in an error. Use `array.size > 0` to check that an array is not empty.\n",
      "  if diff:\n",
      "C:\\Users\\zxpay\\Anaconda3\\lib\\site-packages\\sklearn\\preprocessing\\label.py:151: DeprecationWarning: The truth value of an empty array is ambiguous. Returning False, but in future this will result in an error. Use `array.size > 0` to check that an array is not empty.\n",
      "  if diff:\n",
      "C:\\Users\\zxpay\\Anaconda3\\lib\\site-packages\\sklearn\\preprocessing\\label.py:151: DeprecationWarning: The truth value of an empty array is ambiguous. Returning False, but in future this will result in an error. Use `array.size > 0` to check that an array is not empty.\n",
      "  if diff:\n",
      "C:\\Users\\zxpay\\Anaconda3\\lib\\site-packages\\sklearn\\preprocessing\\label.py:151: DeprecationWarning: The truth value of an empty array is ambiguous. Returning False, but in future this will result in an error. Use `array.size > 0` to check that an array is not empty.\n",
      "  if diff:\n",
      "C:\\Users\\zxpay\\Anaconda3\\lib\\site-packages\\sklearn\\preprocessing\\label.py:151: DeprecationWarning: The truth value of an empty array is ambiguous. Returning False, but in future this will result in an error. Use `array.size > 0` to check that an array is not empty.\n",
      "  if diff:\n",
      "C:\\Users\\zxpay\\Anaconda3\\lib\\site-packages\\sklearn\\preprocessing\\label.py:151: DeprecationWarning: The truth value of an empty array is ambiguous. Returning False, but in future this will result in an error. Use `array.size > 0` to check that an array is not empty.\n",
      "  if diff:\n",
      "C:\\Users\\zxpay\\Anaconda3\\lib\\site-packages\\sklearn\\preprocessing\\label.py:151: DeprecationWarning: The truth value of an empty array is ambiguous. Returning False, but in future this will result in an error. Use `array.size > 0` to check that an array is not empty.\n",
      "  if diff:\n",
      "C:\\Users\\zxpay\\Anaconda3\\lib\\site-packages\\sklearn\\preprocessing\\label.py:151: DeprecationWarning: The truth value of an empty array is ambiguous. Returning False, but in future this will result in an error. Use `array.size > 0` to check that an array is not empty.\n",
      "  if diff:\n",
      "C:\\Users\\zxpay\\Anaconda3\\lib\\site-packages\\sklearn\\preprocessing\\label.py:151: DeprecationWarning: The truth value of an empty array is ambiguous. Returning False, but in future this will result in an error. Use `array.size > 0` to check that an array is not empty.\n",
      "  if diff:\n",
      "C:\\Users\\zxpay\\Anaconda3\\lib\\site-packages\\sklearn\\preprocessing\\label.py:151: DeprecationWarning: The truth value of an empty array is ambiguous. Returning False, but in future this will result in an error. Use `array.size > 0` to check that an array is not empty.\n",
      "  if diff:\n"
     ]
    },
    {
     "name": "stdout",
     "output_type": "stream",
     "text": [
      "SVM Score :  0.4827264239028945\n",
      "Tree Score :  0.5452847805788982\n",
      "Bayes Score :  0.35947712418300654\n",
      "KNN Score :  1.0\n",
      "XGB Score :  0.715219421101774\n",
      "Stacking Score :  0.9561157796451915\n",
      "Voting Score :  0.9495798319327731\n",
      "Bagging Score :  1.0\n",
      "RF Score :  1.0\n",
      "Adaboost Score :  0.5256769374416433\n",
      "None\n",
      "\n"
     ]
    },
    {
     "name": "stderr",
     "output_type": "stream",
     "text": [
      "C:\\Users\\zxpay\\Anaconda3\\lib\\site-packages\\sklearn\\preprocessing\\label.py:151: DeprecationWarning: The truth value of an empty array is ambiguous. Returning False, but in future this will result in an error. Use `array.size > 0` to check that an array is not empty.\n",
      "  if diff:\n",
      "C:\\Users\\zxpay\\Anaconda3\\lib\\site-packages\\sklearn\\preprocessing\\label.py:151: DeprecationWarning: The truth value of an empty array is ambiguous. Returning False, but in future this will result in an error. Use `array.size > 0` to check that an array is not empty.\n",
      "  if diff:\n",
      "C:\\Users\\zxpay\\Anaconda3\\lib\\site-packages\\sklearn\\preprocessing\\label.py:151: DeprecationWarning: The truth value of an empty array is ambiguous. Returning False, but in future this will result in an error. Use `array.size > 0` to check that an array is not empty.\n",
      "  if diff:\n",
      "C:\\Users\\zxpay\\Anaconda3\\lib\\site-packages\\sklearn\\metrics\\classification.py:1135: UndefinedMetricWarning: Precision and F-score are ill-defined and being set to 0.0 in labels with no predicted samples.\n",
      "  'precision', 'predicted', average, warn_for)\n"
     ]
    },
    {
     "name": "stdout",
     "output_type": "stream",
     "text": [
      "SVM Score :  0.46956521739130436\n",
      "Tree Score :  0.46304347826086956\n",
      "Bayes Score :  0.3717391304347826\n",
      "KNN Score :  0.45652173913043476\n",
      "XGB Score :  0.5021739130434782\n",
      "Stacking Score :  0.44130434782608696\n",
      "Voting Score :  0.4934782608695652\n",
      "Bagging Score :  0.5260869565217391\n",
      "RF Score :  0.5173913043478261\n",
      "Adaboost Score :  0.45\n",
      "None\n",
      "Report Okay !\n",
      "\n",
      "\n",
      "(1531, 4)\n",
      "(1531,)\n"
     ]
    },
    {
     "name": "stderr",
     "output_type": "stream",
     "text": [
      "C:\\Users\\zxpay\\Anaconda3\\lib\\site-packages\\sklearn\\preprocessing\\label.py:151: DeprecationWarning: The truth value of an empty array is ambiguous. Returning False, but in future this will result in an error. Use `array.size > 0` to check that an array is not empty.\n",
      "  if diff:\n",
      "C:\\Users\\zxpay\\Anaconda3\\lib\\site-packages\\sklearn\\preprocessing\\label.py:151: DeprecationWarning: The truth value of an empty array is ambiguous. Returning False, but in future this will result in an error. Use `array.size > 0` to check that an array is not empty.\n",
      "  if diff:\n",
      "C:\\Users\\zxpay\\Anaconda3\\lib\\site-packages\\sklearn\\preprocessing\\label.py:151: DeprecationWarning: The truth value of an empty array is ambiguous. Returning False, but in future this will result in an error. Use `array.size > 0` to check that an array is not empty.\n",
      "  if diff:\n",
      "C:\\Users\\zxpay\\Anaconda3\\lib\\site-packages\\sklearn\\preprocessing\\label.py:151: DeprecationWarning: The truth value of an empty array is ambiguous. Returning False, but in future this will result in an error. Use `array.size > 0` to check that an array is not empty.\n",
      "  if diff:\n",
      "C:\\Users\\zxpay\\Anaconda3\\lib\\site-packages\\sklearn\\preprocessing\\label.py:151: DeprecationWarning: The truth value of an empty array is ambiguous. Returning False, but in future this will result in an error. Use `array.size > 0` to check that an array is not empty.\n",
      "  if diff:\n",
      "C:\\Users\\zxpay\\Anaconda3\\lib\\site-packages\\sklearn\\preprocessing\\label.py:151: DeprecationWarning: The truth value of an empty array is ambiguous. Returning False, but in future this will result in an error. Use `array.size > 0` to check that an array is not empty.\n",
      "  if diff:\n",
      "C:\\Users\\zxpay\\Anaconda3\\lib\\site-packages\\sklearn\\preprocessing\\label.py:151: DeprecationWarning: The truth value of an empty array is ambiguous. Returning False, but in future this will result in an error. Use `array.size > 0` to check that an array is not empty.\n",
      "  if diff:\n",
      "C:\\Users\\zxpay\\Anaconda3\\lib\\site-packages\\sklearn\\preprocessing\\label.py:151: DeprecationWarning: The truth value of an empty array is ambiguous. Returning False, but in future this will result in an error. Use `array.size > 0` to check that an array is not empty.\n",
      "  if diff:\n",
      "C:\\Users\\zxpay\\Anaconda3\\lib\\site-packages\\sklearn\\preprocessing\\label.py:151: DeprecationWarning: The truth value of an empty array is ambiguous. Returning False, but in future this will result in an error. Use `array.size > 0` to check that an array is not empty.\n",
      "  if diff:\n",
      "C:\\Users\\zxpay\\Anaconda3\\lib\\site-packages\\sklearn\\preprocessing\\label.py:151: DeprecationWarning: The truth value of an empty array is ambiguous. Returning False, but in future this will result in an error. Use `array.size > 0` to check that an array is not empty.\n",
      "  if diff:\n"
     ]
    },
    {
     "name": "stdout",
     "output_type": "stream",
     "text": [
      "SVM Score :  0.4911297852474323\n",
      "Tree Score :  0.5592903828197946\n",
      "Bayes Score :  0.4239028944911298\n",
      "KNN Score :  1.0\n",
      "XGB Score :  0.7086834733893558\n",
      "Stacking Score :  0.8842203548085901\n",
      "Voting Score :  0.945845004668534\n",
      "Bagging Score :  1.0\n",
      "RF Score :  1.0\n",
      "Adaboost Score :  0.49673202614379086\n",
      "None\n",
      "\n",
      "SVM Score :  0.44782608695652176\n",
      "Tree Score :  0.4260869565217391\n",
      "Bayes Score :  0.3739130434782609\n",
      "KNN Score :  0.48478260869565215\n",
      "XGB Score :  0.45\n",
      "Stacking Score :  0.44565217391304346\n",
      "Voting Score :  0.4891304347826087\n",
      "Bagging Score :  0.508695652173913\n",
      "RF Score :  0.5152173913043478\n",
      "Adaboost Score :  0.42391304347826086\n",
      "None\n",
      "Report Okay !\n",
      "\n",
      "\n",
      "(1531, 4)\n",
      "(1531,)\n"
     ]
    },
    {
     "name": "stderr",
     "output_type": "stream",
     "text": [
      "C:\\Users\\zxpay\\Anaconda3\\lib\\site-packages\\sklearn\\preprocessing\\label.py:151: DeprecationWarning: The truth value of an empty array is ambiguous. Returning False, but in future this will result in an error. Use `array.size > 0` to check that an array is not empty.\n",
      "  if diff:\n",
      "C:\\Users\\zxpay\\Anaconda3\\lib\\site-packages\\sklearn\\preprocessing\\label.py:151: DeprecationWarning: The truth value of an empty array is ambiguous. Returning False, but in future this will result in an error. Use `array.size > 0` to check that an array is not empty.\n",
      "  if diff:\n",
      "C:\\Users\\zxpay\\Anaconda3\\lib\\site-packages\\sklearn\\preprocessing\\label.py:151: DeprecationWarning: The truth value of an empty array is ambiguous. Returning False, but in future this will result in an error. Use `array.size > 0` to check that an array is not empty.\n",
      "  if diff:\n",
      "C:\\Users\\zxpay\\Anaconda3\\lib\\site-packages\\sklearn\\preprocessing\\label.py:151: DeprecationWarning: The truth value of an empty array is ambiguous. Returning False, but in future this will result in an error. Use `array.size > 0` to check that an array is not empty.\n",
      "  if diff:\n",
      "C:\\Users\\zxpay\\Anaconda3\\lib\\site-packages\\sklearn\\preprocessing\\label.py:151: DeprecationWarning: The truth value of an empty array is ambiguous. Returning False, but in future this will result in an error. Use `array.size > 0` to check that an array is not empty.\n",
      "  if diff:\n",
      "C:\\Users\\zxpay\\Anaconda3\\lib\\site-packages\\sklearn\\preprocessing\\label.py:151: DeprecationWarning: The truth value of an empty array is ambiguous. Returning False, but in future this will result in an error. Use `array.size > 0` to check that an array is not empty.\n",
      "  if diff:\n",
      "C:\\Users\\zxpay\\Anaconda3\\lib\\site-packages\\sklearn\\preprocessing\\label.py:151: DeprecationWarning: The truth value of an empty array is ambiguous. Returning False, but in future this will result in an error. Use `array.size > 0` to check that an array is not empty.\n",
      "  if diff:\n",
      "C:\\Users\\zxpay\\Anaconda3\\lib\\site-packages\\sklearn\\preprocessing\\label.py:151: DeprecationWarning: The truth value of an empty array is ambiguous. Returning False, but in future this will result in an error. Use `array.size > 0` to check that an array is not empty.\n",
      "  if diff:\n",
      "C:\\Users\\zxpay\\Anaconda3\\lib\\site-packages\\sklearn\\preprocessing\\label.py:151: DeprecationWarning: The truth value of an empty array is ambiguous. Returning False, but in future this will result in an error. Use `array.size > 0` to check that an array is not empty.\n",
      "  if diff:\n",
      "C:\\Users\\zxpay\\Anaconda3\\lib\\site-packages\\sklearn\\preprocessing\\label.py:151: DeprecationWarning: The truth value of an empty array is ambiguous. Returning False, but in future this will result in an error. Use `array.size > 0` to check that an array is not empty.\n",
      "  if diff:\n",
      "C:\\Users\\zxpay\\Anaconda3\\lib\\site-packages\\sklearn\\preprocessing\\label.py:151: DeprecationWarning: The truth value of an empty array is ambiguous. Returning False, but in future this will result in an error. Use `array.size > 0` to check that an array is not empty.\n",
      "  if diff:\n",
      "C:\\Users\\zxpay\\Anaconda3\\lib\\site-packages\\sklearn\\preprocessing\\label.py:151: DeprecationWarning: The truth value of an empty array is ambiguous. Returning False, but in future this will result in an error. Use `array.size > 0` to check that an array is not empty.\n",
      "  if diff:\n",
      "C:\\Users\\zxpay\\Anaconda3\\lib\\site-packages\\sklearn\\preprocessing\\label.py:151: DeprecationWarning: The truth value of an empty array is ambiguous. Returning False, but in future this will result in an error. Use `array.size > 0` to check that an array is not empty.\n",
      "  if diff:\n"
     ]
    },
    {
     "name": "stdout",
     "output_type": "stream",
     "text": [
      "SVM Score :  0.4892623716153128\n",
      "Tree Score :  0.5658263305322129\n",
      "Bayes Score :  0.3622782446311858\n",
      "KNN Score :  1.0\n",
      "XGB Score :  0.7264239028944911\n",
      "Stacking Score :  0.8664799253034547\n",
      "Voting Score :  0.9402427637721755\n",
      "Bagging Score :  1.0\n",
      "RF Score :  1.0\n",
      "Adaboost Score :  0.49673202614379086\n",
      "None\n",
      "\n",
      "SVM Score :  0.46304347826086956\n",
      "Tree Score :  0.48478260869565215\n",
      "Bayes Score :  0.36086956521739133\n",
      "KNN Score :  0.44565217391304346\n",
      "XGB Score :  0.48695652173913045\n",
      "Stacking Score :  0.42391304347826086\n",
      "Voting Score :  0.46956521739130436\n",
      "Bagging Score : "
     ]
    },
    {
     "name": "stderr",
     "output_type": "stream",
     "text": [
      "C:\\Users\\zxpay\\Anaconda3\\lib\\site-packages\\sklearn\\preprocessing\\label.py:151: DeprecationWarning: The truth value of an empty array is ambiguous. Returning False, but in future this will result in an error. Use `array.size > 0` to check that an array is not empty.\n",
      "  if diff:\n",
      "C:\\Users\\zxpay\\Anaconda3\\lib\\site-packages\\sklearn\\preprocessing\\label.py:151: DeprecationWarning: The truth value of an empty array is ambiguous. Returning False, but in future this will result in an error. Use `array.size > 0` to check that an array is not empty.\n",
      "  if diff:\n",
      "C:\\Users\\zxpay\\Anaconda3\\lib\\site-packages\\sklearn\\preprocessing\\label.py:151: DeprecationWarning: The truth value of an empty array is ambiguous. Returning False, but in future this will result in an error. Use `array.size > 0` to check that an array is not empty.\n",
      "  if diff:\n",
      "C:\\Users\\zxpay\\Anaconda3\\lib\\site-packages\\sklearn\\metrics\\classification.py:1135: UndefinedMetricWarning: Precision and F-score are ill-defined and being set to 0.0 in labels with no predicted samples.\n",
      "  'precision', 'predicted', average, warn_for)\n"
     ]
    },
    {
     "name": "stdout",
     "output_type": "stream",
     "text": [
      " 0.47608695652173916\n",
      "RF Score :  0.4956521739130435\n",
      "Adaboost Score :  0.44565217391304346\n",
      "None\n",
      "Report Okay !\n",
      "\n",
      "\n",
      "(1531, 4)\n",
      "(1531,)\n"
     ]
    },
    {
     "name": "stderr",
     "output_type": "stream",
     "text": [
      "C:\\Users\\zxpay\\Anaconda3\\lib\\site-packages\\sklearn\\preprocessing\\label.py:151: DeprecationWarning: The truth value of an empty array is ambiguous. Returning False, but in future this will result in an error. Use `array.size > 0` to check that an array is not empty.\n",
      "  if diff:\n",
      "C:\\Users\\zxpay\\Anaconda3\\lib\\site-packages\\sklearn\\preprocessing\\label.py:151: DeprecationWarning: The truth value of an empty array is ambiguous. Returning False, but in future this will result in an error. Use `array.size > 0` to check that an array is not empty.\n",
      "  if diff:\n",
      "C:\\Users\\zxpay\\Anaconda3\\lib\\site-packages\\sklearn\\preprocessing\\label.py:151: DeprecationWarning: The truth value of an empty array is ambiguous. Returning False, but in future this will result in an error. Use `array.size > 0` to check that an array is not empty.\n",
      "  if diff:\n",
      "C:\\Users\\zxpay\\Anaconda3\\lib\\site-packages\\sklearn\\preprocessing\\label.py:151: DeprecationWarning: The truth value of an empty array is ambiguous. Returning False, but in future this will result in an error. Use `array.size > 0` to check that an array is not empty.\n",
      "  if diff:\n",
      "C:\\Users\\zxpay\\Anaconda3\\lib\\site-packages\\sklearn\\preprocessing\\label.py:151: DeprecationWarning: The truth value of an empty array is ambiguous. Returning False, but in future this will result in an error. Use `array.size > 0` to check that an array is not empty.\n",
      "  if diff:\n",
      "C:\\Users\\zxpay\\Anaconda3\\lib\\site-packages\\sklearn\\preprocessing\\label.py:151: DeprecationWarning: The truth value of an empty array is ambiguous. Returning False, but in future this will result in an error. Use `array.size > 0` to check that an array is not empty.\n",
      "  if diff:\n",
      "C:\\Users\\zxpay\\Anaconda3\\lib\\site-packages\\sklearn\\preprocessing\\label.py:151: DeprecationWarning: The truth value of an empty array is ambiguous. Returning False, but in future this will result in an error. Use `array.size > 0` to check that an array is not empty.\n",
      "  if diff:\n"
     ]
    },
    {
     "name": "stdout",
     "output_type": "stream",
     "text": [
      "SVM Score :  0.5107376283846872\n",
      "Tree Score :  0.5714285714285714\n",
      "Bayes Score :  0.3865546218487395\n",
      "KNN Score :  1.0\n",
      "XGB Score :  0.7105508870214753\n",
      "Stacking Score :  0.903828197945845\n",
      "Voting Score :  0.9243697478991597\n",
      "Bagging Score :  1.0\n",
      "RF Score :  1.0\n",
      "Adaboost Score :  0.5275443510737629\n",
      "None\n",
      "\n",
      "SVM Score :  0.4717391304347826\n",
      "Tree Score :  0.4782608695652174\n",
      "Bayes Score :  0.3760869565217391\n",
      "KNN Score :  0.44130434782608696\n",
      "XGB Score :  0.5\n",
      "Stacking Score :  0.41739130434782606\n",
      "Voting Score :  0.5\n",
      "Bagging Score :  0.5021739130434782\n",
      "RF Score :  0.4826086956521739\n",
      "Adaboost Score :  0.4543478260869565\n",
      "None\n",
      "Report Okay !\n",
      "\n",
      "\n",
      "(1531, 4)\n",
      "(1531,)\n"
     ]
    },
    {
     "name": "stderr",
     "output_type": "stream",
     "text": [
      "C:\\Users\\zxpay\\Anaconda3\\lib\\site-packages\\sklearn\\preprocessing\\label.py:151: DeprecationWarning: The truth value of an empty array is ambiguous. Returning False, but in future this will result in an error. Use `array.size > 0` to check that an array is not empty.\n",
      "  if diff:\n",
      "C:\\Users\\zxpay\\Anaconda3\\lib\\site-packages\\sklearn\\preprocessing\\label.py:151: DeprecationWarning: The truth value of an empty array is ambiguous. Returning False, but in future this will result in an error. Use `array.size > 0` to check that an array is not empty.\n",
      "  if diff:\n",
      "C:\\Users\\zxpay\\Anaconda3\\lib\\site-packages\\sklearn\\preprocessing\\label.py:151: DeprecationWarning: The truth value of an empty array is ambiguous. Returning False, but in future this will result in an error. Use `array.size > 0` to check that an array is not empty.\n",
      "  if diff:\n",
      "C:\\Users\\zxpay\\Anaconda3\\lib\\site-packages\\sklearn\\preprocessing\\label.py:151: DeprecationWarning: The truth value of an empty array is ambiguous. Returning False, but in future this will result in an error. Use `array.size > 0` to check that an array is not empty.\n",
      "  if diff:\n",
      "C:\\Users\\zxpay\\Anaconda3\\lib\\site-packages\\sklearn\\preprocessing\\label.py:151: DeprecationWarning: The truth value of an empty array is ambiguous. Returning False, but in future this will result in an error. Use `array.size > 0` to check that an array is not empty.\n",
      "  if diff:\n",
      "C:\\Users\\zxpay\\Anaconda3\\lib\\site-packages\\sklearn\\preprocessing\\label.py:151: DeprecationWarning: The truth value of an empty array is ambiguous. Returning False, but in future this will result in an error. Use `array.size > 0` to check that an array is not empty.\n",
      "  if diff:\n",
      "C:\\Users\\zxpay\\Anaconda3\\lib\\site-packages\\sklearn\\preprocessing\\label.py:151: DeprecationWarning: The truth value of an empty array is ambiguous. Returning False, but in future this will result in an error. Use `array.size > 0` to check that an array is not empty.\n",
      "  if diff:\n",
      "C:\\Users\\zxpay\\Anaconda3\\lib\\site-packages\\sklearn\\preprocessing\\label.py:151: DeprecationWarning: The truth value of an empty array is ambiguous. Returning False, but in future this will result in an error. Use `array.size > 0` to check that an array is not empty.\n",
      "  if diff:\n",
      "C:\\Users\\zxpay\\Anaconda3\\lib\\site-packages\\sklearn\\preprocessing\\label.py:151: DeprecationWarning: The truth value of an empty array is ambiguous. Returning False, but in future this will result in an error. Use `array.size > 0` to check that an array is not empty.\n",
      "  if diff:\n",
      "C:\\Users\\zxpay\\Anaconda3\\lib\\site-packages\\sklearn\\preprocessing\\label.py:151: DeprecationWarning: The truth value of an empty array is ambiguous. Returning False, but in future this will result in an error. Use `array.size > 0` to check that an array is not empty.\n",
      "  if diff:\n",
      "C:\\Users\\zxpay\\Anaconda3\\lib\\site-packages\\sklearn\\preprocessing\\label.py:151: DeprecationWarning: The truth value of an empty array is ambiguous. Returning False, but in future this will result in an error. Use `array.size > 0` to check that an array is not empty.\n",
      "  if diff:\n",
      "C:\\Users\\zxpay\\Anaconda3\\lib\\site-packages\\sklearn\\preprocessing\\label.py:151: DeprecationWarning: The truth value of an empty array is ambiguous. Returning False, but in future this will result in an error. Use `array.size > 0` to check that an array is not empty.\n",
      "  if diff:\n",
      "C:\\Users\\zxpay\\Anaconda3\\lib\\site-packages\\sklearn\\preprocessing\\label.py:151: DeprecationWarning: The truth value of an empty array is ambiguous. Returning False, but in future this will result in an error. Use `array.size > 0` to check that an array is not empty.\n",
      "  if diff:\n"
     ]
    },
    {
     "name": "stdout",
     "output_type": "stream",
     "text": [
      "SVM Score :  0.4957983193277311\n",
      "Tree Score :  0.5536881419234361\n",
      "Bayes Score :  0.3678804855275444\n",
      "KNN Score :  1.0\n",
      "XGB Score :  0.7142857142857143\n",
      "Stacking Score :  0.9084967320261438\n",
      "Voting Score :  0.9411764705882353\n",
      "Bagging Score :  1.0\n",
      "RF Score :  1.0\n",
      "Adaboost Score :  0.5051353874883286\n",
      "None\n",
      "\n",
      "SVM Score :  0.49130434782608695\n",
      "Tree Score :  0.46304347826086956\n",
      "Bayes Score :  0.3869565217391304\n",
      "KNN Score :  0.48478260869565215\n",
      "XGB Score :  0.47391304347826085\n",
      "Stacking Score :  0.4717391304347826\n",
      "Voting Score :  0.5130434782608696\n",
      "Bagging Score :  0.49782608695652175\n",
      "RF Score :  0.5239130434782608\n",
      "Adaboost Score :  0.4282608695652174\n",
      "None\n",
      "Report Okay !\n",
      "\n",
      "\n",
      "(1531, 4)\n",
      "(1531,)\n"
     ]
    },
    {
     "name": "stderr",
     "output_type": "stream",
     "text": [
      "C:\\Users\\zxpay\\Anaconda3\\lib\\site-packages\\sklearn\\preprocessing\\label.py:151: DeprecationWarning: The truth value of an empty array is ambiguous. Returning False, but in future this will result in an error. Use `array.size > 0` to check that an array is not empty.\n",
      "  if diff:\n",
      "C:\\Users\\zxpay\\Anaconda3\\lib\\site-packages\\sklearn\\preprocessing\\label.py:151: DeprecationWarning: The truth value of an empty array is ambiguous. Returning False, but in future this will result in an error. Use `array.size > 0` to check that an array is not empty.\n",
      "  if diff:\n",
      "C:\\Users\\zxpay\\Anaconda3\\lib\\site-packages\\sklearn\\preprocessing\\label.py:151: DeprecationWarning: The truth value of an empty array is ambiguous. Returning False, but in future this will result in an error. Use `array.size > 0` to check that an array is not empty.\n",
      "  if diff:\n",
      "C:\\Users\\zxpay\\Anaconda3\\lib\\site-packages\\sklearn\\preprocessing\\label.py:151: DeprecationWarning: The truth value of an empty array is ambiguous. Returning False, but in future this will result in an error. Use `array.size > 0` to check that an array is not empty.\n",
      "  if diff:\n",
      "C:\\Users\\zxpay\\Anaconda3\\lib\\site-packages\\sklearn\\preprocessing\\label.py:151: DeprecationWarning: The truth value of an empty array is ambiguous. Returning False, but in future this will result in an error. Use `array.size > 0` to check that an array is not empty.\n",
      "  if diff:\n",
      "C:\\Users\\zxpay\\Anaconda3\\lib\\site-packages\\sklearn\\preprocessing\\label.py:151: DeprecationWarning: The truth value of an empty array is ambiguous. Returning False, but in future this will result in an error. Use `array.size > 0` to check that an array is not empty.\n",
      "  if diff:\n",
      "C:\\Users\\zxpay\\Anaconda3\\lib\\site-packages\\sklearn\\preprocessing\\label.py:151: DeprecationWarning: The truth value of an empty array is ambiguous. Returning False, but in future this will result in an error. Use `array.size > 0` to check that an array is not empty.\n",
      "  if diff:\n",
      "C:\\Users\\zxpay\\Anaconda3\\lib\\site-packages\\sklearn\\preprocessing\\label.py:151: DeprecationWarning: The truth value of an empty array is ambiguous. Returning False, but in future this will result in an error. Use `array.size > 0` to check that an array is not empty.\n",
      "  if diff:\n",
      "C:\\Users\\zxpay\\Anaconda3\\lib\\site-packages\\sklearn\\preprocessing\\label.py:151: DeprecationWarning: The truth value of an empty array is ambiguous. Returning False, but in future this will result in an error. Use `array.size > 0` to check that an array is not empty.\n",
      "  if diff:\n",
      "C:\\Users\\zxpay\\Anaconda3\\lib\\site-packages\\sklearn\\preprocessing\\label.py:151: DeprecationWarning: The truth value of an empty array is ambiguous. Returning False, but in future this will result in an error. Use `array.size > 0` to check that an array is not empty.\n",
      "  if diff:\n",
      "C:\\Users\\zxpay\\Anaconda3\\lib\\site-packages\\sklearn\\preprocessing\\label.py:151: DeprecationWarning: The truth value of an empty array is ambiguous. Returning False, but in future this will result in an error. Use `array.size > 0` to check that an array is not empty.\n",
      "  if diff:\n",
      "C:\\Users\\zxpay\\Anaconda3\\lib\\site-packages\\sklearn\\preprocessing\\label.py:151: DeprecationWarning: The truth value of an empty array is ambiguous. Returning False, but in future this will result in an error. Use `array.size > 0` to check that an array is not empty.\n",
      "  if diff:\n",
      "C:\\Users\\zxpay\\Anaconda3\\lib\\site-packages\\sklearn\\preprocessing\\label.py:151: DeprecationWarning: The truth value of an empty array is ambiguous. Returning False, but in future this will result in an error. Use `array.size > 0` to check that an array is not empty.\n",
      "  if diff:\n",
      "C:\\Users\\zxpay\\Anaconda3\\lib\\site-packages\\sklearn\\preprocessing\\label.py:151: DeprecationWarning: The truth value of an empty array is ambiguous. Returning False, but in future this will result in an error. Use `array.size > 0` to check that an array is not empty.\n",
      "  if diff:\n",
      "C:\\Users\\zxpay\\Anaconda3\\lib\\site-packages\\sklearn\\preprocessing\\label.py:151: DeprecationWarning: The truth value of an empty array is ambiguous. Returning False, but in future this will result in an error. Use `array.size > 0` to check that an array is not empty.\n",
      "  if diff:\n",
      "C:\\Users\\zxpay\\Anaconda3\\lib\\site-packages\\sklearn\\preprocessing\\label.py:151: DeprecationWarning: The truth value of an empty array is ambiguous. Returning False, but in future this will result in an error. Use `array.size > 0` to check that an array is not empty.\n",
      "  if diff:\n"
     ]
    },
    {
     "name": "stdout",
     "output_type": "stream",
     "text": [
      "SVM Score :  0.4677871148459384\n",
      "Tree Score :  0.5331465919701214\n",
      "Bayes Score :  0.3818860877684407\n",
      "KNN Score :  1.0\n",
      "XGB Score :  0.7133520074696545\n",
      "Stacking Score :  0.8814192343604108\n",
      "Voting Score :  0.945845004668534\n",
      "Bagging Score :  1.0\n",
      "RF Score :  1.0\n",
      "Adaboost Score :  0.477124183006536\n",
      "None\n",
      "\n",
      "SVM Score :  0.48695652173913045\n",
      "Tree Score :  0.47608695652173916\n",
      "Bayes Score :  0.39565217391304347\n",
      "KNN Score :  0.49130434782608695\n",
      "XGB Score :  0.5282608695652173\n",
      "Stacking Score :  0.4717391304347826\n",
      "Voting Score :  0.5108695652173914\n",
      "Bagging Score :  0.5065217391304347\n",
      "RF Score :  0.5456521739130434\n",
      "Adaboost Score :  0.45217391304347826\n",
      "None\n",
      "Report Okay !\n",
      "\n",
      "\n",
      "(1531, 4)\n",
      "(1531,)\n"
     ]
    },
    {
     "name": "stderr",
     "output_type": "stream",
     "text": [
      "C:\\Users\\zxpay\\Anaconda3\\lib\\site-packages\\sklearn\\preprocessing\\label.py:151: DeprecationWarning: The truth value of an empty array is ambiguous. Returning False, but in future this will result in an error. Use `array.size > 0` to check that an array is not empty.\n",
      "  if diff:\n",
      "C:\\Users\\zxpay\\Anaconda3\\lib\\site-packages\\sklearn\\preprocessing\\label.py:151: DeprecationWarning: The truth value of an empty array is ambiguous. Returning False, but in future this will result in an error. Use `array.size > 0` to check that an array is not empty.\n",
      "  if diff:\n",
      "C:\\Users\\zxpay\\Anaconda3\\lib\\site-packages\\sklearn\\preprocessing\\label.py:151: DeprecationWarning: The truth value of an empty array is ambiguous. Returning False, but in future this will result in an error. Use `array.size > 0` to check that an array is not empty.\n",
      "  if diff:\n",
      "C:\\Users\\zxpay\\Anaconda3\\lib\\site-packages\\sklearn\\preprocessing\\label.py:151: DeprecationWarning: The truth value of an empty array is ambiguous. Returning False, but in future this will result in an error. Use `array.size > 0` to check that an array is not empty.\n",
      "  if diff:\n",
      "C:\\Users\\zxpay\\Anaconda3\\lib\\site-packages\\sklearn\\preprocessing\\label.py:151: DeprecationWarning: The truth value of an empty array is ambiguous. Returning False, but in future this will result in an error. Use `array.size > 0` to check that an array is not empty.\n",
      "  if diff:\n",
      "C:\\Users\\zxpay\\Anaconda3\\lib\\site-packages\\sklearn\\preprocessing\\label.py:151: DeprecationWarning: The truth value of an empty array is ambiguous. Returning False, but in future this will result in an error. Use `array.size > 0` to check that an array is not empty.\n",
      "  if diff:\n",
      "C:\\Users\\zxpay\\Anaconda3\\lib\\site-packages\\sklearn\\preprocessing\\label.py:151: DeprecationWarning: The truth value of an empty array is ambiguous. Returning False, but in future this will result in an error. Use `array.size > 0` to check that an array is not empty.\n",
      "  if diff:\n",
      "C:\\Users\\zxpay\\Anaconda3\\lib\\site-packages\\sklearn\\preprocessing\\label.py:151: DeprecationWarning: The truth value of an empty array is ambiguous. Returning False, but in future this will result in an error. Use `array.size > 0` to check that an array is not empty.\n",
      "  if diff:\n",
      "C:\\Users\\zxpay\\Anaconda3\\lib\\site-packages\\sklearn\\preprocessing\\label.py:151: DeprecationWarning: The truth value of an empty array is ambiguous. Returning False, but in future this will result in an error. Use `array.size > 0` to check that an array is not empty.\n",
      "  if diff:\n",
      "C:\\Users\\zxpay\\Anaconda3\\lib\\site-packages\\sklearn\\preprocessing\\label.py:151: DeprecationWarning: The truth value of an empty array is ambiguous. Returning False, but in future this will result in an error. Use `array.size > 0` to check that an array is not empty.\n",
      "  if diff:\n",
      "C:\\Users\\zxpay\\Anaconda3\\lib\\site-packages\\sklearn\\preprocessing\\label.py:151: DeprecationWarning: The truth value of an empty array is ambiguous. Returning False, but in future this will result in an error. Use `array.size > 0` to check that an array is not empty.\n",
      "  if diff:\n"
     ]
    },
    {
     "name": "stdout",
     "output_type": "stream",
     "text": [
      "SVM Score :  0.46591970121381887\n",
      "Tree Score :  0.5676937441643324\n",
      "Bayes Score :  0.40709617180205415\n",
      "KNN Score :  1.0\n",
      "XGB Score :  0.7245564892623716\n",
      "Stacking Score :  0.9449112978524743\n",
      "Voting Score :  0.9607843137254902\n",
      "Bagging Score :  1.0\n",
      "RF Score :  1.0\n",
      "Adaboost Score :  0.4752567693744164\n",
      "None\n",
      "\n",
      "SVM Score :  0.48043478260869565\n",
      "Tree Score :  0.48478260869565215\n",
      "Bayes Score :  0.4152173913043478\n",
      "KNN Score :  0.4673913043478261\n",
      "XGB Score :  0.4891304347826087\n",
      "Stacking Score :  0.4608695652173913\n",
      "Voting Score :  0.5\n",
      "Bagging Score :  0.5\n",
      "RF Score :  0.5\n",
      "Adaboost Score :  0.4217391304347826\n",
      "None\n",
      "Report Okay !\n",
      "\n",
      "\n",
      "(1531, 4)\n",
      "(1531,)\n"
     ]
    },
    {
     "name": "stderr",
     "output_type": "stream",
     "text": [
      "C:\\Users\\zxpay\\Anaconda3\\lib\\site-packages\\sklearn\\preprocessing\\label.py:151: DeprecationWarning: The truth value of an empty array is ambiguous. Returning False, but in future this will result in an error. Use `array.size > 0` to check that an array is not empty.\n",
      "  if diff:\n",
      "C:\\Users\\zxpay\\Anaconda3\\lib\\site-packages\\sklearn\\preprocessing\\label.py:151: DeprecationWarning: The truth value of an empty array is ambiguous. Returning False, but in future this will result in an error. Use `array.size > 0` to check that an array is not empty.\n",
      "  if diff:\n",
      "C:\\Users\\zxpay\\Anaconda3\\lib\\site-packages\\sklearn\\preprocessing\\label.py:151: DeprecationWarning: The truth value of an empty array is ambiguous. Returning False, but in future this will result in an error. Use `array.size > 0` to check that an array is not empty.\n",
      "  if diff:\n",
      "C:\\Users\\zxpay\\Anaconda3\\lib\\site-packages\\sklearn\\preprocessing\\label.py:151: DeprecationWarning: The truth value of an empty array is ambiguous. Returning False, but in future this will result in an error. Use `array.size > 0` to check that an array is not empty.\n",
      "  if diff:\n",
      "C:\\Users\\zxpay\\Anaconda3\\lib\\site-packages\\sklearn\\preprocessing\\label.py:151: DeprecationWarning: The truth value of an empty array is ambiguous. Returning False, but in future this will result in an error. Use `array.size > 0` to check that an array is not empty.\n",
      "  if diff:\n",
      "C:\\Users\\zxpay\\Anaconda3\\lib\\site-packages\\sklearn\\metrics\\classification.py:1135: UndefinedMetricWarning: Precision and F-score are ill-defined and being set to 0.0 in labels with no predicted samples.\n",
      "  'precision', 'predicted', average, warn_for)\n",
      "C:\\Users\\zxpay\\Anaconda3\\lib\\site-packages\\sklearn\\preprocessing\\label.py:151: DeprecationWarning: The truth value of an empty array is ambiguous. Returning False, but in future this will result in an error. Use `array.size > 0` to check that an array is not empty.\n",
      "  if diff:\n",
      "C:\\Users\\zxpay\\Anaconda3\\lib\\site-packages\\sklearn\\preprocessing\\label.py:151: DeprecationWarning: The truth value of an empty array is ambiguous. Returning False, but in future this will result in an error. Use `array.size > 0` to check that an array is not empty.\n",
      "  if diff:\n",
      "C:\\Users\\zxpay\\Anaconda3\\lib\\site-packages\\sklearn\\preprocessing\\label.py:151: DeprecationWarning: The truth value of an empty array is ambiguous. Returning False, but in future this will result in an error. Use `array.size > 0` to check that an array is not empty.\n",
      "  if diff:\n",
      "C:\\Users\\zxpay\\Anaconda3\\lib\\site-packages\\sklearn\\preprocessing\\label.py:151: DeprecationWarning: The truth value of an empty array is ambiguous. Returning False, but in future this will result in an error. Use `array.size > 0` to check that an array is not empty.\n",
      "  if diff:\n",
      "C:\\Users\\zxpay\\Anaconda3\\lib\\site-packages\\sklearn\\preprocessing\\label.py:151: DeprecationWarning: The truth value of an empty array is ambiguous. Returning False, but in future this will result in an error. Use `array.size > 0` to check that an array is not empty.\n",
      "  if diff:\n",
      "C:\\Users\\zxpay\\Anaconda3\\lib\\site-packages\\sklearn\\preprocessing\\label.py:151: DeprecationWarning: The truth value of an empty array is ambiguous. Returning False, but in future this will result in an error. Use `array.size > 0` to check that an array is not empty.\n",
      "  if diff:\n",
      "C:\\Users\\zxpay\\Anaconda3\\lib\\site-packages\\sklearn\\preprocessing\\label.py:151: DeprecationWarning: The truth value of an empty array is ambiguous. Returning False, but in future this will result in an error. Use `array.size > 0` to check that an array is not empty.\n",
      "  if diff:\n"
     ]
    },
    {
     "name": "stdout",
     "output_type": "stream",
     "text": [
      "SVM Score :  0.4911297852474323\n",
      "Tree Score :  0.5508870214752568\n",
      "Bayes Score :  0.3968253968253968\n",
      "KNN Score :  1.0\n",
      "XGB Score :  0.7236227824463118\n",
      "Stacking Score :  0.9084967320261438\n",
      "Voting Score :  0.9019607843137255\n",
      "Bagging Score :  1.0\n",
      "RF Score :  1.0\n",
      "Adaboost Score :  0.4668534080298786\n",
      "None\n",
      "\n"
     ]
    },
    {
     "name": "stderr",
     "output_type": "stream",
     "text": [
      "C:\\Users\\zxpay\\Anaconda3\\lib\\site-packages\\sklearn\\preprocessing\\label.py:151: DeprecationWarning: The truth value of an empty array is ambiguous. Returning False, but in future this will result in an error. Use `array.size > 0` to check that an array is not empty.\n",
      "  if diff:\n",
      "C:\\Users\\zxpay\\Anaconda3\\lib\\site-packages\\sklearn\\preprocessing\\label.py:151: DeprecationWarning: The truth value of an empty array is ambiguous. Returning False, but in future this will result in an error. Use `array.size > 0` to check that an array is not empty.\n",
      "  if diff:\n",
      "C:\\Users\\zxpay\\Anaconda3\\lib\\site-packages\\sklearn\\preprocessing\\label.py:151: DeprecationWarning: The truth value of an empty array is ambiguous. Returning False, but in future this will result in an error. Use `array.size > 0` to check that an array is not empty.\n",
      "  if diff:\n",
      "C:\\Users\\zxpay\\Anaconda3\\lib\\site-packages\\sklearn\\preprocessing\\label.py:151: DeprecationWarning: The truth value of an empty array is ambiguous. Returning False, but in future this will result in an error. Use `array.size > 0` to check that an array is not empty.\n",
      "  if diff:\n",
      "C:\\Users\\zxpay\\Anaconda3\\lib\\site-packages\\sklearn\\preprocessing\\label.py:151: DeprecationWarning: The truth value of an empty array is ambiguous. Returning False, but in future this will result in an error. Use `array.size > 0` to check that an array is not empty.\n",
      "  if diff:\n",
      "C:\\Users\\zxpay\\Anaconda3\\lib\\site-packages\\sklearn\\preprocessing\\label.py:151: DeprecationWarning: The truth value of an empty array is ambiguous. Returning False, but in future this will result in an error. Use `array.size > 0` to check that an array is not empty.\n",
      "  if diff:\n",
      "C:\\Users\\zxpay\\Anaconda3\\lib\\site-packages\\sklearn\\metrics\\classification.py:1135: UndefinedMetricWarning: Precision and F-score are ill-defined and being set to 0.0 in labels with no predicted samples.\n",
      "  'precision', 'predicted', average, warn_for)\n"
     ]
    },
    {
     "name": "stdout",
     "output_type": "stream",
     "text": [
      "SVM Score :  0.43043478260869567\n",
      "Tree Score :  0.4652173913043478\n",
      "Bayes Score :  0.358695652173913\n",
      "KNN Score :  0.4717391304347826\n",
      "XGB Score :  0.47391304347826085\n",
      "Stacking Score :  0.45869565217391306\n",
      "Voting Score :  0.4652173913043478\n",
      "Bagging Score :  0.49782608695652175\n",
      "RF Score :  0.4891304347826087\n",
      "Adaboost Score :  0.43478260869565216\n",
      "None\n",
      "Report Okay !\n",
      "\n",
      "\n",
      "(1531, 4)\n",
      "(1531,)\n"
     ]
    },
    {
     "name": "stderr",
     "output_type": "stream",
     "text": [
      "C:\\Users\\zxpay\\Anaconda3\\lib\\site-packages\\sklearn\\preprocessing\\label.py:151: DeprecationWarning: The truth value of an empty array is ambiguous. Returning False, but in future this will result in an error. Use `array.size > 0` to check that an array is not empty.\n",
      "  if diff:\n",
      "C:\\Users\\zxpay\\Anaconda3\\lib\\site-packages\\sklearn\\preprocessing\\label.py:151: DeprecationWarning: The truth value of an empty array is ambiguous. Returning False, but in future this will result in an error. Use `array.size > 0` to check that an array is not empty.\n",
      "  if diff:\n",
      "C:\\Users\\zxpay\\Anaconda3\\lib\\site-packages\\sklearn\\preprocessing\\label.py:151: DeprecationWarning: The truth value of an empty array is ambiguous. Returning False, but in future this will result in an error. Use `array.size > 0` to check that an array is not empty.\n",
      "  if diff:\n",
      "C:\\Users\\zxpay\\Anaconda3\\lib\\site-packages\\sklearn\\preprocessing\\label.py:151: DeprecationWarning: The truth value of an empty array is ambiguous. Returning False, but in future this will result in an error. Use `array.size > 0` to check that an array is not empty.\n",
      "  if diff:\n",
      "C:\\Users\\zxpay\\Anaconda3\\lib\\site-packages\\sklearn\\preprocessing\\label.py:151: DeprecationWarning: The truth value of an empty array is ambiguous. Returning False, but in future this will result in an error. Use `array.size > 0` to check that an array is not empty.\n",
      "  if diff:\n",
      "C:\\Users\\zxpay\\Anaconda3\\lib\\site-packages\\sklearn\\preprocessing\\label.py:151: DeprecationWarning: The truth value of an empty array is ambiguous. Returning False, but in future this will result in an error. Use `array.size > 0` to check that an array is not empty.\n",
      "  if diff:\n",
      "C:\\Users\\zxpay\\Anaconda3\\lib\\site-packages\\sklearn\\preprocessing\\label.py:151: DeprecationWarning: The truth value of an empty array is ambiguous. Returning False, but in future this will result in an error. Use `array.size > 0` to check that an array is not empty.\n",
      "  if diff:\n"
     ]
    },
    {
     "name": "stdout",
     "output_type": "stream",
     "text": [
      "SVM Score :  0.488328664799253\n",
      "Tree Score :  0.5667600373482726\n",
      "Bayes Score :  0.3912231559290383\n",
      "KNN Score :  1.0\n",
      "XGB Score :  0.7124183006535948\n",
      "Stacking Score :  0.8291316526610645\n",
      "Voting Score :  0.938375350140056\n",
      "Bagging Score :  1.0\n",
      "RF Score :  1.0\n",
      "Adaboost Score :  0.5396825396825397\n",
      "None\n",
      "\n",
      "SVM Score :  0.4434782608695652\n",
      "Tree Score :  0.4782608695652174\n",
      "Bayes Score :  0.3630434782608696\n",
      "KNN Score :  0.48043478260869565\n",
      "XGB Score :  0.45869565217391306\n",
      "Stacking Score :  0.45\n",
      "Voting Score :  0.4956521739130435\n",
      "Bagging Score :  0.4956521739130435\n",
      "RF Score :  0.4956521739130435\n",
      "Adaboost Score :  0.40869565217391307\n",
      "None\n",
      "Report Okay !\n",
      "\n",
      "\n",
      "(1531, 4)\n",
      "(1531,)\n"
     ]
    },
    {
     "name": "stderr",
     "output_type": "stream",
     "text": [
      "C:\\Users\\zxpay\\Anaconda3\\lib\\site-packages\\sklearn\\preprocessing\\label.py:151: DeprecationWarning: The truth value of an empty array is ambiguous. Returning False, but in future this will result in an error. Use `array.size > 0` to check that an array is not empty.\n",
      "  if diff:\n",
      "C:\\Users\\zxpay\\Anaconda3\\lib\\site-packages\\sklearn\\preprocessing\\label.py:151: DeprecationWarning: The truth value of an empty array is ambiguous. Returning False, but in future this will result in an error. Use `array.size > 0` to check that an array is not empty.\n",
      "  if diff:\n",
      "C:\\Users\\zxpay\\Anaconda3\\lib\\site-packages\\sklearn\\preprocessing\\label.py:151: DeprecationWarning: The truth value of an empty array is ambiguous. Returning False, but in future this will result in an error. Use `array.size > 0` to check that an array is not empty.\n",
      "  if diff:\n",
      "C:\\Users\\zxpay\\Anaconda3\\lib\\site-packages\\sklearn\\preprocessing\\label.py:151: DeprecationWarning: The truth value of an empty array is ambiguous. Returning False, but in future this will result in an error. Use `array.size > 0` to check that an array is not empty.\n",
      "  if diff:\n",
      "C:\\Users\\zxpay\\Anaconda3\\lib\\site-packages\\sklearn\\preprocessing\\label.py:151: DeprecationWarning: The truth value of an empty array is ambiguous. Returning False, but in future this will result in an error. Use `array.size > 0` to check that an array is not empty.\n",
      "  if diff:\n",
      "C:\\Users\\zxpay\\Anaconda3\\lib\\site-packages\\sklearn\\preprocessing\\label.py:151: DeprecationWarning: The truth value of an empty array is ambiguous. Returning False, but in future this will result in an error. Use `array.size > 0` to check that an array is not empty.\n",
      "  if diff:\n",
      "C:\\Users\\zxpay\\Anaconda3\\lib\\site-packages\\sklearn\\preprocessing\\label.py:151: DeprecationWarning: The truth value of an empty array is ambiguous. Returning False, but in future this will result in an error. Use `array.size > 0` to check that an array is not empty.\n",
      "  if diff:\n",
      "C:\\Users\\zxpay\\Anaconda3\\lib\\site-packages\\sklearn\\preprocessing\\label.py:151: DeprecationWarning: The truth value of an empty array is ambiguous. Returning False, but in future this will result in an error. Use `array.size > 0` to check that an array is not empty.\n",
      "  if diff:\n",
      "C:\\Users\\zxpay\\Anaconda3\\lib\\site-packages\\sklearn\\preprocessing\\label.py:151: DeprecationWarning: The truth value of an empty array is ambiguous. Returning False, but in future this will result in an error. Use `array.size > 0` to check that an array is not empty.\n",
      "  if diff:\n",
      "C:\\Users\\zxpay\\Anaconda3\\lib\\site-packages\\sklearn\\preprocessing\\label.py:151: DeprecationWarning: The truth value of an empty array is ambiguous. Returning False, but in future this will result in an error. Use `array.size > 0` to check that an array is not empty.\n",
      "  if diff:\n",
      "C:\\Users\\zxpay\\Anaconda3\\lib\\site-packages\\sklearn\\preprocessing\\label.py:151: DeprecationWarning: The truth value of an empty array is ambiguous. Returning False, but in future this will result in an error. Use `array.size > 0` to check that an array is not empty.\n",
      "  if diff:\n",
      "C:\\Users\\zxpay\\Anaconda3\\lib\\site-packages\\sklearn\\preprocessing\\label.py:151: DeprecationWarning: The truth value of an empty array is ambiguous. Returning False, but in future this will result in an error. Use `array.size > 0` to check that an array is not empty.\n",
      "  if diff:\n",
      "C:\\Users\\zxpay\\Anaconda3\\lib\\site-packages\\sklearn\\preprocessing\\label.py:151: DeprecationWarning: The truth value of an empty array is ambiguous. Returning False, but in future this will result in an error. Use `array.size > 0` to check that an array is not empty.\n",
      "  if diff:\n",
      "C:\\Users\\zxpay\\Anaconda3\\lib\\site-packages\\sklearn\\preprocessing\\label.py:151: DeprecationWarning: The truth value of an empty array is ambiguous. Returning False, but in future this will result in an error. Use `array.size > 0` to check that an array is not empty.\n",
      "  if diff:\n",
      "C:\\Users\\zxpay\\Anaconda3\\lib\\site-packages\\sklearn\\preprocessing\\label.py:151: DeprecationWarning: The truth value of an empty array is ambiguous. Returning False, but in future this will result in an error. Use `array.size > 0` to check that an array is not empty.\n",
      "  if diff:\n",
      "C:\\Users\\zxpay\\Anaconda3\\lib\\site-packages\\sklearn\\preprocessing\\label.py:151: DeprecationWarning: The truth value of an empty array is ambiguous. Returning False, but in future this will result in an error. Use `array.size > 0` to check that an array is not empty.\n",
      "  if diff:\n"
     ]
    },
    {
     "name": "stdout",
     "output_type": "stream",
     "text": [
      "SVM Score :  0.48179271708683474\n",
      "Tree Score :  0.5639589169000934\n",
      "Bayes Score :  0.3772175536881419\n",
      "KNN Score :  1.0\n",
      "XGB Score :  0.7086834733893558\n",
      "Stacking Score :  0.896358543417367\n",
      "Voting Score :  0.9374416433239963\n",
      "Bagging Score :  1.0\n",
      "RF Score :  1.0\n",
      "Adaboost Score :  0.5490196078431373\n",
      "None\n",
      "\n"
     ]
    },
    {
     "name": "stderr",
     "output_type": "stream",
     "text": [
      "C:\\Users\\zxpay\\Anaconda3\\lib\\site-packages\\sklearn\\preprocessing\\label.py:151: DeprecationWarning: The truth value of an empty array is ambiguous. Returning False, but in future this will result in an error. Use `array.size > 0` to check that an array is not empty.\n",
      "  if diff:\n",
      "C:\\Users\\zxpay\\Anaconda3\\lib\\site-packages\\sklearn\\preprocessing\\label.py:151: DeprecationWarning: The truth value of an empty array is ambiguous. Returning False, but in future this will result in an error. Use `array.size > 0` to check that an array is not empty.\n",
      "  if diff:\n",
      "C:\\Users\\zxpay\\Anaconda3\\lib\\site-packages\\sklearn\\preprocessing\\label.py:151: DeprecationWarning: The truth value of an empty array is ambiguous. Returning False, but in future this will result in an error. Use `array.size > 0` to check that an array is not empty.\n",
      "  if diff:\n",
      "C:\\Users\\zxpay\\Anaconda3\\lib\\site-packages\\sklearn\\metrics\\classification.py:1135: UndefinedMetricWarning: Precision and F-score are ill-defined and being set to 0.0 in labels with no predicted samples.\n",
      "  'precision', 'predicted', average, warn_for)\n"
     ]
    },
    {
     "name": "stdout",
     "output_type": "stream",
     "text": [
      "SVM Score :  0.4956521739130435\n",
      "Tree Score :  0.5108695652173914\n",
      "Bayes Score :  0.3804347826086957\n",
      "KNN Score :  0.5\n",
      "XGB Score :  0.5456521739130434\n",
      "Stacking Score :  0.4891304347826087\n",
      "Voting Score :  0.5391304347826087\n",
      "Bagging Score :  0.5543478260869565\n",
      "RF Score :  0.5543478260869565\n",
      "Adaboost Score :  0.48695652173913045\n",
      "None\n",
      "Report Okay !\n",
      "\n",
      "\n",
      "(1531, 4)\n",
      "(1531,)\n"
     ]
    },
    {
     "name": "stderr",
     "output_type": "stream",
     "text": [
      "C:\\Users\\zxpay\\Anaconda3\\lib\\site-packages\\sklearn\\preprocessing\\label.py:151: DeprecationWarning: The truth value of an empty array is ambiguous. Returning False, but in future this will result in an error. Use `array.size > 0` to check that an array is not empty.\n",
      "  if diff:\n",
      "C:\\Users\\zxpay\\Anaconda3\\lib\\site-packages\\sklearn\\preprocessing\\label.py:151: DeprecationWarning: The truth value of an empty array is ambiguous. Returning False, but in future this will result in an error. Use `array.size > 0` to check that an array is not empty.\n",
      "  if diff:\n",
      "C:\\Users\\zxpay\\Anaconda3\\lib\\site-packages\\sklearn\\preprocessing\\label.py:151: DeprecationWarning: The truth value of an empty array is ambiguous. Returning False, but in future this will result in an error. Use `array.size > 0` to check that an array is not empty.\n",
      "  if diff:\n",
      "C:\\Users\\zxpay\\Anaconda3\\lib\\site-packages\\sklearn\\preprocessing\\label.py:151: DeprecationWarning: The truth value of an empty array is ambiguous. Returning False, but in future this will result in an error. Use `array.size > 0` to check that an array is not empty.\n",
      "  if diff:\n",
      "C:\\Users\\zxpay\\Anaconda3\\lib\\site-packages\\sklearn\\preprocessing\\label.py:151: DeprecationWarning: The truth value of an empty array is ambiguous. Returning False, but in future this will result in an error. Use `array.size > 0` to check that an array is not empty.\n",
      "  if diff:\n",
      "C:\\Users\\zxpay\\Anaconda3\\lib\\site-packages\\sklearn\\preprocessing\\label.py:151: DeprecationWarning: The truth value of an empty array is ambiguous. Returning False, but in future this will result in an error. Use `array.size > 0` to check that an array is not empty.\n",
      "  if diff:\n",
      "C:\\Users\\zxpay\\Anaconda3\\lib\\site-packages\\sklearn\\preprocessing\\label.py:151: DeprecationWarning: The truth value of an empty array is ambiguous. Returning False, but in future this will result in an error. Use `array.size > 0` to check that an array is not empty.\n",
      "  if diff:\n",
      "C:\\Users\\zxpay\\Anaconda3\\lib\\site-packages\\sklearn\\preprocessing\\label.py:151: DeprecationWarning: The truth value of an empty array is ambiguous. Returning False, but in future this will result in an error. Use `array.size > 0` to check that an array is not empty.\n",
      "  if diff:\n",
      "C:\\Users\\zxpay\\Anaconda3\\lib\\site-packages\\sklearn\\preprocessing\\label.py:151: DeprecationWarning: The truth value of an empty array is ambiguous. Returning False, but in future this will result in an error. Use `array.size > 0` to check that an array is not empty.\n",
      "  if diff:\n",
      "C:\\Users\\zxpay\\Anaconda3\\lib\\site-packages\\sklearn\\preprocessing\\label.py:151: DeprecationWarning: The truth value of an empty array is ambiguous. Returning False, but in future this will result in an error. Use `array.size > 0` to check that an array is not empty.\n",
      "  if diff:\n"
     ]
    },
    {
     "name": "stdout",
     "output_type": "stream",
     "text": [
      "SVM Score :  0.4939309056956116\n",
      "Tree Score :  0.5527544351073763\n",
      "Bayes Score :  0.4024276377217554\n",
      "KNN Score :  1.0\n",
      "XGB Score :  0.704014939309057\n",
      "Stacking Score :  0.8972922502334267\n",
      "Voting Score :  0.9150326797385621\n",
      "Bagging Score :  1.0\n",
      "RF Score :  1.0\n",
      "Adaboost Score :  0.5154061624649859\n",
      "None\n",
      "\n"
     ]
    },
    {
     "name": "stderr",
     "output_type": "stream",
     "text": [
      "C:\\Users\\zxpay\\Anaconda3\\lib\\site-packages\\sklearn\\preprocessing\\label.py:151: DeprecationWarning: The truth value of an empty array is ambiguous. Returning False, but in future this will result in an error. Use `array.size > 0` to check that an array is not empty.\n",
      "  if diff:\n",
      "C:\\Users\\zxpay\\Anaconda3\\lib\\site-packages\\sklearn\\preprocessing\\label.py:151: DeprecationWarning: The truth value of an empty array is ambiguous. Returning False, but in future this will result in an error. Use `array.size > 0` to check that an array is not empty.\n",
      "  if diff:\n",
      "C:\\Users\\zxpay\\Anaconda3\\lib\\site-packages\\sklearn\\preprocessing\\label.py:151: DeprecationWarning: The truth value of an empty array is ambiguous. Returning False, but in future this will result in an error. Use `array.size > 0` to check that an array is not empty.\n",
      "  if diff:\n"
     ]
    },
    {
     "name": "stdout",
     "output_type": "stream",
     "text": [
      "SVM Score :  0.45652173913043476\n",
      "Tree Score :  0.4891304347826087\n",
      "Bayes Score :  0.36086956521739133\n",
      "KNN Score :  0.4891304347826087\n",
      "XGB Score :  0.5239130434782608\n",
      "Stacking Score :  0.4608695652173913\n",
      "Voting Score :  0.5152173913043478\n",
      "Bagging Score :  0.5391304347826087\n",
      "RF Score :  0.5260869565217391\n",
      "Adaboost Score :  0.4369565217391304\n",
      "None\n",
      "Report Okay !\n",
      "\n",
      "\n",
      "(1531, 4)\n",
      "(1531,)\n"
     ]
    },
    {
     "name": "stderr",
     "output_type": "stream",
     "text": [
      "C:\\Users\\zxpay\\Anaconda3\\lib\\site-packages\\sklearn\\preprocessing\\label.py:151: DeprecationWarning: The truth value of an empty array is ambiguous. Returning False, but in future this will result in an error. Use `array.size > 0` to check that an array is not empty.\n",
      "  if diff:\n",
      "C:\\Users\\zxpay\\Anaconda3\\lib\\site-packages\\sklearn\\preprocessing\\label.py:151: DeprecationWarning: The truth value of an empty array is ambiguous. Returning False, but in future this will result in an error. Use `array.size > 0` to check that an array is not empty.\n",
      "  if diff:\n",
      "C:\\Users\\zxpay\\Anaconda3\\lib\\site-packages\\sklearn\\preprocessing\\label.py:151: DeprecationWarning: The truth value of an empty array is ambiguous. Returning False, but in future this will result in an error. Use `array.size > 0` to check that an array is not empty.\n",
      "  if diff:\n",
      "C:\\Users\\zxpay\\Anaconda3\\lib\\site-packages\\sklearn\\preprocessing\\label.py:151: DeprecationWarning: The truth value of an empty array is ambiguous. Returning False, but in future this will result in an error. Use `array.size > 0` to check that an array is not empty.\n",
      "  if diff:\n",
      "C:\\Users\\zxpay\\Anaconda3\\lib\\site-packages\\sklearn\\preprocessing\\label.py:151: DeprecationWarning: The truth value of an empty array is ambiguous. Returning False, but in future this will result in an error. Use `array.size > 0` to check that an array is not empty.\n",
      "  if diff:\n",
      "C:\\Users\\zxpay\\Anaconda3\\lib\\site-packages\\sklearn\\preprocessing\\label.py:151: DeprecationWarning: The truth value of an empty array is ambiguous. Returning False, but in future this will result in an error. Use `array.size > 0` to check that an array is not empty.\n",
      "  if diff:\n",
      "C:\\Users\\zxpay\\Anaconda3\\lib\\site-packages\\sklearn\\preprocessing\\label.py:151: DeprecationWarning: The truth value of an empty array is ambiguous. Returning False, but in future this will result in an error. Use `array.size > 0` to check that an array is not empty.\n",
      "  if diff:\n",
      "C:\\Users\\zxpay\\Anaconda3\\lib\\site-packages\\sklearn\\preprocessing\\label.py:151: DeprecationWarning: The truth value of an empty array is ambiguous. Returning False, but in future this will result in an error. Use `array.size > 0` to check that an array is not empty.\n",
      "  if diff:\n",
      "C:\\Users\\zxpay\\Anaconda3\\lib\\site-packages\\sklearn\\preprocessing\\label.py:151: DeprecationWarning: The truth value of an empty array is ambiguous. Returning False, but in future this will result in an error. Use `array.size > 0` to check that an array is not empty.\n",
      "  if diff:\n",
      "C:\\Users\\zxpay\\Anaconda3\\lib\\site-packages\\sklearn\\preprocessing\\label.py:151: DeprecationWarning: The truth value of an empty array is ambiguous. Returning False, but in future this will result in an error. Use `array.size > 0` to check that an array is not empty.\n",
      "  if diff:\n"
     ]
    },
    {
     "name": "stdout",
     "output_type": "stream",
     "text": [
      "SVM Score :  0.46591970121381887\n",
      "Tree Score :  0.5602240896358543\n",
      "Bayes Score :  0.3753501400560224\n",
      "KNN Score :  1.0\n",
      "XGB Score :  0.7133520074696545\n",
      "Stacking Score :  0.911297852474323\n",
      "Voting Score :  0.945845004668534\n",
      "Bagging Score :  1.0\n",
      "RF Score :  1.0\n",
      "Adaboost Score :  0.5210084033613446\n",
      "None\n",
      "\n",
      "SVM Score :  0.46956521739130436\n",
      "Tree Score :  0.4717391304347826\n",
      "Bayes Score :  0.3826086956521739\n",
      "KNN Score :  0.4434782608695652\n",
      "XGB Score :  0.48695652173913045\n",
      "Stacking Score :  0.4260869565217391\n",
      "Voting Score :  0.48695652173913045\n",
      "Bagging Score :  0.4652173913043478\n",
      "RF Score :  0.46956521739130436\n",
      "Adaboost Score :  0.4826086956521739\n",
      "None\n",
      "Report Okay !\n",
      "\n",
      "\n",
      "(1531, 4)\n",
      "(1531,)\n"
     ]
    },
    {
     "name": "stderr",
     "output_type": "stream",
     "text": [
      "C:\\Users\\zxpay\\Anaconda3\\lib\\site-packages\\sklearn\\preprocessing\\label.py:151: DeprecationWarning: The truth value of an empty array is ambiguous. Returning False, but in future this will result in an error. Use `array.size > 0` to check that an array is not empty.\n",
      "  if diff:\n",
      "C:\\Users\\zxpay\\Anaconda3\\lib\\site-packages\\sklearn\\preprocessing\\label.py:151: DeprecationWarning: The truth value of an empty array is ambiguous. Returning False, but in future this will result in an error. Use `array.size > 0` to check that an array is not empty.\n",
      "  if diff:\n",
      "C:\\Users\\zxpay\\Anaconda3\\lib\\site-packages\\sklearn\\preprocessing\\label.py:151: DeprecationWarning: The truth value of an empty array is ambiguous. Returning False, but in future this will result in an error. Use `array.size > 0` to check that an array is not empty.\n",
      "  if diff:\n",
      "C:\\Users\\zxpay\\Anaconda3\\lib\\site-packages\\sklearn\\metrics\\classification.py:1135: UndefinedMetricWarning: Precision and F-score are ill-defined and being set to 0.0 in labels with no predicted samples.\n",
      "  'precision', 'predicted', average, warn_for)\n",
      "C:\\Users\\zxpay\\Anaconda3\\lib\\site-packages\\sklearn\\preprocessing\\label.py:151: DeprecationWarning: The truth value of an empty array is ambiguous. Returning False, but in future this will result in an error. Use `array.size > 0` to check that an array is not empty.\n",
      "  if diff:\n",
      "C:\\Users\\zxpay\\Anaconda3\\lib\\site-packages\\sklearn\\preprocessing\\label.py:151: DeprecationWarning: The truth value of an empty array is ambiguous. Returning False, but in future this will result in an error. Use `array.size > 0` to check that an array is not empty.\n",
      "  if diff:\n",
      "C:\\Users\\zxpay\\Anaconda3\\lib\\site-packages\\sklearn\\preprocessing\\label.py:151: DeprecationWarning: The truth value of an empty array is ambiguous. Returning False, but in future this will result in an error. Use `array.size > 0` to check that an array is not empty.\n",
      "  if diff:\n",
      "C:\\Users\\zxpay\\Anaconda3\\lib\\site-packages\\sklearn\\preprocessing\\label.py:151: DeprecationWarning: The truth value of an empty array is ambiguous. Returning False, but in future this will result in an error. Use `array.size > 0` to check that an array is not empty.\n",
      "  if diff:\n",
      "C:\\Users\\zxpay\\Anaconda3\\lib\\site-packages\\sklearn\\preprocessing\\label.py:151: DeprecationWarning: The truth value of an empty array is ambiguous. Returning False, but in future this will result in an error. Use `array.size > 0` to check that an array is not empty.\n",
      "  if diff:\n",
      "C:\\Users\\zxpay\\Anaconda3\\lib\\site-packages\\sklearn\\preprocessing\\label.py:151: DeprecationWarning: The truth value of an empty array is ambiguous. Returning False, but in future this will result in an error. Use `array.size > 0` to check that an array is not empty.\n",
      "  if diff:\n",
      "C:\\Users\\zxpay\\Anaconda3\\lib\\site-packages\\sklearn\\preprocessing\\label.py:151: DeprecationWarning: The truth value of an empty array is ambiguous. Returning False, but in future this will result in an error. Use `array.size > 0` to check that an array is not empty.\n",
      "  if diff:\n",
      "C:\\Users\\zxpay\\Anaconda3\\lib\\site-packages\\sklearn\\preprocessing\\label.py:151: DeprecationWarning: The truth value of an empty array is ambiguous. Returning False, but in future this will result in an error. Use `array.size > 0` to check that an array is not empty.\n",
      "  if diff:\n",
      "C:\\Users\\zxpay\\Anaconda3\\lib\\site-packages\\sklearn\\preprocessing\\label.py:151: DeprecationWarning: The truth value of an empty array is ambiguous. Returning False, but in future this will result in an error. Use `array.size > 0` to check that an array is not empty.\n",
      "  if diff:\n",
      "C:\\Users\\zxpay\\Anaconda3\\lib\\site-packages\\sklearn\\preprocessing\\label.py:151: DeprecationWarning: The truth value of an empty array is ambiguous. Returning False, but in future this will result in an error. Use `array.size > 0` to check that an array is not empty.\n",
      "  if diff:\n"
     ]
    },
    {
     "name": "stdout",
     "output_type": "stream",
     "text": [
      "SVM Score :  0.48552754435107376\n",
      "Tree Score :  0.5546218487394958\n",
      "Bayes Score :  0.37254901960784315\n",
      "KNN Score :  1.0\n",
      "XGB Score :  0.715219421101774\n",
      "Stacking Score :  0.9234360410831\n",
      "Voting Score :  0.9393090569561158\n",
      "Bagging Score :  1.0\n",
      "RF Score :  1.0\n",
      "Adaboost Score :  0.5294117647058824\n",
      "None\n",
      "\n",
      "SVM Score : "
     ]
    },
    {
     "name": "stderr",
     "output_type": "stream",
     "text": [
      "C:\\Users\\zxpay\\Anaconda3\\lib\\site-packages\\sklearn\\preprocessing\\label.py:151: DeprecationWarning: The truth value of an empty array is ambiguous. Returning False, but in future this will result in an error. Use `array.size > 0` to check that an array is not empty.\n",
      "  if diff:\n",
      "C:\\Users\\zxpay\\Anaconda3\\lib\\site-packages\\sklearn\\preprocessing\\label.py:151: DeprecationWarning: The truth value of an empty array is ambiguous. Returning False, but in future this will result in an error. Use `array.size > 0` to check that an array is not empty.\n",
      "  if diff:\n",
      "C:\\Users\\zxpay\\Anaconda3\\lib\\site-packages\\sklearn\\preprocessing\\label.py:151: DeprecationWarning: The truth value of an empty array is ambiguous. Returning False, but in future this will result in an error. Use `array.size > 0` to check that an array is not empty.\n",
      "  if diff:\n"
     ]
    },
    {
     "name": "stdout",
     "output_type": "stream",
     "text": [
      " 0.4434782608695652\n",
      "Tree Score :  0.46956521739130436\n",
      "Bayes Score :  0.3630434782608696\n",
      "KNN Score :  0.47608695652173916\n",
      "XGB Score :  0.4956521739130435\n",
      "Stacking Score :  0.44782608695652176\n",
      "Voting Score :  0.49782608695652175\n",
      "Bagging Score :  0.49130434782608695\n",
      "RF Score :  0.5043478260869565\n",
      "Adaboost Score :  0.4434782608695652\n",
      "None\n",
      "Report Okay !\n",
      "\n",
      "\n",
      "(1531, 4)\n",
      "(1531,)\n"
     ]
    },
    {
     "name": "stderr",
     "output_type": "stream",
     "text": [
      "C:\\Users\\zxpay\\Anaconda3\\lib\\site-packages\\sklearn\\preprocessing\\label.py:151: DeprecationWarning: The truth value of an empty array is ambiguous. Returning False, but in future this will result in an error. Use `array.size > 0` to check that an array is not empty.\n",
      "  if diff:\n",
      "C:\\Users\\zxpay\\Anaconda3\\lib\\site-packages\\sklearn\\preprocessing\\label.py:151: DeprecationWarning: The truth value of an empty array is ambiguous. Returning False, but in future this will result in an error. Use `array.size > 0` to check that an array is not empty.\n",
      "  if diff:\n",
      "C:\\Users\\zxpay\\Anaconda3\\lib\\site-packages\\sklearn\\preprocessing\\label.py:151: DeprecationWarning: The truth value of an empty array is ambiguous. Returning False, but in future this will result in an error. Use `array.size > 0` to check that an array is not empty.\n",
      "  if diff:\n",
      "C:\\Users\\zxpay\\Anaconda3\\lib\\site-packages\\sklearn\\preprocessing\\label.py:151: DeprecationWarning: The truth value of an empty array is ambiguous. Returning False, but in future this will result in an error. Use `array.size > 0` to check that an array is not empty.\n",
      "  if diff:\n",
      "C:\\Users\\zxpay\\Anaconda3\\lib\\site-packages\\sklearn\\preprocessing\\label.py:151: DeprecationWarning: The truth value of an empty array is ambiguous. Returning False, but in future this will result in an error. Use `array.size > 0` to check that an array is not empty.\n",
      "  if diff:\n",
      "C:\\Users\\zxpay\\Anaconda3\\lib\\site-packages\\sklearn\\preprocessing\\label.py:151: DeprecationWarning: The truth value of an empty array is ambiguous. Returning False, but in future this will result in an error. Use `array.size > 0` to check that an array is not empty.\n",
      "  if diff:\n",
      "C:\\Users\\zxpay\\Anaconda3\\lib\\site-packages\\sklearn\\preprocessing\\label.py:151: DeprecationWarning: The truth value of an empty array is ambiguous. Returning False, but in future this will result in an error. Use `array.size > 0` to check that an array is not empty.\n",
      "  if diff:\n"
     ]
    },
    {
     "name": "stdout",
     "output_type": "stream",
     "text": [
      "SVM Score :  0.480859010270775\n",
      "Tree Score :  0.5415499533146592\n",
      "Bayes Score :  0.39775910364145656\n",
      "KNN Score :  1.0\n",
      "XGB Score :  0.7068160597572363\n",
      "Stacking Score :  0.9337068160597572\n",
      "Voting Score :  0.9393090569561158\n",
      "Bagging Score :  1.0\n",
      "RF Score :  1.0\n",
      "Adaboost Score :  0.5322128851540616\n",
      "None\n",
      "\n",
      "SVM Score :  0.508695652173913\n",
      "Tree Score :  0.4717391304347826\n",
      "Bayes Score :  0.3760869565217391\n",
      "KNN Score :  0.49782608695652175\n",
      "XGB Score :  0.5108695652173914\n",
      "Stacking Score :  0.48695652173913045\n",
      "Voting Score :  0.5195652173913043\n",
      "Bagging Score :  0.49782608695652175\n",
      "RF Score :  0.5130434782608696\n",
      "Adaboost Score :  0.4652173913043478\n",
      "None\n",
      "Report Okay !\n",
      "\n",
      "\n"
     ]
    },
    {
     "name": "stderr",
     "output_type": "stream",
     "text": [
      "C:\\Users\\zxpay\\Anaconda3\\lib\\site-packages\\sklearn\\preprocessing\\label.py:151: DeprecationWarning: The truth value of an empty array is ambiguous. Returning False, but in future this will result in an error. Use `array.size > 0` to check that an array is not empty.\n",
      "  if diff:\n",
      "C:\\Users\\zxpay\\Anaconda3\\lib\\site-packages\\sklearn\\preprocessing\\label.py:151: DeprecationWarning: The truth value of an empty array is ambiguous. Returning False, but in future this will result in an error. Use `array.size > 0` to check that an array is not empty.\n",
      "  if diff:\n",
      "C:\\Users\\zxpay\\Anaconda3\\lib\\site-packages\\sklearn\\preprocessing\\label.py:151: DeprecationWarning: The truth value of an empty array is ambiguous. Returning False, but in future this will result in an error. Use `array.size > 0` to check that an array is not empty.\n",
      "  if diff:\n",
      "C:\\Users\\zxpay\\Anaconda3\\lib\\site-packages\\sklearn\\preprocessing\\label.py:151: DeprecationWarning: The truth value of an empty array is ambiguous. Returning False, but in future this will result in an error. Use `array.size > 0` to check that an array is not empty.\n",
      "  if diff:\n",
      "C:\\Users\\zxpay\\Anaconda3\\lib\\site-packages\\sklearn\\preprocessing\\label.py:151: DeprecationWarning: The truth value of an empty array is ambiguous. Returning False, but in future this will result in an error. Use `array.size > 0` to check that an array is not empty.\n",
      "  if diff:\n",
      "C:\\Users\\zxpay\\Anaconda3\\lib\\site-packages\\sklearn\\preprocessing\\label.py:151: DeprecationWarning: The truth value of an empty array is ambiguous. Returning False, but in future this will result in an error. Use `array.size > 0` to check that an array is not empty.\n",
      "  if diff:\n"
     ]
    }
   ],
   "source": [
    "os.chdir('C:\\\\Users\\\\zxpay\\\\Desktop\\\\BME_Senior\\\\EEG_CLF\\\\Emotion\\\\Code')\n",
    "for n in range(len(my_df)):\n",
    "    n=9\n",
    "    Testing_df = my_df[n]\n",
    "    data = np.zeros([Testing_df.shape[0], 4])\n",
    "    for i in range(4):\n",
    "        data[:, i] = np.array(Testing_df[Features[i]], dtype=np.float32)\n",
    "    label = np.array(Testing_df['label'], dtype=np.float32)\n",
    "    if CalculateZeros(data) != 0:\n",
    "        print('Warning !!!')\n",
    "\n",
    "    pos = np.where((label==0) | (label==2))\n",
    "    \n",
    "    zero_pos = np.where(label==0)\n",
    "    zero_choose = np.random.randint(500,20000,size=400)\n",
    "    zero_choose = zero_pos[0][zero_choose]\n",
    "    data_normal = data[zero_choose]\n",
    "    label_normal = label[zero_choose]\n",
    "    \n",
    "    pos_happy = np.where(label==2)\n",
    "    one_choose = np.random.randint(20,1020,size=400)\n",
    "    one_choose = pos_happy[0][one_choose]\n",
    "    data_happy = data[one_choose]\n",
    "    label_happy = label[one_choose]\n",
    "\n",
    "    data_del = np.delete(data, pos, axis=0)\n",
    "    label_del = np.delete(label, pos)\n",
    "\n",
    "    data_all = np.vstack((data_normal, data_del))\n",
    "    label_all = np.hstack((label_normal, label_del))\n",
    "    data_all = np.vstack((data_happy, data_all))\n",
    "    label_all = np.hstack((label_happy, label_all))\n",
    "\n",
    "    print(data_all.shape)\n",
    "    print(label_all.shape)\n",
    "\n",
    "\n",
    "    clf = Danny_ML_CLF()\n",
    "    train_X, test_X, train_y, test_y = clf.Split_data(data_all, label_all, test_size=0.3, Standard=True)\n",
    "    clf.Fit_value(train_X, train_y)\n",
    "    clf.Train()\n",
    "    clf.Report(train_X, train_y, [0,2,3,4], show_cm=False)\n",
    "    clf.Report2txt('Train' + str(n+1) + '.txt')\n",
    "    print(clf.Score())\n",
    "    print()\n",
    "    clf.Report(test_X, test_y, [0,2,3,4], show_cm=False)\n",
    "    clf.Report2txt('Test' + str(n+1) + '.txt')\n",
    "    print(clf.Score())\n",
    "    print('Report Okay !\\n\\n')"
   ]
  },
  {
   "cell_type": "code",
   "execution_count": 9,
   "metadata": {
    "scrolled": true
   },
   "outputs": [
    {
     "data": {
      "text/plain": [
       "0.5130434782608696"
      ]
     },
     "execution_count": 9,
     "metadata": {},
     "output_type": "execute_result"
    }
   ],
   "source": [
    "np.sum(clf.RF_prediction(test_X)==test_y)/test_y.shape[0]"
   ]
  },
  {
   "cell_type": "code",
   "execution_count": 10,
   "metadata": {},
   "outputs": [
    {
     "name": "stdout",
     "output_type": "stream",
     "text": [
      "400\n",
      "400\n",
      "351\n",
      "380\n"
     ]
    }
   ],
   "source": [
    "print(np.sum(label_all==0))\n",
    "print(np.sum(label_all==2))\n",
    "print(np.sum(label_all==3))\n",
    "print(np.sum(label_all==4))"
   ]
  },
  {
   "cell_type": "code",
   "execution_count": 11,
   "metadata": {},
   "outputs": [
    {
     "data": {
      "text/plain": [
       "array([4., 4., 3., 0., 3., 3., 2., 3., 2., 2., 2., 4., 3., 4., 3., 3., 2.,\n",
       "       3., 4., 0., 3., 0., 4., 3., 0., 3., 3., 4., 4., 4., 3., 2., 2., 3.,\n",
       "       2., 3., 3., 2., 3., 3., 0., 2., 2., 2., 2., 2., 2., 4., 3., 4., 0.,\n",
       "       2., 3., 3., 4., 0., 4., 0., 4., 3., 4., 0., 4., 4., 4., 4., 0., 2.,\n",
       "       3., 0., 2., 2., 4., 3., 4., 4., 4., 4., 3., 4., 0., 4., 2., 3., 0.,\n",
       "       3., 2., 2., 0., 0., 4., 3., 2., 2., 3., 3., 3., 4., 4., 4., 4., 0.,\n",
       "       0., 4., 4., 2., 0., 0., 0., 4., 0., 2., 3., 3., 2., 3., 4., 2., 4.,\n",
       "       4., 3., 4., 2., 2., 3., 0., 4., 0., 0., 2., 3., 3., 3., 2., 3., 2.,\n",
       "       2., 4., 3., 0., 2., 2., 0., 2., 2., 3., 0., 0., 4., 3., 2., 2., 3.,\n",
       "       4., 3., 2., 2., 3., 4., 4., 2., 4., 3., 4., 4., 4., 3., 0., 2., 0.,\n",
       "       4., 0., 2., 4., 4., 3., 0., 2., 3., 0., 2., 2., 3., 2., 3., 0., 0.,\n",
       "       2., 0., 4., 4., 4., 4., 2., 4., 4., 0., 4., 4., 2., 2., 3., 0., 2.,\n",
       "       2., 2., 4., 2., 2., 4., 4., 0., 2., 2., 0., 4., 0., 2., 4., 4., 3.,\n",
       "       4., 4., 3., 3., 0., 2., 0., 4., 2., 0., 2., 2., 2., 0., 4., 4., 2.,\n",
       "       0., 2., 4., 4., 4., 2., 0., 4., 4., 0., 0., 4., 0., 2., 4., 4., 2.,\n",
       "       4., 2., 0., 0., 3., 0., 2., 4., 0., 0., 0., 4., 0., 3., 3., 4., 2.,\n",
       "       2., 0., 4., 2., 0., 3., 4., 4., 3., 0., 0., 4., 3., 4., 3., 0., 0.,\n",
       "       0., 2., 3., 2., 2., 4., 0., 0., 0., 0., 4., 2., 4., 0., 4., 3., 2.,\n",
       "       3., 2., 0., 2., 3., 4., 0., 3., 0., 2., 2., 2., 3., 4., 0., 2., 2.,\n",
       "       4., 4., 4., 3., 2., 4., 0., 3., 4., 0., 2., 3., 2., 4., 4., 2., 0.,\n",
       "       4., 3., 3., 4., 4., 4., 2., 4., 0., 3., 2., 0., 4., 3., 2., 4., 3.,\n",
       "       2., 2., 2., 4., 2., 2., 2., 3., 2., 2., 2., 3., 0., 4., 4., 3., 2.,\n",
       "       3., 2., 3., 2., 4., 4., 4., 4., 4., 0., 4., 2., 0., 3., 0., 2., 2.,\n",
       "       4., 4., 2., 4., 3., 2., 2., 4., 2., 2., 0., 2., 3., 4., 2., 4., 2.,\n",
       "       2., 3., 4., 2., 3., 3., 3., 4., 4., 4., 0., 4., 4., 4., 4., 2., 2.,\n",
       "       2., 3., 3., 0., 2., 0., 4., 2., 3., 3., 2., 0., 2., 3., 3., 3., 2.,\n",
       "       3., 4., 2., 3., 0., 4., 2., 0., 0., 2., 3., 4., 3., 0., 0., 2., 4.,\n",
       "       0.], dtype=float32)"
      ]
     },
     "execution_count": 11,
     "metadata": {},
     "output_type": "execute_result"
    }
   ],
   "source": [
    "clf.RF_prediction(test_X)"
   ]
  },
  {
   "cell_type": "code",
   "execution_count": 12,
   "metadata": {},
   "outputs": [
    {
     "data": {
      "text/plain": [
       "DecisionTreeClassifier(class_weight=None, criterion='gini', max_depth=3,\n",
       "            max_features=None, max_leaf_nodes=None,\n",
       "            min_impurity_decrease=0.0, min_impurity_split=None,\n",
       "            min_samples_leaf=1, min_samples_split=2,\n",
       "            min_weight_fraction_leaf=0.0, presort=False, random_state=None,\n",
       "            splitter='best')"
      ]
     },
     "execution_count": 12,
     "metadata": {},
     "output_type": "execute_result"
    }
   ],
   "source": [
    "from sklearn.tree import DecisionTreeClassifier\n",
    "label_name = []\n",
    "for x in train_y:\n",
    "    if x == 0:\n",
    "        label_name.append('normal')\n",
    "    elif x == 2:\n",
    "        label_name.append('happy')\n",
    "    elif x == 3:\n",
    "        label_name.append('scare')\n",
    "    elif x == 4:\n",
    "        label_name.append('touch')\n",
    "    else:\n",
    "        print(x)\n",
    "label_name_test = []\n",
    "for x in test_y:\n",
    "    if x == 0:\n",
    "        label_name_test.append('normal')\n",
    "    elif x == 2:\n",
    "        label_name_test.append('happy')\n",
    "    elif x == 3:\n",
    "        label_name_test.append('scare')\n",
    "    elif x == 4:\n",
    "        label_name_test.append('touch')\n",
    "    else:\n",
    "        print(x)\n",
    "tree = DecisionTreeClassifier(criterion='gini',max_depth=3)\n",
    "tree.fit(train_X, label_name)"
   ]
  },
  {
   "cell_type": "code",
   "execution_count": 13,
   "metadata": {
    "collapsed": true,
    "scrolled": true
   },
   "outputs": [],
   "source": [
    "from sklearn.tree import export_graphviz\n",
    "export_graphviz(tree, out_file=\"tree.dot\", feature_names=['alpha', 'heig_beta', 'low_beta','theta'],\\\n",
    "                class_names=['normal','happy','scare', 'touch'])\n"
   ]
  },
  {
   "cell_type": "code",
   "execution_count": 14,
   "metadata": {
    "collapsed": true
   },
   "outputs": [],
   "source": [
    "!dot -Tpng tree.dot -o tree.png"
   ]
  },
  {
   "cell_type": "code",
   "execution_count": 15,
   "metadata": {},
   "outputs": [
    {
     "data": {
      "text/plain": [
       "array(['scare', 'normal', 'scare', 'normal', 'scare', 'normal', 'happy',\n",
       "       'scare', 'happy', 'happy', 'happy', 'touch', 'normal', 'scare',\n",
       "       'scare', 'scare', 'happy', 'scare', 'touch', 'scare', 'scare',\n",
       "       'normal', 'normal', 'scare', 'scare', 'touch', 'scare', 'normal',\n",
       "       'touch', 'normal', 'normal', 'happy', 'happy', 'touch', 'scare',\n",
       "       'scare', 'scare', 'happy', 'scare', 'scare', 'normal', 'happy',\n",
       "       'happy', 'scare', 'happy', 'happy', 'happy', 'scare', 'touch',\n",
       "       'touch', 'normal', 'happy', 'normal', 'normal', 'touch', 'touch',\n",
       "       'touch', 'scare', 'normal', 'normal', 'normal', 'normal', 'normal',\n",
       "       'normal', 'touch', 'touch', 'touch', 'scare', 'touch', 'normal',\n",
       "       'happy', 'happy', 'normal', 'normal', 'touch', 'scare', 'scare',\n",
       "       'touch', 'normal', 'normal', 'normal', 'normal', 'happy', 'normal',\n",
       "       'normal', 'normal', 'happy', 'happy', 'normal', 'normal', 'normal',\n",
       "       'scare', 'happy', 'scare', 'normal', 'scare', 'normal', 'scare',\n",
       "       'touch', 'normal', 'scare', 'normal', 'normal', 'touch', 'normal',\n",
       "       'happy', 'scare', 'normal', 'scare', 'normal', 'normal', 'scare',\n",
       "       'normal', 'touch', 'happy', 'normal', 'scare', 'happy', 'touch',\n",
       "       'normal', 'normal', 'normal', 'happy', 'scare', 'scare', 'normal',\n",
       "       'normal', 'normal', 'touch', 'happy', 'normal', 'normal', 'normal',\n",
       "       'happy', 'scare', 'scare', 'normal', 'touch', 'scare', 'normal',\n",
       "       'happy', 'touch', 'normal', 'happy', 'happy', 'normal', 'normal',\n",
       "       'scare', 'touch', 'normal', 'happy', 'happy', 'scare', 'normal',\n",
       "       'scare', 'happy', 'happy', 'touch', 'normal', 'touch', 'scare',\n",
       "       'touch', 'scare', 'normal', 'touch', 'normal', 'normal', 'normal',\n",
       "       'happy', 'scare', 'scare', 'scare', 'scare', 'normal', 'normal',\n",
       "       'scare', 'normal', 'scare', 'normal', 'scare', 'scare', 'happy',\n",
       "       'normal', 'happy', 'scare', 'normal', 'touch', 'happy', 'normal',\n",
       "       'touch', 'normal', 'touch', 'touch', 'happy', 'touch', 'normal',\n",
       "       'normal', 'normal', 'normal', 'happy', 'scare', 'scare', 'scare',\n",
       "       'happy', 'happy', 'scare', 'normal', 'scare', 'happy', 'touch',\n",
       "       'normal', 'scare', 'happy', 'scare', 'normal', 'touch', 'normal',\n",
       "       'happy', 'normal', 'normal', 'normal', 'touch', 'normal', 'touch',\n",
       "       'scare', 'normal', 'happy', 'normal', 'scare', 'happy', 'scare',\n",
       "       'happy', 'scare', 'happy', 'scare', 'touch', 'normal', 'scare',\n",
       "       'scare', 'scare', 'normal', 'touch', 'normal', 'happy', 'normal',\n",
       "       'touch', 'touch', 'scare', 'normal', 'normal', 'normal', 'normal',\n",
       "       'touch', 'touch', 'normal', 'touch', 'happy', 'normal', 'scare',\n",
       "       'touch', 'normal', 'happy', 'touch', 'normal', 'normal', 'normal',\n",
       "       'touch', 'normal', 'normal', 'scare', 'touch', 'happy', 'happy',\n",
       "       'normal', 'touch', 'happy', 'normal', 'touch', 'normal', 'touch',\n",
       "       'scare', 'scare', 'normal', 'scare', 'normal', 'normal', 'normal',\n",
       "       'normal', 'normal', 'normal', 'happy', 'scare', 'happy', 'scare',\n",
       "       'touch', 'happy', 'scare', 'normal', 'normal', 'touch', 'happy',\n",
       "       'touch', 'normal', 'normal', 'scare', 'normal', 'normal', 'happy',\n",
       "       'scare', 'happy', 'scare', 'normal', 'normal', 'touch', 'scare',\n",
       "       'happy', 'normal', 'happy', 'normal', 'touch', 'normal', 'happy',\n",
       "       'scare', 'normal', 'touch', 'scare', 'scare', 'happy', 'touch',\n",
       "       'normal', 'scare', 'touch', 'scare', 'scare', 'normal', 'happy',\n",
       "       'scare', 'touch', 'scare', 'normal', 'touch', 'normal', 'scare',\n",
       "       'touch', 'scare', 'touch', 'happy', 'touch', 'normal', 'normal',\n",
       "       'normal', 'touch', 'touch', 'scare', 'normal', 'scare', 'touch',\n",
       "       'happy', 'happy', 'scare', 'scare', 'touch', 'scare', 'normal',\n",
       "       'scare', 'normal', 'happy', 'happy', 'scare', 'normal', 'touch',\n",
       "       'scare', 'scare', 'normal', 'touch', 'scare', 'normal', 'scare',\n",
       "       'normal', 'touch', 'normal', 'scare', 'touch', 'normal', 'touch',\n",
       "       'happy', 'normal', 'normal', 'normal', 'happy', 'happy', 'normal',\n",
       "       'normal', 'happy', 'scare', 'touch', 'scare', 'happy', 'normal',\n",
       "       'happy', 'scare', 'normal', 'scare', 'scare', 'normal', 'happy',\n",
       "       'touch', 'happy', 'happy', 'scare', 'normal', 'scare', 'scare',\n",
       "       'normal', 'scare', 'normal', 'normal', 'normal', 'scare', 'touch',\n",
       "       'scare', 'touch', 'touch', 'happy', 'happy', 'touch', 'scare',\n",
       "       'scare', 'normal', 'scare', 'normal', 'touch', 'happy', 'normal',\n",
       "       'normal', 'happy', 'normal', 'scare', 'scare', 'normal', 'scare',\n",
       "       'scare', 'normal', 'touch', 'happy', 'normal', 'scare', 'touch',\n",
       "       'happy', 'normal', 'scare', 'happy', 'scare', 'normal', 'normal',\n",
       "       'touch', 'normal', 'scare', 'touch', 'scare'], dtype='<U6')"
      ]
     },
     "execution_count": 15,
     "metadata": {},
     "output_type": "execute_result"
    }
   ],
   "source": [
    "tree.predict(test_X)"
   ]
  },
  {
   "cell_type": "code",
   "execution_count": 16,
   "metadata": {},
   "outputs": [
    {
     "data": {
      "text/plain": [
       "0.45"
      ]
     },
     "execution_count": 16,
     "metadata": {},
     "output_type": "execute_result"
    }
   ],
   "source": [
    "tree.score(test_X, label_name_test)"
   ]
  },
  {
   "cell_type": "code",
   "execution_count": 17,
   "metadata": {},
   "outputs": [],
   "source": [
    "pos = np.where((label==0) | (label==2))"
   ]
  },
  {
   "cell_type": "code",
   "execution_count": 18,
   "metadata": {},
   "outputs": [
    {
     "data": {
      "text/plain": [
       "(array([    0,     1,     2, ..., 47066, 47067, 47068], dtype=int64),)"
      ]
     },
     "execution_count": 18,
     "metadata": {},
     "output_type": "execute_result"
    }
   ],
   "source": [
    "pos"
   ]
  },
  {
   "cell_type": "code",
   "execution_count": null,
   "metadata": {
    "collapsed": true
   },
   "outputs": [],
   "source": []
  },
  {
   "cell_type": "code",
   "execution_count": null,
   "metadata": {
    "collapsed": true
   },
   "outputs": [],
   "source": []
  }
 ],
 "metadata": {
  "kernelspec": {
   "display_name": "Python 3",
   "language": "python",
   "name": "python3"
  },
  "language_info": {
   "codemirror_mode": {
    "name": "ipython",
    "version": 3
   },
   "file_extension": ".py",
   "mimetype": "text/x-python",
   "name": "python",
   "nbconvert_exporter": "python",
   "pygments_lexer": "ipython3",
   "version": "3.6.1"
  }
 },
 "nbformat": 4,
 "nbformat_minor": 2
}
