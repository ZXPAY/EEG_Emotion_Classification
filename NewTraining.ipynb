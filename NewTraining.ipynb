{
 "cells": [
  {
   "cell_type": "markdown",
   "metadata": {},
   "source": [
    "### EEG 建模(分類器)。\n",
    "### 以機器學習的方法和神經網路(Neural Network)的方式。"
   ]
  },
  {
   "cell_type": "code",
   "execution_count": 1,
   "metadata": {},
   "outputs": [
    {
     "name": "stderr",
     "output_type": "stream",
     "text": [
      "C:\\Users\\zxpay\\Anaconda3\\lib\\site-packages\\sklearn\\cross_validation.py:41: DeprecationWarning: This module was deprecated in version 0.18 in favor of the model_selection module into which all the refactored classes and functions are moved. Also note that the interface of the new CV iterators are different from that of this module. This module will be removed in 0.20.\n",
      "  \"This module will be removed in 0.20.\", DeprecationWarning)\n"
     ]
    }
   ],
   "source": [
    "# 匯入相關的套件、模組\n",
    "import numpy as np\n",
    "import matplotlib.pyplot as plt\n",
    "import pandas as pd\n",
    "from Get_file import Get_file   # return dirpath, dirnames, filenames\n",
    "from FFT import FFT, PlotDataOnTimeDomain\n",
    "from BandPassFilter import BandPassFilter, PlotDataOnFreqDomain, BandPassListFilter\n",
    "from Danny_ML_CLF import Danny_ML_CLF\n",
    "import os\n",
    "\n",
    "%matplotlib inline\n",
    "\n",
    "data_dir = \"C:\\\\Users\\\\zxpay\\\\Desktop\\\\BME_Senior\\\\EEG_CLF\\\\Emotion\\\\database\\\\New_SDK_Data\"\n"
   ]
  },
  {
   "cell_type": "code",
   "execution_count": 2,
   "metadata": {
    "collapsed": true
   },
   "outputs": [],
   "source": [
    "# 此 function 會去計算 Array中有幾個 0 的值\n",
    "def CalculateZeros(NumpyArray):\n",
    "    LogicWithZeros = (NumpyArray == 0)\n",
    "    return np.sum(LogicWithZeros)"
   ]
  },
  {
   "cell_type": "markdown",
   "metadata": {},
   "source": [
    "# 資料愈處理"
   ]
  },
  {
   "cell_type": "markdown",
   "metadata": {},
   "source": [
    "### Read the data (*.csv) using pandas"
   ]
  },
  {
   "cell_type": "code",
   "execution_count": 3,
   "metadata": {
    "collapsed": true,
    "scrolled": true
   },
   "outputs": [],
   "source": [
    "os.chdir(data_dir)\n",
    "_,data_files,_ = Get_file(data_dir)\n",
    "data_files\n",
    "all_df = pd.DataFrame()\n",
    "for file in data_files:\n",
    "    emotion = 0\n",
    "    # 1->normal, 2->happy, 3->scare, 4->touch, \n",
    "    _,_,file_names = Get_file(data_dir + '\\\\' + file)\n",
    "    for fn in file_names:\n",
    "        \n",
    "        data_name = data_dir + '\\\\' + file + '\\\\' + fn\n",
    "        if 'happy' in fn:\n",
    "            emotion = 2\n",
    "        elif 'scare' in fn:\n",
    "            emotion = 3\n",
    "        elif 'touch' in fn:\n",
    "            emotion = 4\n",
    "        else:\n",
    "            print(fn)\n",
    "            emotion = 1\n",
    "        #print(emotion, fn)\n",
    "        df = pd.read_csv(data_name, engine='python')\n",
    "        df_length = df.shape[0]\n",
    "        \n",
    "        df['label'] = df['label']*emotion\n",
    "            \n",
    "        try:\n",
    "            all_df = pd.concat([all_df,df])\n",
    "        except Exception as e:\n",
    "            print(e)\n",
    "            all_df = df\n",
    "        #print(sorted(df.corr()['label'].tolist()), fn)\n",
    "        #print('***********************************************')\n",
    "        "
   ]
  },
  {
   "cell_type": "markdown",
   "metadata": {},
   "source": [
    "### 移除遺失值"
   ]
  },
  {
   "cell_type": "code",
   "execution_count": 4,
   "metadata": {
    "collapsed": true
   },
   "outputs": [],
   "source": [
    "all_df = all_df.dropna(axis=1)\n",
    "all_df = all_df.reset_index()"
   ]
  },
  {
   "cell_type": "code",
   "execution_count": 5,
   "metadata": {
    "collapsed": true
   },
   "outputs": [],
   "source": [
    "Columns = ['alpha', 'channel', 'gamma', 'heig_beta', 'label','low_beta','theta','time']\n",
    "Features = ['alpha', 'heig_beta', 'low_beta','theta']\n",
    "Labels = ['label']"
   ]
  },
  {
   "cell_type": "markdown",
   "metadata": {},
   "source": [
    "### 區分每個 Channel，每個 channel都訓練，以探討頭腦哪一區塊對於情緒有較大的相關性。"
   ]
  },
  {
   "cell_type": "code",
   "execution_count": 6,
   "metadata": {
    "collapsed": true
   },
   "outputs": [],
   "source": [
    "channel1 = all_df[all_df['channel'] == 1].index\n",
    "channel2 = all_df[all_df['channel'] == 2].index\n",
    "channel3 = all_df[all_df['channel'] == 3].index\n",
    "channel4 = all_df[all_df['channel'] == 4].index\n",
    "channel5 = all_df[all_df['channel'] == 5].index\n",
    "channel6 = all_df[all_df['channel'] == 6].index\n",
    "channel7 = all_df[all_df['channel'] == 7].index\n",
    "channel8 = all_df[all_df['channel'] == 8].index\n",
    "channel9 = all_df[all_df['channel'] == 9].index\n",
    "channel10 = all_df[all_df['channel'] == 10].index\n",
    "channel11 = all_df[all_df['channel'] == 11].index\n",
    "channel12 = all_df[all_df['channel'] == 12].index\n",
    "channel13 = all_df[all_df['channel'] == 13].index\n",
    "channel14 = all_df[all_df['channel'] == 14].index\n",
    "\n",
    "df_1 = all_df.iloc[channel1]\n",
    "df_2 = all_df.iloc[channel2]\n",
    "df_3 = all_df.iloc[channel3]\n",
    "df_4 = all_df.iloc[channel4]\n",
    "df_5 = all_df.iloc[channel5]\n",
    "df_6 = all_df.iloc[channel6]\n",
    "df_7 = all_df.iloc[channel7]\n",
    "df_8 = all_df.iloc[channel8]\n",
    "df_9 = all_df.iloc[channel9]\n",
    "df_10 = all_df.iloc[channel10]\n",
    "df_11 = all_df.iloc[channel11]\n",
    "df_12 = all_df.iloc[channel12]\n",
    "df_13 = all_df.iloc[channel13]\n",
    "df_14 = all_df.iloc[channel14]\n"
   ]
  },
  {
   "cell_type": "code",
   "execution_count": 7,
   "metadata": {
    "collapsed": true,
    "scrolled": true
   },
   "outputs": [],
   "source": [
    "# 利用 List 去收集每個 Pandas的 DataFrame\n",
    "my_df = [df_1, df_2, df_3, df_4, df_5, df_6, df_7, df_8, df_9,\n",
    "        df_10, df_11, df_12, df_13, df_14]"
   ]
  },
  {
   "cell_type": "markdown",
   "metadata": {},
   "source": [
    "# Scikit-Learn 建模與訓練資料"
   ]
  },
  {
   "cell_type": "code",
   "execution_count": 10,
   "metadata": {},
   "outputs": [
    {
     "name": "stdout",
     "output_type": "stream",
     "text": [
      "(1512, 4)\n",
      "(1512,)\n"
     ]
    },
    {
     "name": "stderr",
     "output_type": "stream",
     "text": [
      "C:\\Users\\zxpay\\Anaconda3\\lib\\site-packages\\sklearn\\preprocessing\\label.py:151: DeprecationWarning: The truth value of an empty array is ambiguous. Returning False, but in future this will result in an error. Use `array.size > 0` to check that an array is not empty.\n",
      "  if diff:\n",
      "C:\\Users\\zxpay\\Anaconda3\\lib\\site-packages\\sklearn\\preprocessing\\label.py:151: DeprecationWarning: The truth value of an empty array is ambiguous. Returning False, but in future this will result in an error. Use `array.size > 0` to check that an array is not empty.\n",
      "  if diff:\n",
      "C:\\Users\\zxpay\\Anaconda3\\lib\\site-packages\\sklearn\\preprocessing\\label.py:151: DeprecationWarning: The truth value of an empty array is ambiguous. Returning False, but in future this will result in an error. Use `array.size > 0` to check that an array is not empty.\n",
      "  if diff:\n",
      "C:\\Users\\zxpay\\Anaconda3\\lib\\site-packages\\sklearn\\preprocessing\\label.py:151: DeprecationWarning: The truth value of an empty array is ambiguous. Returning False, but in future this will result in an error. Use `array.size > 0` to check that an array is not empty.\n",
      "  if diff:\n",
      "C:\\Users\\zxpay\\Anaconda3\\lib\\site-packages\\sklearn\\preprocessing\\label.py:151: DeprecationWarning: The truth value of an empty array is ambiguous. Returning False, but in future this will result in an error. Use `array.size > 0` to check that an array is not empty.\n",
      "  if diff:\n",
      "C:\\Users\\zxpay\\Anaconda3\\lib\\site-packages\\sklearn\\preprocessing\\label.py:151: DeprecationWarning: The truth value of an empty array is ambiguous. Returning False, but in future this will result in an error. Use `array.size > 0` to check that an array is not empty.\n",
      "  if diff:\n",
      "C:\\Users\\zxpay\\Anaconda3\\lib\\site-packages\\sklearn\\preprocessing\\label.py:151: DeprecationWarning: The truth value of an empty array is ambiguous. Returning False, but in future this will result in an error. Use `array.size > 0` to check that an array is not empty.\n",
      "  if diff:\n",
      "C:\\Users\\zxpay\\Anaconda3\\lib\\site-packages\\sklearn\\preprocessing\\label.py:151: DeprecationWarning: The truth value of an empty array is ambiguous. Returning False, but in future this will result in an error. Use `array.size > 0` to check that an array is not empty.\n",
      "  if diff:\n",
      "C:\\Users\\zxpay\\Anaconda3\\lib\\site-packages\\sklearn\\preprocessing\\label.py:151: DeprecationWarning: The truth value of an empty array is ambiguous. Returning False, but in future this will result in an error. Use `array.size > 0` to check that an array is not empty.\n",
      "  if diff:\n",
      "C:\\Users\\zxpay\\Anaconda3\\lib\\site-packages\\sklearn\\preprocessing\\label.py:151: DeprecationWarning: The truth value of an empty array is ambiguous. Returning False, but in future this will result in an error. Use `array.size > 0` to check that an array is not empty.\n",
      "  if diff:\n"
     ]
    },
    {
     "name": "stdout",
     "output_type": "stream",
     "text": [
      "SVM Score :  0.43194706994328924\n",
      "Tree Score :  0.5283553875236295\n",
      "Bayes Score :  0.3686200378071834\n",
      "KNN Score :  1.0\n",
      "XGB Score :  0.6994328922495274\n",
      "Stacking Score :  0.888468809073724\n",
      "Voting Score :  0.9234404536862004\n",
      "Bagging Score :  1.0\n",
      "RF Score :  1.0\n",
      "Adaboost Score :  0.554820415879017\n",
      "None\n",
      "\n",
      "SVM Score :  0.3854625550660793\n",
      "Tree Score :  0.4801762114537445\n",
      "Bayes Score :  0.3766519823788546\n",
      "KNN Score :  0.46255506607929514\n",
      "XGB Score :  0.5198237885462555\n",
      "Stacking Score :  0.4801762114537445\n",
      "Voting Score :  0.4955947136563877\n",
      "Bagging Score :  0.5066079295154186\n",
      "RF Score :  0.5198237885462555\n",
      "Adaboost Score :  0.4713656387665198\n",
      "None\n",
      "Report Okay !\n",
      "\n",
      "\n"
     ]
    },
    {
     "name": "stderr",
     "output_type": "stream",
     "text": [
      "C:\\Users\\zxpay\\Anaconda3\\lib\\site-packages\\sklearn\\preprocessing\\label.py:151: DeprecationWarning: The truth value of an empty array is ambiguous. Returning False, but in future this will result in an error. Use `array.size > 0` to check that an array is not empty.\n",
      "  if diff:\n",
      "C:\\Users\\zxpay\\Anaconda3\\lib\\site-packages\\sklearn\\preprocessing\\label.py:151: DeprecationWarning: The truth value of an empty array is ambiguous. Returning False, but in future this will result in an error. Use `array.size > 0` to check that an array is not empty.\n",
      "  if diff:\n",
      "C:\\Users\\zxpay\\Anaconda3\\lib\\site-packages\\sklearn\\preprocessing\\label.py:151: DeprecationWarning: The truth value of an empty array is ambiguous. Returning False, but in future this will result in an error. Use `array.size > 0` to check that an array is not empty.\n",
      "  if diff:\n"
     ]
    }
   ],
   "source": [
    "# 彙整訓練資料、標籤(label)以準備用來建模\n",
    "\n",
    "os.chdir('C:\\\\Users\\\\zxpay\\\\Desktop\\\\BME_Senior\\\\EEG_CLF\\\\Emotion\\\\Code')\n",
    "n = 4   # Channel 5 is the best result\n",
    "\n",
    "#for n in range(len(my_df)):   # Run all the channel, and see what channel is best\n",
    "Testing_df = my_df[n]\n",
    "data = np.zeros([Testing_df.shape[0], 4])\n",
    "for i in range(4):\n",
    "    data[:, i] = np.array(Testing_df[Features[i]], dtype=np.float32)\n",
    "label = np.array(Testing_df['label'], dtype=np.float32)\n",
    "if CalculateZeros(data) != 0:\n",
    "    print('Warning !!!')\n",
    "\n",
    "pos = np.where((label==0) | (label==2))\n",
    "\n",
    "zero_pos = np.where(label==0)\n",
    "zero_choose = np.random.randint(500,20000,size=400)\n",
    "zero_choose = zero_pos[0][zero_choose]\n",
    "data_normal = data[zero_choose]\n",
    "label_normal = label[zero_choose]\n",
    "\n",
    "pos_happy = np.where(label==2)\n",
    "one_choose = np.random.randint(20,1020,size=400)\n",
    "one_choose = pos_happy[0][one_choose]\n",
    "data_happy = data[one_choose]\n",
    "label_happy = label[one_choose]\n",
    "\n",
    "data_del = np.delete(data, pos, axis=0)\n",
    "label_del = np.delete(label, pos)\n",
    "\n",
    "data_all = np.vstack((data_normal, data_del))\n",
    "label_all = np.hstack((label_normal, label_del))\n",
    "data_all = np.vstack((data_happy, data_all))\n",
    "label_all = np.hstack((label_happy, label_all))\n",
    "\n",
    "print(data_all.shape)\n",
    "print(label_all.shape)\n",
    "\n",
    "clf = Danny_ML_CLF()\n",
    "train_X, test_X, train_y, test_y = clf.Split_data(data_all, label_all, test_size=0.3, Standard=True)\n",
    "clf.Fit_value(train_X, train_y)\n",
    "clf.Train()\n",
    "clf.Report(train_X, train_y, [0,2,3,4], show_cm=False)\n",
    "clf.Report2txt('Train' + str(n+1) + '.txt')\n",
    "print(clf.Score())\n",
    "print()\n",
    "clf.Report(test_X, test_y, [0,2,3,4], show_cm=False)\n",
    "clf.Report2txt('Test' + str(n+1) + '.txt')\n",
    "print(clf.Score())\n",
    "print('Report Okay !\\n\\n')"
   ]
  },
  {
   "cell_type": "code",
   "execution_count": null,
   "metadata": {
    "scrolled": true
   },
   "outputs": [],
   "source": [
    "np.sum(clf.RF_prediction(test_X)==test_y)/test_y.shape[0]"
   ]
  },
  {
   "cell_type": "code",
   "execution_count": null,
   "metadata": {},
   "outputs": [],
   "source": [
    "print(np.sum(label_all==0))\n",
    "print(np.sum(label_all==2))\n",
    "print(np.sum(label_all==3))\n",
    "print(np.sum(label_all==4))"
   ]
  },
  {
   "cell_type": "code",
   "execution_count": null,
   "metadata": {},
   "outputs": [],
   "source": [
    "clf.RF_prediction(test_X)"
   ]
  },
  {
   "cell_type": "code",
   "execution_count": null,
   "metadata": {},
   "outputs": [],
   "source": [
    "from sklearn.tree import DecisionTreeClassifier\n",
    "label_name = []\n",
    "for x in train_y:\n",
    "    if x == 0:\n",
    "        label_name.append('normal')\n",
    "    elif x == 2:\n",
    "        label_name.append('happy')\n",
    "    elif x == 3:\n",
    "        label_name.append('scare')\n",
    "    elif x == 4:\n",
    "        label_name.append('touch')\n",
    "    else:\n",
    "        print(x)\n",
    "label_name_test = []\n",
    "for x in test_y:\n",
    "    if x == 0:\n",
    "        label_name_test.append('normal')\n",
    "    elif x == 2:\n",
    "        label_name_test.append('happy')\n",
    "    elif x == 3:\n",
    "        label_name_test.append('scare')\n",
    "    elif x == 4:\n",
    "        label_name_test.append('touch')\n",
    "    else:\n",
    "        print(x)\n",
    "tree = DecisionTreeClassifier(criterion='gini',max_depth=3)\n",
    "tree.fit(train_X, label_name)"
   ]
  },
  {
   "cell_type": "code",
   "execution_count": null,
   "metadata": {
    "collapsed": true,
    "scrolled": true
   },
   "outputs": [],
   "source": [
    "from sklearn.tree import export_graphviz\n",
    "export_graphviz(tree, out_file=\"tree.dot\", feature_names=['alpha', 'heig_beta', 'low_beta','theta'],\\\n",
    "                class_names=['normal','happy','scare', 'touch'])\n"
   ]
  },
  {
   "cell_type": "code",
   "execution_count": null,
   "metadata": {},
   "outputs": [],
   "source": [
    "!dot -Tpng tree.dot -o tree.png\n",
    "#tree.predict(test_X)\n",
    "tree.score(test_X, label_name_test)"
   ]
  },
  {
   "cell_type": "markdown",
   "metadata": {},
   "source": [
    "# Save Model (Scikit-learn model)"
   ]
  },
  {
   "cell_type": "code",
   "execution_count": 12,
   "metadata": {},
   "outputs": [],
   "source": [
    "# Save Scikit-Learn Model\n",
    "clf.Save_Model()\n"
   ]
  },
  {
   "cell_type": "code",
   "execution_count": 13,
   "metadata": {},
   "outputs": [
    {
     "name": "stderr",
     "output_type": "stream",
     "text": [
      "C:\\Users\\zxpay\\Anaconda3\\lib\\site-packages\\sklearn\\preprocessing\\label.py:151: DeprecationWarning: The truth value of an empty array is ambiguous. Returning False, but in future this will result in an error. Use `array.size > 0` to check that an array is not empty.\n",
      "  if diff:\n",
      "C:\\Users\\zxpay\\Anaconda3\\lib\\site-packages\\sklearn\\preprocessing\\label.py:151: DeprecationWarning: The truth value of an empty array is ambiguous. Returning False, but in future this will result in an error. Use `array.size > 0` to check that an array is not empty.\n",
      "  if diff:\n",
      "C:\\Users\\zxpay\\Anaconda3\\lib\\site-packages\\sklearn\\preprocessing\\label.py:151: DeprecationWarning: The truth value of an empty array is ambiguous. Returning False, but in future this will result in an error. Use `array.size > 0` to check that an array is not empty.\n",
      "  if diff:\n",
      "C:\\Users\\zxpay\\Anaconda3\\lib\\site-packages\\sklearn\\preprocessing\\label.py:151: DeprecationWarning: The truth value of an empty array is ambiguous. Returning False, but in future this will result in an error. Use `array.size > 0` to check that an array is not empty.\n",
      "  if diff:\n",
      "C:\\Users\\zxpay\\Anaconda3\\lib\\site-packages\\sklearn\\preprocessing\\label.py:151: DeprecationWarning: The truth value of an empty array is ambiguous. Returning False, but in future this will result in an error. Use `array.size > 0` to check that an array is not empty.\n",
      "  if diff:\n",
      "C:\\Users\\zxpay\\Anaconda3\\lib\\site-packages\\sklearn\\preprocessing\\label.py:151: DeprecationWarning: The truth value of an empty array is ambiguous. Returning False, but in future this will result in an error. Use `array.size > 0` to check that an array is not empty.\n",
      "  if diff:\n",
      "C:\\Users\\zxpay\\Anaconda3\\lib\\site-packages\\sklearn\\preprocessing\\label.py:151: DeprecationWarning: The truth value of an empty array is ambiguous. Returning False, but in future this will result in an error. Use `array.size > 0` to check that an array is not empty.\n",
      "  if diff:\n",
      "C:\\Users\\zxpay\\Anaconda3\\lib\\site-packages\\sklearn\\preprocessing\\label.py:151: DeprecationWarning: The truth value of an empty array is ambiguous. Returning False, but in future this will result in an error. Use `array.size > 0` to check that an array is not empty.\n",
      "  if diff:\n",
      "C:\\Users\\zxpay\\Anaconda3\\lib\\site-packages\\sklearn\\preprocessing\\label.py:151: DeprecationWarning: The truth value of an empty array is ambiguous. Returning False, but in future this will result in an error. Use `array.size > 0` to check that an array is not empty.\n",
      "  if diff:\n"
     ]
    },
    {
     "name": "stdout",
     "output_type": "stream",
     "text": [
      "SVM Score :  0.43194706994328924\n",
      "Tree Score :  0.5283553875236295\n",
      "Bayes Score :  0.3686200378071834\n",
      "KNN Score :  1.0\n",
      "XGB Score :  0.6994328922495274\n",
      "Stacking Score :  0.888468809073724\n",
      "Voting Score :  0.9234404536862004\n",
      "Bagging Score :  1.0\n",
      "RF Score :  1.0\n",
      "Adaboost Score :  0.554820415879017\n",
      "None\n",
      "SVM Score :  0.3854625550660793\n",
      "Tree Score :  0.4801762114537445\n",
      "Bayes Score :  0.3766519823788546\n",
      "KNN Score :  0.46255506607929514\n",
      "XGB Score :  0.5198237885462555\n",
      "Stacking Score :  0.4801762114537445\n",
      "Voting Score :  0.4955947136563877\n",
      "Bagging Score :  0.5066079295154186\n",
      "RF Score :  0.5198237885462555\n",
      "Adaboost Score :  0.4713656387665198\n",
      "None\n"
     ]
    },
    {
     "name": "stderr",
     "output_type": "stream",
     "text": [
      "C:\\Users\\zxpay\\Anaconda3\\lib\\site-packages\\sklearn\\preprocessing\\label.py:151: DeprecationWarning: The truth value of an empty array is ambiguous. Returning False, but in future this will result in an error. Use `array.size > 0` to check that an array is not empty.\n",
      "  if diff:\n",
      "C:\\Users\\zxpay\\Anaconda3\\lib\\site-packages\\sklearn\\preprocessing\\label.py:151: DeprecationWarning: The truth value of an empty array is ambiguous. Returning False, but in future this will result in an error. Use `array.size > 0` to check that an array is not empty.\n",
      "  if diff:\n",
      "C:\\Users\\zxpay\\Anaconda3\\lib\\site-packages\\sklearn\\preprocessing\\label.py:151: DeprecationWarning: The truth value of an empty array is ambiguous. Returning False, but in future this will result in an error. Use `array.size > 0` to check that an array is not empty.\n",
      "  if diff:\n"
     ]
    }
   ],
   "source": [
    "# Read Method -- Scikit-learn model\n",
    "clf_read = Danny_ML_CLF()\n",
    "clf_read.Read_Model()\n",
    "clf.Report(train_X, train_y, [0,2,3,4], show_cm=False)\n",
    "print(clf.Score())\n",
    "clf.Report(test_X, test_y, [0,2,3,4], show_cm=False)\n",
    "print(clf.Score())"
   ]
  },
  {
   "cell_type": "markdown",
   "metadata": {},
   "source": [
    "# 建立 Neural Network Model to predict data"
   ]
  },
  {
   "cell_type": "code",
   "execution_count": 14,
   "metadata": {
    "collapsed": true
   },
   "outputs": [],
   "source": [
    "import matplotlib.pyplot as plt\n",
    "%matplotlib inline\n",
    "def plot_train_history(history, train_metrics, val_metrics):\n",
    "    plt.plot(history.history.get(train_metrics),'-o')\n",
    "    plt.plot(history.history.get(val_metrics),'-o')\n",
    "    plt.ylabel(train_metrics)\n",
    "    plt.xlabel('Epochs')\n",
    "    plt.legend(['train', 'validation'])"
   ]
  },
  {
   "cell_type": "markdown",
   "metadata": {},
   "source": [
    "#### 將 Label 經過 One-hot encoding"
   ]
  },
  {
   "cell_type": "code",
   "execution_count": 15,
   "metadata": {},
   "outputs": [
    {
     "data": {
      "text/plain": [
       "(1134, 4)"
      ]
     },
     "execution_count": 15,
     "metadata": {},
     "output_type": "execute_result"
    }
   ],
   "source": [
    "Testing_df = my_df[4]\n",
    "data = np.zeros([Testing_df.shape[0], 4])\n",
    "for i in range(4):\n",
    "    data[:, i] = np.array(Testing_df[Features[i]], dtype=np.float32)\n",
    "label = np.array(Testing_df['label'], dtype=np.float32)\n",
    "if CalculateZeros(data) != 0:\n",
    "    print('Warning !!!')\n",
    "\n",
    "pos = np.where((label==0) | (label==2))\n",
    "\n",
    "zero_pos = np.where(label==0)\n",
    "zero_choose = np.random.randint(500,20000,size=400)\n",
    "zero_choose = zero_pos[0][zero_choose]\n",
    "data_normal = data[zero_choose]\n",
    "label_normal = label[zero_choose]\n",
    "\n",
    "pos_happy = np.where(label==2)\n",
    "one_choose = np.random.randint(20,1020,size=400)\n",
    "one_choose = pos_happy[0][one_choose]\n",
    "data_happy = data[one_choose]\n",
    "label_happy = label[one_choose]\n",
    "\n",
    "data_del = np.delete(data, pos, axis=0)\n",
    "label_del = np.delete(label, pos)\n",
    "\n",
    "data_all = np.vstack((data_normal, data_del))\n",
    "label_all = np.hstack((label_normal, label_del))\n",
    "data_all = np.vstack((data_happy, data_all))\n",
    "label_all = np.hstack((label_happy, label_all))\n",
    "\n",
    "\n",
    "from sklearn.preprocessing import OneHotEncoder\n",
    "one = OneHotEncoder()\n",
    "label_onehot = one.fit_transform(label_all.reshape(-1,1)).toarray()\n",
    "train_X, test_X, train_y, test_y = clf.Split_data(data_all, label_onehot, test_size=0.25, Standard=True)\n",
    "train_y.shape"
   ]
  },
  {
   "cell_type": "markdown",
   "metadata": {},
   "source": [
    "### 建模，訓練資料與評估"
   ]
  },
  {
   "cell_type": "code",
   "execution_count": 23,
   "metadata": {},
   "outputs": [],
   "source": [
    "from keras.callbacks import EarlyStopping\n",
    "#patience:number of epochs with no improvement after which training will be stopped.\n",
    "#earlyStopping=EarlyStopping(monitor='val_loss', patience=15) \n",
    "from keras.models import Sequential\n",
    "from keras.layers import Dense, Activation, Dropout, BatchNormalization\n",
    "model = Sequential()\n",
    "model.add(Dense(128, input_dim=4, kernel_initializer='normal'))\n",
    "model.add(BatchNormalization())\n",
    "model.add(Activation('relu'))\n",
    "model.add(Dropout(0.4))\n",
    "model.add(Dense(32, kernel_initializer='normal'))\n",
    "model.add(BatchNormalization())\n",
    "model.add(Activation('relu'))\n",
    "model.add(Dense(4))\n",
    "model.add(Activation('softmax'))"
   ]
  },
  {
   "cell_type": "code",
   "execution_count": 24,
   "metadata": {
    "scrolled": true
   },
   "outputs": [
    {
     "name": "stdout",
     "output_type": "stream",
     "text": [
      "Epoch 1/100\n",
      "1134/1134 [==============================] - 1s 496us/step - loss: 1.4123 - acc: 0.3263\n",
      "Epoch 2/100\n",
      "1134/1134 [==============================] - 0s 89us/step - loss: 1.3088 - acc: 0.3845\n",
      "Epoch 3/100\n",
      "1134/1134 [==============================] - 0s 100us/step - loss: 1.2926 - acc: 0.4030\n",
      "Epoch 4/100\n",
      "1134/1134 [==============================] - 0s 92us/step - loss: 1.2916 - acc: 0.4012\n",
      "Epoch 5/100\n",
      "1134/1134 [==============================] - 0s 93us/step - loss: 1.2523 - acc: 0.4233\n",
      "Epoch 6/100\n",
      "1134/1134 [==============================] - 0s 77us/step - loss: 1.2544 - acc: 0.4145\n",
      "Epoch 7/100\n",
      "1134/1134 [==============================] - 0s 87us/step - loss: 1.2512 - acc: 0.4180\n",
      "Epoch 8/100\n",
      "1134/1134 [==============================] - 0s 78us/step - loss: 1.2481 - acc: 0.4233\n",
      "Epoch 9/100\n",
      "1134/1134 [==============================] - 0s 74us/step - loss: 1.2397 - acc: 0.4145\n",
      "Epoch 10/100\n",
      "1134/1134 [==============================] - 0s 83us/step - loss: 1.2445 - acc: 0.4286\n",
      "Epoch 11/100\n",
      "1134/1134 [==============================] - 0s 82us/step - loss: 1.2257 - acc: 0.4206\n",
      "Epoch 12/100\n",
      "1134/1134 [==============================] - 0s 78us/step - loss: 1.2291 - acc: 0.4356\n",
      "Epoch 13/100\n",
      "1134/1134 [==============================] - 0s 97us/step - loss: 1.2302 - acc: 0.4392\n",
      "Epoch 14/100\n",
      "1134/1134 [==============================] - 0s 98us/step - loss: 1.2155 - acc: 0.4180\n",
      "Epoch 15/100\n",
      "1134/1134 [==============================] - 0s 95us/step - loss: 1.2075 - acc: 0.4365\n",
      "Epoch 16/100\n",
      "1134/1134 [==============================] - 0s 95us/step - loss: 1.2067 - acc: 0.4471\n",
      "Epoch 17/100\n",
      "1134/1134 [==============================] - 0s 89us/step - loss: 1.2037 - acc: 0.4533\n",
      "Epoch 18/100\n",
      "1134/1134 [==============================] - 0s 84us/step - loss: 1.2258 - acc: 0.4365\n",
      "Epoch 19/100\n",
      "1134/1134 [==============================] - 0s 83us/step - loss: 1.2027 - acc: 0.4453\n",
      "Epoch 20/100\n",
      "1134/1134 [==============================] - 0s 77us/step - loss: 1.2070 - acc: 0.4453\n",
      "Epoch 21/100\n",
      "1134/1134 [==============================] - 0s 85us/step - loss: 1.1968 - acc: 0.4506\n",
      "Epoch 22/100\n",
      "1134/1134 [==============================] - 0s 83us/step - loss: 1.1944 - acc: 0.4586\n",
      "Epoch 23/100\n",
      "1134/1134 [==============================] - 0s 96us/step - loss: 1.2005 - acc: 0.4524\n",
      "Epoch 24/100\n",
      "1134/1134 [==============================] - 0s 89us/step - loss: 1.1924 - acc: 0.4506\n",
      "Epoch 25/100\n",
      "1134/1134 [==============================] - 0s 82us/step - loss: 1.2085 - acc: 0.4383\n",
      "Epoch 26/100\n",
      "1134/1134 [==============================] - 0s 103us/step - loss: 1.2102 - acc: 0.4259\n",
      "Epoch 27/100\n",
      "1134/1134 [==============================] - 0s 83us/step - loss: 1.1933 - acc: 0.4506\n",
      "Epoch 28/100\n",
      "1134/1134 [==============================] - 0s 87us/step - loss: 1.1924 - acc: 0.4409\n",
      "Epoch 29/100\n",
      "1134/1134 [==============================] - 0s 90us/step - loss: 1.1921 - acc: 0.4427\n",
      "Epoch 30/100\n",
      "1134/1134 [==============================] - 0s 85us/step - loss: 1.1860 - acc: 0.4656\n",
      "Epoch 31/100\n",
      "1134/1134 [==============================] - 0s 86us/step - loss: 1.1960 - acc: 0.4427\n",
      "Epoch 32/100\n",
      "1134/1134 [==============================] - 0s 93us/step - loss: 1.2034 - acc: 0.4559\n",
      "Epoch 33/100\n",
      "1134/1134 [==============================] - 0s 90us/step - loss: 1.1963 - acc: 0.4444\n",
      "Epoch 34/100\n",
      "1134/1134 [==============================] - 0s 92us/step - loss: 1.1864 - acc: 0.4489\n",
      "Epoch 35/100\n",
      "1134/1134 [==============================] - 0s 97us/step - loss: 1.1810 - acc: 0.4462\n",
      "Epoch 36/100\n",
      "1134/1134 [==============================] - 0s 95us/step - loss: 1.1783 - acc: 0.4612\n",
      "Epoch 37/100\n",
      "1134/1134 [==============================] - 0s 83us/step - loss: 1.1788 - acc: 0.4559\n",
      "Epoch 38/100\n",
      "1134/1134 [==============================] - 0s 84us/step - loss: 1.1914 - acc: 0.4365\n",
      "Epoch 39/100\n",
      "1134/1134 [==============================] - 0s 77us/step - loss: 1.1820 - acc: 0.4497\n",
      "Epoch 40/100\n",
      "1134/1134 [==============================] - 0s 84us/step - loss: 1.1922 - acc: 0.4541\n",
      "Epoch 41/100\n",
      "1134/1134 [==============================] - 0s 78us/step - loss: 1.1786 - acc: 0.4735\n",
      "Epoch 42/100\n",
      "1134/1134 [==============================] - 0s 79us/step - loss: 1.1820 - acc: 0.4383\n",
      "Epoch 43/100\n",
      "1134/1134 [==============================] - 0s 78us/step - loss: 1.1878 - acc: 0.4559\n",
      "Epoch 44/100\n",
      "1134/1134 [==============================] - 0s 83us/step - loss: 1.1810 - acc: 0.4647\n",
      "Epoch 45/100\n",
      "1134/1134 [==============================] - 0s 80us/step - loss: 1.1846 - acc: 0.4656\n",
      "Epoch 46/100\n",
      "1134/1134 [==============================] - 0s 105us/step - loss: 1.1695 - acc: 0.4877\n",
      "Epoch 47/100\n",
      "1134/1134 [==============================] - 0s 99us/step - loss: 1.1749 - acc: 0.4691\n",
      "Epoch 48/100\n",
      "1134/1134 [==============================] - 0s 90us/step - loss: 1.1829 - acc: 0.4603\n",
      "Epoch 49/100\n",
      "1134/1134 [==============================] - 0s 72us/step - loss: 1.1758 - acc: 0.4621\n",
      "Epoch 50/100\n",
      "1134/1134 [==============================] - 0s 75us/step - loss: 1.1760 - acc: 0.4559\n",
      "Epoch 51/100\n",
      "1134/1134 [==============================] - 0s 78us/step - loss: 1.1664 - acc: 0.4700\n",
      "Epoch 52/100\n",
      "1134/1134 [==============================] - 0s 80us/step - loss: 1.1718 - acc: 0.4700\n",
      "Epoch 53/100\n",
      "1134/1134 [==============================] - 0s 76us/step - loss: 1.1583 - acc: 0.4744\n",
      "Epoch 54/100\n",
      "1134/1134 [==============================] - 0s 83us/step - loss: 1.1642 - acc: 0.4656\n",
      "Epoch 55/100\n",
      "1134/1134 [==============================] - 0s 72us/step - loss: 1.1763 - acc: 0.4797\n",
      "Epoch 56/100\n",
      "1134/1134 [==============================] - 0s 88us/step - loss: 1.1670 - acc: 0.4771\n",
      "Epoch 57/100\n",
      "1134/1134 [==============================] - 0s 79us/step - loss: 1.1824 - acc: 0.4550\n",
      "Epoch 58/100\n",
      "1134/1134 [==============================] - 0s 87us/step - loss: 1.1699 - acc: 0.4647\n",
      "Epoch 59/100\n",
      "1134/1134 [==============================] - 0s 75us/step - loss: 1.1785 - acc: 0.4568\n",
      "Epoch 60/100\n",
      "1134/1134 [==============================] - 0s 72us/step - loss: 1.1700 - acc: 0.4656\n",
      "Epoch 61/100\n",
      "1134/1134 [==============================] - 0s 80us/step - loss: 1.1607 - acc: 0.4788\n",
      "Epoch 62/100\n",
      "1134/1134 [==============================] - 0s 80us/step - loss: 1.1529 - acc: 0.4586\n",
      "Epoch 63/100\n",
      "1134/1134 [==============================] - 0s 97us/step - loss: 1.1569 - acc: 0.4594\n",
      "Epoch 64/100\n",
      "1134/1134 [==============================] - 0s 95us/step - loss: 1.1624 - acc: 0.4550\n",
      "Epoch 65/100\n",
      "1134/1134 [==============================] - 0s 89us/step - loss: 1.1644 - acc: 0.4718\n",
      "Epoch 66/100\n",
      "1134/1134 [==============================] - 0s 83us/step - loss: 1.1631 - acc: 0.4700\n",
      "Epoch 67/100\n",
      "1134/1134 [==============================] - 0s 88us/step - loss: 1.1528 - acc: 0.4709\n",
      "Epoch 68/100\n",
      "1134/1134 [==============================] - 0s 82us/step - loss: 1.1854 - acc: 0.4436\n",
      "Epoch 69/100\n",
      "1134/1134 [==============================] - 0s 94us/step - loss: 1.1714 - acc: 0.4497\n",
      "Epoch 70/100\n",
      "1134/1134 [==============================] - 0s 91us/step - loss: 1.1708 - acc: 0.4568\n",
      "Epoch 71/100\n",
      "1134/1134 [==============================] - 0s 77us/step - loss: 1.1554 - acc: 0.4788\n",
      "Epoch 72/100\n",
      "1134/1134 [==============================] - 0s 76us/step - loss: 1.1635 - acc: 0.4674\n",
      "Epoch 73/100\n",
      "1134/1134 [==============================] - 0s 80us/step - loss: 1.1558 - acc: 0.4683\n",
      "Epoch 74/100\n",
      "1134/1134 [==============================] - 0s 77us/step - loss: 1.1586 - acc: 0.4700\n",
      "Epoch 75/100\n",
      "1134/1134 [==============================] - 0s 77us/step - loss: 1.1690 - acc: 0.4762\n",
      "Epoch 76/100\n",
      "1134/1134 [==============================] - 0s 74us/step - loss: 1.1554 - acc: 0.4700\n",
      "Epoch 77/100\n",
      "1134/1134 [==============================] - 0s 73us/step - loss: 1.1626 - acc: 0.4727\n",
      "Epoch 78/100\n",
      "1134/1134 [==============================] - 0s 74us/step - loss: 1.1591 - acc: 0.4806\n",
      "Epoch 79/100\n",
      "1134/1134 [==============================] - 0s 80us/step - loss: 1.1565 - acc: 0.4753\n",
      "Epoch 80/100\n",
      "1134/1134 [==============================] - 0s 77us/step - loss: 1.1566 - acc: 0.4718\n",
      "Epoch 81/100\n",
      "1134/1134 [==============================] - 0s 79us/step - loss: 1.1504 - acc: 0.4612\n",
      "Epoch 82/100\n",
      "1134/1134 [==============================] - 0s 71us/step - loss: 1.1683 - acc: 0.4744\n"
     ]
    },
    {
     "name": "stdout",
     "output_type": "stream",
     "text": [
      "Epoch 83/100\n",
      "1134/1134 [==============================] - 0s 77us/step - loss: 1.1576 - acc: 0.4665\n",
      "Epoch 84/100\n",
      "1134/1134 [==============================] - 0s 106us/step - loss: 1.1678 - acc: 0.4638\n",
      "Epoch 85/100\n",
      "1134/1134 [==============================] - 0s 89us/step - loss: 1.1549 - acc: 0.4841\n",
      "Epoch 86/100\n",
      "1134/1134 [==============================] - 0s 82us/step - loss: 1.1616 - acc: 0.4877\n",
      "Epoch 87/100\n",
      "1134/1134 [==============================] - 0s 74us/step - loss: 1.1537 - acc: 0.4568\n",
      "Epoch 88/100\n",
      "1134/1134 [==============================] - 0s 82us/step - loss: 1.1461 - acc: 0.4735\n",
      "Epoch 89/100\n",
      "1134/1134 [==============================] - 0s 108us/step - loss: 1.1591 - acc: 0.4727\n",
      "Epoch 90/100\n",
      "1134/1134 [==============================] - 0s 76us/step - loss: 1.1445 - acc: 0.4938\n",
      "Epoch 91/100\n",
      "1134/1134 [==============================] - 0s 77us/step - loss: 1.1577 - acc: 0.4647\n",
      "Epoch 92/100\n",
      "1134/1134 [==============================] - 0s 76us/step - loss: 1.1432 - acc: 0.4991\n",
      "Epoch 93/100\n",
      "1134/1134 [==============================] - 0s 76us/step - loss: 1.1491 - acc: 0.4806\n",
      "Epoch 94/100\n",
      "1134/1134 [==============================] - 0s 78us/step - loss: 1.1584 - acc: 0.4797\n",
      "Epoch 95/100\n",
      "1134/1134 [==============================] - 0s 79us/step - loss: 1.1608 - acc: 0.4674\n",
      "Epoch 96/100\n",
      "1134/1134 [==============================] - 0s 98us/step - loss: 1.1483 - acc: 0.4771\n",
      "Epoch 97/100\n",
      "1134/1134 [==============================] - 0s 79us/step - loss: 1.1592 - acc: 0.4691\n",
      "Epoch 98/100\n",
      "1134/1134 [==============================] - 0s 77us/step - loss: 1.1536 - acc: 0.4727\n",
      "Epoch 99/100\n",
      "1134/1134 [==============================] - 0s 75us/step - loss: 1.1445 - acc: 0.4797\n",
      "Epoch 100/100\n",
      "1134/1134 [==============================] - 0s 75us/step - loss: 1.1578 - acc: 0.4744\n"
     ]
    }
   ],
   "source": [
    "model.compile(optimizer='rmsprop',\n",
    "              loss='categorical_crossentropy',\n",
    "              metrics=['acc'])\n",
    "history = model.fit(train_X, train_y, epochs=100, batch_size=100, verbose=1,)"
   ]
  },
  {
   "cell_type": "code",
   "execution_count": 25,
   "metadata": {},
   "outputs": [
    {
     "name": "stdout",
     "output_type": "stream",
     "text": [
      "378/378 [==============================] - 0s 284us/step\n",
      "[1.1529135098533025, 0.48677249607585726]\n"
     ]
    },
    {
     "data": {
      "image/png": "[encoded data removed]",
      "text/plain": [
       "<matplotlib.figure.Figure at 0x11df1001780>"
      ]
     },
     "metadata": {},
     "output_type": "display_data"
    },
    {
     "data": {
      "image/png": "[encoded data removed]",
      "text/plain": [
       "<matplotlib.figure.Figure at 0x11e25059c18>"
      ]
     },
     "metadata": {},
     "output_type": "display_data"
    }
   ],
   "source": [
    "score = model.evaluate(test_X, test_y, batch_size=150)\n",
    "print(score)\n",
    "y_acc = history.history['acc']\n",
    "x_acc = np.linspace(0, len(y_acc), len(y_acc))\n",
    "plt.figure(figsize=(12,8))\n",
    "plt.title('Train ACC')\n",
    "plt.plot(x_acc, y_acc, 'r*-')\n",
    "plt.show()\n",
    "y_loss = history.history['loss']\n",
    "x_loss = np.linspace(0, len(y_loss), len(y_loss))\n",
    "plt.figure(figsize=(12,8))\n",
    "plt.title('Train LOSS')\n",
    "plt.plot(x_loss, y_loss,'b*-')\n",
    "plt.show()"
   ]
  },
  {
   "cell_type": "code",
   "execution_count": 26,
   "metadata": {
    "collapsed": true
   },
   "outputs": [],
   "source": [
    "### Early stop Validation\n",
    "# plt.figure(figsize=(12,4))\n",
    "# plt.subplot(1,2,1)\n",
    "# plot_train_history(history, 'loss','val_loss')\n",
    "# plt.subplot(1,2,2)\n",
    "# plot_train_history(history, 'acc','val_acc')"
   ]
  },
  {
   "cell_type": "code",
   "execution_count": 27,
   "metadata": {},
   "outputs": [
    {
     "data": {
      "text/plain": [
       "array([[0.21989389, 0.34902543, 0.23290707, 0.1981736 ],\n",
       "       [0.22776875, 0.36680984, 0.23197259, 0.17344889],\n",
       "       [0.26959506, 0.19191548, 0.28460813, 0.25388134],\n",
       "       ...,\n",
       "       [0.32377723, 0.08062328, 0.26203415, 0.33356538],\n",
       "       [0.20625909, 0.49958265, 0.24644625, 0.0477121 ],\n",
       "       [0.13245651, 0.4644967 , 0.29745203, 0.10559472]], dtype=float32)"
      ]
     },
     "execution_count": 27,
     "metadata": {},
     "output_type": "execute_result"
    }
   ],
   "source": [
    "model.predict(test_X)"
   ]
  },
  {
   "cell_type": "code",
   "execution_count": 28,
   "metadata": {},
   "outputs": [
    {
     "data": {
      "text/plain": [
       "array([[0.27240852, 0.10912634, 0.2326034 , 0.38586175],\n",
       "       [0.26473066, 0.10046667, 0.3646637 , 0.270139  ],\n",
       "       [0.26141164, 0.138249  , 0.2531727 , 0.34716675],\n",
       "       ...,\n",
       "       [0.04750514, 0.8438016 , 0.08943202, 0.01926116],\n",
       "       [0.27774844, 0.0779476 , 0.29138643, 0.35291755],\n",
       "       [0.23182197, 0.20945229, 0.31173104, 0.24699473]], dtype=float32)"
      ]
     },
     "execution_count": 28,
     "metadata": {},
     "output_type": "execute_result"
    }
   ],
   "source": [
    "model.predict(train_X)"
   ]
  },
  {
   "cell_type": "markdown",
   "metadata": {},
   "source": [
    "# Save Model (Keras NN model)"
   ]
  },
  {
   "cell_type": "code",
   "execution_count": 29,
   "metadata": {
    "collapsed": true
   },
   "outputs": [],
   "source": [
    "# Save Keras Model\n",
    "model.save('save/NNModel.h5')\n"
   ]
  },
  {
   "cell_type": "code",
   "execution_count": 30,
   "metadata": {},
   "outputs": [
    {
     "name": "stdout",
     "output_type": "stream",
     "text": [
      "378/378 [==============================] - 0s 294us/step\n"
     ]
    },
    {
     "data": {
      "text/plain": [
       "[1.1529135678811049, 0.4867724956028045]"
      ]
     },
     "execution_count": 30,
     "metadata": {},
     "output_type": "execute_result"
    }
   ],
   "source": [
    "# Read Method -- Keras model\n",
    "from keras.models import load_model\n",
    "model_read = load_model('save/NNModel.h5')\n",
    "score = model_read.evaluate(test_X, test_y, batch_size=200)\n",
    "score"
   ]
  },
  {
   "cell_type": "code",
   "execution_count": null,
   "metadata": {
    "collapsed": true
   },
   "outputs": [],
   "source": []
  },
  {
   "cell_type": "code",
   "execution_count": null,
   "metadata": {
    "collapsed": true
   },
   "outputs": [],
   "source": []
  },
  {
   "cell_type": "code",
   "execution_count": null,
   "metadata": {
    "collapsed": true
   },
   "outputs": [],
   "source": []
  }
 ],
 "metadata": {
  "kernelspec": {
   "display_name": "Python 3",
   "language": "python",
   "name": "python3"
  },
  "language_info": {
   "codemirror_mode": {
    "name": "ipython",
    "version": 3
   },
   "file_extension": ".py",
   "mimetype": "text/x-python",
   "name": "python",
   "nbconvert_exporter": "python",
   "pygments_lexer": "ipython3",
   "version": "3.6.1"
  }
 },
 "nbformat": 4,
 "nbformat_minor": 2
}
