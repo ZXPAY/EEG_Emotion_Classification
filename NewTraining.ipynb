{
 "cells": [
  {
   "cell_type": "markdown",
   "metadata": {},
   "source": [
    "### EEG 建模(分類器)。\n",
    "### 以機器學習的方法和神經網路(Neural Network)的方式。"
   ]
  },
  {
   "cell_type": "code",
   "execution_count": 1,
   "metadata": {},
   "outputs": [
    {
     "name": "stderr",
     "output_type": "stream",
     "text": [
      "C:\\Users\\zxpay\\Anaconda3\\lib\\site-packages\\sklearn\\cross_validation.py:41: DeprecationWarning: This module was deprecated in version 0.18 in favor of the model_selection module into which all the refactored classes and functions are moved. Also note that the interface of the new CV iterators are different from that of this module. This module will be removed in 0.20.\n",
      "  \"This module will be removed in 0.20.\", DeprecationWarning)\n"
     ]
    }
   ],
   "source": [
    "# 匯入相關的套件、模組\n",
    "import numpy as np\n",
    "import matplotlib.pyplot as plt\n",
    "import pandas as pd\n",
    "from Get_file import Get_file   # return dirpath, dirnames, filenames\n",
    "from FFT import FFT, PlotDataOnTimeDomain\n",
    "from BandPassFilter import BandPassFilter, PlotDataOnFreqDomain, BandPassListFilter\n",
    "from Danny_ML_CLF import Danny_ML_CLF\n",
    "import os\n",
    "\n",
    "%matplotlib inline\n",
    "\n",
    "data_dir = \"C:\\\\Users\\\\zxpay\\\\Desktop\\\\BME_Senior\\\\EEG_CLF\\\\Emotion\\\\database\\\\New_SDK_Data\"\n"
   ]
  },
  {
   "cell_type": "code",
   "execution_count": 2,
   "metadata": {
    "collapsed": true
   },
   "outputs": [],
   "source": [
    "# 此 function 會去計算 Array中有幾個 0 的值\n",
    "def CalculateZeros(NumpyArray):\n",
    "    LogicWithZeros = (NumpyArray == 0)\n",
    "    return np.sum(LogicWithZeros)"
   ]
  },
  {
   "cell_type": "markdown",
   "metadata": {},
   "source": [
    "# 資料愈處理"
   ]
  },
  {
   "cell_type": "markdown",
   "metadata": {},
   "source": [
    "### Read the data (*.csv) using pandas"
   ]
  },
  {
   "cell_type": "code",
   "execution_count": 3,
   "metadata": {
    "collapsed": true,
    "scrolled": true
   },
   "outputs": [],
   "source": [
    "os.chdir(data_dir)\n",
    "_,data_files,_ = Get_file(data_dir)\n",
    "data_files\n",
    "all_df = pd.DataFrame()\n",
    "for file in data_files:\n",
    "    emotion = 0\n",
    "    # 1->normal, 2->happy, 3->scare, 4->touch, \n",
    "    _,_,file_names = Get_file(data_dir + '\\\\' + file)\n",
    "    for fn in file_names:\n",
    "        \n",
    "        data_name = data_dir + '\\\\' + file + '\\\\' + fn\n",
    "        if 'happy' in fn:\n",
    "            emotion = 2\n",
    "        elif 'scare' in fn:\n",
    "            emotion = 3\n",
    "        elif 'touch' in fn:\n",
    "            emotion = 4\n",
    "        else:\n",
    "            print(fn)\n",
    "            emotion = 1\n",
    "        #print(emotion, fn)\n",
    "        df = pd.read_csv(data_name, engine='python')\n",
    "        df_length = df.shape[0]\n",
    "        \n",
    "        df['label'] = df['label']*emotion\n",
    "            \n",
    "        try:\n",
    "            all_df = pd.concat([all_df,df])\n",
    "        except Exception as e:\n",
    "            print(e)\n",
    "            all_df = df\n",
    "        #print(sorted(df.corr()['label'].tolist()), fn)\n",
    "        #print('***********************************************')\n",
    "        "
   ]
  },
  {
   "cell_type": "markdown",
   "metadata": {},
   "source": [
    "### 移除遺失值"
   ]
  },
  {
   "cell_type": "code",
   "execution_count": 4,
   "metadata": {
    "collapsed": true
   },
   "outputs": [],
   "source": [
    "all_df = all_df.dropna(axis=1)\n",
    "all_df = all_df.reset_index()"
   ]
  },
  {
   "cell_type": "code",
   "execution_count": 5,
   "metadata": {
    "collapsed": true
   },
   "outputs": [],
   "source": [
    "Columns = ['alpha', 'channel', 'gamma', 'heig_beta', 'label','low_beta','theta','time']\n",
    "Features = ['alpha', 'heig_beta', 'low_beta','theta']\n",
    "Labels = ['label']"
   ]
  },
  {
   "cell_type": "markdown",
   "metadata": {},
   "source": [
    "### 區分每個 Channel，每個 channel都訓練，以探討頭腦哪一區塊對於情緒有較大的相關性。"
   ]
  },
  {
   "cell_type": "code",
   "execution_count": 6,
   "metadata": {
    "collapsed": true
   },
   "outputs": [],
   "source": [
    "channel1 = all_df[all_df['channel'] == 1].index\n",
    "channel2 = all_df[all_df['channel'] == 2].index\n",
    "channel3 = all_df[all_df['channel'] == 3].index\n",
    "channel4 = all_df[all_df['channel'] == 4].index\n",
    "channel5 = all_df[all_df['channel'] == 5].index\n",
    "channel6 = all_df[all_df['channel'] == 6].index\n",
    "channel7 = all_df[all_df['channel'] == 7].index\n",
    "channel8 = all_df[all_df['channel'] == 8].index\n",
    "channel9 = all_df[all_df['channel'] == 9].index\n",
    "channel10 = all_df[all_df['channel'] == 10].index\n",
    "channel11 = all_df[all_df['channel'] == 11].index\n",
    "channel12 = all_df[all_df['channel'] == 12].index\n",
    "channel13 = all_df[all_df['channel'] == 13].index\n",
    "channel14 = all_df[all_df['channel'] == 14].index\n",
    "\n",
    "df_1 = all_df.iloc[channel1]\n",
    "df_2 = all_df.iloc[channel2]\n",
    "df_3 = all_df.iloc[channel3]\n",
    "df_4 = all_df.iloc[channel4]\n",
    "df_5 = all_df.iloc[channel5]\n",
    "df_6 = all_df.iloc[channel6]\n",
    "df_7 = all_df.iloc[channel7]\n",
    "df_8 = all_df.iloc[channel8]\n",
    "df_9 = all_df.iloc[channel9]\n",
    "df_10 = all_df.iloc[channel10]\n",
    "df_11 = all_df.iloc[channel11]\n",
    "df_12 = all_df.iloc[channel12]\n",
    "df_13 = all_df.iloc[channel13]\n",
    "df_14 = all_df.iloc[channel14]\n"
   ]
  },
  {
   "cell_type": "code",
   "execution_count": 7,
   "metadata": {
    "collapsed": true,
    "scrolled": true
   },
   "outputs": [],
   "source": [
    "# 利用 List 去收集每個 Pandas的 DataFrame\n",
    "my_df = [df_1, df_2, df_3, df_4, df_5, df_6, df_7, df_8, df_9,\n",
    "        df_10, df_11, df_12, df_13, df_14]"
   ]
  },
  {
   "cell_type": "markdown",
   "metadata": {},
   "source": [
    "# Scikit-Learn 建模與訓練資料"
   ]
  },
  {
   "cell_type": "code",
   "execution_count": 46,
   "metadata": {},
   "outputs": [
    {
     "name": "stderr",
     "output_type": "stream",
     "text": [
      "C:\\Users\\zxpay\\Anaconda3\\lib\\site-packages\\sklearn\\preprocessing\\label.py:151: DeprecationWarning: The truth value of an empty array is ambiguous. Returning False, but in future this will result in an error. Use `array.size > 0` to check that an array is not empty.\n",
      "  if diff:\n",
      "C:\\Users\\zxpay\\Anaconda3\\lib\\site-packages\\sklearn\\preprocessing\\label.py:151: DeprecationWarning: The truth value of an empty array is ambiguous. Returning False, but in future this will result in an error. Use `array.size > 0` to check that an array is not empty.\n",
      "  if diff:\n",
      "C:\\Users\\zxpay\\Anaconda3\\lib\\site-packages\\sklearn\\preprocessing\\label.py:151: DeprecationWarning: The truth value of an empty array is ambiguous. Returning False, but in future this will result in an error. Use `array.size > 0` to check that an array is not empty.\n",
      "  if diff:\n",
      "C:\\Users\\zxpay\\Anaconda3\\lib\\site-packages\\sklearn\\preprocessing\\label.py:151: DeprecationWarning: The truth value of an empty array is ambiguous. Returning False, but in future this will result in an error. Use `array.size > 0` to check that an array is not empty.\n",
      "  if diff:\n",
      "C:\\Users\\zxpay\\Anaconda3\\lib\\site-packages\\sklearn\\preprocessing\\label.py:151: DeprecationWarning: The truth value of an empty array is ambiguous. Returning False, but in future this will result in an error. Use `array.size > 0` to check that an array is not empty.\n",
      "  if diff:\n",
      "C:\\Users\\zxpay\\Anaconda3\\lib\\site-packages\\sklearn\\preprocessing\\label.py:151: DeprecationWarning: The truth value of an empty array is ambiguous. Returning False, but in future this will result in an error. Use `array.size > 0` to check that an array is not empty.\n",
      "  if diff:\n",
      "C:\\Users\\zxpay\\Anaconda3\\lib\\site-packages\\sklearn\\preprocessing\\label.py:151: DeprecationWarning: The truth value of an empty array is ambiguous. Returning False, but in future this will result in an error. Use `array.size > 0` to check that an array is not empty.\n",
      "  if diff:\n"
     ]
    },
    {
     "name": "stdout",
     "output_type": "stream",
     "text": [
      "SVM Score :  0.43856332703213613\n",
      "Tree Score :  0.5311909262759924\n",
      "Bayes Score :  0.3279773156899811\n",
      "KNN Score :  1.0\n",
      "XGB Score :  0.7069943289224953\n",
      "Stacking Score :  0.9130434782608695\n",
      "Voting Score :  0.9338374291115312\n",
      "Bagging Score :  1.0\n",
      "RF Score :  1.0\n",
      "Adaboost Score :  0.553875236294896\n",
      "None\n",
      "\n"
     ]
    },
    {
     "name": "stderr",
     "output_type": "stream",
     "text": [
      "C:\\Users\\zxpay\\Anaconda3\\lib\\site-packages\\sklearn\\preprocessing\\label.py:151: DeprecationWarning: The truth value of an empty array is ambiguous. Returning False, but in future this will result in an error. Use `array.size > 0` to check that an array is not empty.\n",
      "  if diff:\n",
      "C:\\Users\\zxpay\\Anaconda3\\lib\\site-packages\\sklearn\\preprocessing\\label.py:151: DeprecationWarning: The truth value of an empty array is ambiguous. Returning False, but in future this will result in an error. Use `array.size > 0` to check that an array is not empty.\n",
      "  if diff:\n",
      "C:\\Users\\zxpay\\Anaconda3\\lib\\site-packages\\sklearn\\preprocessing\\label.py:151: DeprecationWarning: The truth value of an empty array is ambiguous. Returning False, but in future this will result in an error. Use `array.size > 0` to check that an array is not empty.\n",
      "  if diff:\n",
      "C:\\Users\\zxpay\\Anaconda3\\lib\\site-packages\\sklearn\\preprocessing\\label.py:151: DeprecationWarning: The truth value of an empty array is ambiguous. Returning False, but in future this will result in an error. Use `array.size > 0` to check that an array is not empty.\n",
      "  if diff:\n",
      "C:\\Users\\zxpay\\Anaconda3\\lib\\site-packages\\sklearn\\preprocessing\\label.py:151: DeprecationWarning: The truth value of an empty array is ambiguous. Returning False, but in future this will result in an error. Use `array.size > 0` to check that an array is not empty.\n",
      "  if diff:\n",
      "C:\\Users\\zxpay\\Anaconda3\\lib\\site-packages\\sklearn\\preprocessing\\label.py:151: DeprecationWarning: The truth value of an empty array is ambiguous. Returning False, but in future this will result in an error. Use `array.size > 0` to check that an array is not empty.\n",
      "  if diff:\n"
     ]
    },
    {
     "name": "stdout",
     "output_type": "stream",
     "text": [
      "SVM Score :  0.42290748898678415\n",
      "Tree Score :  0.43171806167400884\n",
      "Bayes Score :  0.33259911894273125\n",
      "KNN Score :  0.44273127753303965\n",
      "XGB Score :  0.513215859030837\n",
      "Stacking Score :  0.43171806167400884\n",
      "Voting Score :  0.4933920704845815\n",
      "Bagging Score :  0.5\n",
      "RF Score :  0.513215859030837\n",
      "Adaboost Score :  0.4779735682819383\n",
      "None\n",
      "Report Okay !\n",
      "\n",
      "\n"
     ]
    }
   ],
   "source": [
    "# 彙整訓練資料、標籤(label)以準備用來建模\n",
    "\n",
    "os.chdir('C:\\\\Users\\\\zxpay\\\\Desktop\\\\BME_Senior\\\\EEG_CLF\\\\Emotion\\\\Code')\n",
    "n = 4   # Channel 5 is the best result\n",
    "\n",
    "#for n in range(len(my_df)):   # Run all the channel, and see what channel is best\n",
    "Testing_df = my_df[n]\n",
    "data = np.zeros([Testing_df.shape[0], 4])\n",
    "for i in range(4):\n",
    "    data[:, i] = np.array(Testing_df[Features[i]], dtype=np.float32)\n",
    "label = np.array(Testing_df['label'], dtype=np.float32)\n",
    "if CalculateZeros(data) != 0:\n",
    "    print('Warning !!!')\n",
    "\n",
    "pos = np.where((label==0) | (label==2))\n",
    "\n",
    "zero_pos = np.where(label==0)\n",
    "zero_choose = np.random.randint(500,20000,size=400)\n",
    "zero_choose = zero_pos[0][zero_choose]\n",
    "data_normal = data[zero_choose]\n",
    "label_normal = label[zero_choose]\n",
    "\n",
    "pos_happy = np.where(label==2)\n",
    "one_choose = np.random.randint(20,1020,size=400)\n",
    "one_choose = pos_happy[0][one_choose]\n",
    "data_happy = data[one_choose]\n",
    "label_happy = label[one_choose]\n",
    "\n",
    "data_del = np.delete(data, pos, axis=0)\n",
    "label_del = np.delete(label, pos)\n",
    "\n",
    "data_all = np.vstack((data_normal, data_del))\n",
    "label_all = np.hstack((label_normal, label_del))\n",
    "data_all = np.vstack((data_happy, data_all))\n",
    "label_all = np.hstack((label_happy, label_all))\n",
    "\n",
    "#     print(data_all.shape)\n",
    "#     print(label_all.shape)\n",
    "\n",
    "clf = Danny_ML_CLF()\n",
    "train_X, test_X, train_y, test_y = clf.Split_data(data_all, label_all, test_size=0.3, Standard=True)\n",
    "clf.Fit_value(train_X, train_y)\n",
    "clf.Train()\n",
    "clf.Report(train_X, train_y, [0,2,3,4], show_cm=False)\n",
    "clf.Report2txt('Train' + str(n+1) + '.txt')\n",
    "print(clf.Score())\n",
    "print()\n",
    "clf.Report(test_X, test_y, [0,2,3,4], show_cm=False)\n",
    "clf.Report2txt('Test' + str(n+1) + '.txt')\n",
    "print(clf.Score())\n",
    "print('Report Okay !\\n\\n')"
   ]
  },
  {
   "cell_type": "code",
   "execution_count": 9,
   "metadata": {
    "scrolled": true
   },
   "outputs": [
    {
     "data": {
      "text/plain": [
       "0.5220264317180616"
      ]
     },
     "execution_count": 9,
     "metadata": {},
     "output_type": "execute_result"
    }
   ],
   "source": [
    "np.sum(clf.RF_prediction(test_X)==test_y)/test_y.shape[0]"
   ]
  },
  {
   "cell_type": "code",
   "execution_count": 10,
   "metadata": {},
   "outputs": [
    {
     "name": "stdout",
     "output_type": "stream",
     "text": [
      "400\n",
      "400\n",
      "354\n",
      "358\n"
     ]
    }
   ],
   "source": [
    "print(np.sum(label_all==0))\n",
    "print(np.sum(label_all==2))\n",
    "print(np.sum(label_all==3))\n",
    "print(np.sum(label_all==4))"
   ]
  },
  {
   "cell_type": "code",
   "execution_count": 11,
   "metadata": {},
   "outputs": [
    {
     "data": {
      "text/plain": [
       "array([0., 2., 4., 4., 0., 0., 4., 0., 4., 3., 3., 3., 3., 0., 4., 4., 4.,\n",
       "       2., 2., 0., 3., 2., 0., 2., 4., 4., 3., 2., 4., 2., 2., 0., 2., 2.,\n",
       "       4., 2., 3., 2., 3., 0., 4., 2., 3., 0., 4., 0., 2., 0., 4., 2., 2.,\n",
       "       4., 4., 4., 2., 4., 3., 2., 3., 0., 4., 4., 3., 2., 4., 3., 0., 0.,\n",
       "       0., 3., 4., 0., 2., 0., 3., 4., 3., 4., 3., 3., 3., 4., 2., 2., 2.,\n",
       "       2., 0., 0., 2., 4., 0., 2., 0., 0., 4., 3., 0., 2., 4., 2., 3., 2.,\n",
       "       2., 2., 2., 4., 0., 4., 3., 4., 4., 2., 4., 2., 0., 3., 4., 0., 4.,\n",
       "       2., 2., 3., 3., 4., 0., 4., 0., 2., 2., 3., 0., 3., 0., 0., 4., 2.,\n",
       "       4., 0., 3., 4., 4., 3., 3., 4., 2., 4., 2., 3., 2., 4., 3., 0., 0.,\n",
       "       2., 3., 4., 4., 0., 4., 4., 2., 0., 2., 4., 4., 0., 2., 3., 0., 4.,\n",
       "       2., 0., 3., 2., 2., 2., 2., 0., 2., 2., 2., 4., 4., 0., 0., 0., 0.,\n",
       "       2., 3., 4., 2., 4., 4., 2., 4., 0., 2., 4., 3., 0., 4., 0., 0., 2.,\n",
       "       2., 3., 4., 0., 0., 2., 2., 4., 2., 3., 2., 4., 4., 2., 2., 3., 2.,\n",
       "       0., 4., 4., 4., 3., 4., 0., 0., 4., 3., 4., 0., 2., 3., 3., 2., 2.,\n",
       "       2., 0., 4., 2., 0., 4., 0., 2., 2., 2., 2., 3., 2., 0., 0., 3., 2.,\n",
       "       4., 3., 2., 3., 3., 0., 4., 4., 4., 3., 2., 2., 0., 0., 3., 3., 2.,\n",
       "       0., 2., 0., 4., 3., 0., 3., 2., 3., 4., 4., 3., 2., 2., 0., 3., 0.,\n",
       "       2., 0., 4., 2., 2., 0., 4., 3., 3., 2., 2., 0., 4., 2., 2., 4., 4.,\n",
       "       0., 4., 4., 4., 2., 2., 0., 0., 4., 4., 0., 0., 3., 4., 3., 3., 3.,\n",
       "       0., 2., 0., 2., 4., 3., 2., 2., 3., 3., 2., 3., 3., 2., 4., 4., 2.,\n",
       "       4., 2., 0., 4., 4., 2., 4., 0., 2., 2., 3., 0., 3., 3., 4., 2., 0.,\n",
       "       4., 3., 3., 4., 2., 2., 2., 4., 3., 2., 3., 2., 2., 0., 2., 0., 0.,\n",
       "       2., 4., 0., 2., 2., 2., 2., 0., 0., 2., 2., 2., 2., 4., 2., 4., 4.,\n",
       "       0., 0., 4., 0., 4., 0., 3., 3., 4., 2., 0., 3., 2., 0., 4., 2., 0.,\n",
       "       0., 4., 3., 0., 2., 4., 2., 2., 4., 3., 4., 0., 0., 4., 3., 3., 4.,\n",
       "       3., 0., 4., 0., 0., 4., 0., 4., 2., 3., 4., 4., 4., 0., 4., 3., 0.,\n",
       "       4., 4., 3., 0., 3., 2., 0., 0., 2., 0., 2., 2.], dtype=float32)"
      ]
     },
     "execution_count": 11,
     "metadata": {},
     "output_type": "execute_result"
    }
   ],
   "source": [
    "clf.RF_prediction(test_X)"
   ]
  },
  {
   "cell_type": "code",
   "execution_count": 12,
   "metadata": {},
   "outputs": [
    {
     "data": {
      "text/plain": [
       "DecisionTreeClassifier(class_weight=None, criterion='gini', max_depth=3,\n",
       "            max_features=None, max_leaf_nodes=None,\n",
       "            min_impurity_decrease=0.0, min_impurity_split=None,\n",
       "            min_samples_leaf=1, min_samples_split=2,\n",
       "            min_weight_fraction_leaf=0.0, presort=False, random_state=None,\n",
       "            splitter='best')"
      ]
     },
     "execution_count": 12,
     "metadata": {},
     "output_type": "execute_result"
    }
   ],
   "source": [
    "from sklearn.tree import DecisionTreeClassifier\n",
    "label_name = []\n",
    "for x in train_y:\n",
    "    if x == 0:\n",
    "        label_name.append('normal')\n",
    "    elif x == 2:\n",
    "        label_name.append('happy')\n",
    "    elif x == 3:\n",
    "        label_name.append('scare')\n",
    "    elif x == 4:\n",
    "        label_name.append('touch')\n",
    "    else:\n",
    "        print(x)\n",
    "label_name_test = []\n",
    "for x in test_y:\n",
    "    if x == 0:\n",
    "        label_name_test.append('normal')\n",
    "    elif x == 2:\n",
    "        label_name_test.append('happy')\n",
    "    elif x == 3:\n",
    "        label_name_test.append('scare')\n",
    "    elif x == 4:\n",
    "        label_name_test.append('touch')\n",
    "    else:\n",
    "        print(x)\n",
    "tree = DecisionTreeClassifier(criterion='gini',max_depth=3)\n",
    "tree.fit(train_X, label_name)"
   ]
  },
  {
   "cell_type": "code",
   "execution_count": 13,
   "metadata": {
    "collapsed": true,
    "scrolled": true
   },
   "outputs": [],
   "source": [
    "from sklearn.tree import export_graphviz\n",
    "export_graphviz(tree, out_file=\"tree.dot\", feature_names=['alpha', 'heig_beta', 'low_beta','theta'],\\\n",
    "                class_names=['normal','happy','scare', 'touch'])\n"
   ]
  },
  {
   "cell_type": "code",
   "execution_count": 14,
   "metadata": {},
   "outputs": [
    {
     "data": {
      "text/plain": [
       "0.460352422907489"
      ]
     },
     "execution_count": 14,
     "metadata": {},
     "output_type": "execute_result"
    }
   ],
   "source": [
    "!dot -Tpng tree.dot -o tree.png\n",
    "#tree.predict(test_X)\n",
    "tree.score(test_X, label_name_test)"
   ]
  },
  {
   "cell_type": "markdown",
   "metadata": {},
   "source": [
    "# Save Model (Scikit-learn model)"
   ]
  },
  {
   "cell_type": "code",
   "execution_count": 47,
   "metadata": {},
   "outputs": [],
   "source": [
    "# Save Scikit-Learn Model\n",
    "clf.Save_Model()\n"
   ]
  },
  {
   "cell_type": "code",
   "execution_count": 48,
   "metadata": {},
   "outputs": [
    {
     "name": "stderr",
     "output_type": "stream",
     "text": [
      "C:\\Users\\zxpay\\Anaconda3\\lib\\site-packages\\sklearn\\preprocessing\\label.py:151: DeprecationWarning: The truth value of an empty array is ambiguous. Returning False, but in future this will result in an error. Use `array.size > 0` to check that an array is not empty.\n",
      "  if diff:\n",
      "C:\\Users\\zxpay\\Anaconda3\\lib\\site-packages\\sklearn\\preprocessing\\label.py:151: DeprecationWarning: The truth value of an empty array is ambiguous. Returning False, but in future this will result in an error. Use `array.size > 0` to check that an array is not empty.\n",
      "  if diff:\n",
      "C:\\Users\\zxpay\\Anaconda3\\lib\\site-packages\\sklearn\\preprocessing\\label.py:151: DeprecationWarning: The truth value of an empty array is ambiguous. Returning False, but in future this will result in an error. Use `array.size > 0` to check that an array is not empty.\n",
      "  if diff:\n",
      "C:\\Users\\zxpay\\Anaconda3\\lib\\site-packages\\sklearn\\preprocessing\\label.py:151: DeprecationWarning: The truth value of an empty array is ambiguous. Returning False, but in future this will result in an error. Use `array.size > 0` to check that an array is not empty.\n",
      "  if diff:\n",
      "C:\\Users\\zxpay\\Anaconda3\\lib\\site-packages\\sklearn\\preprocessing\\label.py:151: DeprecationWarning: The truth value of an empty array is ambiguous. Returning False, but in future this will result in an error. Use `array.size > 0` to check that an array is not empty.\n",
      "  if diff:\n",
      "C:\\Users\\zxpay\\Anaconda3\\lib\\site-packages\\sklearn\\preprocessing\\label.py:151: DeprecationWarning: The truth value of an empty array is ambiguous. Returning False, but in future this will result in an error. Use `array.size > 0` to check that an array is not empty.\n",
      "  if diff:\n",
      "C:\\Users\\zxpay\\Anaconda3\\lib\\site-packages\\sklearn\\preprocessing\\label.py:151: DeprecationWarning: The truth value of an empty array is ambiguous. Returning False, but in future this will result in an error. Use `array.size > 0` to check that an array is not empty.\n",
      "  if diff:\n"
     ]
    },
    {
     "name": "stdout",
     "output_type": "stream",
     "text": [
      "SVM Score :  0.43856332703213613\n",
      "Tree Score :  0.5311909262759924\n",
      "Bayes Score :  0.3279773156899811\n",
      "KNN Score :  1.0\n",
      "XGB Score :  0.7069943289224953\n",
      "Stacking Score :  0.9130434782608695\n",
      "Voting Score :  0.9338374291115312\n",
      "Bagging Score :  1.0\n",
      "RF Score :  1.0\n",
      "Adaboost Score :  0.553875236294896\n",
      "None\n"
     ]
    },
    {
     "name": "stderr",
     "output_type": "stream",
     "text": [
      "C:\\Users\\zxpay\\Anaconda3\\lib\\site-packages\\sklearn\\preprocessing\\label.py:151: DeprecationWarning: The truth value of an empty array is ambiguous. Returning False, but in future this will result in an error. Use `array.size > 0` to check that an array is not empty.\n",
      "  if diff:\n",
      "C:\\Users\\zxpay\\Anaconda3\\lib\\site-packages\\sklearn\\preprocessing\\label.py:151: DeprecationWarning: The truth value of an empty array is ambiguous. Returning False, but in future this will result in an error. Use `array.size > 0` to check that an array is not empty.\n",
      "  if diff:\n",
      "C:\\Users\\zxpay\\Anaconda3\\lib\\site-packages\\sklearn\\preprocessing\\label.py:151: DeprecationWarning: The truth value of an empty array is ambiguous. Returning False, but in future this will result in an error. Use `array.size > 0` to check that an array is not empty.\n",
      "  if diff:\n",
      "C:\\Users\\zxpay\\Anaconda3\\lib\\site-packages\\sklearn\\preprocessing\\label.py:151: DeprecationWarning: The truth value of an empty array is ambiguous. Returning False, but in future this will result in an error. Use `array.size > 0` to check that an array is not empty.\n",
      "  if diff:\n",
      "C:\\Users\\zxpay\\Anaconda3\\lib\\site-packages\\sklearn\\preprocessing\\label.py:151: DeprecationWarning: The truth value of an empty array is ambiguous. Returning False, but in future this will result in an error. Use `array.size > 0` to check that an array is not empty.\n",
      "  if diff:\n"
     ]
    },
    {
     "name": "stdout",
     "output_type": "stream",
     "text": [
      "SVM Score :  0.42290748898678415\n",
      "Tree Score :  0.43171806167400884\n",
      "Bayes Score :  0.33259911894273125\n",
      "KNN Score :  0.44273127753303965\n",
      "XGB Score :  0.513215859030837\n",
      "Stacking Score :  0.43171806167400884\n",
      "Voting Score :  0.4933920704845815\n",
      "Bagging Score :  0.5\n",
      "RF Score :  0.513215859030837\n",
      "Adaboost Score :  0.4779735682819383\n",
      "None\n"
     ]
    }
   ],
   "source": [
    "# Read Method -- Scikit-learn model\n",
    "clf_read = Danny_ML_CLF()\n",
    "clf_read.Read_Model()\n",
    "clf.Report(train_X, train_y, [0,2,3,4], show_cm=False)\n",
    "print(clf.Score())\n",
    "clf.Report(test_X, test_y, [0,2,3,4], show_cm=False)\n",
    "print(clf.Score())"
   ]
  },
  {
   "cell_type": "markdown",
   "metadata": {},
   "source": [
    "# 建立 Neural Network Model to predict data"
   ]
  },
  {
   "cell_type": "code",
   "execution_count": 17,
   "metadata": {
    "collapsed": true
   },
   "outputs": [],
   "source": [
    "import matplotlib.pyplot as plt\n",
    "%matplotlib inline\n",
    "def plot_train_history(history, train_metrics, val_metrics):\n",
    "    plt.plot(history.history.get(train_metrics),'-o')\n",
    "    plt.plot(history.history.get(val_metrics),'-o')\n",
    "    plt.ylabel(train_metrics)\n",
    "    plt.xlabel('Epochs')\n",
    "    plt.legend(['train', 'validation'])"
   ]
  },
  {
   "cell_type": "markdown",
   "metadata": {},
   "source": [
    "#### 將 Label 經過 One-hot encoding"
   ]
  },
  {
   "cell_type": "code",
   "execution_count": 49,
   "metadata": {},
   "outputs": [
    {
     "data": {
      "text/plain": [
       "(1134, 4)"
      ]
     },
     "execution_count": 49,
     "metadata": {},
     "output_type": "execute_result"
    }
   ],
   "source": [
    "Testing_df = my_df[4]\n",
    "data = np.zeros([Testing_df.shape[0], 4])\n",
    "for i in range(4):\n",
    "    data[:, i] = np.array(Testing_df[Features[i]], dtype=np.float32)\n",
    "label = np.array(Testing_df['label'], dtype=np.float32)\n",
    "if CalculateZeros(data) != 0:\n",
    "    print('Warning !!!')\n",
    "\n",
    "pos = np.where((label==0) | (label==2))\n",
    "\n",
    "zero_pos = np.where(label==0)\n",
    "zero_choose = np.random.randint(500,20000,size=400)\n",
    "zero_choose = zero_pos[0][zero_choose]\n",
    "data_normal = data[zero_choose]\n",
    "label_normal = label[zero_choose]\n",
    "\n",
    "pos_happy = np.where(label==2)\n",
    "one_choose = np.random.randint(20,1020,size=400)\n",
    "one_choose = pos_happy[0][one_choose]\n",
    "data_happy = data[one_choose]\n",
    "label_happy = label[one_choose]\n",
    "\n",
    "data_del = np.delete(data, pos, axis=0)\n",
    "label_del = np.delete(label, pos)\n",
    "\n",
    "data_all = np.vstack((data_normal, data_del))\n",
    "label_all = np.hstack((label_normal, label_del))\n",
    "data_all = np.vstack((data_happy, data_all))\n",
    "label_all = np.hstack((label_happy, label_all))\n",
    "\n",
    "\n",
    "from sklearn.preprocessing import OneHotEncoder\n",
    "one = OneHotEncoder()\n",
    "label_onehot = one.fit_transform(label_all.reshape(-1,1)).toarray()\n",
    "train_X, test_X, train_y, test_y = clf.Split_data(data_all, label_onehot, test_size=0.25, Standard=True)\n",
    "train_y.shape"
   ]
  },
  {
   "cell_type": "markdown",
   "metadata": {},
   "source": [
    "### 建模，訓練資料與評估"
   ]
  },
  {
   "cell_type": "code",
   "execution_count": 136,
   "metadata": {},
   "outputs": [],
   "source": [
    "from keras.callbacks import EarlyStopping\n",
    "#patience:number of epochs with no improvement after which training will be stopped.\n",
    "#earlyStopping=EarlyStopping(monitor='val_loss', patience=15) \n",
    "from keras.models import Sequential\n",
    "from keras.layers import Dense, Activation, Dropout, BatchNormalization\n",
    "model = Sequential()\n",
    "model.add(Dense(128, input_dim=4, kernel_initializer='normal'))\n",
    "model.add(BatchNormalization())\n",
    "model.add(Activation('relu'))\n",
    "model.add(Dropout(0.4))\n",
    "model.add(Dense(32, kernel_initializer='normal'))\n",
    "model.add(BatchNormalization())\n",
    "model.add(Activation('relu'))\n",
    "model.add(Dense(4))\n",
    "model.add(Activation('softmax'))"
   ]
  },
  {
   "cell_type": "code",
   "execution_count": 137,
   "metadata": {
    "scrolled": true
   },
   "outputs": [
    {
     "name": "stdout",
     "output_type": "stream",
     "text": [
      "Epoch 1/100\n",
      "1134/1134 [==============================] - 2s 2ms/step - loss: 1.4249 - acc: 0.3298\n",
      "Epoch 2/100\n",
      "1134/1134 [==============================] - 0s 95us/step - loss: 1.3143 - acc: 0.3862\n",
      "Epoch 3/100\n",
      "1134/1134 [==============================] - 0s 84us/step - loss: 1.3016 - acc: 0.3907\n",
      "Epoch 4/100\n",
      "1134/1134 [==============================] - 0s 88us/step - loss: 1.2687 - acc: 0.4171\n",
      "Epoch 5/100\n",
      "1134/1134 [==============================] - 0s 92us/step - loss: 1.2666 - acc: 0.4118\n",
      "Epoch 6/100\n",
      "1134/1134 [==============================] - 0s 87us/step - loss: 1.2423 - acc: 0.3977\n",
      "Epoch 7/100\n",
      "1134/1134 [==============================] - 0s 92us/step - loss: 1.2351 - acc: 0.3898\n",
      "Epoch 8/100\n",
      "1134/1134 [==============================] - 0s 103us/step - loss: 1.2344 - acc: 0.4295\n",
      "Epoch 9/100\n",
      "1134/1134 [==============================] - 0s 94us/step - loss: 1.2351 - acc: 0.4295\n",
      "Epoch 10/100\n",
      "1134/1134 [==============================] - 0s 92us/step - loss: 1.2180 - acc: 0.4250\n",
      "Epoch 11/100\n",
      "1134/1134 [==============================] - 0s 94us/step - loss: 1.2105 - acc: 0.4250\n",
      "Epoch 12/100\n",
      "1134/1134 [==============================] - 0s 87us/step - loss: 1.2108 - acc: 0.4365\n",
      "Epoch 13/100\n",
      "1134/1134 [==============================] - 0s 98us/step - loss: 1.2127 - acc: 0.4268\n",
      "Epoch 14/100\n",
      "1134/1134 [==============================] - 0s 96us/step - loss: 1.2122 - acc: 0.4189\n",
      "Epoch 15/100\n",
      "1134/1134 [==============================] - 0s 88us/step - loss: 1.2176 - acc: 0.4215\n",
      "Epoch 16/100\n",
      "1134/1134 [==============================] - 0s 88us/step - loss: 1.1906 - acc: 0.4480\n",
      "Epoch 17/100\n",
      "1134/1134 [==============================] - 0s 82us/step - loss: 1.2093 - acc: 0.4497\n",
      "Epoch 18/100\n",
      "1134/1134 [==============================] - 0s 89us/step - loss: 1.1935 - acc: 0.4541\n",
      "Epoch 19/100\n",
      "1134/1134 [==============================] - 0s 92us/step - loss: 1.1872 - acc: 0.4524\n",
      "Epoch 20/100\n",
      "1134/1134 [==============================] - 0s 87us/step - loss: 1.1830 - acc: 0.4383\n",
      "Epoch 21/100\n",
      "1134/1134 [==============================] - 0s 99us/step - loss: 1.1967 - acc: 0.4374\n",
      "Epoch 22/100\n",
      "1134/1134 [==============================] - 0s 121us/step - loss: 1.1931 - acc: 0.4347\n",
      "Epoch 23/100\n",
      "1134/1134 [==============================] - 0s 125us/step - loss: 1.1823 - acc: 0.4612\n",
      "Epoch 24/100\n",
      "1134/1134 [==============================] - 0s 133us/step - loss: 1.1804 - acc: 0.4656\n",
      "Epoch 25/100\n",
      "1134/1134 [==============================] - 0s 124us/step - loss: 1.1865 - acc: 0.4647\n",
      "Epoch 26/100\n",
      "1134/1134 [==============================] - 0s 122us/step - loss: 1.1988 - acc: 0.4418\n",
      "Epoch 27/100\n",
      "1134/1134 [==============================] - 0s 117us/step - loss: 1.1792 - acc: 0.4383\n",
      "Epoch 28/100\n",
      "1134/1134 [==============================] - 0s 157us/step - loss: 1.1930 - acc: 0.4497\n",
      "Epoch 29/100\n",
      "1134/1134 [==============================] - 0s 127us/step - loss: 1.1820 - acc: 0.4383\n",
      "Epoch 30/100\n",
      "1134/1134 [==============================] - 0s 167us/step - loss: 1.1884 - acc: 0.4339\n",
      "Epoch 31/100\n",
      "1134/1134 [==============================] - 0s 201us/step - loss: 1.1754 - acc: 0.4735\n",
      "Epoch 32/100\n",
      "1134/1134 [==============================] - 0s 191us/step - loss: 1.1719 - acc: 0.4533\n",
      "Epoch 33/100\n",
      "1134/1134 [==============================] - 0s 179us/step - loss: 1.1636 - acc: 0.4700\n",
      "Epoch 34/100\n",
      "1134/1134 [==============================] - 0s 120us/step - loss: 1.1875 - acc: 0.4480\n",
      "Epoch 35/100\n",
      "1134/1134 [==============================] - 0s 137us/step - loss: 1.1879 - acc: 0.4409\n",
      "Epoch 36/100\n",
      "1134/1134 [==============================] - 0s 137us/step - loss: 1.1857 - acc: 0.4418\n",
      "Epoch 37/100\n",
      "1134/1134 [==============================] - 0s 152us/step - loss: 1.1686 - acc: 0.4586\n",
      "Epoch 38/100\n",
      "1134/1134 [==============================] - 0s 73us/step - loss: 1.1723 - acc: 0.4638\n",
      "Epoch 39/100\n",
      "1134/1134 [==============================] - 0s 141us/step - loss: 1.1745 - acc: 0.4383\n",
      "Epoch 40/100\n",
      "1134/1134 [==============================] - 0s 139us/step - loss: 1.1748 - acc: 0.4612\n",
      "Epoch 41/100\n",
      "1134/1134 [==============================] - 0s 148us/step - loss: 1.1699 - acc: 0.4612\n",
      "Epoch 42/100\n",
      "1134/1134 [==============================] - 0s 135us/step - loss: 1.1569 - acc: 0.4683\n",
      "Epoch 43/100\n",
      "1134/1134 [==============================] - 0s 82us/step - loss: 1.1605 - acc: 0.4806\n",
      "Epoch 44/100\n",
      "1134/1134 [==============================] - 0s 76us/step - loss: 1.1678 - acc: 0.4577\n",
      "Epoch 45/100\n",
      "1134/1134 [==============================] - 0s 73us/step - loss: 1.1739 - acc: 0.4515\n",
      "Epoch 46/100\n",
      "1134/1134 [==============================] - 0s 73us/step - loss: 1.1642 - acc: 0.4771\n",
      "Epoch 47/100\n",
      "1134/1134 [==============================] - 0s 157us/step - loss: 1.1566 - acc: 0.4683\n",
      "Epoch 48/100\n",
      "1134/1134 [==============================] - 0s 237us/step - loss: 1.1673 - acc: 0.4586\n",
      "Epoch 49/100\n",
      "1134/1134 [==============================] - 0s 165us/step - loss: 1.1743 - acc: 0.4550\n",
      "Epoch 50/100\n",
      "1134/1134 [==============================] - 0s 128us/step - loss: 1.1720 - acc: 0.4647\n",
      "Epoch 51/100\n",
      "1134/1134 [==============================] - 0s 180us/step - loss: 1.1726 - acc: 0.4427\n",
      "Epoch 52/100\n",
      "1134/1134 [==============================] - 0s 106us/step - loss: 1.1557 - acc: 0.4612\n",
      "Epoch 53/100\n",
      "1134/1134 [==============================] - 0s 108us/step - loss: 1.1645 - acc: 0.4665\n",
      "Epoch 54/100\n",
      "1134/1134 [==============================] - 0s 164us/step - loss: 1.1719 - acc: 0.4541\n",
      "Epoch 55/100\n",
      "1134/1134 [==============================] - 0s 103us/step - loss: 1.1569 - acc: 0.4691\n",
      "Epoch 56/100\n",
      "1134/1134 [==============================] - 0s 89us/step - loss: 1.1671 - acc: 0.4735\n",
      "Epoch 57/100\n",
      "1134/1134 [==============================] - 0s 80us/step - loss: 1.1652 - acc: 0.4647\n",
      "Epoch 58/100\n",
      "1134/1134 [==============================] - 0s 79us/step - loss: 1.1584 - acc: 0.4780\n",
      "Epoch 59/100\n",
      "1134/1134 [==============================] - 0s 76us/step - loss: 1.1571 - acc: 0.4638\n",
      "Epoch 60/100\n",
      "1134/1134 [==============================] - 0s 77us/step - loss: 1.1567 - acc: 0.4806\n",
      "Epoch 61/100\n",
      "1134/1134 [==============================] - 0s 77us/step - loss: 1.1567 - acc: 0.4647\n",
      "Epoch 62/100\n",
      "1134/1134 [==============================] - 0s 83us/step - loss: 1.1562 - acc: 0.4877\n",
      "Epoch 63/100\n",
      "1134/1134 [==============================] - 0s 113us/step - loss: 1.1547 - acc: 0.4727\n",
      "Epoch 64/100\n",
      "1134/1134 [==============================] - 0s 106us/step - loss: 1.1657 - acc: 0.4621\n",
      "Epoch 65/100\n",
      "1134/1134 [==============================] - 0s 91us/step - loss: 1.1543 - acc: 0.4577\n",
      "Epoch 66/100\n",
      "1134/1134 [==============================] - 0s 90us/step - loss: 1.1493 - acc: 0.4691\n",
      "Epoch 67/100\n",
      "1134/1134 [==============================] - 0s 83us/step - loss: 1.1628 - acc: 0.4594\n",
      "Epoch 68/100\n",
      "1134/1134 [==============================] - 0s 94us/step - loss: 1.1487 - acc: 0.4903\n",
      "Epoch 69/100\n",
      "1134/1134 [==============================] - 0s 91us/step - loss: 1.1520 - acc: 0.4665\n",
      "Epoch 70/100\n",
      "1134/1134 [==============================] - 0s 94us/step - loss: 1.1499 - acc: 0.4877\n",
      "Epoch 71/100\n",
      "1134/1134 [==============================] - 0s 88us/step - loss: 1.1562 - acc: 0.4815\n",
      "Epoch 72/100\n",
      "1134/1134 [==============================] - 0s 93us/step - loss: 1.1557 - acc: 0.4771\n",
      "Epoch 73/100\n",
      "1134/1134 [==============================] - 0s 81us/step - loss: 1.1422 - acc: 0.4859\n",
      "Epoch 74/100\n",
      "1134/1134 [==============================] - 0s 88us/step - loss: 1.1475 - acc: 0.4612\n",
      "Epoch 75/100\n",
      "1134/1134 [==============================] - 0s 109us/step - loss: 1.1523 - acc: 0.4841\n",
      "Epoch 76/100\n",
      "1134/1134 [==============================] - 0s 89us/step - loss: 1.1569 - acc: 0.4674\n",
      "Epoch 77/100\n",
      "1134/1134 [==============================] - 0s 80us/step - loss: 1.1468 - acc: 0.4700\n",
      "Epoch 78/100\n",
      "1134/1134 [==============================] - 0s 76us/step - loss: 1.1568 - acc: 0.4877\n",
      "Epoch 79/100\n",
      "1134/1134 [==============================] - 0s 78us/step - loss: 1.1374 - acc: 0.4771\n",
      "Epoch 80/100\n",
      "1134/1134 [==============================] - 0s 86us/step - loss: 1.1486 - acc: 0.4788\n",
      "Epoch 81/100\n",
      "1134/1134 [==============================] - 0s 86us/step - loss: 1.1429 - acc: 0.4841\n",
      "Epoch 82/100\n"
     ]
    },
    {
     "name": "stdout",
     "output_type": "stream",
     "text": [
      "1134/1134 [==============================] - 0s 93us/step - loss: 1.1413 - acc: 0.4824\n",
      "Epoch 83/100\n",
      "1134/1134 [==============================] - 0s 91us/step - loss: 1.1521 - acc: 0.4656\n",
      "Epoch 84/100\n",
      "1134/1134 [==============================] - 0s 84us/step - loss: 1.1397 - acc: 0.4903\n",
      "Epoch 85/100\n",
      "1134/1134 [==============================] - 0s 82us/step - loss: 1.1417 - acc: 0.4762\n",
      "Epoch 86/100\n",
      "1134/1134 [==============================] - 0s 86us/step - loss: 1.1407 - acc: 0.4780\n",
      "Epoch 87/100\n",
      "1134/1134 [==============================] - 0s 84us/step - loss: 1.1563 - acc: 0.4797\n",
      "Epoch 88/100\n",
      "1134/1134 [==============================] - 0s 92us/step - loss: 1.1467 - acc: 0.4797\n",
      "Epoch 89/100\n",
      "1134/1134 [==============================] - 0s 112us/step - loss: 1.1423 - acc: 0.4647\n",
      "Epoch 90/100\n",
      "1134/1134 [==============================] - 0s 164us/step - loss: 1.1304 - acc: 0.4824\n",
      "Epoch 91/100\n",
      "1134/1134 [==============================] - 0s 128us/step - loss: 1.1491 - acc: 0.4824\n",
      "Epoch 92/100\n",
      "1134/1134 [==============================] - 0s 143us/step - loss: 1.1525 - acc: 0.4735\n",
      "Epoch 93/100\n",
      "1134/1134 [==============================] - 0s 159us/step - loss: 1.1427 - acc: 0.4815\n",
      "Epoch 94/100\n",
      "1134/1134 [==============================] - 0s 148us/step - loss: 1.1449 - acc: 0.4815\n",
      "Epoch 95/100\n",
      "1134/1134 [==============================] - 0s 149us/step - loss: 1.1388 - acc: 0.4832\n",
      "Epoch 96/100\n",
      "1134/1134 [==============================] - 0s 150us/step - loss: 1.1553 - acc: 0.4603\n",
      "Epoch 97/100\n",
      "1134/1134 [==============================] - 0s 147us/step - loss: 1.1366 - acc: 0.4982\n",
      "Epoch 98/100\n",
      "1134/1134 [==============================] - 0s 102us/step - loss: 1.1390 - acc: 0.4824\n",
      "Epoch 99/100\n",
      "1134/1134 [==============================] - 0s 82us/step - loss: 1.1421 - acc: 0.4621\n",
      "Epoch 100/100\n",
      "1134/1134 [==============================] - 0s 86us/step - loss: 1.1447 - acc: 0.4780\n"
     ]
    }
   ],
   "source": [
    "model.compile(optimizer='rmsprop',\n",
    "              loss='categorical_crossentropy',\n",
    "              metrics=['acc'])\n",
    "history = model.fit(train_X, train_y, epochs=100, batch_size=100, verbose=1,)"
   ]
  },
  {
   "cell_type": "code",
   "execution_count": 138,
   "metadata": {},
   "outputs": [
    {
     "name": "stdout",
     "output_type": "stream",
     "text": [
      "378/378 [==============================] - 1s 2ms/step\n",
      "[1.1601175732082791, 0.4788359838818747]\n"
     ]
    },
    {
     "data": {
      "image/png": "[encoded data removed]",
      "text/plain": [
       "<matplotlib.figure.Figure at 0x18fcb394b70>"
      ]
     },
     "metadata": {},
     "output_type": "display_data"
    },
    {
     "data": {
      "image/png": "[encoded data removed]",
      "text/plain": [
       "<matplotlib.figure.Figure at 0x18fc8becd30>"
      ]
     },
     "metadata": {},
     "output_type": "display_data"
    }
   ],
   "source": [
    "score = model.evaluate(test_X, test_y, batch_size=150)\n",
    "print(score)\n",
    "y_acc = history.history['acc']\n",
    "x_acc = np.linspace(0, len(y_acc), len(y_acc))\n",
    "plt.figure(figsize=(12,8))\n",
    "plt.title('Train ACC')\n",
    "plt.plot(x_acc, y_acc, 'r*-')\n",
    "plt.show()\n",
    "y_loss = history.history['loss']\n",
    "x_loss = np.linspace(0, len(y_loss), len(y_loss))\n",
    "plt.figure(figsize=(12,8))\n",
    "plt.title('Train LOSS')\n",
    "plt.plot(x_loss, y_loss,'b*-')\n",
    "plt.show()"
   ]
  },
  {
   "cell_type": "code",
   "execution_count": 135,
   "metadata": {},
   "outputs": [],
   "source": [
    "### Early stop Validation\n",
    "# plt.figure(figsize=(12,4))\n",
    "# plt.subplot(1,2,1)\n",
    "# plot_train_history(history, 'loss','val_loss')\n",
    "# plt.subplot(1,2,2)\n",
    "# plot_train_history(history, 'acc','val_acc')"
   ]
  },
  {
   "cell_type": "code",
   "execution_count": 139,
   "metadata": {},
   "outputs": [
    {
     "data": {
      "text/plain": [
       "array([[0.334381  , 0.13161668, 0.19847952, 0.33552274],\n",
       "       [0.3931721 , 0.08926021, 0.3041283 , 0.21343945],\n",
       "       [0.30236647, 0.17181844, 0.28987956, 0.23593554],\n",
       "       ...,\n",
       "       [0.29175305, 0.29099032, 0.21026888, 0.20698774],\n",
       "       [0.31753823, 0.08285166, 0.18591203, 0.41369808],\n",
       "       [0.31183514, 0.09535255, 0.1753564 , 0.4174559 ]], dtype=float32)"
      ]
     },
     "execution_count": 139,
     "metadata": {},
     "output_type": "execute_result"
    }
   ],
   "source": [
    "model.predict(test_X)"
   ]
  },
  {
   "cell_type": "code",
   "execution_count": 140,
   "metadata": {},
   "outputs": [
    {
     "data": {
      "text/plain": [
       "array([[0.18994996, 0.38595843, 0.29014504, 0.13394657],\n",
       "       [0.5007923 , 0.05653713, 0.1913594 , 0.25131115],\n",
       "       [0.44983232, 0.03779883, 0.20200008, 0.31036872],\n",
       "       ...,\n",
       "       [0.288815  , 0.18869744, 0.2112816 , 0.31120595],\n",
       "       [0.06484378, 0.7748897 , 0.08430586, 0.07596063],\n",
       "       [0.24675436, 0.09113209, 0.3621535 , 0.29996002]], dtype=float32)"
      ]
     },
     "execution_count": 140,
     "metadata": {},
     "output_type": "execute_result"
    }
   ],
   "source": [
    "model.predict(train_X)"
   ]
  },
  {
   "cell_type": "markdown",
   "metadata": {},
   "source": [
    "# Save Model (Keras NN model)"
   ]
  },
  {
   "cell_type": "code",
   "execution_count": 141,
   "metadata": {},
   "outputs": [],
   "source": [
    "# Save Keras Model\n",
    "model.save('save/NNModel.h5')\n"
   ]
  },
  {
   "cell_type": "code",
   "execution_count": 142,
   "metadata": {},
   "outputs": [
    {
     "name": "stdout",
     "output_type": "stream",
     "text": [
      "378/378 [==============================] - 1s 1ms/step\n"
     ]
    },
    {
     "data": {
      "text/plain": [
       "[1.1601176198828158, 0.4788359914507185]"
      ]
     },
     "execution_count": 142,
     "metadata": {},
     "output_type": "execute_result"
    }
   ],
   "source": [
    "# Read Method -- Keras model\n",
    "from keras.models import load_model\n",
    "model_read = load_model('save/NNModel.h5')\n",
    "score = model_read.evaluate(test_X, test_y, batch_size=200)\n",
    "score"
   ]
  },
  {
   "cell_type": "code",
   "execution_count": null,
   "metadata": {},
   "outputs": [],
   "source": []
  },
  {
   "cell_type": "code",
   "execution_count": null,
   "metadata": {},
   "outputs": [],
   "source": []
  },
  {
   "cell_type": "code",
   "execution_count": null,
   "metadata": {
    "collapsed": true
   },
   "outputs": [],
   "source": []
  }
 ],
 "metadata": {
  "kernelspec": {
   "display_name": "Python 3",
   "language": "python",
   "name": "python3"
  },
  "language_info": {
   "codemirror_mode": {
    "name": "ipython",
    "version": 3
   },
   "file_extension": ".py",
   "mimetype": "text/x-python",
   "name": "python",
   "nbconvert_exporter": "python",
   "pygments_lexer": "ipython3",
   "version": "3.6.1"
  }
 },
 "nbformat": 4,
 "nbformat_minor": 2
}
