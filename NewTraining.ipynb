{
 "cells": [
  {
   "cell_type": "code",
   "execution_count": 1,
   "metadata": {},
   "outputs": [
    {
     "name": "stderr",
     "output_type": "stream",
     "text": [
      "C:\\Users\\zxpay\\Anaconda3\\lib\\site-packages\\sklearn\\cross_validation.py:41: DeprecationWarning: This module was deprecated in version 0.18 in favor of the model_selection module into which all the refactored classes and functions are moved. Also note that the interface of the new CV iterators are different from that of this module. This module will be removed in 0.20.\n",
      "  \"This module will be removed in 0.20.\", DeprecationWarning)\n"
     ]
    }
   ],
   "source": [
    "import numpy as np\n",
    "import matplotlib.pyplot as plt\n",
    "import pandas as pd\n",
    "from Get_file import Get_file   # return dirpath, dirnames, filenames\n",
    "from FFT import FFT, PlotDataOnTimeDomain\n",
    "from BandPassFilter import BandPassFilter, PlotDataOnFreqDomain, BandPassListFilter\n",
    "from Danny_ML_CLF import Danny_ML_CLF\n",
    "import os\n",
    "\n",
    "%matplotlib inline\n",
    "\n",
    "data_dir = \"C:\\\\Users\\\\zxpay\\\\Desktop\\\\BME_Senior\\\\EEG_CLF\\\\Emotion\\\\database\\\\New_SDK_Data\"\n"
   ]
  },
  {
   "cell_type": "code",
   "execution_count": 2,
   "metadata": {
    "collapsed": true
   },
   "outputs": [],
   "source": [
    "def CalculateZeros(NumpyArray):\n",
    "    LogicWithZeros = (NumpyArray == 0)\n",
    "    return np.sum(LogicWithZeros)"
   ]
  },
  {
   "cell_type": "code",
   "execution_count": 3,
   "metadata": {
    "scrolled": true
   },
   "outputs": [],
   "source": [
    "os.chdir(data_dir)\n",
    "_,data_files,_ = Get_file(data_dir)\n",
    "data_files\n",
    "all_df = pd.DataFrame()\n",
    "for file in data_files:\n",
    "    emotion = 0\n",
    "    # 1->normal, 2->happy, 3->scare, 4->touch, \n",
    "    _,_,file_names = Get_file(data_dir + '\\\\' + file)\n",
    "    for fn in file_names:\n",
    "        \n",
    "        data_name = data_dir + '\\\\' + file + '\\\\' + fn\n",
    "        if 'happy' in fn:\n",
    "            emotion = 2\n",
    "        elif 'scare' in fn:\n",
    "            emotion = 3\n",
    "        elif 'touch' in fn:\n",
    "            emotion = 4\n",
    "        else:\n",
    "            print(fn)\n",
    "            emotion = 1\n",
    "        #print(emotion, fn)\n",
    "        df = pd.read_csv(data_name, engine='python')\n",
    "        df_length = df.shape[0]\n",
    "        \n",
    "        df['label'] = df['label']*emotion\n",
    "            \n",
    "        try:\n",
    "            all_df = pd.concat([all_df,df])\n",
    "        except Exception as e:\n",
    "            print(e)\n",
    "            all_df = df\n",
    "        #print(sorted(df.corr()['label'].tolist()), fn)\n",
    "        #print('***********************************************')\n",
    "        "
   ]
  },
  {
   "cell_type": "code",
   "execution_count": 4,
   "metadata": {
    "collapsed": true
   },
   "outputs": [],
   "source": [
    "# 移除遺失值\n",
    "all_df = all_df.dropna(axis=1)\n",
    "all_df = all_df.reset_index()"
   ]
  },
  {
   "cell_type": "code",
   "execution_count": 5,
   "metadata": {
    "collapsed": true
   },
   "outputs": [],
   "source": [
    "Columns = ['alpha', 'channel', 'gamma', 'heig_beta', 'label','low_beta','theta','time']\n",
    "Features = ['alpha', 'heig_beta', 'low_beta','theta']\n",
    "Labels = ['label']"
   ]
  },
  {
   "cell_type": "code",
   "execution_count": 6,
   "metadata": {
    "collapsed": true
   },
   "outputs": [],
   "source": [
    "channel1 = all_df[all_df['channel'] == 1].index\n",
    "channel2 = all_df[all_df['channel'] == 2].index\n",
    "channel3 = all_df[all_df['channel'] == 3].index\n",
    "channel4 = all_df[all_df['channel'] == 4].index\n",
    "channel5 = all_df[all_df['channel'] == 5].index\n",
    "channel6 = all_df[all_df['channel'] == 6].index\n",
    "channel7 = all_df[all_df['channel'] == 7].index\n",
    "channel8 = all_df[all_df['channel'] == 8].index\n",
    "channel9 = all_df[all_df['channel'] == 9].index\n",
    "channel10 = all_df[all_df['channel'] == 10].index\n",
    "channel11 = all_df[all_df['channel'] == 11].index\n",
    "channel12 = all_df[all_df['channel'] == 12].index\n",
    "channel13 = all_df[all_df['channel'] == 13].index\n",
    "channel14 = all_df[all_df['channel'] == 14].index\n",
    "\n",
    "df_1 = all_df.iloc[channel1]\n",
    "df_2 = all_df.iloc[channel2]\n",
    "df_3 = all_df.iloc[channel3]\n",
    "df_4 = all_df.iloc[channel4]\n",
    "df_5 = all_df.iloc[channel5]\n",
    "df_6 = all_df.iloc[channel6]\n",
    "df_7 = all_df.iloc[channel7]\n",
    "df_8 = all_df.iloc[channel8]\n",
    "df_9 = all_df.iloc[channel9]\n",
    "df_10 = all_df.iloc[channel10]\n",
    "df_11 = all_df.iloc[channel11]\n",
    "df_12 = all_df.iloc[channel12]\n",
    "df_13 = all_df.iloc[channel13]\n",
    "df_14 = all_df.iloc[channel14]\n"
   ]
  },
  {
   "cell_type": "code",
   "execution_count": 7,
   "metadata": {
    "collapsed": true,
    "scrolled": true
   },
   "outputs": [],
   "source": [
    "my_df = [df_1, df_2, df_3, df_4, df_5, df_6, df_7, df_8, df_9,\n",
    "        df_10, df_11, df_12, df_13, df_14]"
   ]
  },
  {
   "cell_type": "code",
   "execution_count": null,
   "metadata": {
    "collapsed": true
   },
   "outputs": [],
   "source": []
  },
  {
   "cell_type": "code",
   "execution_count": 8,
   "metadata": {},
   "outputs": [
    {
     "name": "stdout",
     "output_type": "stream",
     "text": [
      "(1531, 4)\n",
      "(1531,)\n"
     ]
    },
    {
     "name": "stderr",
     "output_type": "stream",
     "text": [
      "C:\\Users\\zxpay\\Anaconda3\\lib\\site-packages\\sklearn\\preprocessing\\label.py:151: DeprecationWarning: The truth value of an empty array is ambiguous. Returning False, but in future this will result in an error. Use `array.size > 0` to check that an array is not empty.\n",
      "  if diff:\n",
      "C:\\Users\\zxpay\\Anaconda3\\lib\\site-packages\\sklearn\\preprocessing\\label.py:151: DeprecationWarning: The truth value of an empty array is ambiguous. Returning False, but in future this will result in an error. Use `array.size > 0` to check that an array is not empty.\n",
      "  if diff:\n",
      "C:\\Users\\zxpay\\Anaconda3\\lib\\site-packages\\sklearn\\preprocessing\\label.py:151: DeprecationWarning: The truth value of an empty array is ambiguous. Returning False, but in future this will result in an error. Use `array.size > 0` to check that an array is not empty.\n",
      "  if diff:\n",
      "C:\\Users\\zxpay\\Anaconda3\\lib\\site-packages\\sklearn\\preprocessing\\label.py:151: DeprecationWarning: The truth value of an empty array is ambiguous. Returning False, but in future this will result in an error. Use `array.size > 0` to check that an array is not empty.\n",
      "  if diff:\n",
      "C:\\Users\\zxpay\\Anaconda3\\lib\\site-packages\\sklearn\\preprocessing\\label.py:151: DeprecationWarning: The truth value of an empty array is ambiguous. Returning False, but in future this will result in an error. Use `array.size > 0` to check that an array is not empty.\n",
      "  if diff:\n",
      "C:\\Users\\zxpay\\Anaconda3\\lib\\site-packages\\sklearn\\preprocessing\\label.py:151: DeprecationWarning: The truth value of an empty array is ambiguous. Returning False, but in future this will result in an error. Use `array.size > 0` to check that an array is not empty.\n",
      "  if diff:\n",
      "C:\\Users\\zxpay\\Anaconda3\\lib\\site-packages\\sklearn\\preprocessing\\label.py:151: DeprecationWarning: The truth value of an empty array is ambiguous. Returning False, but in future this will result in an error. Use `array.size > 0` to check that an array is not empty.\n",
      "  if diff:\n",
      "C:\\Users\\zxpay\\Anaconda3\\lib\\site-packages\\sklearn\\preprocessing\\label.py:151: DeprecationWarning: The truth value of an empty array is ambiguous. Returning False, but in future this will result in an error. Use `array.size > 0` to check that an array is not empty.\n",
      "  if diff:\n",
      "C:\\Users\\zxpay\\Anaconda3\\lib\\site-packages\\sklearn\\preprocessing\\label.py:151: DeprecationWarning: The truth value of an empty array is ambiguous. Returning False, but in future this will result in an error. Use `array.size > 0` to check that an array is not empty.\n",
      "  if diff:\n",
      "C:\\Users\\zxpay\\Anaconda3\\lib\\site-packages\\sklearn\\preprocessing\\label.py:151: DeprecationWarning: The truth value of an empty array is ambiguous. Returning False, but in future this will result in an error. Use `array.size > 0` to check that an array is not empty.\n",
      "  if diff:\n"
     ]
    },
    {
     "name": "stdout",
     "output_type": "stream",
     "text": [
      "SVM Score :  0.4827264239028945\n",
      "Tree Score :  0.5452847805788982\n",
      "Bayes Score :  0.35947712418300654\n",
      "KNN Score :  1.0\n",
      "XGB Score :  0.715219421101774\n",
      "Stacking Score :  0.9561157796451915\n",
      "Voting Score :  0.9495798319327731\n",
      "Bagging Score :  1.0\n",
      "RF Score :  1.0\n",
      "Adaboost Score :  0.5256769374416433\n",
      "None\n",
      "\n"
     ]
    },
    {
     "name": "stderr",
     "output_type": "stream",
     "text": [
      "C:\\Users\\zxpay\\Anaconda3\\lib\\site-packages\\sklearn\\preprocessing\\label.py:151: DeprecationWarning: The truth value of an empty array is ambiguous. Returning False, but in future this will result in an error. Use `array.size > 0` to check that an array is not empty.\n",
      "  if diff:\n",
      "C:\\Users\\zxpay\\Anaconda3\\lib\\site-packages\\sklearn\\preprocessing\\label.py:151: DeprecationWarning: The truth value of an empty array is ambiguous. Returning False, but in future this will result in an error. Use `array.size > 0` to check that an array is not empty.\n",
      "  if diff:\n",
      "C:\\Users\\zxpay\\Anaconda3\\lib\\site-packages\\sklearn\\preprocessing\\label.py:151: DeprecationWarning: The truth value of an empty array is ambiguous. Returning False, but in future this will result in an error. Use `array.size > 0` to check that an array is not empty.\n",
      "  if diff:\n",
      "C:\\Users\\zxpay\\Anaconda3\\lib\\site-packages\\sklearn\\metrics\\classification.py:1135: UndefinedMetricWarning: Precision and F-score are ill-defined and being set to 0.0 in labels with no predicted samples.\n",
      "  'precision', 'predicted', average, warn_for)\n"
     ]
    },
    {
     "name": "stdout",
     "output_type": "stream",
     "text": [
      "SVM Score :  0.46956521739130436\n",
      "Tree Score :  0.46304347826086956\n",
      "Bayes Score :  0.3717391304347826\n",
      "KNN Score :  0.45652173913043476\n",
      "XGB Score :  0.5021739130434782\n",
      "Stacking Score :  0.44130434782608696\n",
      "Voting Score :  0.4934782608695652\n",
      "Bagging Score :  0.5260869565217391\n",
      "RF Score :  0.5173913043478261\n",
      "Adaboost Score :  0.45\n",
      "None\n",
      "Report Okay !\n",
      "\n",
      "\n",
      "(1531, 4)\n",
      "(1531,)\n"
     ]
    },
    {
     "name": "stderr",
     "output_type": "stream",
     "text": [
      "C:\\Users\\zxpay\\Anaconda3\\lib\\site-packages\\sklearn\\preprocessing\\label.py:151: DeprecationWarning: The truth value of an empty array is ambiguous. Returning False, but in future this will result in an error. Use `array.size > 0` to check that an array is not empty.\n",
      "  if diff:\n",
      "C:\\Users\\zxpay\\Anaconda3\\lib\\site-packages\\sklearn\\preprocessing\\label.py:151: DeprecationWarning: The truth value of an empty array is ambiguous. Returning False, but in future this will result in an error. Use `array.size > 0` to check that an array is not empty.\n",
      "  if diff:\n",
      "C:\\Users\\zxpay\\Anaconda3\\lib\\site-packages\\sklearn\\preprocessing\\label.py:151: DeprecationWarning: The truth value of an empty array is ambiguous. Returning False, but in future this will result in an error. Use `array.size > 0` to check that an array is not empty.\n",
      "  if diff:\n",
      "C:\\Users\\zxpay\\Anaconda3\\lib\\site-packages\\sklearn\\preprocessing\\label.py:151: DeprecationWarning: The truth value of an empty array is ambiguous. Returning False, but in future this will result in an error. Use `array.size > 0` to check that an array is not empty.\n",
      "  if diff:\n",
      "C:\\Users\\zxpay\\Anaconda3\\lib\\site-packages\\sklearn\\preprocessing\\label.py:151: DeprecationWarning: The truth value of an empty array is ambiguous. Returning False, but in future this will result in an error. Use `array.size > 0` to check that an array is not empty.\n",
      "  if diff:\n",
      "C:\\Users\\zxpay\\Anaconda3\\lib\\site-packages\\sklearn\\preprocessing\\label.py:151: DeprecationWarning: The truth value of an empty array is ambiguous. Returning False, but in future this will result in an error. Use `array.size > 0` to check that an array is not empty.\n",
      "  if diff:\n",
      "C:\\Users\\zxpay\\Anaconda3\\lib\\site-packages\\sklearn\\preprocessing\\label.py:151: DeprecationWarning: The truth value of an empty array is ambiguous. Returning False, but in future this will result in an error. Use `array.size > 0` to check that an array is not empty.\n",
      "  if diff:\n",
      "C:\\Users\\zxpay\\Anaconda3\\lib\\site-packages\\sklearn\\preprocessing\\label.py:151: DeprecationWarning: The truth value of an empty array is ambiguous. Returning False, but in future this will result in an error. Use `array.size > 0` to check that an array is not empty.\n",
      "  if diff:\n",
      "C:\\Users\\zxpay\\Anaconda3\\lib\\site-packages\\sklearn\\preprocessing\\label.py:151: DeprecationWarning: The truth value of an empty array is ambiguous. Returning False, but in future this will result in an error. Use `array.size > 0` to check that an array is not empty.\n",
      "  if diff:\n",
      "C:\\Users\\zxpay\\Anaconda3\\lib\\site-packages\\sklearn\\preprocessing\\label.py:151: DeprecationWarning: The truth value of an empty array is ambiguous. Returning False, but in future this will result in an error. Use `array.size > 0` to check that an array is not empty.\n",
      "  if diff:\n"
     ]
    },
    {
     "name": "stdout",
     "output_type": "stream",
     "text": [
      "SVM Score :  0.4911297852474323\n",
      "Tree Score :  0.5592903828197946\n",
      "Bayes Score :  0.4239028944911298\n",
      "KNN Score :  1.0\n",
      "XGB Score :  0.7086834733893558\n",
      "Stacking Score :  0.8842203548085901\n",
      "Voting Score :  0.945845004668534\n",
      "Bagging Score :  1.0\n",
      "RF Score :  1.0\n",
      "Adaboost Score :  0.49673202614379086\n",
      "None\n",
      "\n",
      "SVM Score :  0.44782608695652176\n",
      "Tree Score :  0.4260869565217391\n",
      "Bayes Score :  0.3739130434782609\n",
      "KNN Score :  0.48478260869565215\n",
      "XGB Score :  0.45\n",
      "Stacking Score :  0.44565217391304346\n",
      "Voting Score :  0.4891304347826087\n",
      "Bagging Score :  0.508695652173913\n",
      "RF Score :  0.5152173913043478\n",
      "Adaboost Score :  0.42391304347826086\n",
      "None\n",
      "Report Okay !\n",
      "\n",
      "\n",
      "(1531, 4)\n",
      "(1531,)\n"
     ]
    },
    {
     "name": "stderr",
     "output_type": "stream",
     "text": [
      "C:\\Users\\zxpay\\Anaconda3\\lib\\site-packages\\sklearn\\preprocessing\\label.py:151: DeprecationWarning: The truth value of an empty array is ambiguous. Returning False, but in future this will result in an error. Use `array.size > 0` to check that an array is not empty.\n",
      "  if diff:\n",
      "C:\\Users\\zxpay\\Anaconda3\\lib\\site-packages\\sklearn\\preprocessing\\label.py:151: DeprecationWarning: The truth value of an empty array is ambiguous. Returning False, but in future this will result in an error. Use `array.size > 0` to check that an array is not empty.\n",
      "  if diff:\n",
      "C:\\Users\\zxpay\\Anaconda3\\lib\\site-packages\\sklearn\\preprocessing\\label.py:151: DeprecationWarning: The truth value of an empty array is ambiguous. Returning False, but in future this will result in an error. Use `array.size > 0` to check that an array is not empty.\n",
      "  if diff:\n",
      "C:\\Users\\zxpay\\Anaconda3\\lib\\site-packages\\sklearn\\preprocessing\\label.py:151: DeprecationWarning: The truth value of an empty array is ambiguous. Returning False, but in future this will result in an error. Use `array.size > 0` to check that an array is not empty.\n",
      "  if diff:\n",
      "C:\\Users\\zxpay\\Anaconda3\\lib\\site-packages\\sklearn\\preprocessing\\label.py:151: DeprecationWarning: The truth value of an empty array is ambiguous. Returning False, but in future this will result in an error. Use `array.size > 0` to check that an array is not empty.\n",
      "  if diff:\n",
      "C:\\Users\\zxpay\\Anaconda3\\lib\\site-packages\\sklearn\\preprocessing\\label.py:151: DeprecationWarning: The truth value of an empty array is ambiguous. Returning False, but in future this will result in an error. Use `array.size > 0` to check that an array is not empty.\n",
      "  if diff:\n",
      "C:\\Users\\zxpay\\Anaconda3\\lib\\site-packages\\sklearn\\preprocessing\\label.py:151: DeprecationWarning: The truth value of an empty array is ambiguous. Returning False, but in future this will result in an error. Use `array.size > 0` to check that an array is not empty.\n",
      "  if diff:\n",
      "C:\\Users\\zxpay\\Anaconda3\\lib\\site-packages\\sklearn\\preprocessing\\label.py:151: DeprecationWarning: The truth value of an empty array is ambiguous. Returning False, but in future this will result in an error. Use `array.size > 0` to check that an array is not empty.\n",
      "  if diff:\n",
      "C:\\Users\\zxpay\\Anaconda3\\lib\\site-packages\\sklearn\\preprocessing\\label.py:151: DeprecationWarning: The truth value of an empty array is ambiguous. Returning False, but in future this will result in an error. Use `array.size > 0` to check that an array is not empty.\n",
      "  if diff:\n",
      "C:\\Users\\zxpay\\Anaconda3\\lib\\site-packages\\sklearn\\preprocessing\\label.py:151: DeprecationWarning: The truth value of an empty array is ambiguous. Returning False, but in future this will result in an error. Use `array.size > 0` to check that an array is not empty.\n",
      "  if diff:\n",
      "C:\\Users\\zxpay\\Anaconda3\\lib\\site-packages\\sklearn\\preprocessing\\label.py:151: DeprecationWarning: The truth value of an empty array is ambiguous. Returning False, but in future this will result in an error. Use `array.size > 0` to check that an array is not empty.\n",
      "  if diff:\n",
      "C:\\Users\\zxpay\\Anaconda3\\lib\\site-packages\\sklearn\\preprocessing\\label.py:151: DeprecationWarning: The truth value of an empty array is ambiguous. Returning False, but in future this will result in an error. Use `array.size > 0` to check that an array is not empty.\n",
      "  if diff:\n",
      "C:\\Users\\zxpay\\Anaconda3\\lib\\site-packages\\sklearn\\preprocessing\\label.py:151: DeprecationWarning: The truth value of an empty array is ambiguous. Returning False, but in future this will result in an error. Use `array.size > 0` to check that an array is not empty.\n",
      "  if diff:\n"
     ]
    },
    {
     "name": "stdout",
     "output_type": "stream",
     "text": [
      "SVM Score :  0.4892623716153128\n",
      "Tree Score :  0.5658263305322129\n",
      "Bayes Score :  0.3622782446311858\n",
      "KNN Score :  1.0\n",
      "XGB Score :  0.7264239028944911\n",
      "Stacking Score :  0.8664799253034547\n",
      "Voting Score :  0.9402427637721755\n",
      "Bagging Score :  1.0\n",
      "RF Score :  1.0\n",
      "Adaboost Score :  0.49673202614379086\n",
      "None\n",
      "\n",
      "SVM Score :  0.46304347826086956\n",
      "Tree Score :  0.48478260869565215\n",
      "Bayes Score :  0.36086956521739133\n",
      "KNN Score :  0.44565217391304346\n",
      "XGB Score :  0.48695652173913045\n",
      "Stacking Score :  0.42391304347826086\n",
      "Voting Score :  0.46956521739130436\n",
      "Bagging Score : "
     ]
    },
    {
     "name": "stderr",
     "output_type": "stream",
     "text": [
      "C:\\Users\\zxpay\\Anaconda3\\lib\\site-packages\\sklearn\\preprocessing\\label.py:151: DeprecationWarning: The truth value of an empty array is ambiguous. Returning False, but in future this will result in an error. Use `array.size > 0` to check that an array is not empty.\n",
      "  if diff:\n",
      "C:\\Users\\zxpay\\Anaconda3\\lib\\site-packages\\sklearn\\preprocessing\\label.py:151: DeprecationWarning: The truth value of an empty array is ambiguous. Returning False, but in future this will result in an error. Use `array.size > 0` to check that an array is not empty.\n",
      "  if diff:\n",
      "C:\\Users\\zxpay\\Anaconda3\\lib\\site-packages\\sklearn\\preprocessing\\label.py:151: DeprecationWarning: The truth value of an empty array is ambiguous. Returning False, but in future this will result in an error. Use `array.size > 0` to check that an array is not empty.\n",
      "  if diff:\n",
      "C:\\Users\\zxpay\\Anaconda3\\lib\\site-packages\\sklearn\\metrics\\classification.py:1135: UndefinedMetricWarning: Precision and F-score are ill-defined and being set to 0.0 in labels with no predicted samples.\n",
      "  'precision', 'predicted', average, warn_for)\n"
     ]
    },
    {
     "name": "stdout",
     "output_type": "stream",
     "text": [
      " 0.47608695652173916\n",
      "RF Score :  0.4956521739130435\n",
      "Adaboost Score :  0.44565217391304346\n",
      "None\n",
      "Report Okay !\n",
      "\n",
      "\n",
      "(1531, 4)\n",
      "(1531,)\n"
     ]
    },
    {
     "name": "stderr",
     "output_type": "stream",
     "text": [
      "C:\\Users\\zxpay\\Anaconda3\\lib\\site-packages\\sklearn\\preprocessing\\label.py:151: DeprecationWarning: The truth value of an empty array is ambiguous. Returning False, but in future this will result in an error. Use `array.size > 0` to check that an array is not empty.\n",
      "  if diff:\n",
      "C:\\Users\\zxpay\\Anaconda3\\lib\\site-packages\\sklearn\\preprocessing\\label.py:151: DeprecationWarning: The truth value of an empty array is ambiguous. Returning False, but in future this will result in an error. Use `array.size > 0` to check that an array is not empty.\n",
      "  if diff:\n",
      "C:\\Users\\zxpay\\Anaconda3\\lib\\site-packages\\sklearn\\preprocessing\\label.py:151: DeprecationWarning: The truth value of an empty array is ambiguous. Returning False, but in future this will result in an error. Use `array.size > 0` to check that an array is not empty.\n",
      "  if diff:\n",
      "C:\\Users\\zxpay\\Anaconda3\\lib\\site-packages\\sklearn\\preprocessing\\label.py:151: DeprecationWarning: The truth value of an empty array is ambiguous. Returning False, but in future this will result in an error. Use `array.size > 0` to check that an array is not empty.\n",
      "  if diff:\n",
      "C:\\Users\\zxpay\\Anaconda3\\lib\\site-packages\\sklearn\\preprocessing\\label.py:151: DeprecationWarning: The truth value of an empty array is ambiguous. Returning False, but in future this will result in an error. Use `array.size > 0` to check that an array is not empty.\n",
      "  if diff:\n",
      "C:\\Users\\zxpay\\Anaconda3\\lib\\site-packages\\sklearn\\preprocessing\\label.py:151: DeprecationWarning: The truth value of an empty array is ambiguous. Returning False, but in future this will result in an error. Use `array.size > 0` to check that an array is not empty.\n",
      "  if diff:\n",
      "C:\\Users\\zxpay\\Anaconda3\\lib\\site-packages\\sklearn\\preprocessing\\label.py:151: DeprecationWarning: The truth value of an empty array is ambiguous. Returning False, but in future this will result in an error. Use `array.size > 0` to check that an array is not empty.\n",
      "  if diff:\n"
     ]
    },
    {
     "name": "stdout",
     "output_type": "stream",
     "text": [
      "SVM Score :  0.5107376283846872\n",
      "Tree Score :  0.5714285714285714\n",
      "Bayes Score :  0.3865546218487395\n",
      "KNN Score :  1.0\n",
      "XGB Score :  0.7105508870214753\n",
      "Stacking Score :  0.903828197945845\n",
      "Voting Score :  0.9243697478991597\n",
      "Bagging Score :  1.0\n",
      "RF Score :  1.0\n",
      "Adaboost Score :  0.5275443510737629\n",
      "None\n",
      "\n",
      "SVM Score :  0.4717391304347826\n",
      "Tree Score :  0.4782608695652174\n",
      "Bayes Score :  0.3760869565217391\n",
      "KNN Score :  0.44130434782608696\n",
      "XGB Score :  0.5\n",
      "Stacking Score :  0.41739130434782606\n",
      "Voting Score :  0.5\n",
      "Bagging Score :  0.5021739130434782\n",
      "RF Score :  0.4826086956521739\n",
      "Adaboost Score :  0.4543478260869565\n",
      "None\n",
      "Report Okay !\n",
      "\n",
      "\n",
      "(1531, 4)\n",
      "(1531,)\n"
     ]
    },
    {
     "name": "stderr",
     "output_type": "stream",
     "text": [
      "C:\\Users\\zxpay\\Anaconda3\\lib\\site-packages\\sklearn\\preprocessing\\label.py:151: DeprecationWarning: The truth value of an empty array is ambiguous. Returning False, but in future this will result in an error. Use `array.size > 0` to check that an array is not empty.\n",
      "  if diff:\n",
      "C:\\Users\\zxpay\\Anaconda3\\lib\\site-packages\\sklearn\\preprocessing\\label.py:151: DeprecationWarning: The truth value of an empty array is ambiguous. Returning False, but in future this will result in an error. Use `array.size > 0` to check that an array is not empty.\n",
      "  if diff:\n",
      "C:\\Users\\zxpay\\Anaconda3\\lib\\site-packages\\sklearn\\preprocessing\\label.py:151: DeprecationWarning: The truth value of an empty array is ambiguous. Returning False, but in future this will result in an error. Use `array.size > 0` to check that an array is not empty.\n",
      "  if diff:\n",
      "C:\\Users\\zxpay\\Anaconda3\\lib\\site-packages\\sklearn\\preprocessing\\label.py:151: DeprecationWarning: The truth value of an empty array is ambiguous. Returning False, but in future this will result in an error. Use `array.size > 0` to check that an array is not empty.\n",
      "  if diff:\n",
      "C:\\Users\\zxpay\\Anaconda3\\lib\\site-packages\\sklearn\\preprocessing\\label.py:151: DeprecationWarning: The truth value of an empty array is ambiguous. Returning False, but in future this will result in an error. Use `array.size > 0` to check that an array is not empty.\n",
      "  if diff:\n",
      "C:\\Users\\zxpay\\Anaconda3\\lib\\site-packages\\sklearn\\preprocessing\\label.py:151: DeprecationWarning: The truth value of an empty array is ambiguous. Returning False, but in future this will result in an error. Use `array.size > 0` to check that an array is not empty.\n",
      "  if diff:\n",
      "C:\\Users\\zxpay\\Anaconda3\\lib\\site-packages\\sklearn\\preprocessing\\label.py:151: DeprecationWarning: The truth value of an empty array is ambiguous. Returning False, but in future this will result in an error. Use `array.size > 0` to check that an array is not empty.\n",
      "  if diff:\n",
      "C:\\Users\\zxpay\\Anaconda3\\lib\\site-packages\\sklearn\\preprocessing\\label.py:151: DeprecationWarning: The truth value of an empty array is ambiguous. Returning False, but in future this will result in an error. Use `array.size > 0` to check that an array is not empty.\n",
      "  if diff:\n",
      "C:\\Users\\zxpay\\Anaconda3\\lib\\site-packages\\sklearn\\preprocessing\\label.py:151: DeprecationWarning: The truth value of an empty array is ambiguous. Returning False, but in future this will result in an error. Use `array.size > 0` to check that an array is not empty.\n",
      "  if diff:\n",
      "C:\\Users\\zxpay\\Anaconda3\\lib\\site-packages\\sklearn\\preprocessing\\label.py:151: DeprecationWarning: The truth value of an empty array is ambiguous. Returning False, but in future this will result in an error. Use `array.size > 0` to check that an array is not empty.\n",
      "  if diff:\n",
      "C:\\Users\\zxpay\\Anaconda3\\lib\\site-packages\\sklearn\\preprocessing\\label.py:151: DeprecationWarning: The truth value of an empty array is ambiguous. Returning False, but in future this will result in an error. Use `array.size > 0` to check that an array is not empty.\n",
      "  if diff:\n",
      "C:\\Users\\zxpay\\Anaconda3\\lib\\site-packages\\sklearn\\preprocessing\\label.py:151: DeprecationWarning: The truth value of an empty array is ambiguous. Returning False, but in future this will result in an error. Use `array.size > 0` to check that an array is not empty.\n",
      "  if diff:\n",
      "C:\\Users\\zxpay\\Anaconda3\\lib\\site-packages\\sklearn\\preprocessing\\label.py:151: DeprecationWarning: The truth value of an empty array is ambiguous. Returning False, but in future this will result in an error. Use `array.size > 0` to check that an array is not empty.\n",
      "  if diff:\n"
     ]
    },
    {
     "name": "stdout",
     "output_type": "stream",
     "text": [
      "SVM Score :  0.4957983193277311\n",
      "Tree Score :  0.5536881419234361\n",
      "Bayes Score :  0.3678804855275444\n",
      "KNN Score :  1.0\n",
      "XGB Score :  0.7142857142857143\n",
      "Stacking Score :  0.9084967320261438\n",
      "Voting Score :  0.9411764705882353\n",
      "Bagging Score :  1.0\n",
      "RF Score :  1.0\n",
      "Adaboost Score :  0.5051353874883286\n",
      "None\n",
      "\n",
      "SVM Score :  0.49130434782608695\n",
      "Tree Score :  0.46304347826086956\n",
      "Bayes Score :  0.3869565217391304\n",
      "KNN Score :  0.48478260869565215\n",
      "XGB Score :  0.47391304347826085\n",
      "Stacking Score :  0.4717391304347826\n",
      "Voting Score :  0.5130434782608696\n",
      "Bagging Score :  0.49782608695652175\n",
      "RF Score :  0.5239130434782608\n",
      "Adaboost Score :  0.4282608695652174\n",
      "None\n",
      "Report Okay !\n",
      "\n",
      "\n",
      "(1531, 4)\n",
      "(1531,)\n"
     ]
    },
    {
     "name": "stderr",
     "output_type": "stream",
     "text": [
      "C:\\Users\\zxpay\\Anaconda3\\lib\\site-packages\\sklearn\\preprocessing\\label.py:151: DeprecationWarning: The truth value of an empty array is ambiguous. Returning False, but in future this will result in an error. Use `array.size > 0` to check that an array is not empty.\n",
      "  if diff:\n",
      "C:\\Users\\zxpay\\Anaconda3\\lib\\site-packages\\sklearn\\preprocessing\\label.py:151: DeprecationWarning: The truth value of an empty array is ambiguous. Returning False, but in future this will result in an error. Use `array.size > 0` to check that an array is not empty.\n",
      "  if diff:\n",
      "C:\\Users\\zxpay\\Anaconda3\\lib\\site-packages\\sklearn\\preprocessing\\label.py:151: DeprecationWarning: The truth value of an empty array is ambiguous. Returning False, but in future this will result in an error. Use `array.size > 0` to check that an array is not empty.\n",
      "  if diff:\n",
      "C:\\Users\\zxpay\\Anaconda3\\lib\\site-packages\\sklearn\\preprocessing\\label.py:151: DeprecationWarning: The truth value of an empty array is ambiguous. Returning False, but in future this will result in an error. Use `array.size > 0` to check that an array is not empty.\n",
      "  if diff:\n",
      "C:\\Users\\zxpay\\Anaconda3\\lib\\site-packages\\sklearn\\preprocessing\\label.py:151: DeprecationWarning: The truth value of an empty array is ambiguous. Returning False, but in future this will result in an error. Use `array.size > 0` to check that an array is not empty.\n",
      "  if diff:\n",
      "C:\\Users\\zxpay\\Anaconda3\\lib\\site-packages\\sklearn\\preprocessing\\label.py:151: DeprecationWarning: The truth value of an empty array is ambiguous. Returning False, but in future this will result in an error. Use `array.size > 0` to check that an array is not empty.\n",
      "  if diff:\n",
      "C:\\Users\\zxpay\\Anaconda3\\lib\\site-packages\\sklearn\\preprocessing\\label.py:151: DeprecationWarning: The truth value of an empty array is ambiguous. Returning False, but in future this will result in an error. Use `array.size > 0` to check that an array is not empty.\n",
      "  if diff:\n",
      "C:\\Users\\zxpay\\Anaconda3\\lib\\site-packages\\sklearn\\preprocessing\\label.py:151: DeprecationWarning: The truth value of an empty array is ambiguous. Returning False, but in future this will result in an error. Use `array.size > 0` to check that an array is not empty.\n",
      "  if diff:\n",
      "C:\\Users\\zxpay\\Anaconda3\\lib\\site-packages\\sklearn\\preprocessing\\label.py:151: DeprecationWarning: The truth value of an empty array is ambiguous. Returning False, but in future this will result in an error. Use `array.size > 0` to check that an array is not empty.\n",
      "  if diff:\n",
      "C:\\Users\\zxpay\\Anaconda3\\lib\\site-packages\\sklearn\\preprocessing\\label.py:151: DeprecationWarning: The truth value of an empty array is ambiguous. Returning False, but in future this will result in an error. Use `array.size > 0` to check that an array is not empty.\n",
      "  if diff:\n",
      "C:\\Users\\zxpay\\Anaconda3\\lib\\site-packages\\sklearn\\preprocessing\\label.py:151: DeprecationWarning: The truth value of an empty array is ambiguous. Returning False, but in future this will result in an error. Use `array.size > 0` to check that an array is not empty.\n",
      "  if diff:\n",
      "C:\\Users\\zxpay\\Anaconda3\\lib\\site-packages\\sklearn\\preprocessing\\label.py:151: DeprecationWarning: The truth value of an empty array is ambiguous. Returning False, but in future this will result in an error. Use `array.size > 0` to check that an array is not empty.\n",
      "  if diff:\n",
      "C:\\Users\\zxpay\\Anaconda3\\lib\\site-packages\\sklearn\\preprocessing\\label.py:151: DeprecationWarning: The truth value of an empty array is ambiguous. Returning False, but in future this will result in an error. Use `array.size > 0` to check that an array is not empty.\n",
      "  if diff:\n",
      "C:\\Users\\zxpay\\Anaconda3\\lib\\site-packages\\sklearn\\preprocessing\\label.py:151: DeprecationWarning: The truth value of an empty array is ambiguous. Returning False, but in future this will result in an error. Use `array.size > 0` to check that an array is not empty.\n",
      "  if diff:\n",
      "C:\\Users\\zxpay\\Anaconda3\\lib\\site-packages\\sklearn\\preprocessing\\label.py:151: DeprecationWarning: The truth value of an empty array is ambiguous. Returning False, but in future this will result in an error. Use `array.size > 0` to check that an array is not empty.\n",
      "  if diff:\n",
      "C:\\Users\\zxpay\\Anaconda3\\lib\\site-packages\\sklearn\\preprocessing\\label.py:151: DeprecationWarning: The truth value of an empty array is ambiguous. Returning False, but in future this will result in an error. Use `array.size > 0` to check that an array is not empty.\n",
      "  if diff:\n"
     ]
    },
    {
     "name": "stdout",
     "output_type": "stream",
     "text": [
      "SVM Score :  0.4677871148459384\n",
      "Tree Score :  0.5331465919701214\n",
      "Bayes Score :  0.3818860877684407\n",
      "KNN Score :  1.0\n",
      "XGB Score :  0.7133520074696545\n",
      "Stacking Score :  0.8814192343604108\n",
      "Voting Score :  0.945845004668534\n",
      "Bagging Score :  1.0\n",
      "RF Score :  1.0\n",
      "Adaboost Score :  0.477124183006536\n",
      "None\n",
      "\n",
      "SVM Score :  0.48695652173913045\n",
      "Tree Score :  0.47608695652173916\n",
      "Bayes Score :  0.39565217391304347\n",
      "KNN Score :  0.49130434782608695\n",
      "XGB Score :  0.5282608695652173\n",
      "Stacking Score :  0.4717391304347826\n",
      "Voting Score :  0.5108695652173914\n",
      "Bagging Score :  0.5065217391304347\n",
      "RF Score :  0.5456521739130434\n",
      "Adaboost Score :  0.45217391304347826\n",
      "None\n",
      "Report Okay !\n",
      "\n",
      "\n",
      "(1531, 4)\n",
      "(1531,)\n"
     ]
    },
    {
     "name": "stderr",
     "output_type": "stream",
     "text": [
      "C:\\Users\\zxpay\\Anaconda3\\lib\\site-packages\\sklearn\\preprocessing\\label.py:151: DeprecationWarning: The truth value of an empty array is ambiguous. Returning False, but in future this will result in an error. Use `array.size > 0` to check that an array is not empty.\n",
      "  if diff:\n",
      "C:\\Users\\zxpay\\Anaconda3\\lib\\site-packages\\sklearn\\preprocessing\\label.py:151: DeprecationWarning: The truth value of an empty array is ambiguous. Returning False, but in future this will result in an error. Use `array.size > 0` to check that an array is not empty.\n",
      "  if diff:\n",
      "C:\\Users\\zxpay\\Anaconda3\\lib\\site-packages\\sklearn\\preprocessing\\label.py:151: DeprecationWarning: The truth value of an empty array is ambiguous. Returning False, but in future this will result in an error. Use `array.size > 0` to check that an array is not empty.\n",
      "  if diff:\n",
      "C:\\Users\\zxpay\\Anaconda3\\lib\\site-packages\\sklearn\\preprocessing\\label.py:151: DeprecationWarning: The truth value of an empty array is ambiguous. Returning False, but in future this will result in an error. Use `array.size > 0` to check that an array is not empty.\n",
      "  if diff:\n",
      "C:\\Users\\zxpay\\Anaconda3\\lib\\site-packages\\sklearn\\preprocessing\\label.py:151: DeprecationWarning: The truth value of an empty array is ambiguous. Returning False, but in future this will result in an error. Use `array.size > 0` to check that an array is not empty.\n",
      "  if diff:\n",
      "C:\\Users\\zxpay\\Anaconda3\\lib\\site-packages\\sklearn\\preprocessing\\label.py:151: DeprecationWarning: The truth value of an empty array is ambiguous. Returning False, but in future this will result in an error. Use `array.size > 0` to check that an array is not empty.\n",
      "  if diff:\n",
      "C:\\Users\\zxpay\\Anaconda3\\lib\\site-packages\\sklearn\\preprocessing\\label.py:151: DeprecationWarning: The truth value of an empty array is ambiguous. Returning False, but in future this will result in an error. Use `array.size > 0` to check that an array is not empty.\n",
      "  if diff:\n",
      "C:\\Users\\zxpay\\Anaconda3\\lib\\site-packages\\sklearn\\preprocessing\\label.py:151: DeprecationWarning: The truth value of an empty array is ambiguous. Returning False, but in future this will result in an error. Use `array.size > 0` to check that an array is not empty.\n",
      "  if diff:\n",
      "C:\\Users\\zxpay\\Anaconda3\\lib\\site-packages\\sklearn\\preprocessing\\label.py:151: DeprecationWarning: The truth value of an empty array is ambiguous. Returning False, but in future this will result in an error. Use `array.size > 0` to check that an array is not empty.\n",
      "  if diff:\n",
      "C:\\Users\\zxpay\\Anaconda3\\lib\\site-packages\\sklearn\\preprocessing\\label.py:151: DeprecationWarning: The truth value of an empty array is ambiguous. Returning False, but in future this will result in an error. Use `array.size > 0` to check that an array is not empty.\n",
      "  if diff:\n",
      "C:\\Users\\zxpay\\Anaconda3\\lib\\site-packages\\sklearn\\preprocessing\\label.py:151: DeprecationWarning: The truth value of an empty array is ambiguous. Returning False, but in future this will result in an error. Use `array.size > 0` to check that an array is not empty.\n",
      "  if diff:\n"
     ]
    },
    {
     "name": "stdout",
     "output_type": "stream",
     "text": [
      "SVM Score :  0.46591970121381887\n",
      "Tree Score :  0.5676937441643324\n",
      "Bayes Score :  0.40709617180205415\n",
      "KNN Score :  1.0\n",
      "XGB Score :  0.7245564892623716\n",
      "Stacking Score :  0.9449112978524743\n",
      "Voting Score :  0.9607843137254902\n",
      "Bagging Score :  1.0\n",
      "RF Score :  1.0\n",
      "Adaboost Score :  0.4752567693744164\n",
      "None\n",
      "\n",
      "SVM Score :  0.48043478260869565\n",
      "Tree Score :  0.48478260869565215\n",
      "Bayes Score :  0.4152173913043478\n",
      "KNN Score :  0.4673913043478261\n",
      "XGB Score :  0.4891304347826087\n",
      "Stacking Score :  0.4608695652173913\n",
      "Voting Score :  0.5\n",
      "Bagging Score :  0.5\n",
      "RF Score :  0.5\n",
      "Adaboost Score :  0.4217391304347826\n",
      "None\n",
      "Report Okay !\n",
      "\n",
      "\n",
      "(1531, 4)\n",
      "(1531,)\n"
     ]
    },
    {
     "name": "stderr",
     "output_type": "stream",
     "text": [
      "C:\\Users\\zxpay\\Anaconda3\\lib\\site-packages\\sklearn\\preprocessing\\label.py:151: DeprecationWarning: The truth value of an empty array is ambiguous. Returning False, but in future this will result in an error. Use `array.size > 0` to check that an array is not empty.\n",
      "  if diff:\n",
      "C:\\Users\\zxpay\\Anaconda3\\lib\\site-packages\\sklearn\\preprocessing\\label.py:151: DeprecationWarning: The truth value of an empty array is ambiguous. Returning False, but in future this will result in an error. Use `array.size > 0` to check that an array is not empty.\n",
      "  if diff:\n",
      "C:\\Users\\zxpay\\Anaconda3\\lib\\site-packages\\sklearn\\preprocessing\\label.py:151: DeprecationWarning: The truth value of an empty array is ambiguous. Returning False, but in future this will result in an error. Use `array.size > 0` to check that an array is not empty.\n",
      "  if diff:\n",
      "C:\\Users\\zxpay\\Anaconda3\\lib\\site-packages\\sklearn\\preprocessing\\label.py:151: DeprecationWarning: The truth value of an empty array is ambiguous. Returning False, but in future this will result in an error. Use `array.size > 0` to check that an array is not empty.\n",
      "  if diff:\n",
      "C:\\Users\\zxpay\\Anaconda3\\lib\\site-packages\\sklearn\\preprocessing\\label.py:151: DeprecationWarning: The truth value of an empty array is ambiguous. Returning False, but in future this will result in an error. Use `array.size > 0` to check that an array is not empty.\n",
      "  if diff:\n",
      "C:\\Users\\zxpay\\Anaconda3\\lib\\site-packages\\sklearn\\metrics\\classification.py:1135: UndefinedMetricWarning: Precision and F-score are ill-defined and being set to 0.0 in labels with no predicted samples.\n",
      "  'precision', 'predicted', average, warn_for)\n",
      "C:\\Users\\zxpay\\Anaconda3\\lib\\site-packages\\sklearn\\preprocessing\\label.py:151: DeprecationWarning: The truth value of an empty array is ambiguous. Returning False, but in future this will result in an error. Use `array.size > 0` to check that an array is not empty.\n",
      "  if diff:\n",
      "C:\\Users\\zxpay\\Anaconda3\\lib\\site-packages\\sklearn\\preprocessing\\label.py:151: DeprecationWarning: The truth value of an empty array is ambiguous. Returning False, but in future this will result in an error. Use `array.size > 0` to check that an array is not empty.\n",
      "  if diff:\n",
      "C:\\Users\\zxpay\\Anaconda3\\lib\\site-packages\\sklearn\\preprocessing\\label.py:151: DeprecationWarning: The truth value of an empty array is ambiguous. Returning False, but in future this will result in an error. Use `array.size > 0` to check that an array is not empty.\n",
      "  if diff:\n",
      "C:\\Users\\zxpay\\Anaconda3\\lib\\site-packages\\sklearn\\preprocessing\\label.py:151: DeprecationWarning: The truth value of an empty array is ambiguous. Returning False, but in future this will result in an error. Use `array.size > 0` to check that an array is not empty.\n",
      "  if diff:\n",
      "C:\\Users\\zxpay\\Anaconda3\\lib\\site-packages\\sklearn\\preprocessing\\label.py:151: DeprecationWarning: The truth value of an empty array is ambiguous. Returning False, but in future this will result in an error. Use `array.size > 0` to check that an array is not empty.\n",
      "  if diff:\n",
      "C:\\Users\\zxpay\\Anaconda3\\lib\\site-packages\\sklearn\\preprocessing\\label.py:151: DeprecationWarning: The truth value of an empty array is ambiguous. Returning False, but in future this will result in an error. Use `array.size > 0` to check that an array is not empty.\n",
      "  if diff:\n",
      "C:\\Users\\zxpay\\Anaconda3\\lib\\site-packages\\sklearn\\preprocessing\\label.py:151: DeprecationWarning: The truth value of an empty array is ambiguous. Returning False, but in future this will result in an error. Use `array.size > 0` to check that an array is not empty.\n",
      "  if diff:\n"
     ]
    },
    {
     "name": "stdout",
     "output_type": "stream",
     "text": [
      "SVM Score :  0.4911297852474323\n",
      "Tree Score :  0.5508870214752568\n",
      "Bayes Score :  0.3968253968253968\n",
      "KNN Score :  1.0\n",
      "XGB Score :  0.7236227824463118\n",
      "Stacking Score :  0.9084967320261438\n",
      "Voting Score :  0.9019607843137255\n",
      "Bagging Score :  1.0\n",
      "RF Score :  1.0\n",
      "Adaboost Score :  0.4668534080298786\n",
      "None\n",
      "\n"
     ]
    },
    {
     "name": "stderr",
     "output_type": "stream",
     "text": [
      "C:\\Users\\zxpay\\Anaconda3\\lib\\site-packages\\sklearn\\preprocessing\\label.py:151: DeprecationWarning: The truth value of an empty array is ambiguous. Returning False, but in future this will result in an error. Use `array.size > 0` to check that an array is not empty.\n",
      "  if diff:\n",
      "C:\\Users\\zxpay\\Anaconda3\\lib\\site-packages\\sklearn\\preprocessing\\label.py:151: DeprecationWarning: The truth value of an empty array is ambiguous. Returning False, but in future this will result in an error. Use `array.size > 0` to check that an array is not empty.\n",
      "  if diff:\n",
      "C:\\Users\\zxpay\\Anaconda3\\lib\\site-packages\\sklearn\\preprocessing\\label.py:151: DeprecationWarning: The truth value of an empty array is ambiguous. Returning False, but in future this will result in an error. Use `array.size > 0` to check that an array is not empty.\n",
      "  if diff:\n",
      "C:\\Users\\zxpay\\Anaconda3\\lib\\site-packages\\sklearn\\preprocessing\\label.py:151: DeprecationWarning: The truth value of an empty array is ambiguous. Returning False, but in future this will result in an error. Use `array.size > 0` to check that an array is not empty.\n",
      "  if diff:\n",
      "C:\\Users\\zxpay\\Anaconda3\\lib\\site-packages\\sklearn\\preprocessing\\label.py:151: DeprecationWarning: The truth value of an empty array is ambiguous. Returning False, but in future this will result in an error. Use `array.size > 0` to check that an array is not empty.\n",
      "  if diff:\n",
      "C:\\Users\\zxpay\\Anaconda3\\lib\\site-packages\\sklearn\\preprocessing\\label.py:151: DeprecationWarning: The truth value of an empty array is ambiguous. Returning False, but in future this will result in an error. Use `array.size > 0` to check that an array is not empty.\n",
      "  if diff:\n",
      "C:\\Users\\zxpay\\Anaconda3\\lib\\site-packages\\sklearn\\metrics\\classification.py:1135: UndefinedMetricWarning: Precision and F-score are ill-defined and being set to 0.0 in labels with no predicted samples.\n",
      "  'precision', 'predicted', average, warn_for)\n"
     ]
    },
    {
     "name": "stdout",
     "output_type": "stream",
     "text": [
      "SVM Score :  0.43043478260869567\n",
      "Tree Score :  0.4652173913043478\n",
      "Bayes Score :  0.358695652173913\n",
      "KNN Score :  0.4717391304347826\n",
      "XGB Score :  0.47391304347826085\n",
      "Stacking Score :  0.45869565217391306\n",
      "Voting Score :  0.4652173913043478\n",
      "Bagging Score :  0.49782608695652175\n",
      "RF Score :  0.4891304347826087\n",
      "Adaboost Score :  0.43478260869565216\n",
      "None\n",
      "Report Okay !\n",
      "\n",
      "\n",
      "(1531, 4)\n",
      "(1531,)\n"
     ]
    },
    {
     "name": "stderr",
     "output_type": "stream",
     "text": [
      "C:\\Users\\zxpay\\Anaconda3\\lib\\site-packages\\sklearn\\preprocessing\\label.py:151: DeprecationWarning: The truth value of an empty array is ambiguous. Returning False, but in future this will result in an error. Use `array.size > 0` to check that an array is not empty.\n",
      "  if diff:\n",
      "C:\\Users\\zxpay\\Anaconda3\\lib\\site-packages\\sklearn\\preprocessing\\label.py:151: DeprecationWarning: The truth value of an empty array is ambiguous. Returning False, but in future this will result in an error. Use `array.size > 0` to check that an array is not empty.\n",
      "  if diff:\n",
      "C:\\Users\\zxpay\\Anaconda3\\lib\\site-packages\\sklearn\\preprocessing\\label.py:151: DeprecationWarning: The truth value of an empty array is ambiguous. Returning False, but in future this will result in an error. Use `array.size > 0` to check that an array is not empty.\n",
      "  if diff:\n",
      "C:\\Users\\zxpay\\Anaconda3\\lib\\site-packages\\sklearn\\preprocessing\\label.py:151: DeprecationWarning: The truth value of an empty array is ambiguous. Returning False, but in future this will result in an error. Use `array.size > 0` to check that an array is not empty.\n",
      "  if diff:\n",
      "C:\\Users\\zxpay\\Anaconda3\\lib\\site-packages\\sklearn\\preprocessing\\label.py:151: DeprecationWarning: The truth value of an empty array is ambiguous. Returning False, but in future this will result in an error. Use `array.size > 0` to check that an array is not empty.\n",
      "  if diff:\n",
      "C:\\Users\\zxpay\\Anaconda3\\lib\\site-packages\\sklearn\\preprocessing\\label.py:151: DeprecationWarning: The truth value of an empty array is ambiguous. Returning False, but in future this will result in an error. Use `array.size > 0` to check that an array is not empty.\n",
      "  if diff:\n",
      "C:\\Users\\zxpay\\Anaconda3\\lib\\site-packages\\sklearn\\preprocessing\\label.py:151: DeprecationWarning: The truth value of an empty array is ambiguous. Returning False, but in future this will result in an error. Use `array.size > 0` to check that an array is not empty.\n",
      "  if diff:\n"
     ]
    },
    {
     "name": "stdout",
     "output_type": "stream",
     "text": [
      "SVM Score :  0.488328664799253\n",
      "Tree Score :  0.5667600373482726\n",
      "Bayes Score :  0.3912231559290383\n",
      "KNN Score :  1.0\n",
      "XGB Score :  0.7124183006535948\n",
      "Stacking Score :  0.8291316526610645\n",
      "Voting Score :  0.938375350140056\n",
      "Bagging Score :  1.0\n",
      "RF Score :  1.0\n",
      "Adaboost Score :  0.5396825396825397\n",
      "None\n",
      "\n",
      "SVM Score :  0.4434782608695652\n",
      "Tree Score :  0.4782608695652174\n",
      "Bayes Score :  0.3630434782608696\n",
      "KNN Score :  0.48043478260869565\n",
      "XGB Score :  0.45869565217391306\n",
      "Stacking Score :  0.45\n",
      "Voting Score :  0.4956521739130435\n",
      "Bagging Score :  0.4956521739130435\n",
      "RF Score :  0.4956521739130435\n",
      "Adaboost Score :  0.40869565217391307\n",
      "None\n",
      "Report Okay !\n",
      "\n",
      "\n",
      "(1531, 4)\n",
      "(1531,)\n"
     ]
    },
    {
     "name": "stderr",
     "output_type": "stream",
     "text": [
      "C:\\Users\\zxpay\\Anaconda3\\lib\\site-packages\\sklearn\\preprocessing\\label.py:151: DeprecationWarning: The truth value of an empty array is ambiguous. Returning False, but in future this will result in an error. Use `array.size > 0` to check that an array is not empty.\n",
      "  if diff:\n",
      "C:\\Users\\zxpay\\Anaconda3\\lib\\site-packages\\sklearn\\preprocessing\\label.py:151: DeprecationWarning: The truth value of an empty array is ambiguous. Returning False, but in future this will result in an error. Use `array.size > 0` to check that an array is not empty.\n",
      "  if diff:\n",
      "C:\\Users\\zxpay\\Anaconda3\\lib\\site-packages\\sklearn\\preprocessing\\label.py:151: DeprecationWarning: The truth value of an empty array is ambiguous. Returning False, but in future this will result in an error. Use `array.size > 0` to check that an array is not empty.\n",
      "  if diff:\n",
      "C:\\Users\\zxpay\\Anaconda3\\lib\\site-packages\\sklearn\\preprocessing\\label.py:151: DeprecationWarning: The truth value of an empty array is ambiguous. Returning False, but in future this will result in an error. Use `array.size > 0` to check that an array is not empty.\n",
      "  if diff:\n",
      "C:\\Users\\zxpay\\Anaconda3\\lib\\site-packages\\sklearn\\preprocessing\\label.py:151: DeprecationWarning: The truth value of an empty array is ambiguous. Returning False, but in future this will result in an error. Use `array.size > 0` to check that an array is not empty.\n",
      "  if diff:\n",
      "C:\\Users\\zxpay\\Anaconda3\\lib\\site-packages\\sklearn\\preprocessing\\label.py:151: DeprecationWarning: The truth value of an empty array is ambiguous. Returning False, but in future this will result in an error. Use `array.size > 0` to check that an array is not empty.\n",
      "  if diff:\n",
      "C:\\Users\\zxpay\\Anaconda3\\lib\\site-packages\\sklearn\\preprocessing\\label.py:151: DeprecationWarning: The truth value of an empty array is ambiguous. Returning False, but in future this will result in an error. Use `array.size > 0` to check that an array is not empty.\n",
      "  if diff:\n",
      "C:\\Users\\zxpay\\Anaconda3\\lib\\site-packages\\sklearn\\preprocessing\\label.py:151: DeprecationWarning: The truth value of an empty array is ambiguous. Returning False, but in future this will result in an error. Use `array.size > 0` to check that an array is not empty.\n",
      "  if diff:\n",
      "C:\\Users\\zxpay\\Anaconda3\\lib\\site-packages\\sklearn\\preprocessing\\label.py:151: DeprecationWarning: The truth value of an empty array is ambiguous. Returning False, but in future this will result in an error. Use `array.size > 0` to check that an array is not empty.\n",
      "  if diff:\n",
      "C:\\Users\\zxpay\\Anaconda3\\lib\\site-packages\\sklearn\\preprocessing\\label.py:151: DeprecationWarning: The truth value of an empty array is ambiguous. Returning False, but in future this will result in an error. Use `array.size > 0` to check that an array is not empty.\n",
      "  if diff:\n",
      "C:\\Users\\zxpay\\Anaconda3\\lib\\site-packages\\sklearn\\preprocessing\\label.py:151: DeprecationWarning: The truth value of an empty array is ambiguous. Returning False, but in future this will result in an error. Use `array.size > 0` to check that an array is not empty.\n",
      "  if diff:\n",
      "C:\\Users\\zxpay\\Anaconda3\\lib\\site-packages\\sklearn\\preprocessing\\label.py:151: DeprecationWarning: The truth value of an empty array is ambiguous. Returning False, but in future this will result in an error. Use `array.size > 0` to check that an array is not empty.\n",
      "  if diff:\n",
      "C:\\Users\\zxpay\\Anaconda3\\lib\\site-packages\\sklearn\\preprocessing\\label.py:151: DeprecationWarning: The truth value of an empty array is ambiguous. Returning False, but in future this will result in an error. Use `array.size > 0` to check that an array is not empty.\n",
      "  if diff:\n",
      "C:\\Users\\zxpay\\Anaconda3\\lib\\site-packages\\sklearn\\preprocessing\\label.py:151: DeprecationWarning: The truth value of an empty array is ambiguous. Returning False, but in future this will result in an error. Use `array.size > 0` to check that an array is not empty.\n",
      "  if diff:\n",
      "C:\\Users\\zxpay\\Anaconda3\\lib\\site-packages\\sklearn\\preprocessing\\label.py:151: DeprecationWarning: The truth value of an empty array is ambiguous. Returning False, but in future this will result in an error. Use `array.size > 0` to check that an array is not empty.\n",
      "  if diff:\n",
      "C:\\Users\\zxpay\\Anaconda3\\lib\\site-packages\\sklearn\\preprocessing\\label.py:151: DeprecationWarning: The truth value of an empty array is ambiguous. Returning False, but in future this will result in an error. Use `array.size > 0` to check that an array is not empty.\n",
      "  if diff:\n"
     ]
    },
    {
     "name": "stdout",
     "output_type": "stream",
     "text": [
      "SVM Score :  0.48179271708683474\n",
      "Tree Score :  0.5639589169000934\n",
      "Bayes Score :  0.3772175536881419\n",
      "KNN Score :  1.0\n",
      "XGB Score :  0.7086834733893558\n",
      "Stacking Score :  0.896358543417367\n",
      "Voting Score :  0.9374416433239963\n",
      "Bagging Score :  1.0\n",
      "RF Score :  1.0\n",
      "Adaboost Score :  0.5490196078431373\n",
      "None\n",
      "\n"
     ]
    },
    {
     "name": "stderr",
     "output_type": "stream",
     "text": [
      "C:\\Users\\zxpay\\Anaconda3\\lib\\site-packages\\sklearn\\preprocessing\\label.py:151: DeprecationWarning: The truth value of an empty array is ambiguous. Returning False, but in future this will result in an error. Use `array.size > 0` to check that an array is not empty.\n",
      "  if diff:\n",
      "C:\\Users\\zxpay\\Anaconda3\\lib\\site-packages\\sklearn\\preprocessing\\label.py:151: DeprecationWarning: The truth value of an empty array is ambiguous. Returning False, but in future this will result in an error. Use `array.size > 0` to check that an array is not empty.\n",
      "  if diff:\n",
      "C:\\Users\\zxpay\\Anaconda3\\lib\\site-packages\\sklearn\\preprocessing\\label.py:151: DeprecationWarning: The truth value of an empty array is ambiguous. Returning False, but in future this will result in an error. Use `array.size > 0` to check that an array is not empty.\n",
      "  if diff:\n",
      "C:\\Users\\zxpay\\Anaconda3\\lib\\site-packages\\sklearn\\metrics\\classification.py:1135: UndefinedMetricWarning: Precision and F-score are ill-defined and being set to 0.0 in labels with no predicted samples.\n",
      "  'precision', 'predicted', average, warn_for)\n"
     ]
    },
    {
     "name": "stdout",
     "output_type": "stream",
     "text": [
      "SVM Score :  0.4956521739130435\n",
      "Tree Score :  0.5108695652173914\n",
      "Bayes Score :  0.3804347826086957\n",
      "KNN Score :  0.5\n",
      "XGB Score :  0.5456521739130434\n",
      "Stacking Score :  0.4891304347826087\n",
      "Voting Score :  0.5391304347826087\n",
      "Bagging Score :  0.5543478260869565\n",
      "RF Score :  0.5543478260869565\n",
      "Adaboost Score :  0.48695652173913045\n",
      "None\n",
      "Report Okay !\n",
      "\n",
      "\n",
      "(1531, 4)\n",
      "(1531,)\n"
     ]
    },
    {
     "name": "stderr",
     "output_type": "stream",
     "text": [
      "C:\\Users\\zxpay\\Anaconda3\\lib\\site-packages\\sklearn\\preprocessing\\label.py:151: DeprecationWarning: The truth value of an empty array is ambiguous. Returning False, but in future this will result in an error. Use `array.size > 0` to check that an array is not empty.\n",
      "  if diff:\n",
      "C:\\Users\\zxpay\\Anaconda3\\lib\\site-packages\\sklearn\\preprocessing\\label.py:151: DeprecationWarning: The truth value of an empty array is ambiguous. Returning False, but in future this will result in an error. Use `array.size > 0` to check that an array is not empty.\n",
      "  if diff:\n",
      "C:\\Users\\zxpay\\Anaconda3\\lib\\site-packages\\sklearn\\preprocessing\\label.py:151: DeprecationWarning: The truth value of an empty array is ambiguous. Returning False, but in future this will result in an error. Use `array.size > 0` to check that an array is not empty.\n",
      "  if diff:\n",
      "C:\\Users\\zxpay\\Anaconda3\\lib\\site-packages\\sklearn\\preprocessing\\label.py:151: DeprecationWarning: The truth value of an empty array is ambiguous. Returning False, but in future this will result in an error. Use `array.size > 0` to check that an array is not empty.\n",
      "  if diff:\n",
      "C:\\Users\\zxpay\\Anaconda3\\lib\\site-packages\\sklearn\\preprocessing\\label.py:151: DeprecationWarning: The truth value of an empty array is ambiguous. Returning False, but in future this will result in an error. Use `array.size > 0` to check that an array is not empty.\n",
      "  if diff:\n",
      "C:\\Users\\zxpay\\Anaconda3\\lib\\site-packages\\sklearn\\preprocessing\\label.py:151: DeprecationWarning: The truth value of an empty array is ambiguous. Returning False, but in future this will result in an error. Use `array.size > 0` to check that an array is not empty.\n",
      "  if diff:\n",
      "C:\\Users\\zxpay\\Anaconda3\\lib\\site-packages\\sklearn\\preprocessing\\label.py:151: DeprecationWarning: The truth value of an empty array is ambiguous. Returning False, but in future this will result in an error. Use `array.size > 0` to check that an array is not empty.\n",
      "  if diff:\n",
      "C:\\Users\\zxpay\\Anaconda3\\lib\\site-packages\\sklearn\\preprocessing\\label.py:151: DeprecationWarning: The truth value of an empty array is ambiguous. Returning False, but in future this will result in an error. Use `array.size > 0` to check that an array is not empty.\n",
      "  if diff:\n",
      "C:\\Users\\zxpay\\Anaconda3\\lib\\site-packages\\sklearn\\preprocessing\\label.py:151: DeprecationWarning: The truth value of an empty array is ambiguous. Returning False, but in future this will result in an error. Use `array.size > 0` to check that an array is not empty.\n",
      "  if diff:\n",
      "C:\\Users\\zxpay\\Anaconda3\\lib\\site-packages\\sklearn\\preprocessing\\label.py:151: DeprecationWarning: The truth value of an empty array is ambiguous. Returning False, but in future this will result in an error. Use `array.size > 0` to check that an array is not empty.\n",
      "  if diff:\n"
     ]
    },
    {
     "name": "stdout",
     "output_type": "stream",
     "text": [
      "SVM Score :  0.4939309056956116\n",
      "Tree Score :  0.5527544351073763\n",
      "Bayes Score :  0.4024276377217554\n",
      "KNN Score :  1.0\n",
      "XGB Score :  0.704014939309057\n",
      "Stacking Score :  0.8972922502334267\n",
      "Voting Score :  0.9150326797385621\n",
      "Bagging Score :  1.0\n",
      "RF Score :  1.0\n",
      "Adaboost Score :  0.5154061624649859\n",
      "None\n",
      "\n"
     ]
    },
    {
     "name": "stderr",
     "output_type": "stream",
     "text": [
      "C:\\Users\\zxpay\\Anaconda3\\lib\\site-packages\\sklearn\\preprocessing\\label.py:151: DeprecationWarning: The truth value of an empty array is ambiguous. Returning False, but in future this will result in an error. Use `array.size > 0` to check that an array is not empty.\n",
      "  if diff:\n",
      "C:\\Users\\zxpay\\Anaconda3\\lib\\site-packages\\sklearn\\preprocessing\\label.py:151: DeprecationWarning: The truth value of an empty array is ambiguous. Returning False, but in future this will result in an error. Use `array.size > 0` to check that an array is not empty.\n",
      "  if diff:\n",
      "C:\\Users\\zxpay\\Anaconda3\\lib\\site-packages\\sklearn\\preprocessing\\label.py:151: DeprecationWarning: The truth value of an empty array is ambiguous. Returning False, but in future this will result in an error. Use `array.size > 0` to check that an array is not empty.\n",
      "  if diff:\n"
     ]
    },
    {
     "name": "stdout",
     "output_type": "stream",
     "text": [
      "SVM Score :  0.45652173913043476\n",
      "Tree Score :  0.4891304347826087\n",
      "Bayes Score :  0.36086956521739133\n",
      "KNN Score :  0.4891304347826087\n",
      "XGB Score :  0.5239130434782608\n",
      "Stacking Score :  0.4608695652173913\n",
      "Voting Score :  0.5152173913043478\n",
      "Bagging Score :  0.5391304347826087\n",
      "RF Score :  0.5260869565217391\n",
      "Adaboost Score :  0.4369565217391304\n",
      "None\n",
      "Report Okay !\n",
      "\n",
      "\n",
      "(1531, 4)\n",
      "(1531,)\n"
     ]
    },
    {
     "name": "stderr",
     "output_type": "stream",
     "text": [
      "C:\\Users\\zxpay\\Anaconda3\\lib\\site-packages\\sklearn\\preprocessing\\label.py:151: DeprecationWarning: The truth value of an empty array is ambiguous. Returning False, but in future this will result in an error. Use `array.size > 0` to check that an array is not empty.\n",
      "  if diff:\n",
      "C:\\Users\\zxpay\\Anaconda3\\lib\\site-packages\\sklearn\\preprocessing\\label.py:151: DeprecationWarning: The truth value of an empty array is ambiguous. Returning False, but in future this will result in an error. Use `array.size > 0` to check that an array is not empty.\n",
      "  if diff:\n",
      "C:\\Users\\zxpay\\Anaconda3\\lib\\site-packages\\sklearn\\preprocessing\\label.py:151: DeprecationWarning: The truth value of an empty array is ambiguous. Returning False, but in future this will result in an error. Use `array.size > 0` to check that an array is not empty.\n",
      "  if diff:\n",
      "C:\\Users\\zxpay\\Anaconda3\\lib\\site-packages\\sklearn\\preprocessing\\label.py:151: DeprecationWarning: The truth value of an empty array is ambiguous. Returning False, but in future this will result in an error. Use `array.size > 0` to check that an array is not empty.\n",
      "  if diff:\n",
      "C:\\Users\\zxpay\\Anaconda3\\lib\\site-packages\\sklearn\\preprocessing\\label.py:151: DeprecationWarning: The truth value of an empty array is ambiguous. Returning False, but in future this will result in an error. Use `array.size > 0` to check that an array is not empty.\n",
      "  if diff:\n",
      "C:\\Users\\zxpay\\Anaconda3\\lib\\site-packages\\sklearn\\preprocessing\\label.py:151: DeprecationWarning: The truth value of an empty array is ambiguous. Returning False, but in future this will result in an error. Use `array.size > 0` to check that an array is not empty.\n",
      "  if diff:\n",
      "C:\\Users\\zxpay\\Anaconda3\\lib\\site-packages\\sklearn\\preprocessing\\label.py:151: DeprecationWarning: The truth value of an empty array is ambiguous. Returning False, but in future this will result in an error. Use `array.size > 0` to check that an array is not empty.\n",
      "  if diff:\n",
      "C:\\Users\\zxpay\\Anaconda3\\lib\\site-packages\\sklearn\\preprocessing\\label.py:151: DeprecationWarning: The truth value of an empty array is ambiguous. Returning False, but in future this will result in an error. Use `array.size > 0` to check that an array is not empty.\n",
      "  if diff:\n",
      "C:\\Users\\zxpay\\Anaconda3\\lib\\site-packages\\sklearn\\preprocessing\\label.py:151: DeprecationWarning: The truth value of an empty array is ambiguous. Returning False, but in future this will result in an error. Use `array.size > 0` to check that an array is not empty.\n",
      "  if diff:\n",
      "C:\\Users\\zxpay\\Anaconda3\\lib\\site-packages\\sklearn\\preprocessing\\label.py:151: DeprecationWarning: The truth value of an empty array is ambiguous. Returning False, but in future this will result in an error. Use `array.size > 0` to check that an array is not empty.\n",
      "  if diff:\n"
     ]
    },
    {
     "name": "stdout",
     "output_type": "stream",
     "text": [
      "SVM Score :  0.46591970121381887\n",
      "Tree Score :  0.5602240896358543\n",
      "Bayes Score :  0.3753501400560224\n",
      "KNN Score :  1.0\n",
      "XGB Score :  0.7133520074696545\n",
      "Stacking Score :  0.911297852474323\n",
      "Voting Score :  0.945845004668534\n",
      "Bagging Score :  1.0\n",
      "RF Score :  1.0\n",
      "Adaboost Score :  0.5210084033613446\n",
      "None\n",
      "\n",
      "SVM Score :  0.46956521739130436\n",
      "Tree Score :  0.4717391304347826\n",
      "Bayes Score :  0.3826086956521739\n",
      "KNN Score :  0.4434782608695652\n",
      "XGB Score :  0.48695652173913045\n",
      "Stacking Score :  0.4260869565217391\n",
      "Voting Score :  0.48695652173913045\n",
      "Bagging Score :  0.4652173913043478\n",
      "RF Score :  0.46956521739130436\n",
      "Adaboost Score :  0.4826086956521739\n",
      "None\n",
      "Report Okay !\n",
      "\n",
      "\n",
      "(1531, 4)\n",
      "(1531,)\n"
     ]
    },
    {
     "name": "stderr",
     "output_type": "stream",
     "text": [
      "C:\\Users\\zxpay\\Anaconda3\\lib\\site-packages\\sklearn\\preprocessing\\label.py:151: DeprecationWarning: The truth value of an empty array is ambiguous. Returning False, but in future this will result in an error. Use `array.size > 0` to check that an array is not empty.\n",
      "  if diff:\n",
      "C:\\Users\\zxpay\\Anaconda3\\lib\\site-packages\\sklearn\\preprocessing\\label.py:151: DeprecationWarning: The truth value of an empty array is ambiguous. Returning False, but in future this will result in an error. Use `array.size > 0` to check that an array is not empty.\n",
      "  if diff:\n",
      "C:\\Users\\zxpay\\Anaconda3\\lib\\site-packages\\sklearn\\preprocessing\\label.py:151: DeprecationWarning: The truth value of an empty array is ambiguous. Returning False, but in future this will result in an error. Use `array.size > 0` to check that an array is not empty.\n",
      "  if diff:\n",
      "C:\\Users\\zxpay\\Anaconda3\\lib\\site-packages\\sklearn\\metrics\\classification.py:1135: UndefinedMetricWarning: Precision and F-score are ill-defined and being set to 0.0 in labels with no predicted samples.\n",
      "  'precision', 'predicted', average, warn_for)\n",
      "C:\\Users\\zxpay\\Anaconda3\\lib\\site-packages\\sklearn\\preprocessing\\label.py:151: DeprecationWarning: The truth value of an empty array is ambiguous. Returning False, but in future this will result in an error. Use `array.size > 0` to check that an array is not empty.\n",
      "  if diff:\n",
      "C:\\Users\\zxpay\\Anaconda3\\lib\\site-packages\\sklearn\\preprocessing\\label.py:151: DeprecationWarning: The truth value of an empty array is ambiguous. Returning False, but in future this will result in an error. Use `array.size > 0` to check that an array is not empty.\n",
      "  if diff:\n",
      "C:\\Users\\zxpay\\Anaconda3\\lib\\site-packages\\sklearn\\preprocessing\\label.py:151: DeprecationWarning: The truth value of an empty array is ambiguous. Returning False, but in future this will result in an error. Use `array.size > 0` to check that an array is not empty.\n",
      "  if diff:\n",
      "C:\\Users\\zxpay\\Anaconda3\\lib\\site-packages\\sklearn\\preprocessing\\label.py:151: DeprecationWarning: The truth value of an empty array is ambiguous. Returning False, but in future this will result in an error. Use `array.size > 0` to check that an array is not empty.\n",
      "  if diff:\n",
      "C:\\Users\\zxpay\\Anaconda3\\lib\\site-packages\\sklearn\\preprocessing\\label.py:151: DeprecationWarning: The truth value of an empty array is ambiguous. Returning False, but in future this will result in an error. Use `array.size > 0` to check that an array is not empty.\n",
      "  if diff:\n",
      "C:\\Users\\zxpay\\Anaconda3\\lib\\site-packages\\sklearn\\preprocessing\\label.py:151: DeprecationWarning: The truth value of an empty array is ambiguous. Returning False, but in future this will result in an error. Use `array.size > 0` to check that an array is not empty.\n",
      "  if diff:\n",
      "C:\\Users\\zxpay\\Anaconda3\\lib\\site-packages\\sklearn\\preprocessing\\label.py:151: DeprecationWarning: The truth value of an empty array is ambiguous. Returning False, but in future this will result in an error. Use `array.size > 0` to check that an array is not empty.\n",
      "  if diff:\n",
      "C:\\Users\\zxpay\\Anaconda3\\lib\\site-packages\\sklearn\\preprocessing\\label.py:151: DeprecationWarning: The truth value of an empty array is ambiguous. Returning False, but in future this will result in an error. Use `array.size > 0` to check that an array is not empty.\n",
      "  if diff:\n",
      "C:\\Users\\zxpay\\Anaconda3\\lib\\site-packages\\sklearn\\preprocessing\\label.py:151: DeprecationWarning: The truth value of an empty array is ambiguous. Returning False, but in future this will result in an error. Use `array.size > 0` to check that an array is not empty.\n",
      "  if diff:\n",
      "C:\\Users\\zxpay\\Anaconda3\\lib\\site-packages\\sklearn\\preprocessing\\label.py:151: DeprecationWarning: The truth value of an empty array is ambiguous. Returning False, but in future this will result in an error. Use `array.size > 0` to check that an array is not empty.\n",
      "  if diff:\n"
     ]
    },
    {
     "name": "stdout",
     "output_type": "stream",
     "text": [
      "SVM Score :  0.48552754435107376\n",
      "Tree Score :  0.5546218487394958\n",
      "Bayes Score :  0.37254901960784315\n",
      "KNN Score :  1.0\n",
      "XGB Score :  0.715219421101774\n",
      "Stacking Score :  0.9234360410831\n",
      "Voting Score :  0.9393090569561158\n",
      "Bagging Score :  1.0\n",
      "RF Score :  1.0\n",
      "Adaboost Score :  0.5294117647058824\n",
      "None\n",
      "\n",
      "SVM Score : "
     ]
    },
    {
     "name": "stderr",
     "output_type": "stream",
     "text": [
      "C:\\Users\\zxpay\\Anaconda3\\lib\\site-packages\\sklearn\\preprocessing\\label.py:151: DeprecationWarning: The truth value of an empty array is ambiguous. Returning False, but in future this will result in an error. Use `array.size > 0` to check that an array is not empty.\n",
      "  if diff:\n",
      "C:\\Users\\zxpay\\Anaconda3\\lib\\site-packages\\sklearn\\preprocessing\\label.py:151: DeprecationWarning: The truth value of an empty array is ambiguous. Returning False, but in future this will result in an error. Use `array.size > 0` to check that an array is not empty.\n",
      "  if diff:\n",
      "C:\\Users\\zxpay\\Anaconda3\\lib\\site-packages\\sklearn\\preprocessing\\label.py:151: DeprecationWarning: The truth value of an empty array is ambiguous. Returning False, but in future this will result in an error. Use `array.size > 0` to check that an array is not empty.\n",
      "  if diff:\n"
     ]
    },
    {
     "name": "stdout",
     "output_type": "stream",
     "text": [
      " 0.4434782608695652\n",
      "Tree Score :  0.46956521739130436\n",
      "Bayes Score :  0.3630434782608696\n",
      "KNN Score :  0.47608695652173916\n",
      "XGB Score :  0.4956521739130435\n",
      "Stacking Score :  0.44782608695652176\n",
      "Voting Score :  0.49782608695652175\n",
      "Bagging Score :  0.49130434782608695\n",
      "RF Score :  0.5043478260869565\n",
      "Adaboost Score :  0.4434782608695652\n",
      "None\n",
      "Report Okay !\n",
      "\n",
      "\n",
      "(1531, 4)\n",
      "(1531,)\n"
     ]
    },
    {
     "name": "stderr",
     "output_type": "stream",
     "text": [
      "C:\\Users\\zxpay\\Anaconda3\\lib\\site-packages\\sklearn\\preprocessing\\label.py:151: DeprecationWarning: The truth value of an empty array is ambiguous. Returning False, but in future this will result in an error. Use `array.size > 0` to check that an array is not empty.\n",
      "  if diff:\n",
      "C:\\Users\\zxpay\\Anaconda3\\lib\\site-packages\\sklearn\\preprocessing\\label.py:151: DeprecationWarning: The truth value of an empty array is ambiguous. Returning False, but in future this will result in an error. Use `array.size > 0` to check that an array is not empty.\n",
      "  if diff:\n",
      "C:\\Users\\zxpay\\Anaconda3\\lib\\site-packages\\sklearn\\preprocessing\\label.py:151: DeprecationWarning: The truth value of an empty array is ambiguous. Returning False, but in future this will result in an error. Use `array.size > 0` to check that an array is not empty.\n",
      "  if diff:\n",
      "C:\\Users\\zxpay\\Anaconda3\\lib\\site-packages\\sklearn\\preprocessing\\label.py:151: DeprecationWarning: The truth value of an empty array is ambiguous. Returning False, but in future this will result in an error. Use `array.size > 0` to check that an array is not empty.\n",
      "  if diff:\n",
      "C:\\Users\\zxpay\\Anaconda3\\lib\\site-packages\\sklearn\\preprocessing\\label.py:151: DeprecationWarning: The truth value of an empty array is ambiguous. Returning False, but in future this will result in an error. Use `array.size > 0` to check that an array is not empty.\n",
      "  if diff:\n",
      "C:\\Users\\zxpay\\Anaconda3\\lib\\site-packages\\sklearn\\preprocessing\\label.py:151: DeprecationWarning: The truth value of an empty array is ambiguous. Returning False, but in future this will result in an error. Use `array.size > 0` to check that an array is not empty.\n",
      "  if diff:\n",
      "C:\\Users\\zxpay\\Anaconda3\\lib\\site-packages\\sklearn\\preprocessing\\label.py:151: DeprecationWarning: The truth value of an empty array is ambiguous. Returning False, but in future this will result in an error. Use `array.size > 0` to check that an array is not empty.\n",
      "  if diff:\n"
     ]
    },
    {
     "name": "stdout",
     "output_type": "stream",
     "text": [
      "SVM Score :  0.480859010270775\n",
      "Tree Score :  0.5415499533146592\n",
      "Bayes Score :  0.39775910364145656\n",
      "KNN Score :  1.0\n",
      "XGB Score :  0.7068160597572363\n",
      "Stacking Score :  0.9337068160597572\n",
      "Voting Score :  0.9393090569561158\n",
      "Bagging Score :  1.0\n",
      "RF Score :  1.0\n",
      "Adaboost Score :  0.5322128851540616\n",
      "None\n",
      "\n",
      "SVM Score :  0.508695652173913\n",
      "Tree Score :  0.4717391304347826\n",
      "Bayes Score :  0.3760869565217391\n",
      "KNN Score :  0.49782608695652175\n",
      "XGB Score :  0.5108695652173914\n",
      "Stacking Score :  0.48695652173913045\n",
      "Voting Score :  0.5195652173913043\n",
      "Bagging Score :  0.49782608695652175\n",
      "RF Score :  0.5130434782608696\n",
      "Adaboost Score :  0.4652173913043478\n",
      "None\n",
      "Report Okay !\n",
      "\n",
      "\n"
     ]
    },
    {
     "name": "stderr",
     "output_type": "stream",
     "text": [
      "C:\\Users\\zxpay\\Anaconda3\\lib\\site-packages\\sklearn\\preprocessing\\label.py:151: DeprecationWarning: The truth value of an empty array is ambiguous. Returning False, but in future this will result in an error. Use `array.size > 0` to check that an array is not empty.\n",
      "  if diff:\n",
      "C:\\Users\\zxpay\\Anaconda3\\lib\\site-packages\\sklearn\\preprocessing\\label.py:151: DeprecationWarning: The truth value of an empty array is ambiguous. Returning False, but in future this will result in an error. Use `array.size > 0` to check that an array is not empty.\n",
      "  if diff:\n",
      "C:\\Users\\zxpay\\Anaconda3\\lib\\site-packages\\sklearn\\preprocessing\\label.py:151: DeprecationWarning: The truth value of an empty array is ambiguous. Returning False, but in future this will result in an error. Use `array.size > 0` to check that an array is not empty.\n",
      "  if diff:\n",
      "C:\\Users\\zxpay\\Anaconda3\\lib\\site-packages\\sklearn\\preprocessing\\label.py:151: DeprecationWarning: The truth value of an empty array is ambiguous. Returning False, but in future this will result in an error. Use `array.size > 0` to check that an array is not empty.\n",
      "  if diff:\n",
      "C:\\Users\\zxpay\\Anaconda3\\lib\\site-packages\\sklearn\\preprocessing\\label.py:151: DeprecationWarning: The truth value of an empty array is ambiguous. Returning False, but in future this will result in an error. Use `array.size > 0` to check that an array is not empty.\n",
      "  if diff:\n",
      "C:\\Users\\zxpay\\Anaconda3\\lib\\site-packages\\sklearn\\preprocessing\\label.py:151: DeprecationWarning: The truth value of an empty array is ambiguous. Returning False, but in future this will result in an error. Use `array.size > 0` to check that an array is not empty.\n",
      "  if diff:\n"
     ]
    }
   ],
   "source": [
    "os.chdir('C:\\\\Users\\\\zxpay\\\\Desktop\\\\BME_Senior\\\\EEG_CLF\\\\Emotion\\\\Code')\n",
    "for n in range(len(my_df)):\n",
    "    Testing_df = my_df[n]\n",
    "    data = np.zeros([Testing_df.shape[0], 4])\n",
    "    for i in range(4):\n",
    "        data[:, i] = np.array(Testing_df[Features[i]], dtype=np.float32)\n",
    "    label = np.array(Testing_df['label'], dtype=np.float32)\n",
    "    if CalculateZeros(data) != 0:\n",
    "        print('Warning !!!')\n",
    "\n",
    "    pos = np.where((label==0) | (label==2))\n",
    "    \n",
    "    zero_pos = np.where(label==0)\n",
    "    zero_choose = np.random.randint(500,20000,size=400)\n",
    "    zero_choose = zero_pos[0][zero_choose]\n",
    "    data_normal = data[zero_choose]\n",
    "    label_normal = label[zero_choose]\n",
    "    \n",
    "    pos_happy = np.where(label==2)\n",
    "    one_choose = np.random.randint(20,1020,size=400)\n",
    "    one_choose = pos_happy[0][one_choose]\n",
    "    data_happy = data[one_choose]\n",
    "    label_happy = label[one_choose]\n",
    "\n",
    "    data_del = np.delete(data, pos, axis=0)\n",
    "    label_del = np.delete(label, pos)\n",
    "\n",
    "    data_all = np.vstack((data_normal, data_del))\n",
    "    label_all = np.hstack((label_normal, label_del))\n",
    "    data_all = np.vstack((data_happy, data_all))\n",
    "    label_all = np.hstack((label_happy, label_all))\n",
    "\n",
    "#     print(data_all.shape)\n",
    "#     print(label_all.shape)\n",
    "\n",
    "\n",
    "    clf = Danny_ML_CLF()\n",
    "    train_X, test_X, train_y, test_y = clf.Split_data(data_all, label_all, test_size=0.3, Standard=True)\n",
    "    clf.Fit_value(train_X, train_y)\n",
    "    clf.Train()\n",
    "    clf.Report(train_X, train_y, [0,2,3,4], show_cm=False)\n",
    "    clf.Report2txt('Train' + str(n+1) + '.txt')\n",
    "    print(clf.Score())\n",
    "    print()\n",
    "    clf.Report(test_X, test_y, [0,2,3,4], show_cm=False)\n",
    "    clf.Report2txt('Test' + str(n+1) + '.txt')\n",
    "    print(clf.Score())\n",
    "    print('Report Okay !\\n\\n')"
   ]
  },
  {
   "cell_type": "code",
   "execution_count": 9,
   "metadata": {
    "scrolled": true
   },
   "outputs": [
    {
     "data": {
      "text/plain": [
       "0.5130434782608696"
      ]
     },
     "execution_count": 9,
     "metadata": {},
     "output_type": "execute_result"
    }
   ],
   "source": [
    "np.sum(clf.RF_prediction(test_X)==test_y)/test_y.shape[0]"
   ]
  },
  {
   "cell_type": "code",
   "execution_count": 10,
   "metadata": {},
   "outputs": [
    {
     "name": "stdout",
     "output_type": "stream",
     "text": [
      "400\n",
      "400\n",
      "351\n",
      "380\n"
     ]
    }
   ],
   "source": [
    "print(np.sum(label_all==0))\n",
    "print(np.sum(label_all==2))\n",
    "print(np.sum(label_all==3))\n",
    "print(np.sum(label_all==4))"
   ]
  },
  {
   "cell_type": "code",
   "execution_count": 11,
   "metadata": {},
   "outputs": [
    {
     "data": {
      "text/plain": [
       "array([4., 4., 3., 0., 3., 3., 2., 3., 2., 2., 2., 4., 3., 4., 3., 3., 2.,\n",
       "       3., 4., 0., 3., 0., 4., 3., 0., 3., 3., 4., 4., 4., 3., 2., 2., 3.,\n",
       "       2., 3., 3., 2., 3., 3., 0., 2., 2., 2., 2., 2., 2., 4., 3., 4., 0.,\n",
       "       2., 3., 3., 4., 0., 4., 0., 4., 3., 4., 0., 4., 4., 4., 4., 0., 2.,\n",
       "       3., 0., 2., 2., 4., 3., 4., 4., 4., 4., 3., 4., 0., 4., 2., 3., 0.,\n",
       "       3., 2., 2., 0., 0., 4., 3., 2., 2., 3., 3., 3., 4., 4., 4., 4., 0.,\n",
       "       0., 4., 4., 2., 0., 0., 0., 4., 0., 2., 3., 3., 2., 3., 4., 2., 4.,\n",
       "       4., 3., 4., 2., 2., 3., 0., 4., 0., 0., 2., 3., 3., 3., 2., 3., 2.,\n",
       "       2., 4., 3., 0., 2., 2., 0., 2., 2., 3., 0., 0., 4., 3., 2., 2., 3.,\n",
       "       4., 3., 2., 2., 3., 4., 4., 2., 4., 3., 4., 4., 4., 3., 0., 2., 0.,\n",
       "       4., 0., 2., 4., 4., 3., 0., 2., 3., 0., 2., 2., 3., 2., 3., 0., 0.,\n",
       "       2., 0., 4., 4., 4., 4., 2., 4., 4., 0., 4., 4., 2., 2., 3., 0., 2.,\n",
       "       2., 2., 4., 2., 2., 4., 4., 0., 2., 2., 0., 4., 0., 2., 4., 4., 3.,\n",
       "       4., 4., 3., 3., 0., 2., 0., 4., 2., 0., 2., 2., 2., 0., 4., 4., 2.,\n",
       "       0., 2., 4., 4., 4., 2., 0., 4., 4., 0., 0., 4., 0., 2., 4., 4., 2.,\n",
       "       4., 2., 0., 0., 3., 0., 2., 4., 0., 0., 0., 4., 0., 3., 3., 4., 2.,\n",
       "       2., 0., 4., 2., 0., 3., 4., 4., 3., 0., 0., 4., 3., 4., 3., 0., 0.,\n",
       "       0., 2., 3., 2., 2., 4., 0., 0., 0., 0., 4., 2., 4., 0., 4., 3., 2.,\n",
       "       3., 2., 0., 2., 3., 4., 0., 3., 0., 2., 2., 2., 3., 4., 0., 2., 2.,\n",
       "       4., 4., 4., 3., 2., 4., 0., 3., 4., 0., 2., 3., 2., 4., 4., 2., 0.,\n",
       "       4., 3., 3., 4., 4., 4., 2., 4., 0., 3., 2., 0., 4., 3., 2., 4., 3.,\n",
       "       2., 2., 2., 4., 2., 2., 2., 3., 2., 2., 2., 3., 0., 4., 4., 3., 2.,\n",
       "       3., 2., 3., 2., 4., 4., 4., 4., 4., 0., 4., 2., 0., 3., 0., 2., 2.,\n",
       "       4., 4., 2., 4., 3., 2., 2., 4., 2., 2., 0., 2., 3., 4., 2., 4., 2.,\n",
       "       2., 3., 4., 2., 3., 3., 3., 4., 4., 4., 0., 4., 4., 4., 4., 2., 2.,\n",
       "       2., 3., 3., 0., 2., 0., 4., 2., 3., 3., 2., 0., 2., 3., 3., 3., 2.,\n",
       "       3., 4., 2., 3., 0., 4., 2., 0., 0., 2., 3., 4., 3., 0., 0., 2., 4.,\n",
       "       0.], dtype=float32)"
      ]
     },
     "execution_count": 11,
     "metadata": {},
     "output_type": "execute_result"
    }
   ],
   "source": [
    "clf.RF_prediction(test_X)"
   ]
  },
  {
   "cell_type": "code",
   "execution_count": 12,
   "metadata": {},
   "outputs": [
    {
     "data": {
      "text/plain": [
       "DecisionTreeClassifier(class_weight=None, criterion='gini', max_depth=3,\n",
       "            max_features=None, max_leaf_nodes=None,\n",
       "            min_impurity_decrease=0.0, min_impurity_split=None,\n",
       "            min_samples_leaf=1, min_samples_split=2,\n",
       "            min_weight_fraction_leaf=0.0, presort=False, random_state=None,\n",
       "            splitter='best')"
      ]
     },
     "execution_count": 12,
     "metadata": {},
     "output_type": "execute_result"
    }
   ],
   "source": [
    "from sklearn.tree import DecisionTreeClassifier\n",
    "label_name = []\n",
    "for x in train_y:\n",
    "    if x == 0:\n",
    "        label_name.append('normal')\n",
    "    elif x == 2:\n",
    "        label_name.append('happy')\n",
    "    elif x == 3:\n",
    "        label_name.append('scare')\n",
    "    elif x == 4:\n",
    "        label_name.append('touch')\n",
    "    else:\n",
    "        print(x)\n",
    "label_name_test = []\n",
    "for x in test_y:\n",
    "    if x == 0:\n",
    "        label_name_test.append('normal')\n",
    "    elif x == 2:\n",
    "        label_name_test.append('happy')\n",
    "    elif x == 3:\n",
    "        label_name_test.append('scare')\n",
    "    elif x == 4:\n",
    "        label_name_test.append('touch')\n",
    "    else:\n",
    "        print(x)\n",
    "tree = DecisionTreeClassifier(criterion='gini',max_depth=3)\n",
    "tree.fit(train_X, label_name)"
   ]
  },
  {
   "cell_type": "code",
   "execution_count": 13,
   "metadata": {
    "collapsed": true,
    "scrolled": true
   },
   "outputs": [],
   "source": [
    "from sklearn.tree import export_graphviz\n",
    "export_graphviz(tree, out_file=\"tree.dot\", feature_names=['alpha', 'heig_beta', 'low_beta','theta'],\\\n",
    "                class_names=['normal','happy','scare', 'touch'])\n"
   ]
  },
  {
   "cell_type": "code",
   "execution_count": 14,
   "metadata": {
    "collapsed": true
   },
   "outputs": [],
   "source": [
    "!dot -Tpng tree.dot -o tree.png"
   ]
  },
  {
   "cell_type": "code",
   "execution_count": 15,
   "metadata": {},
   "outputs": [
    {
     "data": {
      "text/plain": [
       "array(['scare', 'normal', 'scare', 'normal', 'scare', 'normal', 'happy',\n",
       "       'scare', 'happy', 'happy', 'happy', 'touch', 'normal', 'scare',\n",
       "       'scare', 'scare', 'happy', 'scare', 'touch', 'scare', 'scare',\n",
       "       'normal', 'normal', 'scare', 'scare', 'touch', 'scare', 'normal',\n",
       "       'touch', 'normal', 'normal', 'happy', 'happy', 'touch', 'scare',\n",
       "       'scare', 'scare', 'happy', 'scare', 'scare', 'normal', 'happy',\n",
       "       'happy', 'scare', 'happy', 'happy', 'happy', 'scare', 'touch',\n",
       "       'touch', 'normal', 'happy', 'normal', 'normal', 'touch', 'touch',\n",
       "       'touch', 'scare', 'normal', 'normal', 'normal', 'normal', 'normal',\n",
       "       'normal', 'touch', 'touch', 'touch', 'scare', 'touch', 'normal',\n",
       "       'happy', 'happy', 'normal', 'normal', 'touch', 'scare', 'scare',\n",
       "       'touch', 'normal', 'normal', 'normal', 'normal', 'happy', 'normal',\n",
       "       'normal', 'normal', 'happy', 'happy', 'normal', 'normal', 'normal',\n",
       "       'scare', 'happy', 'scare', 'normal', 'scare', 'normal', 'scare',\n",
       "       'touch', 'normal', 'scare', 'normal', 'normal', 'touch', 'normal',\n",
       "       'happy', 'scare', 'normal', 'scare', 'normal', 'normal', 'scare',\n",
       "       'normal', 'touch', 'happy', 'normal', 'scare', 'happy', 'touch',\n",
       "       'normal', 'normal', 'normal', 'happy', 'scare', 'scare', 'normal',\n",
       "       'normal', 'normal', 'touch', 'happy', 'normal', 'normal', 'normal',\n",
       "       'happy', 'scare', 'scare', 'normal', 'touch', 'scare', 'normal',\n",
       "       'happy', 'touch', 'normal', 'happy', 'happy', 'normal', 'normal',\n",
       "       'scare', 'touch', 'normal', 'happy', 'happy', 'scare', 'normal',\n",
       "       'scare', 'happy', 'happy', 'touch', 'normal', 'touch', 'scare',\n",
       "       'touch', 'scare', 'normal', 'touch', 'normal', 'normal', 'normal',\n",
       "       'happy', 'scare', 'scare', 'scare', 'scare', 'normal', 'normal',\n",
       "       'scare', 'normal', 'scare', 'normal', 'scare', 'scare', 'happy',\n",
       "       'normal', 'happy', 'scare', 'normal', 'touch', 'happy', 'normal',\n",
       "       'touch', 'normal', 'touch', 'touch', 'happy', 'touch', 'normal',\n",
       "       'normal', 'normal', 'normal', 'happy', 'scare', 'scare', 'scare',\n",
       "       'happy', 'happy', 'scare', 'normal', 'scare', 'happy', 'touch',\n",
       "       'normal', 'scare', 'happy', 'scare', 'normal', 'touch', 'normal',\n",
       "       'happy', 'normal', 'normal', 'normal', 'touch', 'normal', 'touch',\n",
       "       'scare', 'normal', 'happy', 'normal', 'scare', 'happy', 'scare',\n",
       "       'happy', 'scare', 'happy', 'scare', 'touch', 'normal', 'scare',\n",
       "       'scare', 'scare', 'normal', 'touch', 'normal', 'happy', 'normal',\n",
       "       'touch', 'touch', 'scare', 'normal', 'normal', 'normal', 'normal',\n",
       "       'touch', 'touch', 'normal', 'touch', 'happy', 'normal', 'scare',\n",
       "       'touch', 'normal', 'happy', 'touch', 'normal', 'normal', 'normal',\n",
       "       'touch', 'normal', 'normal', 'scare', 'touch', 'happy', 'happy',\n",
       "       'normal', 'touch', 'happy', 'normal', 'touch', 'normal', 'touch',\n",
       "       'scare', 'scare', 'normal', 'scare', 'normal', 'normal', 'normal',\n",
       "       'normal', 'normal', 'normal', 'happy', 'scare', 'happy', 'scare',\n",
       "       'touch', 'happy', 'scare', 'normal', 'normal', 'touch', 'happy',\n",
       "       'touch', 'normal', 'normal', 'scare', 'normal', 'normal', 'happy',\n",
       "       'scare', 'happy', 'scare', 'normal', 'normal', 'touch', 'scare',\n",
       "       'happy', 'normal', 'happy', 'normal', 'touch', 'normal', 'happy',\n",
       "       'scare', 'normal', 'touch', 'scare', 'scare', 'happy', 'touch',\n",
       "       'normal', 'scare', 'touch', 'scare', 'scare', 'normal', 'happy',\n",
       "       'scare', 'touch', 'scare', 'normal', 'touch', 'normal', 'scare',\n",
       "       'touch', 'scare', 'touch', 'happy', 'touch', 'normal', 'normal',\n",
       "       'normal', 'touch', 'touch', 'scare', 'normal', 'scare', 'touch',\n",
       "       'happy', 'happy', 'scare', 'scare', 'touch', 'scare', 'normal',\n",
       "       'scare', 'normal', 'happy', 'happy', 'scare', 'normal', 'touch',\n",
       "       'scare', 'scare', 'normal', 'touch', 'scare', 'normal', 'scare',\n",
       "       'normal', 'touch', 'normal', 'scare', 'touch', 'normal', 'touch',\n",
       "       'happy', 'normal', 'normal', 'normal', 'happy', 'happy', 'normal',\n",
       "       'normal', 'happy', 'scare', 'touch', 'scare', 'happy', 'normal',\n",
       "       'happy', 'scare', 'normal', 'scare', 'scare', 'normal', 'happy',\n",
       "       'touch', 'happy', 'happy', 'scare', 'normal', 'scare', 'scare',\n",
       "       'normal', 'scare', 'normal', 'normal', 'normal', 'scare', 'touch',\n",
       "       'scare', 'touch', 'touch', 'happy', 'happy', 'touch', 'scare',\n",
       "       'scare', 'normal', 'scare', 'normal', 'touch', 'happy', 'normal',\n",
       "       'normal', 'happy', 'normal', 'scare', 'scare', 'normal', 'scare',\n",
       "       'scare', 'normal', 'touch', 'happy', 'normal', 'scare', 'touch',\n",
       "       'happy', 'normal', 'scare', 'happy', 'scare', 'normal', 'normal',\n",
       "       'touch', 'normal', 'scare', 'touch', 'scare'], dtype='<U6')"
      ]
     },
     "execution_count": 15,
     "metadata": {},
     "output_type": "execute_result"
    }
   ],
   "source": [
    "tree.predict(test_X)"
   ]
  },
  {
   "cell_type": "code",
   "execution_count": 16,
   "metadata": {},
   "outputs": [
    {
     "data": {
      "text/plain": [
       "0.45"
      ]
     },
     "execution_count": 16,
     "metadata": {},
     "output_type": "execute_result"
    }
   ],
   "source": [
    "tree.score(test_X, label_name_test)"
   ]
  },
  {
   "cell_type": "code",
   "execution_count": 29,
   "metadata": {
    "collapsed": true
   },
   "outputs": [],
   "source": [
    "import matplotlib.pyplot as plt\n",
    "%matplotlib inline\n",
    "def plot_train_history(history, train_metrics, val_metrics):\n",
    "    plt.plot(history.history.get(train_metrics),'-o')\n",
    "    plt.plot(history.history.get(val_metrics),'-o')\n",
    "    plt.ylabel(train_metrics)\n",
    "    plt.xlabel('Epochs')\n",
    "    plt.legend(['train', 'validation'])"
   ]
  },
  {
   "cell_type": "code",
   "execution_count": 109,
   "metadata": {},
   "outputs": [
    {
     "data": {
      "text/plain": [
       "(1134, 4)"
      ]
     },
     "execution_count": 109,
     "metadata": {},
     "output_type": "execute_result"
    }
   ],
   "source": [
    "Testing_df = my_df[4]\n",
    "data = np.zeros([Testing_df.shape[0], 4])\n",
    "for i in range(4):\n",
    "    data[:, i] = np.array(Testing_df[Features[i]], dtype=np.float32)\n",
    "label = np.array(Testing_df['label'], dtype=np.float32)\n",
    "if CalculateZeros(data) != 0:\n",
    "    print('Warning !!!')\n",
    "\n",
    "pos = np.where((label==0) | (label==2))\n",
    "\n",
    "zero_pos = np.where(label==0)\n",
    "zero_choose = np.random.randint(500,20000,size=400)\n",
    "zero_choose = zero_pos[0][zero_choose]\n",
    "data_normal = data[zero_choose]\n",
    "label_normal = label[zero_choose]\n",
    "\n",
    "pos_happy = np.where(label==2)\n",
    "one_choose = np.random.randint(20,1020,size=400)\n",
    "one_choose = pos_happy[0][one_choose]\n",
    "data_happy = data[one_choose]\n",
    "label_happy = label[one_choose]\n",
    "\n",
    "data_del = np.delete(data, pos, axis=0)\n",
    "label_del = np.delete(label, pos)\n",
    "\n",
    "data_all = np.vstack((data_normal, data_del))\n",
    "label_all = np.hstack((label_normal, label_del))\n",
    "data_all = np.vstack((data_happy, data_all))\n",
    "label_all = np.hstack((label_happy, label_all))\n",
    "\n",
    "\n",
    "from sklearn.preprocessing import OneHotEncoder\n",
    "one = OneHotEncoder()\n",
    "label_onehot = one.fit_transform(label_all.reshape(-1,1)).toarray()\n",
    "train_X, test_X, train_y, test_y = clf.Split_data(data_all, label_onehot, test_size=0.25, Standard=True)\n",
    "train_y.shape"
   ]
  },
  {
   "cell_type": "code",
   "execution_count": 235,
   "metadata": {},
   "outputs": [],
   "source": [
    "from keras.callbacks import EarlyStopping\n",
    "earlyStopping=EarlyStopping(monitor='val_loss', patience=10) #patience:number of epochs with no improvement after which training will be stopped."
   ]
  },
  {
   "cell_type": "code",
   "execution_count": 248,
   "metadata": {},
   "outputs": [],
   "source": [
    "from keras.models import Sequential\n",
    "from keras.layers import Dense, Activation, Dropout, BatchNormalization\n",
    "model = Sequential()\n",
    "model.add(Dense(256, input_dim=4, kernel_initializer='normal'))\n",
    "model.add(BatchNormalization())\n",
    "model.add(Activation('relu'))\n",
    "#model.add(Dropout(0.2))\n",
    "model.add(Dense(32, kernel_initializer='normal'))\n",
    "model.add(BatchNormalization())\n",
    "model.add(Activation('relu'))\n",
    "model.add(Dense(4))\n",
    "model.add(Activation('softmax'))"
   ]
  },
  {
   "cell_type": "code",
   "execution_count": 249,
   "metadata": {
    "scrolled": true
   },
   "outputs": [
    {
     "name": "stdout",
     "output_type": "stream",
     "text": [
      "Train on 850 samples, validate on 284 samples\n",
      "Epoch 1/200\n",
      "850/850 [==============================] - 2s 3ms/step - loss: 1.4133 - acc: 0.3141 - val_loss: 1.3705 - val_acc: 0.3521\n",
      "Epoch 2/200\n",
      "850/850 [==============================] - 0s 104us/step - loss: 1.2918 - acc: 0.3729 - val_loss: 1.3697 - val_acc: 0.3063\n",
      "Epoch 3/200\n",
      "850/850 [==============================] - 0s 113us/step - loss: 1.2411 - acc: 0.4212 - val_loss: 1.3722 - val_acc: 0.2923\n",
      "Epoch 4/200\n",
      "850/850 [==============================] - 0s 110us/step - loss: 1.2454 - acc: 0.4082 - val_loss: 1.3703 - val_acc: 0.3239\n",
      "Epoch 5/200\n",
      "850/850 [==============================] - 0s 109us/step - loss: 1.2244 - acc: 0.4212 - val_loss: 1.3723 - val_acc: 0.2993\n",
      "Epoch 6/200\n",
      "850/850 [==============================] - 0s 100us/step - loss: 1.2443 - acc: 0.3941 - val_loss: 1.3706 - val_acc: 0.3099\n",
      "Epoch 7/200\n",
      "850/850 [==============================] - 0s 106us/step - loss: 1.2260 - acc: 0.4424 - val_loss: 1.3645 - val_acc: 0.3345\n",
      "Epoch 8/200\n",
      "850/850 [==============================] - 0s 107us/step - loss: 1.2094 - acc: 0.4188 - val_loss: 1.3576 - val_acc: 0.3204\n",
      "Epoch 9/200\n",
      "850/850 [==============================] - 0s 104us/step - loss: 1.2134 - acc: 0.4247 - val_loss: 1.3610 - val_acc: 0.3099\n",
      "Epoch 10/200\n",
      "850/850 [==============================] - 0s 96us/step - loss: 1.2083 - acc: 0.4353 - val_loss: 1.3615 - val_acc: 0.3204\n",
      "Epoch 11/200\n",
      "850/850 [==============================] - 0s 132us/step - loss: 1.1952 - acc: 0.4306 - val_loss: 1.3682 - val_acc: 0.3380\n",
      "Epoch 12/200\n",
      "850/850 [==============================] - 0s 107us/step - loss: 1.1992 - acc: 0.4412 - val_loss: 1.3568 - val_acc: 0.3415\n",
      "Epoch 13/200\n",
      "850/850 [==============================] - 0s 101us/step - loss: 1.1873 - acc: 0.4400 - val_loss: 1.3549 - val_acc: 0.3415\n",
      "Epoch 14/200\n",
      "850/850 [==============================] - 0s 99us/step - loss: 1.1797 - acc: 0.4659 - val_loss: 1.3614 - val_acc: 0.3415\n",
      "Epoch 15/200\n",
      "850/850 [==============================] - 0s 104us/step - loss: 1.1953 - acc: 0.4424 - val_loss: 1.3460 - val_acc: 0.3627\n",
      "Epoch 16/200\n",
      "850/850 [==============================] - 0s 99us/step - loss: 1.1695 - acc: 0.4612 - val_loss: 1.3524 - val_acc: 0.3627\n",
      "Epoch 17/200\n",
      "850/850 [==============================] - 0s 106us/step - loss: 1.1812 - acc: 0.4482 - val_loss: 1.3729 - val_acc: 0.3521\n",
      "Epoch 18/200\n",
      "850/850 [==============================] - 0s 125us/step - loss: 1.1624 - acc: 0.4812 - val_loss: 1.3547 - val_acc: 0.3662\n",
      "Epoch 19/200\n",
      "850/850 [==============================] - 0s 110us/step - loss: 1.1801 - acc: 0.4600 - val_loss: 1.3508 - val_acc: 0.3627\n",
      "Epoch 20/200\n",
      "850/850 [==============================] - 0s 87us/step - loss: 1.1867 - acc: 0.4600 - val_loss: 1.3451 - val_acc: 0.3768\n",
      "Epoch 21/200\n",
      "850/850 [==============================] - 0s 94us/step - loss: 1.1494 - acc: 0.4659 - val_loss: 1.3560 - val_acc: 0.3556\n",
      "Epoch 22/200\n",
      "850/850 [==============================] - 0s 91us/step - loss: 1.1599 - acc: 0.4835 - val_loss: 1.3383 - val_acc: 0.3768\n",
      "Epoch 23/200\n",
      "850/850 [==============================] - 0s 88us/step - loss: 1.1647 - acc: 0.4741 - val_loss: 1.3507 - val_acc: 0.3662\n",
      "Epoch 24/200\n",
      "850/850 [==============================] - 0s 92us/step - loss: 1.1671 - acc: 0.4471 - val_loss: 1.3487 - val_acc: 0.3592\n",
      "Epoch 25/200\n",
      "850/850 [==============================] - 0s 90us/step - loss: 1.1630 - acc: 0.4671 - val_loss: 1.3492 - val_acc: 0.3592\n",
      "Epoch 26/200\n",
      "850/850 [==============================] - 0s 94us/step - loss: 1.1541 - acc: 0.4612 - val_loss: 1.3273 - val_acc: 0.3803\n",
      "Epoch 27/200\n",
      "850/850 [==============================] - 0s 92us/step - loss: 1.1638 - acc: 0.4494 - val_loss: 1.3508 - val_acc: 0.3521\n",
      "Epoch 28/200\n",
      "850/850 [==============================] - 0s 99us/step - loss: 1.1491 - acc: 0.4741 - val_loss: 1.3824 - val_acc: 0.3486\n",
      "Epoch 29/200\n",
      "850/850 [==============================] - 0s 76us/step - loss: 1.1465 - acc: 0.4776 - val_loss: 1.3641 - val_acc: 0.3415\n",
      "Epoch 30/200\n",
      "850/850 [==============================] - 0s 106us/step - loss: 1.1445 - acc: 0.4835 - val_loss: 1.3404 - val_acc: 0.3521\n",
      "Epoch 31/200\n",
      "850/850 [==============================] - 0s 114us/step - loss: 1.1489 - acc: 0.4682 - val_loss: 1.3872 - val_acc: 0.3556\n",
      "Epoch 32/200\n",
      "850/850 [==============================] - 0s 113us/step - loss: 1.1349 - acc: 0.4718 - val_loss: 1.3568 - val_acc: 0.3556\n",
      "Epoch 33/200\n",
      "850/850 [==============================] - 0s 93us/step - loss: 1.1571 - acc: 0.4776 - val_loss: 1.3832 - val_acc: 0.3486\n",
      "Epoch 34/200\n",
      "850/850 [==============================] - 0s 92us/step - loss: 1.1443 - acc: 0.4835 - val_loss: 1.3260 - val_acc: 0.3662\n",
      "Epoch 35/200\n",
      "850/850 [==============================] - 0s 106us/step - loss: 1.1402 - acc: 0.4788 - val_loss: 1.3092 - val_acc: 0.3732\n",
      "Epoch 36/200\n",
      "850/850 [==============================] - 0s 124us/step - loss: 1.1498 - acc: 0.4741 - val_loss: 1.3231 - val_acc: 0.3662\n",
      "Epoch 37/200\n",
      "850/850 [==============================] - 0s 116us/step - loss: 1.1354 - acc: 0.4729 - val_loss: 1.3383 - val_acc: 0.3732\n",
      "Epoch 38/200\n",
      "850/850 [==============================] - 0s 100us/step - loss: 1.1281 - acc: 0.4824 - val_loss: 1.3526 - val_acc: 0.3768\n",
      "Epoch 39/200\n",
      "850/850 [==============================] - 0s 100us/step - loss: 1.1351 - acc: 0.4741 - val_loss: 1.3444 - val_acc: 0.3592\n",
      "Epoch 40/200\n",
      "850/850 [==============================] - 0s 106us/step - loss: 1.1298 - acc: 0.5000 - val_loss: 1.3318 - val_acc: 0.3592\n",
      "Epoch 41/200\n",
      "850/850 [==============================] - 0s 120us/step - loss: 1.1429 - acc: 0.4706 - val_loss: 1.2967 - val_acc: 0.3768\n",
      "Epoch 42/200\n",
      "850/850 [==============================] - 0s 130us/step - loss: 1.1257 - acc: 0.4882 - val_loss: 1.3346 - val_acc: 0.3592\n",
      "Epoch 43/200\n",
      "850/850 [==============================] - 0s 106us/step - loss: 1.1169 - acc: 0.4882 - val_loss: 1.3756 - val_acc: 0.3415\n",
      "Epoch 44/200\n",
      "850/850 [==============================] - 0s 100us/step - loss: 1.1292 - acc: 0.4894 - val_loss: 1.3582 - val_acc: 0.3380\n",
      "Epoch 45/200\n",
      "850/850 [==============================] - 0s 101us/step - loss: 1.1266 - acc: 0.4976 - val_loss: 1.2593 - val_acc: 0.3732\n",
      "Epoch 46/200\n",
      "850/850 [==============================] - 0s 119us/step - loss: 1.1363 - acc: 0.4529 - val_loss: 1.3095 - val_acc: 0.3697\n",
      "Epoch 47/200\n",
      "850/850 [==============================] - 0s 120us/step - loss: 1.1250 - acc: 0.4918 - val_loss: 1.2842 - val_acc: 0.3838\n",
      "Epoch 48/200\n",
      "850/850 [==============================] - 0s 111us/step - loss: 1.1138 - acc: 0.4941 - val_loss: 1.2990 - val_acc: 0.3592\n",
      "Epoch 49/200\n",
      "850/850 [==============================] - 0s 109us/step - loss: 1.1204 - acc: 0.5024 - val_loss: 1.3289 - val_acc: 0.3310\n",
      "Epoch 50/200\n",
      "850/850 [==============================] - 0s 107us/step - loss: 1.1181 - acc: 0.5059 - val_loss: 1.2786 - val_acc: 0.3592\n",
      "Epoch 51/200\n",
      "850/850 [==============================] - 0s 107us/step - loss: 1.1023 - acc: 0.5000 - val_loss: 1.3448 - val_acc: 0.3521\n",
      "Epoch 52/200\n",
      "850/850 [==============================] - 0s 117us/step - loss: 1.1409 - acc: 0.4835 - val_loss: 1.3061 - val_acc: 0.3451\n",
      "Epoch 53/200\n",
      "850/850 [==============================] - 0s 122us/step - loss: 1.1309 - acc: 0.4835 - val_loss: 1.2742 - val_acc: 0.3662\n",
      "Epoch 54/200\n",
      "850/850 [==============================] - 0s 118us/step - loss: 1.1230 - acc: 0.4918 - val_loss: 1.3061 - val_acc: 0.3486\n",
      "Epoch 55/200\n",
      "850/850 [==============================] - 0s 91us/step - loss: 1.1103 - acc: 0.4953 - val_loss: 1.2185 - val_acc: 0.4331\n",
      "Epoch 56/200\n",
      "850/850 [==============================] - 0s 81us/step - loss: 1.1087 - acc: 0.5047 - val_loss: 1.2289 - val_acc: 0.4155\n",
      "Epoch 57/200\n",
      "850/850 [==============================] - 0s 86us/step - loss: 1.1200 - acc: 0.5071 - val_loss: 1.2722 - val_acc: 0.3768\n",
      "Epoch 58/200\n",
      "850/850 [==============================] - 0s 87us/step - loss: 1.1142 - acc: 0.5000 - val_loss: 1.2091 - val_acc: 0.4366\n",
      "Epoch 59/200\n",
      "850/850 [==============================] - 0s 78us/step - loss: 1.1306 - acc: 0.4612 - val_loss: 1.2956 - val_acc: 0.3239\n",
      "Epoch 60/200\n",
      "850/850 [==============================] - 0s 97us/step - loss: 1.1113 - acc: 0.5118 - val_loss: 1.2582 - val_acc: 0.3944\n",
      "Epoch 61/200\n"
     ]
    },
    {
     "name": "stdout",
     "output_type": "stream",
     "text": [
      "850/850 [==============================] - 0s 107us/step - loss: 1.1269 - acc: 0.4871 - val_loss: 1.2331 - val_acc: 0.4401\n",
      "Epoch 62/200\n",
      "850/850 [==============================] - 0s 119us/step - loss: 1.1242 - acc: 0.4788 - val_loss: 1.2228 - val_acc: 0.4331\n",
      "Epoch 63/200\n",
      "850/850 [==============================] - 0s 119us/step - loss: 1.1262 - acc: 0.4753 - val_loss: 1.2581 - val_acc: 0.3838\n",
      "Epoch 64/200\n",
      "850/850 [==============================] - 0s 94us/step - loss: 1.1200 - acc: 0.5082 - val_loss: 1.2850 - val_acc: 0.3592\n",
      "Epoch 65/200\n",
      "850/850 [==============================] - 0s 104us/step - loss: 1.1096 - acc: 0.4718 - val_loss: 1.2303 - val_acc: 0.4613\n",
      "Epoch 66/200\n",
      "850/850 [==============================] - 0s 99us/step - loss: 1.1204 - acc: 0.4894 - val_loss: 1.2558 - val_acc: 0.3803\n",
      "Epoch 67/200\n",
      "850/850 [==============================] - 0s 94us/step - loss: 1.1118 - acc: 0.5024 - val_loss: 1.2366 - val_acc: 0.4120\n",
      "Epoch 68/200\n",
      "850/850 [==============================] - 0s 97us/step - loss: 1.1119 - acc: 0.5012 - val_loss: 1.2252 - val_acc: 0.4472\n"
     ]
    }
   ],
   "source": [
    "model.compile(optimizer='rmsprop',\n",
    "              loss='categorical_crossentropy',\n",
    "              metrics=['accuracy'])\n",
    "history = model.fit(train_X, train_y, epochs=200, batch_size=100, validation_split=0.25, verbose=1, callbacks=[earlyStopping])"
   ]
  },
  {
   "cell_type": "code",
   "execution_count": 250,
   "metadata": {},
   "outputs": [
    {
     "name": "stdout",
     "output_type": "stream",
     "text": [
      "378/378 [==============================] - 0s 21us/step\n"
     ]
    },
    {
     "data": {
      "text/plain": [
       "[1.22785834408311, 0.47089945938852096]"
      ]
     },
     "execution_count": 250,
     "metadata": {},
     "output_type": "execute_result"
    }
   ],
   "source": [
    "score = model.evaluate(test_X, test_y, batch_size=200)\n",
    "score"
   ]
  },
  {
   "cell_type": "code",
   "execution_count": 251,
   "metadata": {},
   "outputs": [
    {
     "data": {
      "image/png": "[encoded data removed]",
      "text/plain": [
       "<matplotlib.figure.Figure at 0x2046511cac8>"
      ]
     },
     "metadata": {},
     "output_type": "display_data"
    }
   ],
   "source": [
    "plt.figure(figsize=(12,4))\n",
    "plt.subplot(1,2,1)\n",
    "plot_train_history(history, 'loss','val_loss')\n",
    "plt.subplot(1,2,2)\n",
    "plot_train_history(history, 'acc','val_acc')"
   ]
  },
  {
   "cell_type": "code",
   "execution_count": 252,
   "metadata": {},
   "outputs": [
    {
     "data": {
      "text/plain": [
       "array([[0.19930363, 0.32940486, 0.2839709 , 0.18732075],\n",
       "       [0.38354737, 0.04430178, 0.37921453, 0.1929364 ],\n",
       "       [0.29945868, 0.27868602, 0.26854336, 0.15331197],\n",
       "       ...,\n",
       "       [0.40836024, 0.43825608, 0.12372348, 0.02966018],\n",
       "       [0.22809727, 0.22844665, 0.26630244, 0.27715364],\n",
       "       [0.29080087, 0.11613531, 0.2134611 , 0.37960276]], dtype=float32)"
      ]
     },
     "execution_count": 252,
     "metadata": {},
     "output_type": "execute_result"
    }
   ],
   "source": [
    "model.predict(test_X)"
   ]
  },
  {
   "cell_type": "code",
   "execution_count": 253,
   "metadata": {},
   "outputs": [
    {
     "data": {
      "text/plain": [
       "array([[0.01585164, 0.25517923, 0.2367742 , 0.49219492],\n",
       "       [0.06536304, 0.7256118 , 0.1671149 , 0.04191028],\n",
       "       [0.05075301, 0.7818642 , 0.14517409, 0.02220874],\n",
       "       ...,\n",
       "       [0.06209362, 0.793361  , 0.12216439, 0.02238107],\n",
       "       [0.2603832 , 0.15128098, 0.25010502, 0.3382308 ],\n",
       "       [0.12010518, 0.55413204, 0.26238957, 0.06337316]], dtype=float32)"
      ]
     },
     "execution_count": 253,
     "metadata": {},
     "output_type": "execute_result"
    }
   ],
   "source": [
    "model.predict(train_X)"
   ]
  },
  {
   "cell_type": "code",
   "execution_count": null,
   "metadata": {},
   "outputs": [],
   "source": []
  },
  {
   "cell_type": "code",
   "execution_count": null,
   "metadata": {},
   "outputs": [],
   "source": []
  },
  {
   "cell_type": "code",
   "execution_count": null,
   "metadata": {},
   "outputs": [],
   "source": []
  },
  {
   "cell_type": "code",
   "execution_count": null,
   "metadata": {
    "collapsed": true
   },
   "outputs": [],
   "source": []
  }
 ],
 "metadata": {
  "kernelspec": {
   "display_name": "Python 3",
   "language": "python",
   "name": "python3"
  },
  "language_info": {
   "codemirror_mode": {
    "name": "ipython",
    "version": 3
   },
   "file_extension": ".py",
   "mimetype": "text/x-python",
   "name": "python",
   "nbconvert_exporter": "python",
   "pygments_lexer": "ipython3",
   "version": "3.6.1"
  }
 },
 "nbformat": 4,
 "nbformat_minor": 2
}
