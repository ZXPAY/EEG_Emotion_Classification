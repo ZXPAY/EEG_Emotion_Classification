{
 "cells": [
  {
   "cell_type": "code",
   "execution_count": 1,
   "metadata": {
    "collapsed": true
   },
   "outputs": [],
   "source": [
    "import os\n",
    "os.chdir(\"C:\\\\Users\\\\zxpay\\\\Desktop\\\\BME_Senior\\\\EEG_CLF\\\\Code\")\n",
    "import sys\n",
    "from Get_file import Get_file   # return dirpath, dirnames, filenames\n",
    "from FFT import FFT\n",
    "import pyedflib\n",
    "import numpy as np\n",
    "from scipy.signal import butter, lfilter\n",
    "from scipy.signal import freqz\n",
    "import matplotlib.pyplot as plt\n",
    "\n",
    "# Setting parameters\n",
    "Sample_frequency = 128\n",
    "DEBUG = True\n",
    "label_size = 40\n",
    "channel_we_use = [2,3,4,5,6,7,8,9,10,11,12,13,14,15]   # 0~39 共40\n"
   ]
  },
  {
   "cell_type": "code",
   "execution_count": 2,
   "metadata": {},
   "outputs": [
    {
     "name": "stdout",
     "output_type": "stream",
     "text": [
      "Get data from database ...\n",
      "(40, 38400)\n",
      "(40, 105344)\n",
      "(40, 38400)\n",
      "(40, 105344)\n",
      "(40, 179328)\n",
      "(40, 309248)\n",
      "(40, 38400)\n",
      "(40, 179328)\n",
      "(40, 309760)\n",
      "(40, 38400)\n",
      "(40, 105728)\n",
      "(40, 158976)\n",
      "(40, 58112)\n",
      "(40, 50944)\n",
      "(40, 33152)\n",
      "(40, 3968)\n",
      "(40, 38400)\n",
      "(40, 105344)\n",
      "(40, 178944)\n",
      "(40, 308992)\n",
      "(40, 38400)\n",
      "(40, 105728)\n",
      "(40, 179840)\n",
      "(40, 237312)\n",
      "(40, 38400)\n",
      "(40, 105600)\n",
      "(40, 179584)\n",
      "(40, 38400)\n",
      "(40, 178944)\n",
      "(40, 308864)\n",
      "(40, 38400)\n",
      "(40, 105344)\n",
      "(40, 179072)\n",
      "(40, 83328)\n",
      "(40, 117632)\n",
      "(40, 107392)\n",
      "(40, 38400)\n",
      "(40, 308992)\n",
      "(40, 38400)\n",
      "(40, 179072)\n",
      "(40, 105344)\n",
      "(40, 308736)\n",
      "(40, 38400)\n",
      "(40, 313472)\n",
      "(40, 38400)\n",
      "(40, 105344)\n",
      "(40, 38400)\n",
      "(40, 105344)\n",
      "(40, 38528)\n",
      "(40, 179200)\n",
      "(40, 308736)\n",
      "(40, 38400)\n",
      "(40, 179328)\n",
      "(40, 38400)\n",
      "(40, 105344)\n",
      "Okay\n",
      "normal signal length :  17\n",
      "scare signal length :  11\n",
      "touch signal length :  10\n",
      "laugh signal length :  17\n"
     ]
    }
   ],
   "source": [
    "#Four Lables\n",
    "normal_lable = []   # 0\n",
    "scare_lable = []    # 1\n",
    "touch_lable = []    # 2\n",
    "laugh_lable = []    # 3\n",
    "\n",
    "#Four Signal\n",
    "normal_signal = []\n",
    "scare_signal = []\n",
    "touch_signal = []\n",
    "laugh_signal = []\n",
    "\n",
    "signal = []\n",
    "labels = []\n",
    "\n",
    "data_path = \"C:\\\\Users\\\\zxpay\\\\Desktop\\\\BME_Senior\\\\EEG_CLF\\\\database\"\n",
    "\n",
    "_,data_files,_ = Get_file(data_path)\n",
    "if data_files == []:\n",
    "    raise(\"Not found any files ! check your data_path\")\n",
    "else:\n",
    "    print('Get data from database ...')\n",
    "    for data in data_files:\n",
    "        _,_,file_names = Get_file(data_path+'\\\\'+data)\n",
    "        for fn in file_names:\n",
    "            if fn.split('.')[1] == 'edf':\n",
    "                if DEBUG:\n",
    "                    #print(data_path+'\\\\'+data+'\\\\'+fn)\n",
    "                    pass\n",
    "                fedf = pyedflib.EdfReader(data_path+'\\\\'+data+'\\\\'+fn)\n",
    "                n = fedf.signals_in_file\n",
    "                signal_labels = np.asarray(fedf.getSignalLabels())\n",
    "                sigbufs = np.zeros((n, fedf.getNSamples()[0]))\n",
    "                for i in np.arange(n):\n",
    "                    sigbufs[i, :] = fedf.readSignal(i)\n",
    "\n",
    "                if 'normal' in fn:\n",
    "                    normal_lable.append(0)\n",
    "                    normal_signal.append(sigbufs)\n",
    "                elif 'scare' in fn:\n",
    "                    scare_lable.append(1)\n",
    "                    scare_signal.append(sigbufs)\n",
    "                elif 'touch' in fn:\n",
    "                    touch_lable.append(2)\n",
    "                    touch_signal.append(sigbufs)\n",
    "                elif 'laugh' in fn:\n",
    "                    laugh_lable.append(3)\n",
    "                    laugh_signal.append(sigbufs)\n",
    "                    \n",
    "                if DEBUG:\n",
    "                    print(sigbufs.shape)\n",
    "\n",
    "''' Labels --> 40 channels\n",
    "['COUNTER' 'INTERPOLATED' 'AF3' 'F7' 'F3' 'FC5' 'T7' 'P7' 'O1' 'O2' 'P8'\n",
    " 'T8' 'FC6' 'F4' 'F8' 'AF4' 'RAW_CQ' 'GYROX' 'GYROY' 'MARKER'\n",
    " 'MARKER_HARDWARE' 'SYNC' 'TIME_STAMP_s' 'TIME_STAMP_ms' 'CQ_AF3' 'CQ_F7'\n",
    " 'CQ_F3' 'CQ_FC5' 'CQ_T7' 'CQ_P7' 'CQ_O1' 'CQ_O2' 'CQ_P8' 'CQ_T8' 'CQ_FC6'\n",
    " 'CQ_F4' 'CQ_F8' 'CQ_AF4' 'CQ_CMS' 'CQ_DRL']\n",
    "'''\n",
    "\n",
    "print('Okay')\n",
    "if DEBUG:\n",
    "    print('normal signal length : ', len(normal_signal))\n",
    "    print('scare signal length : ', len(scare_signal))\n",
    "    print('touch signal length : ', len(touch_signal))\n",
    "    print('laugh signal length : ', len(laugh_signal))\n",
    "\n"
   ]
  },
  {
   "cell_type": "code",
   "execution_count": 3,
   "metadata": {
    "collapsed": true
   },
   "outputs": [],
   "source": [
    "# Band pass filter\n",
    "def butter_bandpass(lowcut, highcut, fs, order=5):\n",
    "    nyq = 0.5 * fs\n",
    "    low = lowcut / nyq\n",
    "    high = highcut / nyq\n",
    "    b, a = butter(order, [low, high], btype='band')\n",
    "    return b, a\n",
    "\n",
    "\n",
    "def butter_bandpass_filter(data, lowcut, highcut, fs, order=5):\n",
    "    b, a = butter_bandpass(lowcut, highcut, fs, order=order)\n",
    "    y = lfilter(b, a, data)\n",
    "    return y\n",
    "\n",
    "# Lowpass filter\n",
    "def butter_lowpass(cutOff, fs, order=5):\n",
    "    nyq = 0.5 * fs\n",
    "    normalCutoff = cutOff / nyq\n",
    "    b, a = butter(order, normalCutoff, btype='low', analog = True)\n",
    "    return b, a\n",
    "\n",
    "def butter_lowpass_filter(data, cutOff, fs, order=4):\n",
    "    b, a = butter_lowpass(cutOff, fs, order=order)\n",
    "    y = lfilter(b, a, data)\n",
    "    return y"
   ]
  },
  {
   "cell_type": "code",
   "execution_count": null,
   "metadata": {
    "collapsed": true
   },
   "outputs": [],
   "source": [
    "# Split the data from each channel\n",
    "def Get_delta(raw_data, channel, sample_freq=128):\n",
    "    times = int(raw_data.shape[1]/Sample_frequency)\n",
    "    datai = []\n",
    "    delta_alpha = []\n",
    "    delta_beta = []\n",
    "    delta1 = np.zeros([times, (12-8)])   # alpha\n",
    "    delta2 = np.zeros([times, (30-13)])   # beta\n",
    "    num_sp = 0\n",
    "    s = None\n",
    "    t = None\n",
    "    for i in range(times):\n",
    "        datai.append(raw_data[channel][num_sp:(num_sp+sample_freq)])\n",
    "        num_sp += sample_freq\n",
    "\n",
    "    for x in datai:\n",
    "        alpha = butter_bandpass_filter(x,8,12,Sample_frequency)\n",
    "        alpha = alpha[8:13]\n",
    "        beta = butter_bandpass_filter(x,13,30,Sample_frequency)\n",
    "        beta = beta[13:31]\n",
    "        freq_alpha, data_alpha = FFT(alpha, Sample_frequency, Sample_frequency)\n",
    "        freq_bata, data_beta = FFT(beta, Sample_frequency, Sample_frequency)\n",
    "\n",
    "        if s is None and t is None:\n",
    "            pass\n",
    "        else:\n",
    "            delta_alpha.append(s-data_alpha)\n",
    "            delta_beta.append(t-data_beta)\n",
    "        s = data_alpha\n",
    "        t = data_beta\n",
    "    delta1 = np.asarray(delta_alpha)\n",
    "    delta1 = np.mean(delta1, 0)\n",
    "    delta2 = np.asarray(delta_beta)\n",
    "    delta2 = np.mean(delta2, 0)\n",
    "    return delta1, delta2\n",
    "# example\n",
    "a, b = Get_delta(scare_signal[4], 3, 128)   # each data samples is 64"
   ]
  },
  {
   "cell_type": "code",
   "execution_count": null,
   "metadata": {
    "collapsed": true
   },
   "outputs": [],
   "source": [
    "# Get all normal signal data\n",
    "# Data shape : 64 X 14 X person_numbers       ， 14 is 14 channels\n",
    "normal_alpha = np.zeros([64,14,len(normal_signal)], dtype=np.float32)\n",
    "normal_beta = np.zeros([64,14,len(normal_signal)], dtype=np.float32)\n",
    "ch_num = 0\n",
    "for i in range(len(normal_signal)):\n",
    "    for ch in range(label_size):\n",
    "        if ch in channel_we_use:\n",
    "            delta_a, delta_b = Get_delta(normal_signal[i], ch, Sample_frequency)\n",
    "            normal_alpha[:,ch_num,i] = delta_a\n",
    "            normal_beta[:,ch_num,i] = delta_b\n",
    "            ch_num += 1\n",
    "    ch_num = 0  "
   ]
  },
  {
   "cell_type": "code",
   "execution_count": null,
   "metadata": {
    "collapsed": true
   },
   "outputs": [],
   "source": [
    "# Get all scare signal data\n",
    "# Data shape : 64 X 14 X person_numbers       ， 14 is 14 channels\n",
    "scare_alpha = np.zeros([64,14,len(scare_signal)], dtype=np.float32)\n",
    "scare_beta = np.zeros([64,14,len(scare_signal)], dtype=np.float32)\n",
    "ch_num = 0\n",
    "for i in range(len(scare_signal)):\n",
    "    for ch in range(label_size):\n",
    "        if ch in channel_we_use:\n",
    "            delta_a, delta_b = Get_delta(scare_signal[i], ch, Sample_frequency)\n",
    "            scare_alpha[:,ch_num,i] = delta_a\n",
    "            scare_beta[:,ch_num,i] = delta_b\n",
    "            ch_num += 1\n",
    "    ch_num = 0  "
   ]
  },
  {
   "cell_type": "code",
   "execution_count": null,
   "metadata": {
    "collapsed": true
   },
   "outputs": [],
   "source": [
    "# Get all touch signal data\n",
    "# Data shape : 64 X 14 X person_numbers       ， 14 is 14 channels\n",
    "touch_alpha = np.zeros([64,14,len(touch_signal)], dtype=np.float32)\n",
    "touch_beta = np.zeros([64,14,len(touch_signal)], dtype=np.float32)\n",
    "ch_num = 0\n",
    "for i in range(len(touch_signal)):\n",
    "    for ch in range(label_size):\n",
    "        if ch in channel_we_use:\n",
    "            delta_a, delta_b = Get_delta(touch_signal[i], ch, Sample_frequency)\n",
    "            touch_alpha[:,ch_num,i] = delta_a\n",
    "            touch_beta[:,ch_num,i] = delta_b\n",
    "            ch_num += 1\n",
    "    ch_num = 0  "
   ]
  },
  {
   "cell_type": "code",
   "execution_count": null,
   "metadata": {
    "collapsed": true
   },
   "outputs": [],
   "source": [
    "# Get all laugh signal data\n",
    "# Data shape : 64 X 14 X person_numbers       ， 14 is 14 channels\n",
    "laugh_alpha = np.zeros([64,14,len(laugh_signal)], dtype=np.float32)\n",
    "laugh_beta = np.zeros([64,14,len(laugh_signal)], dtype=np.float32)\n",
    "ch_num = 0\n",
    "for i in range(len(laugh_signal)):\n",
    "    for ch in range(label_size):\n",
    "        if ch in channel_we_use:\n",
    "            delta_a, delta_b = Get_delta(laugh_signal[i], ch, Sample_frequency)\n",
    "            laugh_alpha[:,ch_num,i] = delta_a\n",
    "            laugh_beta[:,ch_num,i] = delta_b\n",
    "            ch_num += 1\n",
    "    ch_num = 0  "
   ]
  },
  {
   "cell_type": "code",
   "execution_count": null,
   "metadata": {
    "collapsed": true
   },
   "outputs": [],
   "source": [
    "if DEBUG:\n",
    "    print('normal size (alpha, beta) : ', normal_alpha.shape, normal_beta.shape)\n",
    "    print('scare size (alpha, beta)  : ', scare_alpha.shape, scare_beta.shape)\n",
    "    print('touch size (alpha, beta)  : ', touch_alpha.shape, touch_beta.shape)\n",
    "    print('laugh size (alpha, beta)  : ', laugh_alpha.shape, laugh_beta.shape)"
   ]
  },
  {
   "cell_type": "code",
   "execution_count": null,
   "metadata": {
    "collapsed": true
   },
   "outputs": [],
   "source": [
    "# create the target\n",
    "normal_target = np.ones([normal_alpha.shape[2]]) * 1\n",
    "scare_target = np.ones([scare_alpha.shape[2]]) * 2\n",
    "touch_target = np.ones([touch_alpha.shape[2]]) * 3\n",
    "laugh_target = np.ones([laugh_alpha.shape[2]]) * 4"
   ]
  },
  {
   "cell_type": "code",
   "execution_count": null,
   "metadata": {},
   "outputs": [],
   "source": [
    "X = 0\n",
    "y = 0\n",
    "for ch in range(len(channel_we_use)):\n",
    "    X1 = np.vstack((normal_alpha[:,ch,:].reshape([17,64]),\n",
    "                         scare_alpha[:,ch,:].reshape([11,64]),\n",
    "                        touch_alpha[:,ch,:].reshape([10,64]),\n",
    "                        laugh_alpha[:,ch,:].reshape([17,64])))\n",
    "    X2 = np.vstack((normal_beta[:,ch,:].reshape([17,64]),\n",
    "                         scare_beta[:,ch,:].reshape([11,64]),\n",
    "                        touch_beta[:,ch,:].reshape([10,64]),\n",
    "                        laugh_beta[:,ch,:].reshape([17,64])))\n",
    "    X_all = np.hstack((X1,X2))\n",
    "    y_all = np.hstack((normal_target,\n",
    "                   scare_target,\n",
    "                   touch_target,\n",
    "                   laugh_target)).reshape(-1)\n",
    "    try:\n",
    "        X = np.vstack((X,X_all))\n",
    "        y = np.hstack((y,y_all))\n",
    "    except Exception as e:\n",
    "        X = X_all\n",
    "        y = y_all\n",
    "        print(e)\n",
    "    if DEBUG:\n",
    "        if i > 0:\n",
    "            print(X.shape, X_all.shape)\n",
    "            print(y.shape, y_all.shape)"
   ]
  },
  {
   "cell_type": "code",
   "execution_count": null,
   "metadata": {},
   "outputs": [],
   "source": [
    "if DEBUG:\n",
    "    print(X.shape)\n",
    "    print(y.shape)"
   ]
  },
  {
   "cell_type": "code",
   "execution_count": null,
   "metadata": {
    "scrolled": false
   },
   "outputs": [],
   "source": [
    "from Danny_ML_CLF import Danny_ML_CLF\n",
    "clf = Danny_ML_CLF()\n",
    "train_X, test_X, train_y, test_y = clf.Split_data(X, y, test_size=0.3, Standard=True)\n",
    "clf.Fit_value(train_X, train_y)\n",
    "clf.Train()\n",
    "clf.Report(test_X, test_y, [1,2,3,4], show_cm=False)\n",
    "clf.Report2txt('EEG_Report.txt')\n",
    "print('Report Okay !\\n\\n')"
   ]
  },
  {
   "cell_type": "code",
   "execution_count": null,
   "metadata": {
    "collapsed": true
   },
   "outputs": [],
   "source": []
  },
  {
   "cell_type": "code",
   "execution_count": null,
   "metadata": {
    "collapsed": true
   },
   "outputs": [],
   "source": []
  },
  {
   "cell_type": "code",
   "execution_count": null,
   "metadata": {
    "collapsed": true
   },
   "outputs": [],
   "source": []
  },
  {
   "cell_type": "code",
   "execution_count": null,
   "metadata": {
    "collapsed": true
   },
   "outputs": [],
   "source": []
  }
 ],
 "metadata": {
  "kernelspec": {
   "display_name": "Python 3",
   "language": "python",
   "name": "python3"
  },
  "language_info": {
   "codemirror_mode": {
    "name": "ipython",
    "version": 3
   },
   "file_extension": ".py",
   "mimetype": "text/x-python",
   "name": "python",
   "nbconvert_exporter": "python",
   "pygments_lexer": "ipython3",
   "version": "3.6.1"
  }
 },
 "nbformat": 4,
 "nbformat_minor": 2
}
