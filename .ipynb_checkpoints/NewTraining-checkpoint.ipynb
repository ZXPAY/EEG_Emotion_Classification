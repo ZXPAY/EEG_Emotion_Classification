{
 "cells": [
  {
   "cell_type": "markdown",
   "metadata": {},
   "source": [
    "### EEG 建模(分類器)。\n",
    "### 以機器學習的方法和神經網路(Neural Network)的方式。"
   ]
  },
  {
   "cell_type": "code",
   "execution_count": 1,
   "metadata": {},
   "outputs": [
    {
     "name": "stderr",
     "output_type": "stream",
     "text": [
      "C:\\Users\\zxpay\\Anaconda3\\lib\\site-packages\\sklearn\\cross_validation.py:41: DeprecationWarning: This module was deprecated in version 0.18 in favor of the model_selection module into which all the refactored classes and functions are moved. Also note that the interface of the new CV iterators are different from that of this module. This module will be removed in 0.20.\n",
      "  \"This module will be removed in 0.20.\", DeprecationWarning)\n"
     ]
    }
   ],
   "source": [
    "# 匯入相關的套件、模組\n",
    "import numpy as np\n",
    "import matplotlib.pyplot as plt\n",
    "import pandas as pd\n",
    "from Get_file import Get_file   # return dirpath, dirnames, filenames\n",
    "from FFT import FFT, PlotDataOnTimeDomain\n",
    "from BandPassFilter import BandPassFilter, PlotDataOnFreqDomain, BandPassListFilter\n",
    "from Danny_ML_CLF import Danny_ML_CLF\n",
    "import os\n",
    "\n",
    "%matplotlib inline\n",
    "\n",
    "data_dir = \"C:\\\\Users\\\\zxpay\\\\Desktop\\\\BME_Senior\\\\EEG_CLF\\\\Emotion\\\\database\\\\New_SDK_Data\"\n"
   ]
  },
  {
   "cell_type": "code",
   "execution_count": 2,
   "metadata": {
    "collapsed": true
   },
   "outputs": [],
   "source": [
    "# 此 function 會去計算 Array中有幾個 0 的值\n",
    "def CalculateZeros(NumpyArray):\n",
    "    LogicWithZeros = (NumpyArray == 0)\n",
    "    return np.sum(LogicWithZeros)"
   ]
  },
  {
   "cell_type": "markdown",
   "metadata": {},
   "source": [
    "### Read the data (*.csv) using pandas"
   ]
  },
  {
   "cell_type": "code",
   "execution_count": 3,
   "metadata": {
    "collapsed": true,
    "scrolled": true
   },
   "outputs": [],
   "source": [
    "os.chdir(data_dir)\n",
    "_,data_files,_ = Get_file(data_dir)\n",
    "data_files\n",
    "all_df = pd.DataFrame()\n",
    "for file in data_files:\n",
    "    emotion = 0\n",
    "    # 1->normal, 2->happy, 3->scare, 4->touch, \n",
    "    _,_,file_names = Get_file(data_dir + '\\\\' + file)\n",
    "    for fn in file_names:\n",
    "        \n",
    "        data_name = data_dir + '\\\\' + file + '\\\\' + fn\n",
    "        if 'happy' in fn:\n",
    "            emotion = 2\n",
    "        elif 'scare' in fn:\n",
    "            emotion = 3\n",
    "        elif 'touch' in fn:\n",
    "            emotion = 4\n",
    "        else:\n",
    "            print(fn)\n",
    "            emotion = 1\n",
    "        #print(emotion, fn)\n",
    "        df = pd.read_csv(data_name, engine='python')\n",
    "        df_length = df.shape[0]\n",
    "        \n",
    "        df['label'] = df['label']*emotion\n",
    "            \n",
    "        try:\n",
    "            all_df = pd.concat([all_df,df])\n",
    "        except Exception as e:\n",
    "            print(e)\n",
    "            all_df = df\n",
    "        #print(sorted(df.corr()['label'].tolist()), fn)\n",
    "        #print('***********************************************')\n",
    "        "
   ]
  },
  {
   "cell_type": "markdown",
   "metadata": {},
   "source": [
    "### 移除遺失值"
   ]
  },
  {
   "cell_type": "code",
   "execution_count": 4,
   "metadata": {
    "collapsed": true
   },
   "outputs": [],
   "source": [
    "all_df = all_df.dropna(axis=1)\n",
    "all_df = all_df.reset_index()"
   ]
  },
  {
   "cell_type": "code",
   "execution_count": 5,
   "metadata": {
    "collapsed": true
   },
   "outputs": [],
   "source": [
    "Columns = ['alpha', 'channel', 'gamma', 'heig_beta', 'label','low_beta','theta','time']\n",
    "Features = ['alpha', 'heig_beta', 'low_beta','theta']\n",
    "Labels = ['label']"
   ]
  },
  {
   "cell_type": "markdown",
   "metadata": {},
   "source": [
    "### 區分每個 Channel，每個 channel都訓練，以探討頭腦哪一區塊對於情緒有較大的相關性。"
   ]
  },
  {
   "cell_type": "code",
   "execution_count": 6,
   "metadata": {
    "collapsed": true
   },
   "outputs": [],
   "source": [
    "channel1 = all_df[all_df['channel'] == 1].index\n",
    "channel2 = all_df[all_df['channel'] == 2].index\n",
    "channel3 = all_df[all_df['channel'] == 3].index\n",
    "channel4 = all_df[all_df['channel'] == 4].index\n",
    "channel5 = all_df[all_df['channel'] == 5].index\n",
    "channel6 = all_df[all_df['channel'] == 6].index\n",
    "channel7 = all_df[all_df['channel'] == 7].index\n",
    "channel8 = all_df[all_df['channel'] == 8].index\n",
    "channel9 = all_df[all_df['channel'] == 9].index\n",
    "channel10 = all_df[all_df['channel'] == 10].index\n",
    "channel11 = all_df[all_df['channel'] == 11].index\n",
    "channel12 = all_df[all_df['channel'] == 12].index\n",
    "channel13 = all_df[all_df['channel'] == 13].index\n",
    "channel14 = all_df[all_df['channel'] == 14].index\n",
    "\n",
    "df_1 = all_df.iloc[channel1]\n",
    "df_2 = all_df.iloc[channel2]\n",
    "df_3 = all_df.iloc[channel3]\n",
    "df_4 = all_df.iloc[channel4]\n",
    "df_5 = all_df.iloc[channel5]\n",
    "df_6 = all_df.iloc[channel6]\n",
    "df_7 = all_df.iloc[channel7]\n",
    "df_8 = all_df.iloc[channel8]\n",
    "df_9 = all_df.iloc[channel9]\n",
    "df_10 = all_df.iloc[channel10]\n",
    "df_11 = all_df.iloc[channel11]\n",
    "df_12 = all_df.iloc[channel12]\n",
    "df_13 = all_df.iloc[channel13]\n",
    "df_14 = all_df.iloc[channel14]\n"
   ]
  },
  {
   "cell_type": "code",
   "execution_count": 7,
   "metadata": {
    "collapsed": true,
    "scrolled": true
   },
   "outputs": [],
   "source": [
    "my_df = [df_1, df_2, df_3, df_4, df_5, df_6, df_7, df_8, df_9,\n",
    "        df_10, df_11, df_12, df_13, df_14]"
   ]
  },
  {
   "cell_type": "code",
   "execution_count": null,
   "metadata": {
    "collapsed": true
   },
   "outputs": [],
   "source": [
    "os.chdir('C:\\\\Users\\\\zxpay\\\\Desktop\\\\BME_Senior\\\\EEG_CLF\\\\Emotion\\\\Code')\n",
    "n = 4   # Channel 5 is the best result\n",
    "\n",
    "#for n in range(len(my_df)):   # Run all the channel, and see what channel is best\n",
    "Testing_df = my_df[n]\n",
    "data = np.zeros([Testing_df.shape[0], 4])\n",
    "for i in range(4):\n",
    "    data[:, i] = np.array(Testing_df[Features[i]], dtype=np.float32)\n",
    "label = np.array(Testing_df['label'], dtype=np.float32)\n",
    "if CalculateZeros(data) != 0:\n",
    "    print('Warning !!!')\n",
    "\n",
    "pos = np.where((label==0) | (label==2))\n",
    "\n",
    "zero_pos = np.where(label==0)\n",
    "zero_choose = np.random.randint(500,20000,size=400)\n",
    "zero_choose = zero_pos[0][zero_choose]\n",
    "data_normal = data[zero_choose]\n",
    "label_normal = label[zero_choose]\n",
    "\n",
    "pos_happy = np.where(label==2)\n",
    "one_choose = np.random.randint(20,1020,size=400)\n",
    "one_choose = pos_happy[0][one_choose]\n",
    "data_happy = data[one_choose]\n",
    "label_happy = label[one_choose]\n",
    "\n",
    "data_del = np.delete(data, pos, axis=0)\n",
    "label_del = np.delete(label, pos)\n",
    "\n",
    "data_all = np.vstack((data_normal, data_del))\n",
    "label_all = np.hstack((label_normal, label_del))\n",
    "data_all = np.vstack((data_happy, data_all))\n",
    "label_all = np.hstack((label_happy, label_all))"
   ]
  },
  {
   "cell_type": "markdown",
   "metadata": {},
   "source": [
    "# Scikit-Learn 建模與訓練資料"
   ]
  },
  {
   "cell_type": "code",
   "execution_count": 8,
   "metadata": {},
   "outputs": [
    {
     "name": "stderr",
     "output_type": "stream",
     "text": [
      "C:\\Users\\zxpay\\Anaconda3\\lib\\site-packages\\sklearn\\preprocessing\\label.py:151: DeprecationWarning: The truth value of an empty array is ambiguous. Returning False, but in future this will result in an error. Use `array.size > 0` to check that an array is not empty.\n",
      "  if diff:\n"
     ]
    }
   ],
   "source": [
    "#     print(data_all.shape)\n",
    "#     print(label_all.shape)\n",
    "\n",
    "\n",
    "clf = Danny_ML_CLF()\n",
    "train_X, test_X, train_y, test_y = clf.Split_data(data_all, label_all, test_size=0.3, Standard=True)\n",
    "clf.Fit_value(train_X, train_y)\n",
    "clf.Train()\n",
    "clf.Report(train_X, train_y, [0,2,3,4], show_cm=False)\n",
    "clf.Report2txt('Train' + str(n+1) + '.txt')\n",
    "print(clf.Score())\n",
    "print()\n",
    "clf.Report(test_X, test_y, [0,2,3,4], show_cm=False)\n",
    "clf.Report2txt('Test' + str(n+1) + '.txt')\n",
    "print(clf.Score())\n",
    "print('Report Okay !\\n\\n')"
   ]
  },
  {
   "cell_type": "code",
   "execution_count": 9,
   "metadata": {
    "scrolled": true
   },
   "outputs": [
    {
     "data": {
      "text/plain": [
       "0.5154185022026432"
      ]
     },
     "execution_count": 9,
     "metadata": {},
     "output_type": "execute_result"
    }
   ],
   "source": [
    "np.sum(clf.RF_prediction(test_X)==test_y)/test_y.shape[0]"
   ]
  },
  {
   "cell_type": "code",
   "execution_count": 10,
   "metadata": {},
   "outputs": [
    {
     "name": "stdout",
     "output_type": "stream",
     "text": [
      "400\n",
      "400\n",
      "354\n",
      "358\n"
     ]
    }
   ],
   "source": [
    "print(np.sum(label_all==0))\n",
    "print(np.sum(label_all==2))\n",
    "print(np.sum(label_all==3))\n",
    "print(np.sum(label_all==4))"
   ]
  },
  {
   "cell_type": "code",
   "execution_count": 11,
   "metadata": {},
   "outputs": [
    {
     "data": {
      "text/plain": [
       "array([4., 2., 4., 2., 4., 4., 2., 2., 3., 0., 0., 2., 2., 2., 3., 2., 0.,\n",
       "       4., 0., 4., 4., 3., 3., 2., 2., 0., 2., 4., 2., 2., 4., 4., 3., 0.,\n",
       "       0., 0., 4., 4., 3., 2., 0., 0., 0., 2., 4., 2., 0., 0., 2., 4., 0.,\n",
       "       4., 4., 4., 3., 0., 2., 2., 3., 2., 0., 0., 2., 0., 3., 4., 0., 2.,\n",
       "       3., 3., 0., 4., 2., 3., 4., 2., 4., 2., 3., 4., 2., 2., 2., 3., 4.,\n",
       "       3., 2., 4., 2., 3., 0., 4., 4., 2., 2., 4., 4., 2., 0., 0., 3., 3.,\n",
       "       4., 0., 3., 0., 2., 3., 0., 4., 4., 2., 0., 4., 4., 2., 0., 0., 2.,\n",
       "       3., 2., 3., 2., 4., 4., 2., 4., 3., 3., 4., 4., 2., 0., 3., 0., 3.,\n",
       "       0., 4., 2., 4., 2., 0., 4., 0., 0., 4., 2., 2., 3., 3., 4., 4., 2.,\n",
       "       4., 4., 3., 3., 4., 3., 3., 2., 2., 2., 2., 3., 3., 2., 4., 0., 2.,\n",
       "       2., 2., 3., 2., 3., 3., 0., 0., 3., 2., 0., 2., 2., 3., 4., 4., 3.,\n",
       "       4., 0., 3., 0., 4., 2., 2., 2., 0., 0., 2., 2., 2., 3., 3., 3., 3.,\n",
       "       3., 0., 3., 2., 3., 0., 3., 4., 3., 4., 3., 2., 4., 3., 2., 4., 4.,\n",
       "       4., 4., 0., 3., 4., 4., 2., 0., 3., 2., 2., 0., 3., 2., 2., 2., 4.,\n",
       "       4., 4., 4., 2., 3., 4., 3., 4., 4., 0., 3., 4., 4., 3., 2., 0., 2.,\n",
       "       2., 4., 0., 4., 2., 3., 2., 0., 4., 0., 4., 0., 4., 3., 0., 2., 3.,\n",
       "       3., 3., 2., 2., 4., 2., 4., 4., 4., 0., 0., 3., 2., 4., 2., 0., 3.,\n",
       "       0., 3., 4., 4., 0., 2., 4., 4., 2., 0., 4., 0., 3., 3., 4., 2., 0.,\n",
       "       4., 0., 2., 0., 3., 4., 4., 3., 3., 4., 3., 2., 3., 0., 0., 3., 3.,\n",
       "       3., 0., 2., 0., 4., 0., 2., 0., 4., 4., 3., 4., 0., 0., 2., 0., 3.,\n",
       "       2., 2., 2., 2., 0., 0., 2., 0., 2., 2., 3., 0., 3., 2., 2., 4., 4.,\n",
       "       2., 4., 3., 0., 3., 0., 4., 2., 2., 3., 4., 0., 0., 2., 3., 0., 2.,\n",
       "       2., 2., 4., 2., 3., 2., 4., 4., 4., 3., 4., 0., 4., 4., 4., 4., 4.,\n",
       "       4., 3., 2., 2., 2., 0., 4., 3., 4., 0., 0., 3., 3., 0., 3., 2., 2.,\n",
       "       4., 0., 3., 2., 4., 2., 3., 4., 4., 4., 3., 3., 0., 0., 3., 4., 3.,\n",
       "       2., 2., 0., 3., 3., 3., 4., 4., 2., 3., 2., 0., 0., 2., 3., 3., 4.,\n",
       "       3., 0., 0., 0., 2., 3., 4., 3., 4., 4., 0., 4.], dtype=float32)"
      ]
     },
     "execution_count": 11,
     "metadata": {},
     "output_type": "execute_result"
    }
   ],
   "source": [
    "clf.RF_prediction(test_X)"
   ]
  },
  {
   "cell_type": "code",
   "execution_count": 12,
   "metadata": {},
   "outputs": [
    {
     "data": {
      "text/plain": [
       "DecisionTreeClassifier(class_weight=None, criterion='gini', max_depth=3,\n",
       "            max_features=None, max_leaf_nodes=None,\n",
       "            min_impurity_decrease=0.0, min_impurity_split=None,\n",
       "            min_samples_leaf=1, min_samples_split=2,\n",
       "            min_weight_fraction_leaf=0.0, presort=False, random_state=None,\n",
       "            splitter='best')"
      ]
     },
     "execution_count": 12,
     "metadata": {},
     "output_type": "execute_result"
    }
   ],
   "source": [
    "from sklearn.tree import DecisionTreeClassifier\n",
    "label_name = []\n",
    "for x in train_y:\n",
    "    if x == 0:\n",
    "        label_name.append('normal')\n",
    "    elif x == 2:\n",
    "        label_name.append('happy')\n",
    "    elif x == 3:\n",
    "        label_name.append('scare')\n",
    "    elif x == 4:\n",
    "        label_name.append('touch')\n",
    "    else:\n",
    "        print(x)\n",
    "label_name_test = []\n",
    "for x in test_y:\n",
    "    if x == 0:\n",
    "        label_name_test.append('normal')\n",
    "    elif x == 2:\n",
    "        label_name_test.append('happy')\n",
    "    elif x == 3:\n",
    "        label_name_test.append('scare')\n",
    "    elif x == 4:\n",
    "        label_name_test.append('touch')\n",
    "    else:\n",
    "        print(x)\n",
    "tree = DecisionTreeClassifier(criterion='gini',max_depth=3)\n",
    "tree.fit(train_X, label_name)"
   ]
  },
  {
   "cell_type": "code",
   "execution_count": 13,
   "metadata": {
    "collapsed": true,
    "scrolled": true
   },
   "outputs": [],
   "source": [
    "from sklearn.tree import export_graphviz\n",
    "export_graphviz(tree, out_file=\"tree.dot\", feature_names=['alpha', 'heig_beta', 'low_beta','theta'],\\\n",
    "                class_names=['normal','happy','scare', 'touch'])\n"
   ]
  },
  {
   "cell_type": "code",
   "execution_count": 14,
   "metadata": {},
   "outputs": [
    {
     "data": {
      "text/plain": [
       "0.3986784140969163"
      ]
     },
     "execution_count": 14,
     "metadata": {},
     "output_type": "execute_result"
    }
   ],
   "source": [
    "!dot -Tpng tree.dot -o tree.png\n",
    "#tree.predict(test_X)\n",
    "tree.score(test_X, label_name_test)"
   ]
  },
  {
   "cell_type": "markdown",
   "metadata": {},
   "source": [
    "# Save Model (Scikit-learn model)"
   ]
  },
  {
   "cell_type": "code",
   "execution_count": 15,
   "metadata": {},
   "outputs": [],
   "source": [
    "# Save Scikit-Learn Model\n",
    "clf.Save_Model()\n"
   ]
  },
  {
   "cell_type": "code",
   "execution_count": 16,
   "metadata": {},
   "outputs": [
    {
     "name": "stderr",
     "output_type": "stream",
     "text": [
      "C:\\Users\\zxpay\\Anaconda3\\lib\\site-packages\\sklearn\\preprocessing\\label.py:151: DeprecationWarning: The truth value of an empty array is ambiguous. Returning False, but in future this will result in an error. Use `array.size > 0` to check that an array is not empty.\n",
      "  if diff:\n",
      "C:\\Users\\zxpay\\Anaconda3\\lib\\site-packages\\sklearn\\preprocessing\\label.py:151: DeprecationWarning: The truth value of an empty array is ambiguous. Returning False, but in future this will result in an error. Use `array.size > 0` to check that an array is not empty.\n",
      "  if diff:\n",
      "C:\\Users\\zxpay\\Anaconda3\\lib\\site-packages\\sklearn\\preprocessing\\label.py:151: DeprecationWarning: The truth value of an empty array is ambiguous. Returning False, but in future this will result in an error. Use `array.size > 0` to check that an array is not empty.\n",
      "  if diff:\n",
      "C:\\Users\\zxpay\\Anaconda3\\lib\\site-packages\\sklearn\\preprocessing\\label.py:151: DeprecationWarning: The truth value of an empty array is ambiguous. Returning False, but in future this will result in an error. Use `array.size > 0` to check that an array is not empty.\n",
      "  if diff:\n",
      "C:\\Users\\zxpay\\Anaconda3\\lib\\site-packages\\sklearn\\preprocessing\\label.py:151: DeprecationWarning: The truth value of an empty array is ambiguous. Returning False, but in future this will result in an error. Use `array.size > 0` to check that an array is not empty.\n",
      "  if diff:\n",
      "C:\\Users\\zxpay\\Anaconda3\\lib\\site-packages\\sklearn\\preprocessing\\label.py:151: DeprecationWarning: The truth value of an empty array is ambiguous. Returning False, but in future this will result in an error. Use `array.size > 0` to check that an array is not empty.\n",
      "  if diff:\n"
     ]
    },
    {
     "name": "stdout",
     "output_type": "stream",
     "text": [
      "SVM Score :  0.44234404536862004\n",
      "Tree Score :  0.5274102079395085\n",
      "Bayes Score :  0.31474480151228734\n",
      "KNN Score :  1.0\n",
      "XGB Score :  0.6862003780718336\n",
      "Stacking Score :  0.8875236294896031\n",
      "Voting Score :  0.9139886578449905\n",
      "Bagging Score :  1.0\n",
      "RF Score :  1.0\n",
      "Adaboost Score :  0.5311909262759924\n",
      "None\n"
     ]
    },
    {
     "name": "stderr",
     "output_type": "stream",
     "text": [
      "C:\\Users\\zxpay\\Anaconda3\\lib\\site-packages\\sklearn\\preprocessing\\label.py:151: DeprecationWarning: The truth value of an empty array is ambiguous. Returning False, but in future this will result in an error. Use `array.size > 0` to check that an array is not empty.\n",
      "  if diff:\n",
      "C:\\Users\\zxpay\\Anaconda3\\lib\\site-packages\\sklearn\\preprocessing\\label.py:151: DeprecationWarning: The truth value of an empty array is ambiguous. Returning False, but in future this will result in an error. Use `array.size > 0` to check that an array is not empty.\n",
      "  if diff:\n",
      "C:\\Users\\zxpay\\Anaconda3\\lib\\site-packages\\sklearn\\preprocessing\\label.py:151: DeprecationWarning: The truth value of an empty array is ambiguous. Returning False, but in future this will result in an error. Use `array.size > 0` to check that an array is not empty.\n",
      "  if diff:\n",
      "C:\\Users\\zxpay\\Anaconda3\\lib\\site-packages\\sklearn\\preprocessing\\label.py:151: DeprecationWarning: The truth value of an empty array is ambiguous. Returning False, but in future this will result in an error. Use `array.size > 0` to check that an array is not empty.\n",
      "  if diff:\n",
      "C:\\Users\\zxpay\\Anaconda3\\lib\\site-packages\\sklearn\\preprocessing\\label.py:151: DeprecationWarning: The truth value of an empty array is ambiguous. Returning False, but in future this will result in an error. Use `array.size > 0` to check that an array is not empty.\n",
      "  if diff:\n",
      "C:\\Users\\zxpay\\Anaconda3\\lib\\site-packages\\sklearn\\preprocessing\\label.py:151: DeprecationWarning: The truth value of an empty array is ambiguous. Returning False, but in future this will result in an error. Use `array.size > 0` to check that an array is not empty.\n",
      "  if diff:\n"
     ]
    },
    {
     "name": "stdout",
     "output_type": "stream",
     "text": [
      "SVM Score :  0.46255506607929514\n",
      "Tree Score :  0.44052863436123346\n",
      "Bayes Score :  0.33259911894273125\n",
      "KNN Score :  0.4779735682819383\n",
      "XGB Score :  0.4889867841409692\n",
      "Stacking Score :  0.42951541850220265\n",
      "Voting Score :  0.5242290748898678\n",
      "Bagging Score :  0.5154185022026432\n",
      "RF Score :  0.5154185022026432\n",
      "Adaboost Score :  0.4933920704845815\n",
      "None\n"
     ]
    }
   ],
   "source": [
    "# Read Method -- Scikit-learn model\n",
    "clf_read = Danny_ML_CLF()\n",
    "clf_read.Read_Model()\n",
    "clf.Report(train_X, train_y, [0,2,3,4], show_cm=False)\n",
    "print(clf.Score())\n",
    "clf.Report(test_X, test_y, [0,2,3,4], show_cm=False)\n",
    "print(clf.Score())"
   ]
  },
  {
   "cell_type": "markdown",
   "metadata": {},
   "source": [
    "# 建立 Neural Network Model to predict data"
   ]
  },
  {
   "cell_type": "code",
   "execution_count": 17,
   "metadata": {
    "collapsed": true
   },
   "outputs": [],
   "source": [
    "import matplotlib.pyplot as plt\n",
    "%matplotlib inline\n",
    "def plot_train_history(history, train_metrics, val_metrics):\n",
    "    plt.plot(history.history.get(train_metrics),'-o')\n",
    "    plt.plot(history.history.get(val_metrics),'-o')\n",
    "    plt.ylabel(train_metrics)\n",
    "    plt.xlabel('Epochs')\n",
    "    plt.legend(['train', 'validation'])"
   ]
  },
  {
   "cell_type": "markdown",
   "metadata": {},
   "source": [
    "#### 將 Label 經過 One-hot encoding"
   ]
  },
  {
   "cell_type": "code",
   "execution_count": 18,
   "metadata": {},
   "outputs": [
    {
     "data": {
      "text/plain": [
       "(1134, 4)"
      ]
     },
     "execution_count": 18,
     "metadata": {},
     "output_type": "execute_result"
    }
   ],
   "source": [
    "Testing_df = my_df[4]\n",
    "data = np.zeros([Testing_df.shape[0], 4])\n",
    "for i in range(4):\n",
    "    data[:, i] = np.array(Testing_df[Features[i]], dtype=np.float32)\n",
    "label = np.array(Testing_df['label'], dtype=np.float32)\n",
    "if CalculateZeros(data) != 0:\n",
    "    print('Warning !!!')\n",
    "\n",
    "pos = np.where((label==0) | (label==2))\n",
    "\n",
    "zero_pos = np.where(label==0)\n",
    "zero_choose = np.random.randint(500,20000,size=400)\n",
    "zero_choose = zero_pos[0][zero_choose]\n",
    "data_normal = data[zero_choose]\n",
    "label_normal = label[zero_choose]\n",
    "\n",
    "pos_happy = np.where(label==2)\n",
    "one_choose = np.random.randint(20,1020,size=400)\n",
    "one_choose = pos_happy[0][one_choose]\n",
    "data_happy = data[one_choose]\n",
    "label_happy = label[one_choose]\n",
    "\n",
    "data_del = np.delete(data, pos, axis=0)\n",
    "label_del = np.delete(label, pos)\n",
    "\n",
    "data_all = np.vstack((data_normal, data_del))\n",
    "label_all = np.hstack((label_normal, label_del))\n",
    "data_all = np.vstack((data_happy, data_all))\n",
    "label_all = np.hstack((label_happy, label_all))\n",
    "\n",
    "\n",
    "from sklearn.preprocessing import OneHotEncoder\n",
    "one = OneHotEncoder()\n",
    "label_onehot = one.fit_transform(label_all.reshape(-1,1)).toarray()\n",
    "train_X, test_X, train_y, test_y = clf.Split_data(data_all, label_onehot, test_size=0.25, Standard=True)\n",
    "train_y.shape"
   ]
  },
  {
   "cell_type": "markdown",
   "metadata": {},
   "source": [
    "### 建模，訓練資料與評估"
   ]
  },
  {
   "cell_type": "code",
   "execution_count": 20,
   "metadata": {},
   "outputs": [],
   "source": [
    "from keras.callbacks import EarlyStopping\n",
    "#patience:number of epochs with no improvement after which training will be stopped.\n",
    "earlyStopping=EarlyStopping(monitor='val_loss', patience=10) \n",
    "from keras.models import Sequential\n",
    "from keras.layers import Dense, Activation, Dropout, BatchNormalization\n",
    "model = Sequential()\n",
    "model.add(Dense(256, input_dim=4, kernel_initializer='normal'))\n",
    "model.add(BatchNormalization())\n",
    "model.add(Activation('relu'))\n",
    "#model.add(Dropout(0.2))\n",
    "model.add(Dense(32, kernel_initializer='normal'))\n",
    "model.add(BatchNormalization())\n",
    "model.add(Activation('relu'))\n",
    "model.add(Dense(4))\n",
    "model.add(Activation('softmax'))"
   ]
  },
  {
   "cell_type": "code",
   "execution_count": 21,
   "metadata": {
    "scrolled": true
   },
   "outputs": [
    {
     "name": "stdout",
     "output_type": "stream",
     "text": [
      "Train on 850 samples, validate on 284 samples\n",
      "Epoch 1/200\n",
      "850/850 [==============================] - 3s 3ms/step - loss: 1.3994 - acc: 0.3082 - val_loss: 1.3724 - val_acc: 0.3873\n",
      "Epoch 2/200\n",
      "850/850 [==============================] - 0s 87us/step - loss: 1.2623 - acc: 0.3965 - val_loss: 1.3652 - val_acc: 0.4120\n",
      "Epoch 3/200\n",
      "850/850 [==============================] - 0s 88us/step - loss: 1.2127 - acc: 0.4435 - val_loss: 1.3644 - val_acc: 0.3803\n",
      "Epoch 4/200\n",
      "850/850 [==============================] - 0s 109us/step - loss: 1.2081 - acc: 0.4459 - val_loss: 1.3594 - val_acc: 0.3803\n",
      "Epoch 5/200\n",
      "850/850 [==============================] - 0s 105us/step - loss: 1.2045 - acc: 0.4447 - val_loss: 1.3679 - val_acc: 0.3380\n",
      "Epoch 6/200\n",
      "850/850 [==============================] - 0s 80us/step - loss: 1.1835 - acc: 0.4506 - val_loss: 1.3538 - val_acc: 0.3873\n",
      "Epoch 7/200\n",
      "850/850 [==============================] - 0s 90us/step - loss: 1.1839 - acc: 0.4435 - val_loss: 1.3502 - val_acc: 0.3662\n",
      "Epoch 8/200\n",
      "850/850 [==============================] - 0s 87us/step - loss: 1.1722 - acc: 0.4753 - val_loss: 1.3491 - val_acc: 0.3838\n",
      "Epoch 9/200\n",
      "850/850 [==============================] - 0s 88us/step - loss: 1.1660 - acc: 0.5000 - val_loss: 1.3501 - val_acc: 0.3838\n",
      "Epoch 10/200\n",
      "850/850 [==============================] - 0s 84us/step - loss: 1.1498 - acc: 0.4835 - val_loss: 1.3477 - val_acc: 0.3662\n",
      "Epoch 11/200\n",
      "850/850 [==============================] - 0s 87us/step - loss: 1.1396 - acc: 0.4741 - val_loss: 1.3494 - val_acc: 0.3732\n",
      "Epoch 12/200\n",
      "850/850 [==============================] - 0s 94us/step - loss: 1.1387 - acc: 0.4835 - val_loss: 1.3474 - val_acc: 0.3697\n",
      "Epoch 13/200\n",
      "850/850 [==============================] - 0s 84us/step - loss: 1.1304 - acc: 0.4965 - val_loss: 1.3438 - val_acc: 0.3486\n",
      "Epoch 14/200\n",
      "850/850 [==============================] - 0s 97us/step - loss: 1.1248 - acc: 0.4894 - val_loss: 1.3579 - val_acc: 0.3521\n",
      "Epoch 15/200\n",
      "850/850 [==============================] - 0s 93us/step - loss: 1.1299 - acc: 0.4976 - val_loss: 1.3416 - val_acc: 0.3451\n",
      "Epoch 16/200\n",
      "850/850 [==============================] - 0s 76us/step - loss: 1.1203 - acc: 0.4929 - val_loss: 1.3648 - val_acc: 0.3592\n",
      "Epoch 17/200\n",
      "850/850 [==============================] - 0s 103us/step - loss: 1.1365 - acc: 0.4847 - val_loss: 1.3699 - val_acc: 0.3662\n",
      "Epoch 18/200\n",
      "850/850 [==============================] - 0s 101us/step - loss: 1.1419 - acc: 0.4800 - val_loss: 1.3520 - val_acc: 0.3239\n",
      "Epoch 19/200\n",
      "850/850 [==============================] - 0s 90us/step - loss: 1.1103 - acc: 0.5012 - val_loss: 1.3554 - val_acc: 0.3239\n",
      "Epoch 20/200\n",
      "850/850 [==============================] - 0s 86us/step - loss: 1.1201 - acc: 0.5059 - val_loss: 1.3615 - val_acc: 0.3275\n",
      "Epoch 21/200\n",
      "850/850 [==============================] - 0s 88us/step - loss: 1.1294 - acc: 0.4965 - val_loss: 1.3561 - val_acc: 0.3204\n",
      "Epoch 22/200\n",
      "850/850 [==============================] - 0s 84us/step - loss: 1.1112 - acc: 0.5024 - val_loss: 1.3263 - val_acc: 0.3099\n",
      "Epoch 23/200\n",
      "850/850 [==============================] - 0s 90us/step - loss: 1.1185 - acc: 0.5141 - val_loss: 1.3575 - val_acc: 0.3521\n",
      "Epoch 24/200\n",
      "850/850 [==============================] - 0s 96us/step - loss: 1.1287 - acc: 0.4965 - val_loss: 1.3667 - val_acc: 0.3169\n",
      "Epoch 25/200\n",
      "850/850 [==============================] - 0s 87us/step - loss: 1.0979 - acc: 0.5082 - val_loss: 1.3307 - val_acc: 0.3345\n",
      "Epoch 26/200\n",
      "850/850 [==============================] - 0s 90us/step - loss: 1.1049 - acc: 0.5212 - val_loss: 1.3805 - val_acc: 0.3345\n",
      "Epoch 27/200\n",
      "850/850 [==============================] - 0s 75us/step - loss: 1.0971 - acc: 0.5047 - val_loss: 1.3882 - val_acc: 0.3521\n",
      "Epoch 28/200\n",
      "850/850 [==============================] - 0s 83us/step - loss: 1.0852 - acc: 0.5247 - val_loss: 1.3092 - val_acc: 0.3380\n",
      "Epoch 29/200\n",
      "850/850 [==============================] - 0s 83us/step - loss: 1.1027 - acc: 0.5176 - val_loss: 1.3332 - val_acc: 0.3239\n",
      "Epoch 30/200\n",
      "850/850 [==============================] - 0s 95us/step - loss: 1.1009 - acc: 0.5118 - val_loss: 1.3701 - val_acc: 0.3556\n",
      "Epoch 31/200\n",
      "850/850 [==============================] - 0s 78us/step - loss: 1.1150 - acc: 0.4929 - val_loss: 1.3655 - val_acc: 0.3627\n",
      "Epoch 32/200\n",
      "850/850 [==============================] - 0s 76us/step - loss: 1.0981 - acc: 0.5200 - val_loss: 1.3683 - val_acc: 0.3697\n",
      "Epoch 33/200\n",
      "850/850 [==============================] - 0s 93us/step - loss: 1.0919 - acc: 0.5082 - val_loss: 1.3235 - val_acc: 0.3451\n",
      "Epoch 34/200\n",
      "850/850 [==============================] - 0s 87us/step - loss: 1.0958 - acc: 0.5176 - val_loss: 1.3634 - val_acc: 0.3768\n",
      "Epoch 35/200\n",
      "850/850 [==============================] - 0s 90us/step - loss: 1.0929 - acc: 0.5024 - val_loss: 1.3370 - val_acc: 0.3697\n",
      "Epoch 36/200\n",
      "850/850 [==============================] - 0s 83us/step - loss: 1.1015 - acc: 0.4976 - val_loss: 1.3381 - val_acc: 0.3662\n",
      "Epoch 37/200\n",
      "850/850 [==============================] - 0s 88us/step - loss: 1.1007 - acc: 0.5035 - val_loss: 1.3092 - val_acc: 0.3838\n",
      "Epoch 38/200\n",
      "850/850 [==============================] - 0s 116us/step - loss: 1.0929 - acc: 0.4965 - val_loss: 1.2845 - val_acc: 0.3838\n",
      "Epoch 39/200\n",
      "850/850 [==============================] - 0s 98us/step - loss: 1.0920 - acc: 0.5106 - val_loss: 1.2867 - val_acc: 0.3908\n",
      "Epoch 40/200\n",
      "850/850 [==============================] - 0s 81us/step - loss: 1.0915 - acc: 0.5082 - val_loss: 1.3465 - val_acc: 0.3627\n",
      "Epoch 41/200\n",
      "850/850 [==============================] - 0s 90us/step - loss: 1.0896 - acc: 0.5035 - val_loss: 1.3110 - val_acc: 0.3556\n",
      "Epoch 42/200\n",
      "850/850 [==============================] - 0s 98us/step - loss: 1.0818 - acc: 0.5259 - val_loss: 1.2877 - val_acc: 0.3768\n",
      "Epoch 43/200\n",
      "850/850 [==============================] - 0s 82us/step - loss: 1.0775 - acc: 0.5165 - val_loss: 1.3067 - val_acc: 0.3697\n",
      "Epoch 44/200\n",
      "850/850 [==============================] - 0s 80us/step - loss: 1.0828 - acc: 0.5247 - val_loss: 1.2993 - val_acc: 0.3732\n",
      "Epoch 45/200\n",
      "850/850 [==============================] - 0s 90us/step - loss: 1.1003 - acc: 0.5082 - val_loss: 1.3319 - val_acc: 0.3662\n",
      "Epoch 46/200\n",
      "850/850 [==============================] - 0s 100us/step - loss: 1.0731 - acc: 0.5176 - val_loss: 1.3409 - val_acc: 0.3627\n",
      "Epoch 47/200\n",
      "850/850 [==============================] - 0s 91us/step - loss: 1.0711 - acc: 0.5247 - val_loss: 1.2212 - val_acc: 0.4085\n",
      "Epoch 48/200\n",
      "850/850 [==============================] - 0s 82us/step - loss: 1.0731 - acc: 0.5176 - val_loss: 1.2488 - val_acc: 0.3768\n",
      "Epoch 49/200\n",
      "850/850 [==============================] - 0s 95us/step - loss: 1.0811 - acc: 0.5212 - val_loss: 1.2429 - val_acc: 0.4120\n",
      "Epoch 50/200\n",
      "850/850 [==============================] - 0s 96us/step - loss: 1.0782 - acc: 0.5094 - val_loss: 1.2651 - val_acc: 0.3873\n",
      "Epoch 51/200\n",
      "850/850 [==============================] - 0s 88us/step - loss: 1.0725 - acc: 0.5082 - val_loss: 1.3160 - val_acc: 0.3768\n",
      "Epoch 52/200\n",
      "850/850 [==============================] - 0s 90us/step - loss: 1.0594 - acc: 0.5165 - val_loss: 1.2573 - val_acc: 0.3838\n",
      "Epoch 53/200\n",
      "850/850 [==============================] - 0s 92us/step - loss: 1.0730 - acc: 0.5353 - val_loss: 1.1869 - val_acc: 0.4718\n",
      "Epoch 54/200\n",
      "850/850 [==============================] - 0s 74us/step - loss: 1.0837 - acc: 0.5306 - val_loss: 1.4633 - val_acc: 0.3592\n",
      "Epoch 55/200\n",
      "850/850 [==============================] - 0s 99us/step - loss: 1.0641 - acc: 0.5435 - val_loss: 1.2196 - val_acc: 0.3944\n",
      "Epoch 56/200\n",
      "850/850 [==============================] - 0s 86us/step - loss: 1.0725 - acc: 0.5341 - val_loss: 1.2559 - val_acc: 0.3732\n",
      "Epoch 57/200\n",
      "850/850 [==============================] - 0s 90us/step - loss: 1.0584 - acc: 0.5412 - val_loss: 1.2505 - val_acc: 0.4120\n",
      "Epoch 58/200\n",
      "850/850 [==============================] - 0s 84us/step - loss: 1.0644 - acc: 0.5024 - val_loss: 1.2254 - val_acc: 0.4085\n",
      "Epoch 59/200\n",
      "850/850 [==============================] - 0s 83us/step - loss: 1.0782 - acc: 0.5176 - val_loss: 1.2448 - val_acc: 0.3803\n",
      "Epoch 60/200\n",
      "850/850 [==============================] - 0s 84us/step - loss: 1.0692 - acc: 0.5271 - val_loss: 1.2539 - val_acc: 0.3873\n",
      "Epoch 61/200\n"
     ]
    },
    {
     "name": "stdout",
     "output_type": "stream",
     "text": [
      "850/850 [==============================] - 0s 106us/step - loss: 1.0536 - acc: 0.5412 - val_loss: 1.2002 - val_acc: 0.4859\n",
      "Epoch 62/200\n",
      "850/850 [==============================] - 0s 89us/step - loss: 1.0810 - acc: 0.5094 - val_loss: 1.1842 - val_acc: 0.4894\n",
      "Epoch 63/200\n",
      "850/850 [==============================] - 0s 101us/step - loss: 1.0615 - acc: 0.5259 - val_loss: 1.1769 - val_acc: 0.4789\n",
      "Epoch 64/200\n",
      "850/850 [==============================] - 0s 101us/step - loss: 1.0648 - acc: 0.5306 - val_loss: 1.1903 - val_acc: 0.4507\n",
      "Epoch 65/200\n",
      "850/850 [==============================] - 0s 94us/step - loss: 1.0748 - acc: 0.5165 - val_loss: 1.2027 - val_acc: 0.4542\n",
      "Epoch 66/200\n",
      "850/850 [==============================] - 0s 98us/step - loss: 1.0625 - acc: 0.5388 - val_loss: 1.3608 - val_acc: 0.3556\n",
      "Epoch 67/200\n",
      "850/850 [==============================] - 0s 88us/step - loss: 1.0875 - acc: 0.4729 - val_loss: 1.2224 - val_acc: 0.4577\n",
      "Epoch 68/200\n",
      "850/850 [==============================] - 0s 93us/step - loss: 1.0599 - acc: 0.5212 - val_loss: 1.2165 - val_acc: 0.4754\n",
      "Epoch 69/200\n",
      "850/850 [==============================] - 0s 83us/step - loss: 1.0549 - acc: 0.5412 - val_loss: 1.2940 - val_acc: 0.3979\n",
      "Epoch 70/200\n",
      "850/850 [==============================] - 0s 92us/step - loss: 1.0515 - acc: 0.5400 - val_loss: 1.2213 - val_acc: 0.4789\n",
      "Epoch 71/200\n",
      "850/850 [==============================] - 0s 81us/step - loss: 1.0714 - acc: 0.5294 - val_loss: 1.2028 - val_acc: 0.4613\n",
      "Epoch 72/200\n",
      "850/850 [==============================] - 0s 94us/step - loss: 1.0759 - acc: 0.5141 - val_loss: 1.1991 - val_acc: 0.4296\n",
      "Epoch 73/200\n",
      "850/850 [==============================] - 0s 108us/step - loss: 1.0517 - acc: 0.5412 - val_loss: 1.2411 - val_acc: 0.4296\n"
     ]
    }
   ],
   "source": [
    "model.compile(optimizer='rmsprop',\n",
    "              loss='categorical_crossentropy',\n",
    "              metrics=['accuracy'])\n",
    "history = model.fit(train_X, train_y, epochs=200, batch_size=100, validation_split=0.25, verbose=1, callbacks=[earlyStopping])"
   ]
  },
  {
   "cell_type": "code",
   "execution_count": 22,
   "metadata": {},
   "outputs": [
    {
     "name": "stdout",
     "output_type": "stream",
     "text": [
      "378/378 [==============================] - 0s 20us/step\n"
     ]
    },
    {
     "data": {
      "text/plain": [
       "[1.2508240944494016, 0.4973544639254373]"
      ]
     },
     "execution_count": 22,
     "metadata": {},
     "output_type": "execute_result"
    }
   ],
   "source": [
    "score = model.evaluate(test_X, test_y, batch_size=200)\n",
    "score"
   ]
  },
  {
   "cell_type": "code",
   "execution_count": 23,
   "metadata": {},
   "outputs": [
    {
     "data": {
      "image/png": "[encoded data removed]",
      "text/plain": [
       "<matplotlib.figure.Figure at 0x1b6f8427978>"
      ]
     },
     "metadata": {},
     "output_type": "display_data"
    }
   ],
   "source": [
    "plt.figure(figsize=(12,4))\n",
    "plt.subplot(1,2,1)\n",
    "plot_train_history(history, 'loss','val_loss')\n",
    "plt.subplot(1,2,2)\n",
    "plot_train_history(history, 'acc','val_acc')"
   ]
  },
  {
   "cell_type": "code",
   "execution_count": 24,
   "metadata": {},
   "outputs": [
    {
     "data": {
      "text/plain": [
       "array([[0.31110013, 0.08261145, 0.29882696, 0.3074616 ],\n",
       "       [0.08466499, 0.77630234, 0.10500535, 0.03402736],\n",
       "       [0.19666453, 0.21554562, 0.5622271 , 0.02556279],\n",
       "       ...,\n",
       "       [0.2933332 , 0.09216397, 0.29471588, 0.31978697],\n",
       "       [0.04956033, 0.8014915 , 0.11195495, 0.03699322],\n",
       "       [0.02874001, 0.8412258 , 0.09365278, 0.0363814 ]], dtype=float32)"
      ]
     },
     "execution_count": 24,
     "metadata": {},
     "output_type": "execute_result"
    }
   ],
   "source": [
    "model.predict(test_X)"
   ]
  },
  {
   "cell_type": "code",
   "execution_count": 25,
   "metadata": {},
   "outputs": [
    {
     "data": {
      "text/plain": [
       "array([[0.35576487, 0.4487606 , 0.17609544, 0.0193792 ],\n",
       "       [0.42131266, 0.1077706 , 0.33971623, 0.1312005 ],\n",
       "       [0.2950948 , 0.14709927, 0.30720994, 0.250596  ],\n",
       "       ...,\n",
       "       [0.06546565, 0.43631458, 0.42521334, 0.0730065 ],\n",
       "       [0.3203946 , 0.08610644, 0.29201046, 0.30148852],\n",
       "       [0.34449923, 0.07754479, 0.48341635, 0.09453961]], dtype=float32)"
      ]
     },
     "execution_count": 25,
     "metadata": {},
     "output_type": "execute_result"
    }
   ],
   "source": [
    "model.predict(train_X)"
   ]
  },
  {
   "cell_type": "markdown",
   "metadata": {},
   "source": [
    "# Save Model (Keras NN model)"
   ]
  },
  {
   "cell_type": "code",
   "execution_count": 26,
   "metadata": {},
   "outputs": [],
   "source": [
    "# Save Keras Model\n",
    "model.save('save/NNModel.h5')\n"
   ]
  },
  {
   "cell_type": "code",
   "execution_count": 27,
   "metadata": {},
   "outputs": [
    {
     "name": "stdout",
     "output_type": "stream",
     "text": [
      "378/378 [==============================] - 0s 129us/step\n"
     ]
    },
    {
     "data": {
      "text/plain": [
       "[1.2508241575230996, 0.4973544796938619]"
      ]
     },
     "execution_count": 27,
     "metadata": {},
     "output_type": "execute_result"
    }
   ],
   "source": [
    "# Read Method -- Keras model\n",
    "from keras.models import load_model\n",
    "model_read = load_model('save/NNModel.h5')\n",
    "score = model_read.evaluate(test_X, test_y, batch_size=200)\n",
    "score"
   ]
  },
  {
   "cell_type": "code",
   "execution_count": null,
   "metadata": {},
   "outputs": [],
   "source": []
  },
  {
   "cell_type": "code",
   "execution_count": null,
   "metadata": {},
   "outputs": [],
   "source": []
  },
  {
   "cell_type": "code",
   "execution_count": null,
   "metadata": {
    "collapsed": true
   },
   "outputs": [],
   "source": []
  }
 ],
 "metadata": {
  "kernelspec": {
   "display_name": "Python 3",
   "language": "python",
   "name": "python3"
  },
  "language_info": {
   "codemirror_mode": {
    "name": "ipython",
    "version": 3
   },
   "file_extension": ".py",
   "mimetype": "text/x-python",
   "name": "python",
   "nbconvert_exporter": "python",
   "pygments_lexer": "ipython3",
   "version": "3.6.1"
  }
 },
 "nbformat": 4,
 "nbformat_minor": 2
}
